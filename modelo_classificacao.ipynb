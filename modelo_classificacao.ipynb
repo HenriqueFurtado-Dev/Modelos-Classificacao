{
  "nbformat": 4,
  "nbformat_minor": 0,
  "metadata": {
    "colab": {
      "provenance": [],
      "include_colab_link": true
    },
    "kernelspec": {
      "name": "python3",
      "display_name": "Python 3"
    },
    "language_info": {
      "name": "python"
    }
  },
  "cells": [
    {
      "cell_type": "markdown",
      "metadata": {
        "id": "view-in-github",
        "colab_type": "text"
      },
      "source": [
        "<a href=\"https://colab.research.google.com/github/HenriqueFurtado-Dev/Modelos-Classificacao/blob/main/modelo_classificacao.ipynb\" target=\"_parent\"><img src=\"https://colab.research.google.com/assets/colab-badge.svg\" alt=\"Open In Colab\"/></a>"
      ]
    },
    {
      "cell_type": "markdown",
      "source": [
        "## Feito por: Henrique Furtado ; )\n"
      ],
      "metadata": {
        "id": "jSd31d_OOckP"
      }
    },
    {
      "cell_type": "markdown",
      "source": [
        "# Classificação: Primeiros passos"
      ],
      "metadata": {
        "id": "MJ3tSbLsBPhe"
      }
    },
    {
      "cell_type": "code",
      "source": [],
      "metadata": {
        "id": "VI4mSzC0OheT"
      },
      "execution_count": null,
      "outputs": []
    },
    {
      "cell_type": "markdown",
      "source": [
        "Este projeto consistem em analisar dados de uma campanha de marketing para aderência de investimentos. O intuito é usar as informações dos dados para prever se os clientes de um banco vão aplicar o dinheiro em um investimento ou não.\n",
        "\n",
        "Essa previsão será feita utilizando machine learning e este notebook vai conter os passos para se obter um modelo capaz de realizar as previsões, desde a **leitura**, **análise exploratória**, **separação** e **transformação** dos dados, até o **ajuste**, **avaliação** e **comparação** de modelos de classificação."
      ],
      "metadata": {
        "id": "CYC5vst2FcaG"
      }
    },
    {
      "cell_type": "markdown",
      "source": [
        "# Análise exploratória\n",
        "\n",
        "Passos para criar o modelo\n",
        "\n",
        "1 - Visualizar as primeiras informações do DF para verificar números ausentes\n",
        "\n",
        "2 - Análise exploratória dos dados, verificando os outliers\n",
        "\n",
        "3 - Tratamento dos dados, e OneHotEnconder para as colunas categoricas\n",
        "\n"
      ],
      "metadata": {
        "id": "dr9I9xCXoICN"
      }
    },
    {
      "cell_type": "markdown",
      "source": [],
      "metadata": {
        "id": "K-PYPRD46W36"
      }
    },
    {
      "cell_type": "markdown",
      "source": [
        "## Fazendo a leitura dos dados"
      ],
      "metadata": {
        "id": "fwuPpdZOBTUn"
      }
    },
    {
      "cell_type": "markdown",
      "source": [
        "Podemos realizar a leitura dos dados a partir da biblioteca `pandas`. Por conta disso, vamos realizar a importação da biblioteca com o comando `import pandas as pd`.\n",
        "\n",
        "Como o arquivo de dados está no formato *csv*, vamos realizar a leitura com a função [`read_csv()`](https://pandas.pydata.org/docs/reference/api/pandas.read_csv.html)."
      ],
      "metadata": {
        "id": "YzOu8ojHPemt"
      }
    },
    {
      "cell_type": "code",
      "execution_count": null,
      "metadata": {
        "id": "nPrDJYBKZbKW"
      },
      "outputs": [],
      "source": [
        "import pandas as pd"
      ]
    },
    {
      "cell_type": "markdown",
      "source": [],
      "metadata": {
        "id": "lcjCfwv1jUIJ"
      }
    },
    {
      "cell_type": "code",
      "source": [
        "data = pd.read_csv('/content/marketing_investimento.csv')\n",
        "data"
      ],
      "metadata": {
        "id": "9h4YUPxyZuLf",
        "colab": {
          "base_uri": "https://localhost:8080/",
          "height": 423
        },
        "outputId": "7e9e2673-4c37-49b9-b097-e7f259f2fe8f"
      },
      "execution_count": null,
      "outputs": [
        {
          "output_type": "execute_result",
          "data": {
            "text/plain": [
              "      idade    estado_civil escolaridade inadimplencia  saldo fez_emprestimo  \\\n",
              "0        45      casado (a)     superior           nao    242            nao   \n",
              "1        42      casado (a)        medio           nao   1289            nao   \n",
              "2        23    solteiro (a)     superior           nao    363            nao   \n",
              "3        58  divorciado (a)     superior           nao   1382            nao   \n",
              "4        50      casado (a)        medio           nao   3357            nao   \n",
              "...     ...             ...          ...           ...    ...            ...   \n",
              "1263     52    solteiro (a)     superior           nao     83            nao   \n",
              "1264     35    solteiro (a)     superior           nao   5958            nao   \n",
              "1265     30    solteiro (a)     superior           nao   -477            sim   \n",
              "1266     42      casado (a)     superior           nao   2187            nao   \n",
              "1267     29    solteiro (a)     superior           nao     19            nao   \n",
              "\n",
              "      tempo_ult_contato  numero_contatos aderencia_investimento  \n",
              "0                   587                1                    sim  \n",
              "1                   250                4                    sim  \n",
              "2                    16               18                    nao  \n",
              "3                   700                1                    sim  \n",
              "4                   239                4                    sim  \n",
              "...                 ...              ...                    ...  \n",
              "1263               1223                6                    sim  \n",
              "1264                215                1                    sim  \n",
              "1265               1532                2                    sim  \n",
              "1266                525                3                    sim  \n",
              "1267                110                2                    sim  \n",
              "\n",
              "[1268 rows x 9 columns]"
            ],
            "text/html": [
              "\n",
              "  <div id=\"df-132cd5dd-9e1a-4271-9df3-37246395c307\" class=\"colab-df-container\">\n",
              "    <div>\n",
              "<style scoped>\n",
              "    .dataframe tbody tr th:only-of-type {\n",
              "        vertical-align: middle;\n",
              "    }\n",
              "\n",
              "    .dataframe tbody tr th {\n",
              "        vertical-align: top;\n",
              "    }\n",
              "\n",
              "    .dataframe thead th {\n",
              "        text-align: right;\n",
              "    }\n",
              "</style>\n",
              "<table border=\"1\" class=\"dataframe\">\n",
              "  <thead>\n",
              "    <tr style=\"text-align: right;\">\n",
              "      <th></th>\n",
              "      <th>idade</th>\n",
              "      <th>estado_civil</th>\n",
              "      <th>escolaridade</th>\n",
              "      <th>inadimplencia</th>\n",
              "      <th>saldo</th>\n",
              "      <th>fez_emprestimo</th>\n",
              "      <th>tempo_ult_contato</th>\n",
              "      <th>numero_contatos</th>\n",
              "      <th>aderencia_investimento</th>\n",
              "    </tr>\n",
              "  </thead>\n",
              "  <tbody>\n",
              "    <tr>\n",
              "      <th>0</th>\n",
              "      <td>45</td>\n",
              "      <td>casado (a)</td>\n",
              "      <td>superior</td>\n",
              "      <td>nao</td>\n",
              "      <td>242</td>\n",
              "      <td>nao</td>\n",
              "      <td>587</td>\n",
              "      <td>1</td>\n",
              "      <td>sim</td>\n",
              "    </tr>\n",
              "    <tr>\n",
              "      <th>1</th>\n",
              "      <td>42</td>\n",
              "      <td>casado (a)</td>\n",
              "      <td>medio</td>\n",
              "      <td>nao</td>\n",
              "      <td>1289</td>\n",
              "      <td>nao</td>\n",
              "      <td>250</td>\n",
              "      <td>4</td>\n",
              "      <td>sim</td>\n",
              "    </tr>\n",
              "    <tr>\n",
              "      <th>2</th>\n",
              "      <td>23</td>\n",
              "      <td>solteiro (a)</td>\n",
              "      <td>superior</td>\n",
              "      <td>nao</td>\n",
              "      <td>363</td>\n",
              "      <td>nao</td>\n",
              "      <td>16</td>\n",
              "      <td>18</td>\n",
              "      <td>nao</td>\n",
              "    </tr>\n",
              "    <tr>\n",
              "      <th>3</th>\n",
              "      <td>58</td>\n",
              "      <td>divorciado (a)</td>\n",
              "      <td>superior</td>\n",
              "      <td>nao</td>\n",
              "      <td>1382</td>\n",
              "      <td>nao</td>\n",
              "      <td>700</td>\n",
              "      <td>1</td>\n",
              "      <td>sim</td>\n",
              "    </tr>\n",
              "    <tr>\n",
              "      <th>4</th>\n",
              "      <td>50</td>\n",
              "      <td>casado (a)</td>\n",
              "      <td>medio</td>\n",
              "      <td>nao</td>\n",
              "      <td>3357</td>\n",
              "      <td>nao</td>\n",
              "      <td>239</td>\n",
              "      <td>4</td>\n",
              "      <td>sim</td>\n",
              "    </tr>\n",
              "    <tr>\n",
              "      <th>...</th>\n",
              "      <td>...</td>\n",
              "      <td>...</td>\n",
              "      <td>...</td>\n",
              "      <td>...</td>\n",
              "      <td>...</td>\n",
              "      <td>...</td>\n",
              "      <td>...</td>\n",
              "      <td>...</td>\n",
              "      <td>...</td>\n",
              "    </tr>\n",
              "    <tr>\n",
              "      <th>1263</th>\n",
              "      <td>52</td>\n",
              "      <td>solteiro (a)</td>\n",
              "      <td>superior</td>\n",
              "      <td>nao</td>\n",
              "      <td>83</td>\n",
              "      <td>nao</td>\n",
              "      <td>1223</td>\n",
              "      <td>6</td>\n",
              "      <td>sim</td>\n",
              "    </tr>\n",
              "    <tr>\n",
              "      <th>1264</th>\n",
              "      <td>35</td>\n",
              "      <td>solteiro (a)</td>\n",
              "      <td>superior</td>\n",
              "      <td>nao</td>\n",
              "      <td>5958</td>\n",
              "      <td>nao</td>\n",
              "      <td>215</td>\n",
              "      <td>1</td>\n",
              "      <td>sim</td>\n",
              "    </tr>\n",
              "    <tr>\n",
              "      <th>1265</th>\n",
              "      <td>30</td>\n",
              "      <td>solteiro (a)</td>\n",
              "      <td>superior</td>\n",
              "      <td>nao</td>\n",
              "      <td>-477</td>\n",
              "      <td>sim</td>\n",
              "      <td>1532</td>\n",
              "      <td>2</td>\n",
              "      <td>sim</td>\n",
              "    </tr>\n",
              "    <tr>\n",
              "      <th>1266</th>\n",
              "      <td>42</td>\n",
              "      <td>casado (a)</td>\n",
              "      <td>superior</td>\n",
              "      <td>nao</td>\n",
              "      <td>2187</td>\n",
              "      <td>nao</td>\n",
              "      <td>525</td>\n",
              "      <td>3</td>\n",
              "      <td>sim</td>\n",
              "    </tr>\n",
              "    <tr>\n",
              "      <th>1267</th>\n",
              "      <td>29</td>\n",
              "      <td>solteiro (a)</td>\n",
              "      <td>superior</td>\n",
              "      <td>nao</td>\n",
              "      <td>19</td>\n",
              "      <td>nao</td>\n",
              "      <td>110</td>\n",
              "      <td>2</td>\n",
              "      <td>sim</td>\n",
              "    </tr>\n",
              "  </tbody>\n",
              "</table>\n",
              "<p>1268 rows × 9 columns</p>\n",
              "</div>\n",
              "    <div class=\"colab-df-buttons\">\n",
              "\n",
              "  <div class=\"colab-df-container\">\n",
              "    <button class=\"colab-df-convert\" onclick=\"convertToInteractive('df-132cd5dd-9e1a-4271-9df3-37246395c307')\"\n",
              "            title=\"Convert this dataframe to an interactive table.\"\n",
              "            style=\"display:none;\">\n",
              "\n",
              "  <svg xmlns=\"http://www.w3.org/2000/svg\" height=\"24px\" viewBox=\"0 -960 960 960\">\n",
              "    <path d=\"M120-120v-720h720v720H120Zm60-500h600v-160H180v160Zm220 220h160v-160H400v160Zm0 220h160v-160H400v160ZM180-400h160v-160H180v160Zm440 0h160v-160H620v160ZM180-180h160v-160H180v160Zm440 0h160v-160H620v160Z\"/>\n",
              "  </svg>\n",
              "    </button>\n",
              "\n",
              "  <style>\n",
              "    .colab-df-container {\n",
              "      display:flex;\n",
              "      gap: 12px;\n",
              "    }\n",
              "\n",
              "    .colab-df-convert {\n",
              "      background-color: #E8F0FE;\n",
              "      border: none;\n",
              "      border-radius: 50%;\n",
              "      cursor: pointer;\n",
              "      display: none;\n",
              "      fill: #1967D2;\n",
              "      height: 32px;\n",
              "      padding: 0 0 0 0;\n",
              "      width: 32px;\n",
              "    }\n",
              "\n",
              "    .colab-df-convert:hover {\n",
              "      background-color: #E2EBFA;\n",
              "      box-shadow: 0px 1px 2px rgba(60, 64, 67, 0.3), 0px 1px 3px 1px rgba(60, 64, 67, 0.15);\n",
              "      fill: #174EA6;\n",
              "    }\n",
              "\n",
              "    .colab-df-buttons div {\n",
              "      margin-bottom: 4px;\n",
              "    }\n",
              "\n",
              "    [theme=dark] .colab-df-convert {\n",
              "      background-color: #3B4455;\n",
              "      fill: #D2E3FC;\n",
              "    }\n",
              "\n",
              "    [theme=dark] .colab-df-convert:hover {\n",
              "      background-color: #434B5C;\n",
              "      box-shadow: 0px 1px 3px 1px rgba(0, 0, 0, 0.15);\n",
              "      filter: drop-shadow(0px 1px 2px rgba(0, 0, 0, 0.3));\n",
              "      fill: #FFFFFF;\n",
              "    }\n",
              "  </style>\n",
              "\n",
              "    <script>\n",
              "      const buttonEl =\n",
              "        document.querySelector('#df-132cd5dd-9e1a-4271-9df3-37246395c307 button.colab-df-convert');\n",
              "      buttonEl.style.display =\n",
              "        google.colab.kernel.accessAllowed ? 'block' : 'none';\n",
              "\n",
              "      async function convertToInteractive(key) {\n",
              "        const element = document.querySelector('#df-132cd5dd-9e1a-4271-9df3-37246395c307');\n",
              "        const dataTable =\n",
              "          await google.colab.kernel.invokeFunction('convertToInteractive',\n",
              "                                                    [key], {});\n",
              "        if (!dataTable) return;\n",
              "\n",
              "        const docLinkHtml = 'Like what you see? Visit the ' +\n",
              "          '<a target=\"_blank\" href=https://colab.research.google.com/notebooks/data_table.ipynb>data table notebook</a>'\n",
              "          + ' to learn more about interactive tables.';\n",
              "        element.innerHTML = '';\n",
              "        dataTable['output_type'] = 'display_data';\n",
              "        await google.colab.output.renderOutput(dataTable, element);\n",
              "        const docLink = document.createElement('div');\n",
              "        docLink.innerHTML = docLinkHtml;\n",
              "        element.appendChild(docLink);\n",
              "      }\n",
              "    </script>\n",
              "  </div>\n",
              "\n",
              "\n",
              "<div id=\"df-414e87cc-5773-4dad-bbc8-eb0315413258\">\n",
              "  <button class=\"colab-df-quickchart\" onclick=\"quickchart('df-414e87cc-5773-4dad-bbc8-eb0315413258')\"\n",
              "            title=\"Suggest charts\"\n",
              "            style=\"display:none;\">\n",
              "\n",
              "<svg xmlns=\"http://www.w3.org/2000/svg\" height=\"24px\"viewBox=\"0 0 24 24\"\n",
              "     width=\"24px\">\n",
              "    <g>\n",
              "        <path d=\"M19 3H5c-1.1 0-2 .9-2 2v14c0 1.1.9 2 2 2h14c1.1 0 2-.9 2-2V5c0-1.1-.9-2-2-2zM9 17H7v-7h2v7zm4 0h-2V7h2v10zm4 0h-2v-4h2v4z\"/>\n",
              "    </g>\n",
              "</svg>\n",
              "  </button>\n",
              "\n",
              "<style>\n",
              "  .colab-df-quickchart {\n",
              "      --bg-color: #E8F0FE;\n",
              "      --fill-color: #1967D2;\n",
              "      --hover-bg-color: #E2EBFA;\n",
              "      --hover-fill-color: #174EA6;\n",
              "      --disabled-fill-color: #AAA;\n",
              "      --disabled-bg-color: #DDD;\n",
              "  }\n",
              "\n",
              "  [theme=dark] .colab-df-quickchart {\n",
              "      --bg-color: #3B4455;\n",
              "      --fill-color: #D2E3FC;\n",
              "      --hover-bg-color: #434B5C;\n",
              "      --hover-fill-color: #FFFFFF;\n",
              "      --disabled-bg-color: #3B4455;\n",
              "      --disabled-fill-color: #666;\n",
              "  }\n",
              "\n",
              "  .colab-df-quickchart {\n",
              "    background-color: var(--bg-color);\n",
              "    border: none;\n",
              "    border-radius: 50%;\n",
              "    cursor: pointer;\n",
              "    display: none;\n",
              "    fill: var(--fill-color);\n",
              "    height: 32px;\n",
              "    padding: 0;\n",
              "    width: 32px;\n",
              "  }\n",
              "\n",
              "  .colab-df-quickchart:hover {\n",
              "    background-color: var(--hover-bg-color);\n",
              "    box-shadow: 0 1px 2px rgba(60, 64, 67, 0.3), 0 1px 3px 1px rgba(60, 64, 67, 0.15);\n",
              "    fill: var(--button-hover-fill-color);\n",
              "  }\n",
              "\n",
              "  .colab-df-quickchart-complete:disabled,\n",
              "  .colab-df-quickchart-complete:disabled:hover {\n",
              "    background-color: var(--disabled-bg-color);\n",
              "    fill: var(--disabled-fill-color);\n",
              "    box-shadow: none;\n",
              "  }\n",
              "\n",
              "  .colab-df-spinner {\n",
              "    border: 2px solid var(--fill-color);\n",
              "    border-color: transparent;\n",
              "    border-bottom-color: var(--fill-color);\n",
              "    animation:\n",
              "      spin 1s steps(1) infinite;\n",
              "  }\n",
              "\n",
              "  @keyframes spin {\n",
              "    0% {\n",
              "      border-color: transparent;\n",
              "      border-bottom-color: var(--fill-color);\n",
              "      border-left-color: var(--fill-color);\n",
              "    }\n",
              "    20% {\n",
              "      border-color: transparent;\n",
              "      border-left-color: var(--fill-color);\n",
              "      border-top-color: var(--fill-color);\n",
              "    }\n",
              "    30% {\n",
              "      border-color: transparent;\n",
              "      border-left-color: var(--fill-color);\n",
              "      border-top-color: var(--fill-color);\n",
              "      border-right-color: var(--fill-color);\n",
              "    }\n",
              "    40% {\n",
              "      border-color: transparent;\n",
              "      border-right-color: var(--fill-color);\n",
              "      border-top-color: var(--fill-color);\n",
              "    }\n",
              "    60% {\n",
              "      border-color: transparent;\n",
              "      border-right-color: var(--fill-color);\n",
              "    }\n",
              "    80% {\n",
              "      border-color: transparent;\n",
              "      border-right-color: var(--fill-color);\n",
              "      border-bottom-color: var(--fill-color);\n",
              "    }\n",
              "    90% {\n",
              "      border-color: transparent;\n",
              "      border-bottom-color: var(--fill-color);\n",
              "    }\n",
              "  }\n",
              "</style>\n",
              "\n",
              "  <script>\n",
              "    async function quickchart(key) {\n",
              "      const quickchartButtonEl =\n",
              "        document.querySelector('#' + key + ' button');\n",
              "      quickchartButtonEl.disabled = true;  // To prevent multiple clicks.\n",
              "      quickchartButtonEl.classList.add('colab-df-spinner');\n",
              "      try {\n",
              "        const charts = await google.colab.kernel.invokeFunction(\n",
              "            'suggestCharts', [key], {});\n",
              "      } catch (error) {\n",
              "        console.error('Error during call to suggestCharts:', error);\n",
              "      }\n",
              "      quickchartButtonEl.classList.remove('colab-df-spinner');\n",
              "      quickchartButtonEl.classList.add('colab-df-quickchart-complete');\n",
              "    }\n",
              "    (() => {\n",
              "      let quickchartButtonEl =\n",
              "        document.querySelector('#df-414e87cc-5773-4dad-bbc8-eb0315413258 button');\n",
              "      quickchartButtonEl.style.display =\n",
              "        google.colab.kernel.accessAllowed ? 'block' : 'none';\n",
              "    })();\n",
              "  </script>\n",
              "</div>\n",
              "\n",
              "  <div id=\"id_851273ad-a8af-431a-a773-bcd5089c3ceb\">\n",
              "    <style>\n",
              "      .colab-df-generate {\n",
              "        background-color: #E8F0FE;\n",
              "        border: none;\n",
              "        border-radius: 50%;\n",
              "        cursor: pointer;\n",
              "        display: none;\n",
              "        fill: #1967D2;\n",
              "        height: 32px;\n",
              "        padding: 0 0 0 0;\n",
              "        width: 32px;\n",
              "      }\n",
              "\n",
              "      .colab-df-generate:hover {\n",
              "        background-color: #E2EBFA;\n",
              "        box-shadow: 0px 1px 2px rgba(60, 64, 67, 0.3), 0px 1px 3px 1px rgba(60, 64, 67, 0.15);\n",
              "        fill: #174EA6;\n",
              "      }\n",
              "\n",
              "      [theme=dark] .colab-df-generate {\n",
              "        background-color: #3B4455;\n",
              "        fill: #D2E3FC;\n",
              "      }\n",
              "\n",
              "      [theme=dark] .colab-df-generate:hover {\n",
              "        background-color: #434B5C;\n",
              "        box-shadow: 0px 1px 3px 1px rgba(0, 0, 0, 0.15);\n",
              "        filter: drop-shadow(0px 1px 2px rgba(0, 0, 0, 0.3));\n",
              "        fill: #FFFFFF;\n",
              "      }\n",
              "    </style>\n",
              "    <button class=\"colab-df-generate\" onclick=\"generateWithVariable('data')\"\n",
              "            title=\"Generate code using this dataframe.\"\n",
              "            style=\"display:none;\">\n",
              "\n",
              "  <svg xmlns=\"http://www.w3.org/2000/svg\" height=\"24px\"viewBox=\"0 0 24 24\"\n",
              "       width=\"24px\">\n",
              "    <path d=\"M7,19H8.4L18.45,9,17,7.55,7,17.6ZM5,21V16.75L18.45,3.32a2,2,0,0,1,2.83,0l1.4,1.43a1.91,1.91,0,0,1,.58,1.4,1.91,1.91,0,0,1-.58,1.4L9.25,21ZM18.45,9,17,7.55Zm-12,3A5.31,5.31,0,0,0,4.9,8.1,5.31,5.31,0,0,0,1,6.5,5.31,5.31,0,0,0,4.9,4.9,5.31,5.31,0,0,0,6.5,1,5.31,5.31,0,0,0,8.1,4.9,5.31,5.31,0,0,0,12,6.5,5.46,5.46,0,0,0,6.5,12Z\"/>\n",
              "  </svg>\n",
              "    </button>\n",
              "    <script>\n",
              "      (() => {\n",
              "      const buttonEl =\n",
              "        document.querySelector('#id_851273ad-a8af-431a-a773-bcd5089c3ceb button.colab-df-generate');\n",
              "      buttonEl.style.display =\n",
              "        google.colab.kernel.accessAllowed ? 'block' : 'none';\n",
              "\n",
              "      buttonEl.onclick = () => {\n",
              "        google.colab.notebook.generateWithVariable('data');\n",
              "      }\n",
              "      })();\n",
              "    </script>\n",
              "  </div>\n",
              "\n",
              "    </div>\n",
              "  </div>\n"
            ],
            "application/vnd.google.colaboratory.intrinsic+json": {
              "type": "dataframe",
              "variable_name": "data",
              "summary": "{\n  \"name\": \"data\",\n  \"rows\": 1268,\n  \"fields\": [\n    {\n      \"column\": \"idade\",\n      \"properties\": {\n        \"dtype\": \"number\",\n        \"std\": 11,\n        \"min\": 19,\n        \"max\": 87,\n        \"num_unique_values\": 64,\n        \"samples\": [\n          70,\n          77,\n          45\n        ],\n        \"semantic_type\": \"\",\n        \"description\": \"\"\n      }\n    },\n    {\n      \"column\": \"estado_civil\",\n      \"properties\": {\n        \"dtype\": \"category\",\n        \"num_unique_values\": 3,\n        \"samples\": [\n          \"casado (a)\",\n          \"solteiro (a)\",\n          \"divorciado (a)\"\n        ],\n        \"semantic_type\": \"\",\n        \"description\": \"\"\n      }\n    },\n    {\n      \"column\": \"escolaridade\",\n      \"properties\": {\n        \"dtype\": \"category\",\n        \"num_unique_values\": 3,\n        \"samples\": [\n          \"superior\",\n          \"medio\",\n          \"fundamental\"\n        ],\n        \"semantic_type\": \"\",\n        \"description\": \"\"\n      }\n    },\n    {\n      \"column\": \"inadimplencia\",\n      \"properties\": {\n        \"dtype\": \"category\",\n        \"num_unique_values\": 2,\n        \"samples\": [\n          \"sim\",\n          \"nao\"\n        ],\n        \"semantic_type\": \"\",\n        \"description\": \"\"\n      }\n    },\n    {\n      \"column\": \"saldo\",\n      \"properties\": {\n        \"dtype\": \"number\",\n        \"std\": 2690,\n        \"min\": -1206,\n        \"max\": 27069,\n        \"num_unique_values\": 946,\n        \"samples\": [\n          1148,\n          -247\n        ],\n        \"semantic_type\": \"\",\n        \"description\": \"\"\n      }\n    },\n    {\n      \"column\": \"fez_emprestimo\",\n      \"properties\": {\n        \"dtype\": \"category\",\n        \"num_unique_values\": 2,\n        \"samples\": [\n          \"sim\",\n          \"nao\"\n        ],\n        \"semantic_type\": \"\",\n        \"description\": \"\"\n      }\n    },\n    {\n      \"column\": \"tempo_ult_contato\",\n      \"properties\": {\n        \"dtype\": \"number\",\n        \"std\": 347,\n        \"min\": 5,\n        \"max\": 3025,\n        \"num_unique_values\": 646,\n        \"samples\": [\n          1006,\n          1060\n        ],\n        \"semantic_type\": \"\",\n        \"description\": \"\"\n      }\n    },\n    {\n      \"column\": \"numero_contatos\",\n      \"properties\": {\n        \"dtype\": \"number\",\n        \"std\": 2,\n        \"min\": 1,\n        \"max\": 32,\n        \"num_unique_values\": 21,\n        \"samples\": [\n          1,\n          24\n        ],\n        \"semantic_type\": \"\",\n        \"description\": \"\"\n      }\n    },\n    {\n      \"column\": \"aderencia_investimento\",\n      \"properties\": {\n        \"dtype\": \"category\",\n        \"num_unique_values\": 2,\n        \"samples\": [\n          \"nao\",\n          \"sim\"\n        ],\n        \"semantic_type\": \"\",\n        \"description\": \"\"\n      }\n    }\n  ]\n}"
            }
          },
          "metadata": {},
          "execution_count": 78
        }
      ]
    },
    {
      "cell_type": "code",
      "source": [
        "data.describe()"
      ],
      "metadata": {
        "id": "4uQHVCGlZxkL",
        "colab": {
          "base_uri": "https://localhost:8080/",
          "height": 300
        },
        "outputId": "56498e6d-f9c9-4f28-c88d-b9f3523448fb"
      },
      "execution_count": null,
      "outputs": [
        {
          "output_type": "execute_result",
          "data": {
            "text/plain": [
              "             idade         saldo  tempo_ult_contato  numero_contatos\n",
              "count  1268.000000   1268.000000        1268.000000      1268.000000\n",
              "mean     41.376972   1443.426656         367.574921         2.715300\n",
              "std      11.383805   2690.406767         347.969723         2.885642\n",
              "min      19.000000  -1206.000000           5.000000         1.000000\n",
              "25%      33.000000     91.250000         134.000000         1.000000\n",
              "50%      39.000000    491.500000         251.000000         2.000000\n",
              "75%      49.000000   1623.500000         488.250000         3.000000\n",
              "max      87.000000  27069.000000        3025.000000        32.000000"
            ],
            "text/html": [
              "\n",
              "  <div id=\"df-adbd110e-75de-472c-9927-f85ed1007640\" class=\"colab-df-container\">\n",
              "    <div>\n",
              "<style scoped>\n",
              "    .dataframe tbody tr th:only-of-type {\n",
              "        vertical-align: middle;\n",
              "    }\n",
              "\n",
              "    .dataframe tbody tr th {\n",
              "        vertical-align: top;\n",
              "    }\n",
              "\n",
              "    .dataframe thead th {\n",
              "        text-align: right;\n",
              "    }\n",
              "</style>\n",
              "<table border=\"1\" class=\"dataframe\">\n",
              "  <thead>\n",
              "    <tr style=\"text-align: right;\">\n",
              "      <th></th>\n",
              "      <th>idade</th>\n",
              "      <th>saldo</th>\n",
              "      <th>tempo_ult_contato</th>\n",
              "      <th>numero_contatos</th>\n",
              "    </tr>\n",
              "  </thead>\n",
              "  <tbody>\n",
              "    <tr>\n",
              "      <th>count</th>\n",
              "      <td>1268.000000</td>\n",
              "      <td>1268.000000</td>\n",
              "      <td>1268.000000</td>\n",
              "      <td>1268.000000</td>\n",
              "    </tr>\n",
              "    <tr>\n",
              "      <th>mean</th>\n",
              "      <td>41.376972</td>\n",
              "      <td>1443.426656</td>\n",
              "      <td>367.574921</td>\n",
              "      <td>2.715300</td>\n",
              "    </tr>\n",
              "    <tr>\n",
              "      <th>std</th>\n",
              "      <td>11.383805</td>\n",
              "      <td>2690.406767</td>\n",
              "      <td>347.969723</td>\n",
              "      <td>2.885642</td>\n",
              "    </tr>\n",
              "    <tr>\n",
              "      <th>min</th>\n",
              "      <td>19.000000</td>\n",
              "      <td>-1206.000000</td>\n",
              "      <td>5.000000</td>\n",
              "      <td>1.000000</td>\n",
              "    </tr>\n",
              "    <tr>\n",
              "      <th>25%</th>\n",
              "      <td>33.000000</td>\n",
              "      <td>91.250000</td>\n",
              "      <td>134.000000</td>\n",
              "      <td>1.000000</td>\n",
              "    </tr>\n",
              "    <tr>\n",
              "      <th>50%</th>\n",
              "      <td>39.000000</td>\n",
              "      <td>491.500000</td>\n",
              "      <td>251.000000</td>\n",
              "      <td>2.000000</td>\n",
              "    </tr>\n",
              "    <tr>\n",
              "      <th>75%</th>\n",
              "      <td>49.000000</td>\n",
              "      <td>1623.500000</td>\n",
              "      <td>488.250000</td>\n",
              "      <td>3.000000</td>\n",
              "    </tr>\n",
              "    <tr>\n",
              "      <th>max</th>\n",
              "      <td>87.000000</td>\n",
              "      <td>27069.000000</td>\n",
              "      <td>3025.000000</td>\n",
              "      <td>32.000000</td>\n",
              "    </tr>\n",
              "  </tbody>\n",
              "</table>\n",
              "</div>\n",
              "    <div class=\"colab-df-buttons\">\n",
              "\n",
              "  <div class=\"colab-df-container\">\n",
              "    <button class=\"colab-df-convert\" onclick=\"convertToInteractive('df-adbd110e-75de-472c-9927-f85ed1007640')\"\n",
              "            title=\"Convert this dataframe to an interactive table.\"\n",
              "            style=\"display:none;\">\n",
              "\n",
              "  <svg xmlns=\"http://www.w3.org/2000/svg\" height=\"24px\" viewBox=\"0 -960 960 960\">\n",
              "    <path d=\"M120-120v-720h720v720H120Zm60-500h600v-160H180v160Zm220 220h160v-160H400v160Zm0 220h160v-160H400v160ZM180-400h160v-160H180v160Zm440 0h160v-160H620v160ZM180-180h160v-160H180v160Zm440 0h160v-160H620v160Z\"/>\n",
              "  </svg>\n",
              "    </button>\n",
              "\n",
              "  <style>\n",
              "    .colab-df-container {\n",
              "      display:flex;\n",
              "      gap: 12px;\n",
              "    }\n",
              "\n",
              "    .colab-df-convert {\n",
              "      background-color: #E8F0FE;\n",
              "      border: none;\n",
              "      border-radius: 50%;\n",
              "      cursor: pointer;\n",
              "      display: none;\n",
              "      fill: #1967D2;\n",
              "      height: 32px;\n",
              "      padding: 0 0 0 0;\n",
              "      width: 32px;\n",
              "    }\n",
              "\n",
              "    .colab-df-convert:hover {\n",
              "      background-color: #E2EBFA;\n",
              "      box-shadow: 0px 1px 2px rgba(60, 64, 67, 0.3), 0px 1px 3px 1px rgba(60, 64, 67, 0.15);\n",
              "      fill: #174EA6;\n",
              "    }\n",
              "\n",
              "    .colab-df-buttons div {\n",
              "      margin-bottom: 4px;\n",
              "    }\n",
              "\n",
              "    [theme=dark] .colab-df-convert {\n",
              "      background-color: #3B4455;\n",
              "      fill: #D2E3FC;\n",
              "    }\n",
              "\n",
              "    [theme=dark] .colab-df-convert:hover {\n",
              "      background-color: #434B5C;\n",
              "      box-shadow: 0px 1px 3px 1px rgba(0, 0, 0, 0.15);\n",
              "      filter: drop-shadow(0px 1px 2px rgba(0, 0, 0, 0.3));\n",
              "      fill: #FFFFFF;\n",
              "    }\n",
              "  </style>\n",
              "\n",
              "    <script>\n",
              "      const buttonEl =\n",
              "        document.querySelector('#df-adbd110e-75de-472c-9927-f85ed1007640 button.colab-df-convert');\n",
              "      buttonEl.style.display =\n",
              "        google.colab.kernel.accessAllowed ? 'block' : 'none';\n",
              "\n",
              "      async function convertToInteractive(key) {\n",
              "        const element = document.querySelector('#df-adbd110e-75de-472c-9927-f85ed1007640');\n",
              "        const dataTable =\n",
              "          await google.colab.kernel.invokeFunction('convertToInteractive',\n",
              "                                                    [key], {});\n",
              "        if (!dataTable) return;\n",
              "\n",
              "        const docLinkHtml = 'Like what you see? Visit the ' +\n",
              "          '<a target=\"_blank\" href=https://colab.research.google.com/notebooks/data_table.ipynb>data table notebook</a>'\n",
              "          + ' to learn more about interactive tables.';\n",
              "        element.innerHTML = '';\n",
              "        dataTable['output_type'] = 'display_data';\n",
              "        await google.colab.output.renderOutput(dataTable, element);\n",
              "        const docLink = document.createElement('div');\n",
              "        docLink.innerHTML = docLinkHtml;\n",
              "        element.appendChild(docLink);\n",
              "      }\n",
              "    </script>\n",
              "  </div>\n",
              "\n",
              "\n",
              "<div id=\"df-3ce4704c-9531-4116-b9c6-bc8b5c6f7a53\">\n",
              "  <button class=\"colab-df-quickchart\" onclick=\"quickchart('df-3ce4704c-9531-4116-b9c6-bc8b5c6f7a53')\"\n",
              "            title=\"Suggest charts\"\n",
              "            style=\"display:none;\">\n",
              "\n",
              "<svg xmlns=\"http://www.w3.org/2000/svg\" height=\"24px\"viewBox=\"0 0 24 24\"\n",
              "     width=\"24px\">\n",
              "    <g>\n",
              "        <path d=\"M19 3H5c-1.1 0-2 .9-2 2v14c0 1.1.9 2 2 2h14c1.1 0 2-.9 2-2V5c0-1.1-.9-2-2-2zM9 17H7v-7h2v7zm4 0h-2V7h2v10zm4 0h-2v-4h2v4z\"/>\n",
              "    </g>\n",
              "</svg>\n",
              "  </button>\n",
              "\n",
              "<style>\n",
              "  .colab-df-quickchart {\n",
              "      --bg-color: #E8F0FE;\n",
              "      --fill-color: #1967D2;\n",
              "      --hover-bg-color: #E2EBFA;\n",
              "      --hover-fill-color: #174EA6;\n",
              "      --disabled-fill-color: #AAA;\n",
              "      --disabled-bg-color: #DDD;\n",
              "  }\n",
              "\n",
              "  [theme=dark] .colab-df-quickchart {\n",
              "      --bg-color: #3B4455;\n",
              "      --fill-color: #D2E3FC;\n",
              "      --hover-bg-color: #434B5C;\n",
              "      --hover-fill-color: #FFFFFF;\n",
              "      --disabled-bg-color: #3B4455;\n",
              "      --disabled-fill-color: #666;\n",
              "  }\n",
              "\n",
              "  .colab-df-quickchart {\n",
              "    background-color: var(--bg-color);\n",
              "    border: none;\n",
              "    border-radius: 50%;\n",
              "    cursor: pointer;\n",
              "    display: none;\n",
              "    fill: var(--fill-color);\n",
              "    height: 32px;\n",
              "    padding: 0;\n",
              "    width: 32px;\n",
              "  }\n",
              "\n",
              "  .colab-df-quickchart:hover {\n",
              "    background-color: var(--hover-bg-color);\n",
              "    box-shadow: 0 1px 2px rgba(60, 64, 67, 0.3), 0 1px 3px 1px rgba(60, 64, 67, 0.15);\n",
              "    fill: var(--button-hover-fill-color);\n",
              "  }\n",
              "\n",
              "  .colab-df-quickchart-complete:disabled,\n",
              "  .colab-df-quickchart-complete:disabled:hover {\n",
              "    background-color: var(--disabled-bg-color);\n",
              "    fill: var(--disabled-fill-color);\n",
              "    box-shadow: none;\n",
              "  }\n",
              "\n",
              "  .colab-df-spinner {\n",
              "    border: 2px solid var(--fill-color);\n",
              "    border-color: transparent;\n",
              "    border-bottom-color: var(--fill-color);\n",
              "    animation:\n",
              "      spin 1s steps(1) infinite;\n",
              "  }\n",
              "\n",
              "  @keyframes spin {\n",
              "    0% {\n",
              "      border-color: transparent;\n",
              "      border-bottom-color: var(--fill-color);\n",
              "      border-left-color: var(--fill-color);\n",
              "    }\n",
              "    20% {\n",
              "      border-color: transparent;\n",
              "      border-left-color: var(--fill-color);\n",
              "      border-top-color: var(--fill-color);\n",
              "    }\n",
              "    30% {\n",
              "      border-color: transparent;\n",
              "      border-left-color: var(--fill-color);\n",
              "      border-top-color: var(--fill-color);\n",
              "      border-right-color: var(--fill-color);\n",
              "    }\n",
              "    40% {\n",
              "      border-color: transparent;\n",
              "      border-right-color: var(--fill-color);\n",
              "      border-top-color: var(--fill-color);\n",
              "    }\n",
              "    60% {\n",
              "      border-color: transparent;\n",
              "      border-right-color: var(--fill-color);\n",
              "    }\n",
              "    80% {\n",
              "      border-color: transparent;\n",
              "      border-right-color: var(--fill-color);\n",
              "      border-bottom-color: var(--fill-color);\n",
              "    }\n",
              "    90% {\n",
              "      border-color: transparent;\n",
              "      border-bottom-color: var(--fill-color);\n",
              "    }\n",
              "  }\n",
              "</style>\n",
              "\n",
              "  <script>\n",
              "    async function quickchart(key) {\n",
              "      const quickchartButtonEl =\n",
              "        document.querySelector('#' + key + ' button');\n",
              "      quickchartButtonEl.disabled = true;  // To prevent multiple clicks.\n",
              "      quickchartButtonEl.classList.add('colab-df-spinner');\n",
              "      try {\n",
              "        const charts = await google.colab.kernel.invokeFunction(\n",
              "            'suggestCharts', [key], {});\n",
              "      } catch (error) {\n",
              "        console.error('Error during call to suggestCharts:', error);\n",
              "      }\n",
              "      quickchartButtonEl.classList.remove('colab-df-spinner');\n",
              "      quickchartButtonEl.classList.add('colab-df-quickchart-complete');\n",
              "    }\n",
              "    (() => {\n",
              "      let quickchartButtonEl =\n",
              "        document.querySelector('#df-3ce4704c-9531-4116-b9c6-bc8b5c6f7a53 button');\n",
              "      quickchartButtonEl.style.display =\n",
              "        google.colab.kernel.accessAllowed ? 'block' : 'none';\n",
              "    })();\n",
              "  </script>\n",
              "</div>\n",
              "\n",
              "    </div>\n",
              "  </div>\n"
            ],
            "application/vnd.google.colaboratory.intrinsic+json": {
              "type": "dataframe",
              "summary": "{\n  \"name\": \"data\",\n  \"rows\": 8,\n  \"fields\": [\n    {\n      \"column\": \"idade\",\n      \"properties\": {\n        \"dtype\": \"number\",\n        \"std\": 434.7677897816942,\n        \"min\": 11.383804651491227,\n        \"max\": 1268.0,\n        \"num_unique_values\": 8,\n        \"samples\": [\n          41.37697160883281,\n          39.0,\n          1268.0\n        ],\n        \"semantic_type\": \"\",\n        \"description\": \"\"\n      }\n    },\n    {\n      \"column\": \"saldo\",\n      \"properties\": {\n        \"dtype\": \"number\",\n        \"std\": 9319.421065375533,\n        \"min\": -1206.0,\n        \"max\": 27069.0,\n        \"num_unique_values\": 8,\n        \"samples\": [\n          1443.4266561514196,\n          491.5,\n          1268.0\n        ],\n        \"semantic_type\": \"\",\n        \"description\": \"\"\n      }\n    },\n    {\n      \"column\": \"tempo_ult_contato\",\n      \"properties\": {\n        \"dtype\": \"number\",\n        \"std\": 1000.1585171175806,\n        \"min\": 5.0,\n        \"max\": 3025.0,\n        \"num_unique_values\": 8,\n        \"samples\": [\n          367.57492113564666,\n          251.0,\n          1268.0\n        ],\n        \"semantic_type\": \"\",\n        \"description\": \"\"\n      }\n    },\n    {\n      \"column\": \"numero_contatos\",\n      \"properties\": {\n        \"dtype\": \"number\",\n        \"std\": 446.17638178312876,\n        \"min\": 1.0,\n        \"max\": 1268.0,\n        \"num_unique_values\": 7,\n        \"samples\": [\n          1268.0,\n          2.715299684542587,\n          3.0\n        ],\n        \"semantic_type\": \"\",\n        \"description\": \"\"\n      }\n    }\n  ]\n}"
            }
          },
          "metadata": {},
          "execution_count": 79
        }
      ]
    },
    {
      "cell_type": "markdown",
      "source": [
        "Para criar modelos de classificação, precisamos utilizar dados de qualidade, sem inconsistências e sem dados faltantes. Vamos checar se existem dados nulos e o tipo dos dados de cada coluna na base de dados a partir do método [`info()`](https://pandas.pydata.org/docs/reference/api/pandas.DataFrame.info.html)."
      ],
      "metadata": {
        "id": "y5VuhIoQQC51"
      }
    },
    {
      "cell_type": "code",
      "source": [
        "data.info()"
      ],
      "metadata": {
        "id": "p1ylujcUmSGW",
        "colab": {
          "base_uri": "https://localhost:8080/"
        },
        "outputId": "880ef197-6dee-43bd-c9f0-0191b72c8d25"
      },
      "execution_count": null,
      "outputs": [
        {
          "output_type": "stream",
          "name": "stdout",
          "text": [
            "<class 'pandas.core.frame.DataFrame'>\n",
            "RangeIndex: 1268 entries, 0 to 1267\n",
            "Data columns (total 9 columns):\n",
            " #   Column                  Non-Null Count  Dtype \n",
            "---  ------                  --------------  ----- \n",
            " 0   idade                   1268 non-null   int64 \n",
            " 1   estado_civil            1268 non-null   object\n",
            " 2   escolaridade            1268 non-null   object\n",
            " 3   inadimplencia           1268 non-null   object\n",
            " 4   saldo                   1268 non-null   int64 \n",
            " 5   fez_emprestimo          1268 non-null   object\n",
            " 6   tempo_ult_contato       1268 non-null   int64 \n",
            " 7   numero_contatos         1268 non-null   int64 \n",
            " 8   aderencia_investimento  1268 non-null   object\n",
            "dtypes: int64(4), object(5)\n",
            "memory usage: 89.3+ KB\n"
          ]
        }
      ]
    },
    {
      "cell_type": "markdown",
      "source": [
        "## Explorando os dados"
      ],
      "metadata": {
        "id": "sgiS9acdmOQn"
      }
    },
    {
      "cell_type": "markdown",
      "source": [
        "Uma etapa muito importante em projetos de machine learning é a exploração e entendimento dos dados, conhecida como **análise exploratória**. Podemos utilizar gráficos para verificar quais são as informações em cada uma das colunas da base de dados, identificar inconsistências e padrões que possam existir.\n",
        "\n",
        "Vamos explorar cada uma das colunas da base de dados com o uso da biblioteca `plotly`. Vamos começar pelas variáveis categóricas e depois explorar as variáveis numéricas."
      ],
      "metadata": {
        "id": "rMyhhPIMQnWt"
      }
    },
    {
      "cell_type": "markdown",
      "source": [
        "### Variáveis categóricas"
      ],
      "metadata": {
        "id": "I6m3meBiMLk8"
      }
    },
    {
      "cell_type": "code",
      "source": [
        "import plotly.express as px"
      ],
      "metadata": {
        "id": "B_Tgi_SvmSEO"
      },
      "execution_count": null,
      "outputs": []
    },
    {
      "cell_type": "code",
      "source": [
        "data.columns"
      ],
      "metadata": {
        "colab": {
          "base_uri": "https://localhost:8080/"
        },
        "id": "34XtkcQ4kIX4",
        "outputId": "cd2480a8-1311-427f-d6f3-6bec9a805a0c"
      },
      "execution_count": null,
      "outputs": [
        {
          "output_type": "execute_result",
          "data": {
            "text/plain": [
              "Index(['idade', 'estado_civil', 'escolaridade', 'inadimplencia', 'saldo',\n",
              "       'fez_emprestimo', 'tempo_ult_contato', 'numero_contatos',\n",
              "       'aderencia_investimento'],\n",
              "      dtype='object')"
            ]
          },
          "metadata": {},
          "execution_count": 82
        }
      ]
    },
    {
      "cell_type": "code",
      "source": [
        "px.histogram(data, x='aderencia_investimento', text_auto=True)"
      ],
      "metadata": {
        "id": "pjd2NCstMNO0",
        "colab": {
          "base_uri": "https://localhost:8080/",
          "height": 542
        },
        "outputId": "8ac5ad44-ddbf-421a-d021-aa1da1914071"
      },
      "execution_count": null,
      "outputs": [
        {
          "output_type": "display_data",
          "data": {
            "text/html": [
              "<html>\n",
              "<head><meta charset=\"utf-8\" /></head>\n",
              "<body>\n",
              "    <div>            <script src=\"https://cdnjs.cloudflare.com/ajax/libs/mathjax/2.7.5/MathJax.js?config=TeX-AMS-MML_SVG\"></script><script type=\"text/javascript\">if (window.MathJax && window.MathJax.Hub && window.MathJax.Hub.Config) {window.MathJax.Hub.Config({SVG: {font: \"STIX-Web\"}});}</script>                <script type=\"text/javascript\">window.PlotlyConfig = {MathJaxConfig: 'local'};</script>\n",
              "        <script charset=\"utf-8\" src=\"https://cdn.plot.ly/plotly-2.24.1.min.js\"></script>                <div id=\"6b198447-a597-43da-b315-e2e7a46abacb\" class=\"plotly-graph-div\" style=\"height:525px; width:100%;\"></div>            <script type=\"text/javascript\">                                    window.PLOTLYENV=window.PLOTLYENV || {};                                    if (document.getElementById(\"6b198447-a597-43da-b315-e2e7a46abacb\")) {                    Plotly.newPlot(                        \"6b198447-a597-43da-b315-e2e7a46abacb\",                        [{\"alignmentgroup\":\"True\",\"bingroup\":\"x\",\"hovertemplate\":\"aderencia_investimento=%{x}\\u003cbr\\u003ecount=%{y}\\u003cextra\\u003e\\u003c\\u002fextra\\u003e\",\"legendgroup\":\"\",\"marker\":{\"color\":\"#636efa\",\"pattern\":{\"shape\":\"\"}},\"name\":\"\",\"offsetgroup\":\"\",\"orientation\":\"v\",\"showlegend\":false,\"texttemplate\":\"%{value}\",\"x\":[\"sim\",\"sim\",\"nao\",\"sim\",\"sim\",\"sim\",\"nao\",\"nao\",\"nao\",\"nao\",\"sim\",\"nao\",\"sim\",\"nao\",\"nao\",\"sim\",\"nao\",\"nao\",\"nao\",\"sim\",\"nao\",\"nao\",\"nao\",\"sim\",\"nao\",\"sim\",\"nao\",\"sim\",\"sim\",\"sim\",\"sim\",\"nao\",\"nao\",\"nao\",\"nao\",\"nao\",\"nao\",\"nao\",\"nao\",\"sim\",\"nao\",\"nao\",\"nao\",\"nao\",\"nao\",\"nao\",\"sim\",\"nao\",\"sim\",\"nao\",\"sim\",\"nao\",\"nao\",\"sim\",\"sim\",\"sim\",\"nao\",\"sim\",\"nao\",\"nao\",\"nao\",\"nao\",\"nao\",\"nao\",\"nao\",\"nao\",\"nao\",\"nao\",\"nao\",\"sim\",\"nao\",\"nao\",\"nao\",\"nao\",\"sim\",\"nao\",\"sim\",\"sim\",\"nao\",\"nao\",\"sim\",\"sim\",\"nao\",\"nao\",\"nao\",\"nao\",\"sim\",\"sim\",\"sim\",\"sim\",\"sim\",\"nao\",\"sim\",\"sim\",\"sim\",\"nao\",\"nao\",\"nao\",\"nao\",\"nao\",\"nao\",\"sim\",\"sim\",\"nao\",\"sim\",\"sim\",\"nao\",\"nao\",\"sim\",\"nao\",\"nao\",\"nao\",\"nao\",\"sim\",\"nao\",\"sim\",\"nao\",\"nao\",\"nao\",\"sim\",\"sim\",\"nao\",\"nao\",\"sim\",\"sim\",\"nao\",\"nao\",\"sim\",\"nao\",\"sim\",\"nao\",\"sim\",\"sim\",\"nao\",\"nao\",\"nao\",\"sim\",\"sim\",\"nao\",\"sim\",\"sim\",\"sim\",\"sim\",\"sim\",\"nao\",\"sim\",\"sim\",\"sim\",\"sim\",\"sim\",\"nao\",\"nao\",\"nao\",\"nao\",\"nao\",\"sim\",\"nao\",\"nao\",\"nao\",\"nao\",\"nao\",\"nao\",\"nao\",\"sim\",\"nao\",\"nao\",\"nao\",\"sim\",\"sim\",\"sim\",\"nao\",\"nao\",\"nao\",\"nao\",\"nao\",\"sim\",\"sim\",\"nao\",\"nao\",\"sim\",\"nao\",\"sim\",\"nao\",\"sim\",\"sim\",\"nao\",\"nao\",\"sim\",\"sim\",\"nao\",\"nao\",\"sim\",\"sim\",\"nao\",\"nao\",\"nao\",\"nao\",\"sim\",\"nao\",\"nao\",\"sim\",\"sim\",\"nao\",\"nao\",\"nao\",\"sim\",\"sim\",\"nao\",\"sim\",\"nao\",\"sim\",\"nao\",\"sim\",\"nao\",\"nao\",\"nao\",\"sim\",\"nao\",\"nao\",\"sim\",\"nao\",\"sim\",\"sim\",\"nao\",\"nao\",\"nao\",\"sim\",\"sim\",\"sim\",\"nao\",\"nao\",\"nao\",\"nao\",\"sim\",\"nao\",\"sim\",\"sim\",\"nao\",\"nao\",\"sim\",\"sim\",\"nao\",\"nao\",\"nao\",\"nao\",\"nao\",\"nao\",\"nao\",\"nao\",\"nao\",\"nao\",\"nao\",\"nao\",\"nao\",\"nao\",\"nao\",\"nao\",\"sim\",\"nao\",\"nao\",\"sim\",\"sim\",\"nao\",\"sim\",\"nao\",\"nao\",\"sim\",\"sim\",\"sim\",\"sim\",\"sim\",\"nao\",\"sim\",\"nao\",\"nao\",\"sim\",\"sim\",\"sim\",\"sim\",\"nao\",\"nao\",\"sim\",\"nao\",\"nao\",\"nao\",\"nao\",\"nao\",\"sim\",\"nao\",\"nao\",\"nao\",\"nao\",\"sim\",\"nao\",\"nao\",\"nao\",\"nao\",\"nao\",\"nao\",\"sim\",\"sim\",\"nao\",\"nao\",\"nao\",\"nao\",\"sim\",\"nao\",\"sim\",\"nao\",\"nao\",\"nao\",\"nao\",\"sim\",\"nao\",\"nao\",\"nao\",\"sim\",\"nao\",\"sim\",\"sim\",\"sim\",\"nao\",\"nao\",\"sim\",\"nao\",\"nao\",\"nao\",\"nao\",\"nao\",\"nao\",\"nao\",\"nao\",\"sim\",\"sim\",\"nao\",\"nao\",\"nao\",\"nao\",\"sim\",\"nao\",\"nao\",\"nao\",\"nao\",\"nao\",\"sim\",\"nao\",\"nao\",\"sim\",\"sim\",\"sim\",\"nao\",\"nao\",\"nao\",\"sim\",\"nao\",\"nao\",\"sim\",\"nao\",\"nao\",\"sim\",\"sim\",\"nao\",\"nao\",\"nao\",\"nao\",\"sim\",\"nao\",\"sim\",\"sim\",\"sim\",\"nao\",\"nao\",\"sim\",\"nao\",\"sim\",\"nao\",\"nao\",\"nao\",\"nao\",\"nao\",\"nao\",\"sim\",\"sim\",\"sim\",\"sim\",\"sim\",\"nao\",\"sim\",\"nao\",\"nao\",\"nao\",\"nao\",\"nao\",\"sim\",\"nao\",\"nao\",\"sim\",\"nao\",\"nao\",\"nao\",\"sim\",\"sim\",\"sim\",\"sim\",\"sim\",\"nao\",\"nao\",\"nao\",\"sim\",\"nao\",\"sim\",\"sim\",\"nao\",\"nao\",\"nao\",\"nao\",\"sim\",\"sim\",\"nao\",\"nao\",\"nao\",\"nao\",\"sim\",\"nao\",\"nao\",\"sim\",\"sim\",\"nao\",\"nao\",\"nao\",\"sim\",\"sim\",\"sim\",\"sim\",\"sim\",\"nao\",\"sim\",\"nao\",\"nao\",\"sim\",\"nao\",\"nao\",\"nao\",\"nao\",\"nao\",\"nao\",\"nao\",\"nao\",\"nao\",\"sim\",\"nao\",\"sim\",\"nao\",\"nao\",\"sim\",\"nao\",\"nao\",\"nao\",\"nao\",\"nao\",\"sim\",\"nao\",\"nao\",\"nao\",\"sim\",\"sim\",\"sim\",\"nao\",\"sim\",\"nao\",\"nao\",\"nao\",\"sim\",\"nao\",\"sim\",\"sim\",\"nao\",\"sim\",\"sim\",\"sim\",\"nao\",\"sim\",\"nao\",\"nao\",\"sim\",\"nao\",\"sim\",\"sim\",\"nao\",\"nao\",\"nao\",\"sim\",\"nao\",\"nao\",\"sim\",\"sim\",\"sim\",\"nao\",\"nao\",\"nao\",\"sim\",\"nao\",\"nao\",\"nao\",\"nao\",\"nao\",\"nao\",\"nao\",\"sim\",\"sim\",\"nao\",\"nao\",\"nao\",\"sim\",\"nao\",\"sim\",\"nao\",\"sim\",\"nao\",\"nao\",\"nao\",\"nao\",\"sim\",\"sim\",\"sim\",\"nao\",\"nao\",\"nao\",\"sim\",\"nao\",\"nao\",\"nao\",\"nao\",\"nao\",\"sim\",\"sim\",\"sim\",\"nao\",\"sim\",\"nao\",\"sim\",\"nao\",\"nao\",\"sim\",\"sim\",\"nao\",\"sim\",\"sim\",\"nao\",\"sim\",\"nao\",\"nao\",\"nao\",\"nao\",\"sim\",\"nao\",\"nao\",\"sim\",\"sim\",\"sim\",\"nao\",\"nao\",\"nao\",\"nao\",\"nao\",\"nao\",\"sim\",\"nao\",\"nao\",\"sim\",\"nao\",\"sim\",\"nao\",\"nao\",\"nao\",\"nao\",\"nao\",\"nao\",\"nao\",\"nao\",\"nao\",\"nao\",\"nao\",\"sim\",\"nao\",\"nao\",\"sim\",\"nao\",\"sim\",\"nao\",\"nao\",\"sim\",\"nao\",\"sim\",\"sim\",\"nao\",\"nao\",\"sim\",\"nao\",\"nao\",\"sim\",\"nao\",\"nao\",\"sim\",\"sim\",\"nao\",\"sim\",\"nao\",\"sim\",\"sim\",\"nao\",\"nao\",\"sim\",\"sim\",\"nao\",\"sim\",\"sim\",\"sim\",\"sim\",\"sim\",\"nao\",\"sim\",\"nao\",\"sim\",\"sim\",\"nao\",\"nao\",\"nao\",\"nao\",\"sim\",\"nao\",\"nao\",\"nao\",\"nao\",\"sim\",\"nao\",\"nao\",\"sim\",\"nao\",\"nao\",\"nao\",\"sim\",\"nao\",\"sim\",\"nao\",\"nao\",\"nao\",\"nao\",\"sim\",\"nao\",\"sim\",\"sim\",\"sim\",\"sim\",\"nao\",\"nao\",\"nao\",\"nao\",\"nao\",\"nao\",\"sim\",\"nao\",\"sim\",\"nao\",\"nao\",\"nao\",\"nao\",\"nao\",\"nao\",\"nao\",\"sim\",\"sim\",\"nao\",\"nao\",\"nao\",\"nao\",\"sim\",\"nao\",\"nao\",\"nao\",\"nao\",\"nao\",\"nao\",\"nao\",\"sim\",\"nao\",\"sim\",\"nao\",\"nao\",\"nao\",\"sim\",\"sim\",\"nao\",\"nao\",\"sim\",\"nao\",\"nao\",\"nao\",\"nao\",\"nao\",\"nao\",\"sim\",\"sim\",\"sim\",\"nao\",\"nao\",\"nao\",\"nao\",\"sim\",\"nao\",\"sim\",\"sim\",\"sim\",\"nao\",\"nao\",\"nao\",\"nao\",\"sim\",\"sim\",\"sim\",\"nao\",\"sim\",\"sim\",\"nao\",\"nao\",\"nao\",\"nao\",\"sim\",\"nao\",\"nao\",\"nao\",\"sim\",\"nao\",\"nao\",\"sim\",\"sim\",\"sim\",\"nao\",\"nao\",\"nao\",\"nao\",\"sim\",\"nao\",\"sim\",\"nao\",\"nao\",\"sim\",\"nao\",\"sim\",\"sim\",\"sim\",\"sim\",\"nao\",\"sim\",\"nao\",\"nao\",\"sim\",\"nao\",\"nao\",\"nao\",\"nao\",\"sim\",\"nao\",\"nao\",\"nao\",\"nao\",\"nao\",\"sim\",\"sim\",\"nao\",\"sim\",\"nao\",\"nao\",\"nao\",\"nao\",\"nao\",\"sim\",\"nao\",\"sim\",\"sim\",\"nao\",\"nao\",\"sim\",\"sim\",\"sim\",\"nao\",\"nao\",\"sim\",\"nao\",\"nao\",\"nao\",\"nao\",\"nao\",\"nao\",\"sim\",\"nao\",\"nao\",\"nao\",\"sim\",\"nao\",\"nao\",\"sim\",\"sim\",\"nao\",\"sim\",\"nao\",\"sim\",\"nao\",\"sim\",\"nao\",\"sim\",\"nao\",\"sim\",\"nao\",\"sim\",\"sim\",\"sim\",\"nao\",\"nao\",\"sim\",\"nao\",\"nao\",\"nao\",\"nao\",\"nao\",\"nao\",\"nao\",\"sim\",\"sim\",\"nao\",\"sim\",\"nao\",\"nao\",\"sim\",\"nao\",\"nao\",\"sim\",\"sim\",\"nao\",\"sim\",\"nao\",\"sim\",\"nao\",\"nao\",\"nao\",\"nao\",\"sim\",\"nao\",\"nao\",\"sim\",\"sim\",\"nao\",\"nao\",\"nao\",\"nao\",\"nao\",\"nao\",\"nao\",\"sim\",\"nao\",\"nao\",\"nao\",\"sim\",\"sim\",\"nao\",\"nao\",\"nao\",\"sim\",\"sim\",\"sim\",\"nao\",\"sim\",\"sim\",\"nao\",\"nao\",\"nao\",\"sim\",\"nao\",\"nao\",\"sim\",\"sim\",\"nao\",\"nao\",\"sim\",\"nao\",\"nao\",\"nao\",\"nao\",\"nao\",\"nao\",\"sim\",\"sim\",\"sim\",\"nao\",\"nao\",\"sim\",\"sim\",\"sim\",\"nao\",\"nao\",\"nao\",\"nao\",\"nao\",\"nao\",\"nao\",\"sim\",\"nao\",\"sim\",\"sim\",\"sim\",\"sim\",\"nao\",\"nao\",\"nao\",\"sim\",\"nao\",\"nao\",\"nao\",\"sim\",\"nao\",\"nao\",\"nao\",\"nao\",\"sim\",\"nao\",\"sim\",\"sim\",\"nao\",\"sim\",\"nao\",\"nao\",\"sim\",\"nao\",\"nao\",\"sim\",\"sim\",\"nao\",\"nao\",\"nao\",\"nao\",\"sim\",\"sim\",\"nao\",\"sim\",\"sim\",\"nao\",\"sim\",\"sim\",\"sim\",\"nao\",\"nao\",\"sim\",\"sim\",\"nao\",\"nao\",\"nao\",\"sim\",\"sim\",\"sim\",\"sim\",\"sim\",\"sim\",\"nao\",\"nao\",\"nao\",\"sim\",\"nao\",\"sim\",\"sim\",\"nao\",\"nao\",\"sim\",\"nao\",\"sim\",\"sim\",\"nao\",\"sim\",\"nao\",\"sim\",\"nao\",\"nao\",\"nao\",\"nao\",\"sim\",\"sim\",\"sim\",\"sim\",\"sim\",\"nao\",\"nao\",\"sim\",\"sim\",\"nao\",\"nao\",\"nao\",\"nao\",\"nao\",\"sim\",\"nao\",\"nao\",\"sim\",\"sim\",\"nao\",\"nao\",\"nao\",\"nao\",\"nao\",\"sim\",\"nao\",\"nao\",\"nao\",\"nao\",\"nao\",\"nao\",\"nao\",\"nao\",\"sim\",\"sim\",\"sim\",\"nao\",\"sim\",\"sim\",\"nao\",\"sim\",\"sim\",\"nao\",\"nao\",\"nao\",\"sim\",\"nao\",\"nao\",\"nao\",\"nao\",\"sim\",\"sim\",\"nao\",\"nao\",\"sim\",\"sim\",\"sim\",\"sim\",\"nao\",\"sim\",\"sim\",\"sim\",\"sim\",\"sim\",\"nao\",\"sim\",\"nao\",\"sim\",\"nao\",\"nao\",\"sim\",\"nao\",\"nao\",\"nao\",\"nao\",\"sim\",\"nao\",\"sim\",\"sim\",\"nao\",\"nao\",\"sim\",\"sim\",\"sim\",\"sim\",\"nao\",\"nao\",\"sim\",\"nao\",\"nao\",\"nao\",\"nao\",\"sim\",\"sim\",\"nao\",\"sim\",\"nao\",\"sim\",\"nao\",\"nao\",\"sim\",\"sim\",\"nao\",\"nao\",\"nao\",\"nao\",\"nao\",\"nao\",\"sim\",\"nao\",\"sim\",\"nao\",\"nao\",\"sim\",\"nao\",\"nao\",\"nao\",\"sim\",\"nao\",\"sim\",\"sim\",\"nao\",\"sim\",\"nao\",\"nao\",\"nao\",\"nao\",\"nao\",\"sim\",\"sim\",\"sim\",\"nao\",\"nao\",\"sim\",\"nao\",\"nao\",\"nao\",\"sim\",\"nao\",\"nao\",\"sim\",\"sim\",\"sim\",\"nao\",\"sim\",\"nao\",\"nao\",\"nao\",\"sim\",\"nao\",\"sim\",\"nao\",\"nao\",\"sim\",\"nao\",\"nao\",\"sim\",\"nao\",\"nao\",\"sim\",\"sim\",\"sim\",\"nao\",\"nao\",\"sim\",\"sim\",\"nao\",\"sim\",\"sim\",\"sim\",\"nao\",\"nao\",\"sim\",\"nao\",\"nao\",\"nao\",\"sim\",\"nao\",\"nao\",\"sim\",\"sim\",\"sim\",\"sim\",\"nao\",\"nao\",\"sim\",\"nao\",\"sim\",\"nao\",\"nao\",\"nao\",\"nao\",\"nao\",\"nao\",\"sim\",\"sim\",\"nao\",\"sim\",\"nao\",\"nao\",\"nao\",\"sim\",\"sim\",\"nao\",\"nao\",\"nao\",\"nao\",\"nao\",\"sim\",\"sim\",\"sim\",\"nao\",\"nao\",\"nao\",\"sim\",\"nao\",\"sim\",\"nao\",\"sim\",\"nao\",\"nao\",\"nao\",\"nao\",\"nao\",\"sim\",\"nao\",\"sim\",\"sim\",\"sim\",\"nao\",\"nao\",\"sim\",\"nao\",\"sim\",\"nao\",\"sim\",\"nao\",\"sim\",\"nao\",\"nao\",\"nao\",\"nao\",\"nao\",\"nao\",\"sim\",\"nao\",\"nao\",\"sim\",\"sim\",\"nao\",\"sim\",\"nao\",\"sim\",\"nao\",\"sim\",\"nao\",\"nao\",\"sim\",\"nao\",\"sim\",\"nao\",\"nao\",\"nao\",\"nao\",\"sim\",\"nao\",\"sim\",\"sim\",\"nao\",\"sim\",\"nao\",\"sim\",\"nao\",\"sim\",\"sim\",\"nao\",\"nao\",\"sim\",\"nao\",\"nao\",\"sim\",\"sim\",\"sim\",\"sim\",\"sim\"],\"xaxis\":\"x\",\"yaxis\":\"y\",\"type\":\"histogram\"}],                        {\"template\":{\"data\":{\"histogram2dcontour\":[{\"type\":\"histogram2dcontour\",\"colorbar\":{\"outlinewidth\":0,\"ticks\":\"\"},\"colorscale\":[[0.0,\"#0d0887\"],[0.1111111111111111,\"#46039f\"],[0.2222222222222222,\"#7201a8\"],[0.3333333333333333,\"#9c179e\"],[0.4444444444444444,\"#bd3786\"],[0.5555555555555556,\"#d8576b\"],[0.6666666666666666,\"#ed7953\"],[0.7777777777777778,\"#fb9f3a\"],[0.8888888888888888,\"#fdca26\"],[1.0,\"#f0f921\"]]}],\"choropleth\":[{\"type\":\"choropleth\",\"colorbar\":{\"outlinewidth\":0,\"ticks\":\"\"}}],\"histogram2d\":[{\"type\":\"histogram2d\",\"colorbar\":{\"outlinewidth\":0,\"ticks\":\"\"},\"colorscale\":[[0.0,\"#0d0887\"],[0.1111111111111111,\"#46039f\"],[0.2222222222222222,\"#7201a8\"],[0.3333333333333333,\"#9c179e\"],[0.4444444444444444,\"#bd3786\"],[0.5555555555555556,\"#d8576b\"],[0.6666666666666666,\"#ed7953\"],[0.7777777777777778,\"#fb9f3a\"],[0.8888888888888888,\"#fdca26\"],[1.0,\"#f0f921\"]]}],\"heatmap\":[{\"type\":\"heatmap\",\"colorbar\":{\"outlinewidth\":0,\"ticks\":\"\"},\"colorscale\":[[0.0,\"#0d0887\"],[0.1111111111111111,\"#46039f\"],[0.2222222222222222,\"#7201a8\"],[0.3333333333333333,\"#9c179e\"],[0.4444444444444444,\"#bd3786\"],[0.5555555555555556,\"#d8576b\"],[0.6666666666666666,\"#ed7953\"],[0.7777777777777778,\"#fb9f3a\"],[0.8888888888888888,\"#fdca26\"],[1.0,\"#f0f921\"]]}],\"heatmapgl\":[{\"type\":\"heatmapgl\",\"colorbar\":{\"outlinewidth\":0,\"ticks\":\"\"},\"colorscale\":[[0.0,\"#0d0887\"],[0.1111111111111111,\"#46039f\"],[0.2222222222222222,\"#7201a8\"],[0.3333333333333333,\"#9c179e\"],[0.4444444444444444,\"#bd3786\"],[0.5555555555555556,\"#d8576b\"],[0.6666666666666666,\"#ed7953\"],[0.7777777777777778,\"#fb9f3a\"],[0.8888888888888888,\"#fdca26\"],[1.0,\"#f0f921\"]]}],\"contourcarpet\":[{\"type\":\"contourcarpet\",\"colorbar\":{\"outlinewidth\":0,\"ticks\":\"\"}}],\"contour\":[{\"type\":\"contour\",\"colorbar\":{\"outlinewidth\":0,\"ticks\":\"\"},\"colorscale\":[[0.0,\"#0d0887\"],[0.1111111111111111,\"#46039f\"],[0.2222222222222222,\"#7201a8\"],[0.3333333333333333,\"#9c179e\"],[0.4444444444444444,\"#bd3786\"],[0.5555555555555556,\"#d8576b\"],[0.6666666666666666,\"#ed7953\"],[0.7777777777777778,\"#fb9f3a\"],[0.8888888888888888,\"#fdca26\"],[1.0,\"#f0f921\"]]}],\"surface\":[{\"type\":\"surface\",\"colorbar\":{\"outlinewidth\":0,\"ticks\":\"\"},\"colorscale\":[[0.0,\"#0d0887\"],[0.1111111111111111,\"#46039f\"],[0.2222222222222222,\"#7201a8\"],[0.3333333333333333,\"#9c179e\"],[0.4444444444444444,\"#bd3786\"],[0.5555555555555556,\"#d8576b\"],[0.6666666666666666,\"#ed7953\"],[0.7777777777777778,\"#fb9f3a\"],[0.8888888888888888,\"#fdca26\"],[1.0,\"#f0f921\"]]}],\"mesh3d\":[{\"type\":\"mesh3d\",\"colorbar\":{\"outlinewidth\":0,\"ticks\":\"\"}}],\"scatter\":[{\"fillpattern\":{\"fillmode\":\"overlay\",\"size\":10,\"solidity\":0.2},\"type\":\"scatter\"}],\"parcoords\":[{\"type\":\"parcoords\",\"line\":{\"colorbar\":{\"outlinewidth\":0,\"ticks\":\"\"}}}],\"scatterpolargl\":[{\"type\":\"scatterpolargl\",\"marker\":{\"colorbar\":{\"outlinewidth\":0,\"ticks\":\"\"}}}],\"bar\":[{\"error_x\":{\"color\":\"#2a3f5f\"},\"error_y\":{\"color\":\"#2a3f5f\"},\"marker\":{\"line\":{\"color\":\"#E5ECF6\",\"width\":0.5},\"pattern\":{\"fillmode\":\"overlay\",\"size\":10,\"solidity\":0.2}},\"type\":\"bar\"}],\"scattergeo\":[{\"type\":\"scattergeo\",\"marker\":{\"colorbar\":{\"outlinewidth\":0,\"ticks\":\"\"}}}],\"scatterpolar\":[{\"type\":\"scatterpolar\",\"marker\":{\"colorbar\":{\"outlinewidth\":0,\"ticks\":\"\"}}}],\"histogram\":[{\"marker\":{\"pattern\":{\"fillmode\":\"overlay\",\"size\":10,\"solidity\":0.2}},\"type\":\"histogram\"}],\"scattergl\":[{\"type\":\"scattergl\",\"marker\":{\"colorbar\":{\"outlinewidth\":0,\"ticks\":\"\"}}}],\"scatter3d\":[{\"type\":\"scatter3d\",\"line\":{\"colorbar\":{\"outlinewidth\":0,\"ticks\":\"\"}},\"marker\":{\"colorbar\":{\"outlinewidth\":0,\"ticks\":\"\"}}}],\"scattermapbox\":[{\"type\":\"scattermapbox\",\"marker\":{\"colorbar\":{\"outlinewidth\":0,\"ticks\":\"\"}}}],\"scatterternary\":[{\"type\":\"scatterternary\",\"marker\":{\"colorbar\":{\"outlinewidth\":0,\"ticks\":\"\"}}}],\"scattercarpet\":[{\"type\":\"scattercarpet\",\"marker\":{\"colorbar\":{\"outlinewidth\":0,\"ticks\":\"\"}}}],\"carpet\":[{\"aaxis\":{\"endlinecolor\":\"#2a3f5f\",\"gridcolor\":\"white\",\"linecolor\":\"white\",\"minorgridcolor\":\"white\",\"startlinecolor\":\"#2a3f5f\"},\"baxis\":{\"endlinecolor\":\"#2a3f5f\",\"gridcolor\":\"white\",\"linecolor\":\"white\",\"minorgridcolor\":\"white\",\"startlinecolor\":\"#2a3f5f\"},\"type\":\"carpet\"}],\"table\":[{\"cells\":{\"fill\":{\"color\":\"#EBF0F8\"},\"line\":{\"color\":\"white\"}},\"header\":{\"fill\":{\"color\":\"#C8D4E3\"},\"line\":{\"color\":\"white\"}},\"type\":\"table\"}],\"barpolar\":[{\"marker\":{\"line\":{\"color\":\"#E5ECF6\",\"width\":0.5},\"pattern\":{\"fillmode\":\"overlay\",\"size\":10,\"solidity\":0.2}},\"type\":\"barpolar\"}],\"pie\":[{\"automargin\":true,\"type\":\"pie\"}]},\"layout\":{\"autotypenumbers\":\"strict\",\"colorway\":[\"#636efa\",\"#EF553B\",\"#00cc96\",\"#ab63fa\",\"#FFA15A\",\"#19d3f3\",\"#FF6692\",\"#B6E880\",\"#FF97FF\",\"#FECB52\"],\"font\":{\"color\":\"#2a3f5f\"},\"hovermode\":\"closest\",\"hoverlabel\":{\"align\":\"left\"},\"paper_bgcolor\":\"white\",\"plot_bgcolor\":\"#E5ECF6\",\"polar\":{\"bgcolor\":\"#E5ECF6\",\"angularaxis\":{\"gridcolor\":\"white\",\"linecolor\":\"white\",\"ticks\":\"\"},\"radialaxis\":{\"gridcolor\":\"white\",\"linecolor\":\"white\",\"ticks\":\"\"}},\"ternary\":{\"bgcolor\":\"#E5ECF6\",\"aaxis\":{\"gridcolor\":\"white\",\"linecolor\":\"white\",\"ticks\":\"\"},\"baxis\":{\"gridcolor\":\"white\",\"linecolor\":\"white\",\"ticks\":\"\"},\"caxis\":{\"gridcolor\":\"white\",\"linecolor\":\"white\",\"ticks\":\"\"}},\"coloraxis\":{\"colorbar\":{\"outlinewidth\":0,\"ticks\":\"\"}},\"colorscale\":{\"sequential\":[[0.0,\"#0d0887\"],[0.1111111111111111,\"#46039f\"],[0.2222222222222222,\"#7201a8\"],[0.3333333333333333,\"#9c179e\"],[0.4444444444444444,\"#bd3786\"],[0.5555555555555556,\"#d8576b\"],[0.6666666666666666,\"#ed7953\"],[0.7777777777777778,\"#fb9f3a\"],[0.8888888888888888,\"#fdca26\"],[1.0,\"#f0f921\"]],\"sequentialminus\":[[0.0,\"#0d0887\"],[0.1111111111111111,\"#46039f\"],[0.2222222222222222,\"#7201a8\"],[0.3333333333333333,\"#9c179e\"],[0.4444444444444444,\"#bd3786\"],[0.5555555555555556,\"#d8576b\"],[0.6666666666666666,\"#ed7953\"],[0.7777777777777778,\"#fb9f3a\"],[0.8888888888888888,\"#fdca26\"],[1.0,\"#f0f921\"]],\"diverging\":[[0,\"#8e0152\"],[0.1,\"#c51b7d\"],[0.2,\"#de77ae\"],[0.3,\"#f1b6da\"],[0.4,\"#fde0ef\"],[0.5,\"#f7f7f7\"],[0.6,\"#e6f5d0\"],[0.7,\"#b8e186\"],[0.8,\"#7fbc41\"],[0.9,\"#4d9221\"],[1,\"#276419\"]]},\"xaxis\":{\"gridcolor\":\"white\",\"linecolor\":\"white\",\"ticks\":\"\",\"title\":{\"standoff\":15},\"zerolinecolor\":\"white\",\"automargin\":true,\"zerolinewidth\":2},\"yaxis\":{\"gridcolor\":\"white\",\"linecolor\":\"white\",\"ticks\":\"\",\"title\":{\"standoff\":15},\"zerolinecolor\":\"white\",\"automargin\":true,\"zerolinewidth\":2},\"scene\":{\"xaxis\":{\"backgroundcolor\":\"#E5ECF6\",\"gridcolor\":\"white\",\"linecolor\":\"white\",\"showbackground\":true,\"ticks\":\"\",\"zerolinecolor\":\"white\",\"gridwidth\":2},\"yaxis\":{\"backgroundcolor\":\"#E5ECF6\",\"gridcolor\":\"white\",\"linecolor\":\"white\",\"showbackground\":true,\"ticks\":\"\",\"zerolinecolor\":\"white\",\"gridwidth\":2},\"zaxis\":{\"backgroundcolor\":\"#E5ECF6\",\"gridcolor\":\"white\",\"linecolor\":\"white\",\"showbackground\":true,\"ticks\":\"\",\"zerolinecolor\":\"white\",\"gridwidth\":2}},\"shapedefaults\":{\"line\":{\"color\":\"#2a3f5f\"}},\"annotationdefaults\":{\"arrowcolor\":\"#2a3f5f\",\"arrowhead\":0,\"arrowwidth\":1},\"geo\":{\"bgcolor\":\"white\",\"landcolor\":\"#E5ECF6\",\"subunitcolor\":\"white\",\"showland\":true,\"showlakes\":true,\"lakecolor\":\"white\"},\"title\":{\"x\":0.05},\"mapbox\":{\"style\":\"light\"}}},\"xaxis\":{\"anchor\":\"y\",\"domain\":[0.0,1.0],\"title\":{\"text\":\"aderencia_investimento\"}},\"yaxis\":{\"anchor\":\"x\",\"domain\":[0.0,1.0],\"title\":{\"text\":\"count\"}},\"legend\":{\"tracegroupgap\":0},\"margin\":{\"t\":60},\"barmode\":\"relative\"},                        {\"responsive\": true}                    ).then(function(){\n",
              "                            \n",
              "var gd = document.getElementById('6b198447-a597-43da-b315-e2e7a46abacb');\n",
              "var x = new MutationObserver(function (mutations, observer) {{\n",
              "        var display = window.getComputedStyle(gd).display;\n",
              "        if (!display || display === 'none') {{\n",
              "            console.log([gd, 'removed!']);\n",
              "            Plotly.purge(gd);\n",
              "            observer.disconnect();\n",
              "        }}\n",
              "}});\n",
              "\n",
              "// Listen for the removal of the full notebook cells\n",
              "var notebookContainer = gd.closest('#notebook-container');\n",
              "if (notebookContainer) {{\n",
              "    x.observe(notebookContainer, {childList: true});\n",
              "}}\n",
              "\n",
              "// Listen for the clearing of the current output cell\n",
              "var outputEl = gd.closest('.output');\n",
              "if (outputEl) {{\n",
              "    x.observe(outputEl, {childList: true});\n",
              "}}\n",
              "\n",
              "                        })                };                            </script>        </div>\n",
              "</body>\n",
              "</html>"
            ]
          },
          "metadata": {}
        }
      ]
    },
    {
      "cell_type": "markdown",
      "source": [],
      "metadata": {
        "id": "cgVPW7rWlLL1"
      }
    },
    {
      "cell_type": "code",
      "source": [
        "px.histogram(data, x='estado_civil', text_auto=True, color='aderencia_investimento', barmode='group')"
      ],
      "metadata": {
        "id": "9RV6oNcKM4Or",
        "colab": {
          "base_uri": "https://localhost:8080/",
          "height": 542
        },
        "outputId": "f241d28a-27b9-4488-88c0-acd13bcc179f"
      },
      "execution_count": null,
      "outputs": [
        {
          "output_type": "display_data",
          "data": {
            "text/html": [
              "<html>\n",
              "<head><meta charset=\"utf-8\" /></head>\n",
              "<body>\n",
              "    <div>            <script src=\"https://cdnjs.cloudflare.com/ajax/libs/mathjax/2.7.5/MathJax.js?config=TeX-AMS-MML_SVG\"></script><script type=\"text/javascript\">if (window.MathJax && window.MathJax.Hub && window.MathJax.Hub.Config) {window.MathJax.Hub.Config({SVG: {font: \"STIX-Web\"}});}</script>                <script type=\"text/javascript\">window.PlotlyConfig = {MathJaxConfig: 'local'};</script>\n",
              "        <script charset=\"utf-8\" src=\"https://cdn.plot.ly/plotly-2.24.1.min.js\"></script>                <div id=\"3e515085-2a9a-4407-93fc-249e4d44aa58\" class=\"plotly-graph-div\" style=\"height:525px; width:100%;\"></div>            <script type=\"text/javascript\">                                    window.PLOTLYENV=window.PLOTLYENV || {};                                    if (document.getElementById(\"3e515085-2a9a-4407-93fc-249e4d44aa58\")) {                    Plotly.newPlot(                        \"3e515085-2a9a-4407-93fc-249e4d44aa58\",                        [{\"alignmentgroup\":\"True\",\"bingroup\":\"x\",\"hovertemplate\":\"aderencia_investimento=sim\\u003cbr\\u003eestado_civil=%{x}\\u003cbr\\u003ecount=%{y}\\u003cextra\\u003e\\u003c\\u002fextra\\u003e\",\"legendgroup\":\"sim\",\"marker\":{\"color\":\"#636efa\",\"pattern\":{\"shape\":\"\"}},\"name\":\"sim\",\"offsetgroup\":\"sim\",\"orientation\":\"v\",\"showlegend\":true,\"texttemplate\":\"%{value}\",\"x\":[\"casado (a)\",\"casado (a)\",\"divorciado (a)\",\"casado (a)\",\"solteiro (a)\",\"solteiro (a)\",\"casado (a)\",\"divorciado (a)\",\"casado (a)\",\"divorciado (a)\",\"casado (a)\",\"solteiro (a)\",\"solteiro (a)\",\"casado (a)\",\"solteiro (a)\",\"casado (a)\",\"casado (a)\",\"casado (a)\",\"casado (a)\",\"casado (a)\",\"casado (a)\",\"casado (a)\",\"casado (a)\",\"solteiro (a)\",\"solteiro (a)\",\"divorciado (a)\",\"divorciado (a)\",\"solteiro (a)\",\"divorciado (a)\",\"solteiro (a)\",\"solteiro (a)\",\"solteiro (a)\",\"solteiro (a)\",\"solteiro (a)\",\"casado (a)\",\"casado (a)\",\"casado (a)\",\"casado (a)\",\"casado (a)\",\"solteiro (a)\",\"solteiro (a)\",\"casado (a)\",\"solteiro (a)\",\"casado (a)\",\"casado (a)\",\"casado (a)\",\"divorciado (a)\",\"casado (a)\",\"solteiro (a)\",\"solteiro (a)\",\"casado (a)\",\"casado (a)\",\"casado (a)\",\"casado (a)\",\"solteiro (a)\",\"casado (a)\",\"divorciado (a)\",\"casado (a)\",\"divorciado (a)\",\"casado (a)\",\"solteiro (a)\",\"casado (a)\",\"casado (a)\",\"divorciado (a)\",\"divorciado (a)\",\"solteiro (a)\",\"casado (a)\",\"casado (a)\",\"casado (a)\",\"solteiro (a)\",\"divorciado (a)\",\"solteiro (a)\",\"casado (a)\",\"casado (a)\",\"casado (a)\",\"divorciado (a)\",\"divorciado (a)\",\"casado (a)\",\"solteiro (a)\",\"casado (a)\",\"solteiro (a)\",\"casado (a)\",\"casado (a)\",\"casado (a)\",\"casado (a)\",\"casado (a)\",\"divorciado (a)\",\"divorciado (a)\",\"casado (a)\",\"divorciado (a)\",\"casado (a)\",\"casado (a)\",\"casado (a)\",\"solteiro (a)\",\"casado (a)\",\"casado (a)\",\"casado (a)\",\"solteiro (a)\",\"solteiro (a)\",\"solteiro (a)\",\"casado (a)\",\"casado (a)\",\"divorciado (a)\",\"casado (a)\",\"solteiro (a)\",\"casado (a)\",\"casado (a)\",\"solteiro (a)\",\"divorciado (a)\",\"solteiro (a)\",\"casado (a)\",\"solteiro (a)\",\"casado (a)\",\"solteiro (a)\",\"casado (a)\",\"solteiro (a)\",\"solteiro (a)\",\"casado (a)\",\"casado (a)\",\"casado (a)\",\"casado (a)\",\"solteiro (a)\",\"divorciado (a)\",\"solteiro (a)\",\"solteiro (a)\",\"solteiro (a)\",\"casado (a)\",\"solteiro (a)\",\"solteiro (a)\",\"solteiro (a)\",\"solteiro (a)\",\"casado (a)\",\"solteiro (a)\",\"divorciado (a)\",\"casado (a)\",\"casado (a)\",\"casado (a)\",\"divorciado (a)\",\"casado (a)\",\"solteiro (a)\",\"casado (a)\",\"casado (a)\",\"solteiro (a)\",\"casado (a)\",\"solteiro (a)\",\"casado (a)\",\"casado (a)\",\"solteiro (a)\",\"casado (a)\",\"solteiro (a)\",\"solteiro (a)\",\"casado (a)\",\"solteiro (a)\",\"casado (a)\",\"solteiro (a)\",\"divorciado (a)\",\"solteiro (a)\",\"solteiro (a)\",\"solteiro (a)\",\"casado (a)\",\"casado (a)\",\"casado (a)\",\"casado (a)\",\"solteiro (a)\",\"casado (a)\",\"casado (a)\",\"casado (a)\",\"casado (a)\",\"casado (a)\",\"solteiro (a)\",\"solteiro (a)\",\"casado (a)\",\"casado (a)\",\"casado (a)\",\"solteiro (a)\",\"casado (a)\",\"casado (a)\",\"divorciado (a)\",\"casado (a)\",\"casado (a)\",\"solteiro (a)\",\"casado (a)\",\"divorciado (a)\",\"casado (a)\",\"casado (a)\",\"solteiro (a)\",\"solteiro (a)\",\"divorciado (a)\",\"casado (a)\",\"casado (a)\",\"casado (a)\",\"casado (a)\",\"divorciado (a)\",\"divorciado (a)\",\"solteiro (a)\",\"solteiro (a)\",\"casado (a)\",\"solteiro (a)\",\"solteiro (a)\",\"casado (a)\",\"casado (a)\",\"casado (a)\",\"casado (a)\",\"casado (a)\",\"solteiro (a)\",\"solteiro (a)\",\"divorciado (a)\",\"solteiro (a)\",\"divorciado (a)\",\"casado (a)\",\"solteiro (a)\",\"casado (a)\",\"divorciado (a)\",\"solteiro (a)\",\"casado (a)\",\"casado (a)\",\"solteiro (a)\",\"casado (a)\",\"casado (a)\",\"divorciado (a)\",\"casado (a)\",\"solteiro (a)\",\"casado (a)\",\"casado (a)\",\"casado (a)\",\"divorciado (a)\",\"casado (a)\",\"solteiro (a)\",\"casado (a)\",\"casado (a)\",\"casado (a)\",\"divorciado (a)\",\"casado (a)\",\"solteiro (a)\",\"casado (a)\",\"casado (a)\",\"casado (a)\",\"casado (a)\",\"casado (a)\",\"casado (a)\",\"solteiro (a)\",\"casado (a)\",\"casado (a)\",\"casado (a)\",\"solteiro (a)\",\"casado (a)\",\"casado (a)\",\"casado (a)\",\"casado (a)\",\"divorciado (a)\",\"solteiro (a)\",\"casado (a)\",\"casado (a)\",\"casado (a)\",\"divorciado (a)\",\"casado (a)\",\"divorciado (a)\",\"solteiro (a)\",\"casado (a)\",\"solteiro (a)\",\"solteiro (a)\",\"casado (a)\",\"casado (a)\",\"casado (a)\",\"casado (a)\",\"solteiro (a)\",\"solteiro (a)\",\"casado (a)\",\"casado (a)\",\"casado (a)\",\"solteiro (a)\",\"solteiro (a)\",\"casado (a)\",\"casado (a)\",\"casado (a)\",\"solteiro (a)\",\"casado (a)\",\"casado (a)\",\"casado (a)\",\"casado (a)\",\"divorciado (a)\",\"solteiro (a)\",\"casado (a)\",\"divorciado (a)\",\"solteiro (a)\",\"solteiro (a)\",\"casado (a)\",\"casado (a)\",\"casado (a)\",\"casado (a)\",\"casado (a)\",\"solteiro (a)\",\"solteiro (a)\",\"casado (a)\",\"solteiro (a)\",\"solteiro (a)\",\"solteiro (a)\",\"divorciado (a)\",\"solteiro (a)\",\"casado (a)\",\"divorciado (a)\",\"casado (a)\",\"casado (a)\",\"casado (a)\",\"casado (a)\",\"casado (a)\",\"solteiro (a)\",\"casado (a)\",\"casado (a)\",\"casado (a)\",\"casado (a)\",\"solteiro (a)\",\"casado (a)\",\"solteiro (a)\",\"solteiro (a)\",\"divorciado (a)\",\"solteiro (a)\",\"solteiro (a)\",\"casado (a)\",\"casado (a)\",\"divorciado (a)\",\"casado (a)\",\"solteiro (a)\",\"casado (a)\",\"divorciado (a)\",\"solteiro (a)\",\"casado (a)\",\"casado (a)\",\"divorciado (a)\",\"casado (a)\",\"casado (a)\",\"casado (a)\",\"solteiro (a)\",\"casado (a)\",\"solteiro (a)\",\"solteiro (a)\",\"solteiro (a)\",\"casado (a)\",\"casado (a)\",\"solteiro (a)\",\"solteiro (a)\",\"casado (a)\",\"casado (a)\",\"solteiro (a)\",\"solteiro (a)\",\"solteiro (a)\",\"casado (a)\",\"casado (a)\",\"casado (a)\",\"casado (a)\",\"divorciado (a)\",\"solteiro (a)\",\"divorciado (a)\",\"casado (a)\",\"divorciado (a)\",\"casado (a)\",\"solteiro (a)\",\"solteiro (a)\",\"divorciado (a)\",\"casado (a)\",\"solteiro (a)\",\"solteiro (a)\",\"casado (a)\",\"casado (a)\",\"casado (a)\",\"divorciado (a)\",\"solteiro (a)\",\"solteiro (a)\",\"solteiro (a)\",\"casado (a)\",\"solteiro (a)\",\"casado (a)\",\"casado (a)\",\"casado (a)\",\"solteiro (a)\",\"casado (a)\",\"casado (a)\",\"solteiro (a)\",\"solteiro (a)\",\"divorciado (a)\",\"solteiro (a)\",\"divorciado (a)\",\"divorciado (a)\",\"casado (a)\",\"divorciado (a)\",\"casado (a)\",\"divorciado (a)\",\"divorciado (a)\",\"divorciado (a)\",\"solteiro (a)\",\"divorciado (a)\",\"divorciado (a)\",\"solteiro (a)\",\"solteiro (a)\",\"solteiro (a)\",\"casado (a)\",\"divorciado (a)\",\"solteiro (a)\",\"casado (a)\",\"divorciado (a)\",\"solteiro (a)\",\"solteiro (a)\",\"casado (a)\",\"solteiro (a)\",\"solteiro (a)\",\"solteiro (a)\",\"solteiro (a)\",\"casado (a)\",\"casado (a)\",\"solteiro (a)\",\"divorciado (a)\",\"solteiro (a)\",\"casado (a)\",\"casado (a)\",\"casado (a)\",\"casado (a)\",\"solteiro (a)\",\"divorciado (a)\",\"casado (a)\",\"casado (a)\",\"casado (a)\",\"solteiro (a)\",\"casado (a)\",\"casado (a)\",\"solteiro (a)\",\"solteiro (a)\",\"casado (a)\",\"solteiro (a)\",\"casado (a)\",\"casado (a)\",\"solteiro (a)\",\"casado (a)\",\"divorciado (a)\",\"casado (a)\",\"divorciado (a)\",\"solteiro (a)\",\"solteiro (a)\",\"casado (a)\",\"casado (a)\",\"solteiro (a)\",\"divorciado (a)\",\"casado (a)\",\"divorciado (a)\",\"casado (a)\",\"solteiro (a)\",\"casado (a)\",\"solteiro (a)\",\"divorciado (a)\",\"divorciado (a)\",\"casado (a)\",\"casado (a)\",\"solteiro (a)\",\"solteiro (a)\",\"casado (a)\",\"casado (a)\",\"casado (a)\",\"casado (a)\",\"divorciado (a)\",\"solteiro (a)\",\"casado (a)\",\"solteiro (a)\",\"casado (a)\",\"casado (a)\",\"divorciado (a)\",\"casado (a)\",\"casado (a)\",\"casado (a)\",\"solteiro (a)\",\"casado (a)\",\"solteiro (a)\",\"casado (a)\",\"casado (a)\",\"casado (a)\",\"solteiro (a)\",\"divorciado (a)\",\"casado (a)\",\"casado (a)\",\"casado (a)\",\"casado (a)\",\"casado (a)\",\"casado (a)\",\"solteiro (a)\",\"solteiro (a)\",\"casado (a)\",\"casado (a)\",\"casado (a)\",\"solteiro (a)\",\"casado (a)\",\"casado (a)\",\"casado (a)\",\"divorciado (a)\",\"casado (a)\",\"solteiro (a)\",\"casado (a)\",\"casado (a)\",\"divorciado (a)\",\"casado (a)\",\"solteiro (a)\",\"solteiro (a)\",\"solteiro (a)\",\"casado (a)\",\"solteiro (a)\"],\"xaxis\":\"x\",\"yaxis\":\"y\",\"type\":\"histogram\"},{\"alignmentgroup\":\"True\",\"bingroup\":\"x\",\"hovertemplate\":\"aderencia_investimento=nao\\u003cbr\\u003eestado_civil=%{x}\\u003cbr\\u003ecount=%{y}\\u003cextra\\u003e\\u003c\\u002fextra\\u003e\",\"legendgroup\":\"nao\",\"marker\":{\"color\":\"#EF553B\",\"pattern\":{\"shape\":\"\"}},\"name\":\"nao\",\"offsetgroup\":\"nao\",\"orientation\":\"v\",\"showlegend\":true,\"texttemplate\":\"%{value}\",\"x\":[\"solteiro (a)\",\"casado (a)\",\"casado (a)\",\"casado (a)\",\"divorciado (a)\",\"casado (a)\",\"casado (a)\",\"solteiro (a)\",\"casado (a)\",\"casado (a)\",\"casado (a)\",\"divorciado (a)\",\"solteiro (a)\",\"casado (a)\",\"casado (a)\",\"casado (a)\",\"casado (a)\",\"solteiro (a)\",\"casado (a)\",\"casado (a)\",\"casado (a)\",\"casado (a)\",\"divorciado (a)\",\"divorciado (a)\",\"casado (a)\",\"casado (a)\",\"casado (a)\",\"casado (a)\",\"casado (a)\",\"divorciado (a)\",\"casado (a)\",\"casado (a)\",\"casado (a)\",\"solteiro (a)\",\"casado (a)\",\"solteiro (a)\",\"divorciado (a)\",\"solteiro (a)\",\"casado (a)\",\"casado (a)\",\"casado (a)\",\"casado (a)\",\"divorciado (a)\",\"casado (a)\",\"casado (a)\",\"casado (a)\",\"casado (a)\",\"casado (a)\",\"casado (a)\",\"casado (a)\",\"solteiro (a)\",\"casado (a)\",\"casado (a)\",\"casado (a)\",\"solteiro (a)\",\"casado (a)\",\"casado (a)\",\"casado (a)\",\"divorciado (a)\",\"solteiro (a)\",\"casado (a)\",\"casado (a)\",\"solteiro (a)\",\"casado (a)\",\"casado (a)\",\"casado (a)\",\"solteiro (a)\",\"casado (a)\",\"solteiro (a)\",\"casado (a)\",\"casado (a)\",\"casado (a)\",\"solteiro (a)\",\"casado (a)\",\"casado (a)\",\"solteiro (a)\",\"casado (a)\",\"solteiro (a)\",\"casado (a)\",\"casado (a)\",\"casado (a)\",\"casado (a)\",\"casado (a)\",\"casado (a)\",\"casado (a)\",\"casado (a)\",\"casado (a)\",\"casado (a)\",\"casado (a)\",\"divorciado (a)\",\"casado (a)\",\"casado (a)\",\"casado (a)\",\"casado (a)\",\"solteiro (a)\",\"casado (a)\",\"casado (a)\",\"casado (a)\",\"casado (a)\",\"casado (a)\",\"casado (a)\",\"casado (a)\",\"casado (a)\",\"casado (a)\",\"casado (a)\",\"casado (a)\",\"casado (a)\",\"solteiro (a)\",\"solteiro (a)\",\"solteiro (a)\",\"solteiro (a)\",\"solteiro (a)\",\"casado (a)\",\"casado (a)\",\"casado (a)\",\"casado (a)\",\"casado (a)\",\"casado (a)\",\"casado (a)\",\"casado (a)\",\"casado (a)\",\"divorciado (a)\",\"casado (a)\",\"casado (a)\",\"casado (a)\",\"casado (a)\",\"casado (a)\",\"solteiro (a)\",\"casado (a)\",\"solteiro (a)\",\"casado (a)\",\"casado (a)\",\"casado (a)\",\"casado (a)\",\"casado (a)\",\"casado (a)\",\"solteiro (a)\",\"casado (a)\",\"casado (a)\",\"casado (a)\",\"solteiro (a)\",\"divorciado (a)\",\"casado (a)\",\"solteiro (a)\",\"divorciado (a)\",\"casado (a)\",\"solteiro (a)\",\"casado (a)\",\"solteiro (a)\",\"solteiro (a)\",\"casado (a)\",\"solteiro (a)\",\"divorciado (a)\",\"divorciado (a)\",\"casado (a)\",\"solteiro (a)\",\"casado (a)\",\"solteiro (a)\",\"solteiro (a)\",\"casado (a)\",\"casado (a)\",\"casado (a)\",\"solteiro (a)\",\"casado (a)\",\"solteiro (a)\",\"casado (a)\",\"casado (a)\",\"casado (a)\",\"casado (a)\",\"divorciado (a)\",\"solteiro (a)\",\"solteiro (a)\",\"casado (a)\",\"casado (a)\",\"divorciado (a)\",\"casado (a)\",\"solteiro (a)\",\"casado (a)\",\"solteiro (a)\",\"divorciado (a)\",\"casado (a)\",\"solteiro (a)\",\"solteiro (a)\",\"casado (a)\",\"casado (a)\",\"casado (a)\",\"solteiro (a)\",\"casado (a)\",\"solteiro (a)\",\"divorciado (a)\",\"divorciado (a)\",\"casado (a)\",\"casado (a)\",\"solteiro (a)\",\"casado (a)\",\"casado (a)\",\"casado (a)\",\"solteiro (a)\",\"divorciado (a)\",\"divorciado (a)\",\"casado (a)\",\"solteiro (a)\",\"casado (a)\",\"casado (a)\",\"solteiro (a)\",\"casado (a)\",\"divorciado (a)\",\"solteiro (a)\",\"casado (a)\",\"casado (a)\",\"casado (a)\",\"casado (a)\",\"casado (a)\",\"casado (a)\",\"casado (a)\",\"casado (a)\",\"solteiro (a)\",\"solteiro (a)\",\"solteiro (a)\",\"solteiro (a)\",\"solteiro (a)\",\"divorciado (a)\",\"solteiro (a)\",\"casado (a)\",\"divorciado (a)\",\"casado (a)\",\"casado (a)\",\"casado (a)\",\"solteiro (a)\",\"casado (a)\",\"solteiro (a)\",\"solteiro (a)\",\"casado (a)\",\"divorciado (a)\",\"solteiro (a)\",\"casado (a)\",\"casado (a)\",\"casado (a)\",\"solteiro (a)\",\"solteiro (a)\",\"casado (a)\",\"divorciado (a)\",\"divorciado (a)\",\"casado (a)\",\"casado (a)\",\"casado (a)\",\"casado (a)\",\"casado (a)\",\"casado (a)\",\"casado (a)\",\"solteiro (a)\",\"solteiro (a)\",\"casado (a)\",\"casado (a)\",\"casado (a)\",\"casado (a)\",\"casado (a)\",\"casado (a)\",\"divorciado (a)\",\"casado (a)\",\"casado (a)\",\"divorciado (a)\",\"solteiro (a)\",\"solteiro (a)\",\"casado (a)\",\"casado (a)\",\"solteiro (a)\",\"solteiro (a)\",\"casado (a)\",\"casado (a)\",\"casado (a)\",\"casado (a)\",\"solteiro (a)\",\"casado (a)\",\"solteiro (a)\",\"divorciado (a)\",\"solteiro (a)\",\"casado (a)\",\"casado (a)\",\"casado (a)\",\"divorciado (a)\",\"casado (a)\",\"casado (a)\",\"casado (a)\",\"solteiro (a)\",\"solteiro (a)\",\"divorciado (a)\",\"casado (a)\",\"casado (a)\",\"solteiro (a)\",\"casado (a)\",\"solteiro (a)\",\"solteiro (a)\",\"solteiro (a)\",\"casado (a)\",\"casado (a)\",\"casado (a)\",\"solteiro (a)\",\"solteiro (a)\",\"casado (a)\",\"casado (a)\",\"solteiro (a)\",\"divorciado (a)\",\"casado (a)\",\"casado (a)\",\"divorciado (a)\",\"solteiro (a)\",\"solteiro (a)\",\"solteiro (a)\",\"casado (a)\",\"casado (a)\",\"casado (a)\",\"casado (a)\",\"casado (a)\",\"solteiro (a)\",\"solteiro (a)\",\"solteiro (a)\",\"casado (a)\",\"solteiro (a)\",\"casado (a)\",\"casado (a)\",\"solteiro (a)\",\"solteiro (a)\",\"solteiro (a)\",\"casado (a)\",\"divorciado (a)\",\"divorciado (a)\",\"solteiro (a)\",\"casado (a)\",\"casado (a)\",\"casado (a)\",\"casado (a)\",\"solteiro (a)\",\"solteiro (a)\",\"casado (a)\",\"solteiro (a)\",\"casado (a)\",\"casado (a)\",\"solteiro (a)\",\"casado (a)\",\"casado (a)\",\"casado (a)\",\"casado (a)\",\"casado (a)\",\"casado (a)\",\"casado (a)\",\"casado (a)\",\"casado (a)\",\"casado (a)\",\"solteiro (a)\",\"casado (a)\",\"solteiro (a)\",\"solteiro (a)\",\"casado (a)\",\"solteiro (a)\",\"casado (a)\",\"casado (a)\",\"casado (a)\",\"casado (a)\",\"divorciado (a)\",\"solteiro (a)\",\"casado (a)\",\"solteiro (a)\",\"casado (a)\",\"solteiro (a)\",\"casado (a)\",\"casado (a)\",\"casado (a)\",\"casado (a)\",\"divorciado (a)\",\"solteiro (a)\",\"casado (a)\",\"solteiro (a)\",\"casado (a)\",\"solteiro (a)\",\"casado (a)\",\"casado (a)\",\"casado (a)\",\"casado (a)\",\"casado (a)\",\"solteiro (a)\",\"casado (a)\",\"casado (a)\",\"casado (a)\",\"solteiro (a)\",\"divorciado (a)\",\"solteiro (a)\",\"casado (a)\",\"casado (a)\",\"casado (a)\",\"solteiro (a)\",\"casado (a)\",\"casado (a)\",\"solteiro (a)\",\"casado (a)\",\"solteiro (a)\",\"casado (a)\",\"casado (a)\",\"casado (a)\",\"casado (a)\",\"casado (a)\",\"solteiro (a)\",\"casado (a)\",\"solteiro (a)\",\"casado (a)\",\"casado (a)\",\"casado (a)\",\"divorciado (a)\",\"casado (a)\",\"casado (a)\",\"casado (a)\",\"divorciado (a)\",\"casado (a)\",\"casado (a)\",\"solteiro (a)\",\"casado (a)\",\"solteiro (a)\",\"casado (a)\",\"divorciado (a)\",\"casado (a)\",\"casado (a)\",\"casado (a)\",\"divorciado (a)\",\"casado (a)\",\"casado (a)\",\"casado (a)\",\"solteiro (a)\",\"solteiro (a)\",\"casado (a)\",\"solteiro (a)\",\"casado (a)\",\"casado (a)\",\"solteiro (a)\",\"casado (a)\",\"solteiro (a)\",\"casado (a)\",\"casado (a)\",\"casado (a)\",\"casado (a)\",\"casado (a)\",\"casado (a)\",\"casado (a)\",\"casado (a)\",\"casado (a)\",\"solteiro (a)\",\"divorciado (a)\",\"casado (a)\",\"solteiro (a)\",\"divorciado (a)\",\"solteiro (a)\",\"divorciado (a)\",\"casado (a)\",\"casado (a)\",\"casado (a)\",\"casado (a)\",\"divorciado (a)\",\"casado (a)\",\"solteiro (a)\",\"divorciado (a)\",\"casado (a)\",\"solteiro (a)\",\"casado (a)\",\"divorciado (a)\",\"casado (a)\",\"casado (a)\",\"casado (a)\",\"solteiro (a)\",\"casado (a)\",\"solteiro (a)\",\"solteiro (a)\",\"casado (a)\",\"casado (a)\",\"divorciado (a)\",\"solteiro (a)\",\"solteiro (a)\",\"casado (a)\",\"solteiro (a)\",\"solteiro (a)\",\"divorciado (a)\",\"casado (a)\",\"divorciado (a)\",\"casado (a)\",\"solteiro (a)\",\"casado (a)\",\"divorciado (a)\",\"casado (a)\",\"casado (a)\",\"casado (a)\",\"divorciado (a)\",\"casado (a)\",\"casado (a)\",\"divorciado (a)\",\"casado (a)\",\"casado (a)\",\"casado (a)\",\"solteiro (a)\",\"casado (a)\",\"divorciado (a)\",\"casado (a)\",\"casado (a)\",\"casado (a)\",\"casado (a)\",\"casado (a)\",\"casado (a)\",\"solteiro (a)\",\"casado (a)\",\"solteiro (a)\",\"casado (a)\",\"solteiro (a)\",\"solteiro (a)\",\"solteiro (a)\",\"casado (a)\",\"casado (a)\",\"casado (a)\",\"casado (a)\",\"casado (a)\",\"solteiro (a)\",\"casado (a)\",\"casado (a)\",\"solteiro (a)\",\"solteiro (a)\",\"casado (a)\",\"casado (a)\",\"divorciado (a)\",\"casado (a)\",\"divorciado (a)\",\"casado (a)\",\"solteiro (a)\",\"casado (a)\",\"divorciado (a)\",\"casado (a)\",\"casado (a)\",\"solteiro (a)\",\"casado (a)\",\"casado (a)\",\"divorciado (a)\",\"solteiro (a)\",\"divorciado (a)\",\"casado (a)\",\"solteiro (a)\",\"solteiro (a)\",\"casado (a)\",\"solteiro (a)\",\"casado (a)\",\"divorciado (a)\",\"casado (a)\",\"casado (a)\",\"casado (a)\",\"casado (a)\",\"casado (a)\",\"casado (a)\",\"solteiro (a)\",\"casado (a)\",\"casado (a)\",\"casado (a)\",\"solteiro (a)\",\"casado (a)\",\"casado (a)\",\"casado (a)\",\"solteiro (a)\",\"divorciado (a)\",\"solteiro (a)\",\"casado (a)\",\"solteiro (a)\",\"casado (a)\",\"solteiro (a)\",\"casado (a)\",\"casado (a)\",\"casado (a)\",\"casado (a)\",\"divorciado (a)\",\"casado (a)\",\"casado (a)\",\"divorciado (a)\",\"casado (a)\",\"casado (a)\",\"casado (a)\",\"casado (a)\",\"casado (a)\",\"solteiro (a)\",\"divorciado (a)\",\"casado (a)\",\"casado (a)\",\"casado (a)\",\"solteiro (a)\",\"casado (a)\",\"casado (a)\",\"casado (a)\",\"casado (a)\",\"casado (a)\",\"solteiro (a)\",\"solteiro (a)\",\"solteiro (a)\",\"casado (a)\",\"divorciado (a)\",\"casado (a)\",\"divorciado (a)\",\"casado (a)\",\"casado (a)\",\"solteiro (a)\",\"divorciado (a)\",\"casado (a)\",\"solteiro (a)\",\"casado (a)\",\"casado (a)\",\"solteiro (a)\",\"casado (a)\",\"casado (a)\",\"casado (a)\",\"casado (a)\",\"divorciado (a)\",\"casado (a)\",\"casado (a)\",\"casado (a)\",\"solteiro (a)\",\"divorciado (a)\",\"solteiro (a)\",\"casado (a)\",\"casado (a)\",\"solteiro (a)\",\"casado (a)\",\"casado (a)\",\"casado (a)\",\"casado (a)\",\"casado (a)\",\"casado (a)\",\"solteiro (a)\",\"solteiro (a)\",\"divorciado (a)\",\"divorciado (a)\",\"casado (a)\",\"casado (a)\",\"solteiro (a)\",\"divorciado (a)\",\"casado (a)\",\"solteiro (a)\",\"casado (a)\",\"casado (a)\",\"casado (a)\",\"solteiro (a)\",\"casado (a)\",\"casado (a)\",\"solteiro (a)\",\"casado (a)\",\"solteiro (a)\",\"solteiro (a)\",\"casado (a)\",\"casado (a)\",\"casado (a)\",\"casado (a)\",\"divorciado (a)\",\"divorciado (a)\",\"casado (a)\",\"casado (a)\",\"casado (a)\",\"solteiro (a)\",\"casado (a)\",\"divorciado (a)\",\"divorciado (a)\",\"divorciado (a)\",\"casado (a)\",\"solteiro (a)\",\"divorciado (a)\",\"solteiro (a)\",\"casado (a)\",\"casado (a)\",\"solteiro (a)\",\"casado (a)\",\"divorciado (a)\",\"casado (a)\",\"casado (a)\",\"casado (a)\",\"solteiro (a)\",\"casado (a)\",\"casado (a)\",\"casado (a)\",\"casado (a)\",\"casado (a)\",\"casado (a)\",\"casado (a)\",\"casado (a)\",\"casado (a)\",\"solteiro (a)\",\"casado (a)\",\"divorciado (a)\",\"solteiro (a)\",\"casado (a)\",\"casado (a)\",\"casado (a)\",\"casado (a)\",\"solteiro (a)\",\"casado (a)\",\"casado (a)\",\"solteiro (a)\",\"solteiro (a)\",\"solteiro (a)\",\"casado (a)\",\"casado (a)\",\"casado (a)\",\"casado (a)\",\"solteiro (a)\",\"casado (a)\",\"casado (a)\",\"solteiro (a)\",\"casado (a)\",\"divorciado (a)\",\"solteiro (a)\",\"divorciado (a)\",\"casado (a)\",\"solteiro (a)\",\"casado (a)\",\"casado (a)\",\"casado (a)\",\"solteiro (a)\",\"casado (a)\",\"solteiro (a)\",\"casado (a)\",\"casado (a)\",\"casado (a)\",\"divorciado (a)\",\"casado (a)\",\"solteiro (a)\",\"solteiro (a)\",\"casado (a)\",\"casado (a)\",\"solteiro (a)\",\"casado (a)\",\"casado (a)\",\"divorciado (a)\",\"casado (a)\",\"solteiro (a)\",\"casado (a)\",\"solteiro (a)\",\"casado (a)\",\"divorciado (a)\",\"casado (a)\",\"solteiro (a)\",\"casado (a)\",\"casado (a)\",\"solteiro (a)\",\"casado (a)\",\"solteiro (a)\",\"casado (a)\",\"casado (a)\",\"casado (a)\",\"casado (a)\",\"casado (a)\",\"casado (a)\",\"solteiro (a)\",\"casado (a)\",\"solteiro (a)\",\"casado (a)\",\"casado (a)\",\"casado (a)\",\"solteiro (a)\",\"casado (a)\",\"casado (a)\",\"solteiro (a)\",\"casado (a)\",\"casado (a)\",\"solteiro (a)\",\"casado (a)\",\"divorciado (a)\",\"solteiro (a)\",\"casado (a)\",\"casado (a)\"],\"xaxis\":\"x\",\"yaxis\":\"y\",\"type\":\"histogram\"}],                        {\"template\":{\"data\":{\"histogram2dcontour\":[{\"type\":\"histogram2dcontour\",\"colorbar\":{\"outlinewidth\":0,\"ticks\":\"\"},\"colorscale\":[[0.0,\"#0d0887\"],[0.1111111111111111,\"#46039f\"],[0.2222222222222222,\"#7201a8\"],[0.3333333333333333,\"#9c179e\"],[0.4444444444444444,\"#bd3786\"],[0.5555555555555556,\"#d8576b\"],[0.6666666666666666,\"#ed7953\"],[0.7777777777777778,\"#fb9f3a\"],[0.8888888888888888,\"#fdca26\"],[1.0,\"#f0f921\"]]}],\"choropleth\":[{\"type\":\"choropleth\",\"colorbar\":{\"outlinewidth\":0,\"ticks\":\"\"}}],\"histogram2d\":[{\"type\":\"histogram2d\",\"colorbar\":{\"outlinewidth\":0,\"ticks\":\"\"},\"colorscale\":[[0.0,\"#0d0887\"],[0.1111111111111111,\"#46039f\"],[0.2222222222222222,\"#7201a8\"],[0.3333333333333333,\"#9c179e\"],[0.4444444444444444,\"#bd3786\"],[0.5555555555555556,\"#d8576b\"],[0.6666666666666666,\"#ed7953\"],[0.7777777777777778,\"#fb9f3a\"],[0.8888888888888888,\"#fdca26\"],[1.0,\"#f0f921\"]]}],\"heatmap\":[{\"type\":\"heatmap\",\"colorbar\":{\"outlinewidth\":0,\"ticks\":\"\"},\"colorscale\":[[0.0,\"#0d0887\"],[0.1111111111111111,\"#46039f\"],[0.2222222222222222,\"#7201a8\"],[0.3333333333333333,\"#9c179e\"],[0.4444444444444444,\"#bd3786\"],[0.5555555555555556,\"#d8576b\"],[0.6666666666666666,\"#ed7953\"],[0.7777777777777778,\"#fb9f3a\"],[0.8888888888888888,\"#fdca26\"],[1.0,\"#f0f921\"]]}],\"heatmapgl\":[{\"type\":\"heatmapgl\",\"colorbar\":{\"outlinewidth\":0,\"ticks\":\"\"},\"colorscale\":[[0.0,\"#0d0887\"],[0.1111111111111111,\"#46039f\"],[0.2222222222222222,\"#7201a8\"],[0.3333333333333333,\"#9c179e\"],[0.4444444444444444,\"#bd3786\"],[0.5555555555555556,\"#d8576b\"],[0.6666666666666666,\"#ed7953\"],[0.7777777777777778,\"#fb9f3a\"],[0.8888888888888888,\"#fdca26\"],[1.0,\"#f0f921\"]]}],\"contourcarpet\":[{\"type\":\"contourcarpet\",\"colorbar\":{\"outlinewidth\":0,\"ticks\":\"\"}}],\"contour\":[{\"type\":\"contour\",\"colorbar\":{\"outlinewidth\":0,\"ticks\":\"\"},\"colorscale\":[[0.0,\"#0d0887\"],[0.1111111111111111,\"#46039f\"],[0.2222222222222222,\"#7201a8\"],[0.3333333333333333,\"#9c179e\"],[0.4444444444444444,\"#bd3786\"],[0.5555555555555556,\"#d8576b\"],[0.6666666666666666,\"#ed7953\"],[0.7777777777777778,\"#fb9f3a\"],[0.8888888888888888,\"#fdca26\"],[1.0,\"#f0f921\"]]}],\"surface\":[{\"type\":\"surface\",\"colorbar\":{\"outlinewidth\":0,\"ticks\":\"\"},\"colorscale\":[[0.0,\"#0d0887\"],[0.1111111111111111,\"#46039f\"],[0.2222222222222222,\"#7201a8\"],[0.3333333333333333,\"#9c179e\"],[0.4444444444444444,\"#bd3786\"],[0.5555555555555556,\"#d8576b\"],[0.6666666666666666,\"#ed7953\"],[0.7777777777777778,\"#fb9f3a\"],[0.8888888888888888,\"#fdca26\"],[1.0,\"#f0f921\"]]}],\"mesh3d\":[{\"type\":\"mesh3d\",\"colorbar\":{\"outlinewidth\":0,\"ticks\":\"\"}}],\"scatter\":[{\"fillpattern\":{\"fillmode\":\"overlay\",\"size\":10,\"solidity\":0.2},\"type\":\"scatter\"}],\"parcoords\":[{\"type\":\"parcoords\",\"line\":{\"colorbar\":{\"outlinewidth\":0,\"ticks\":\"\"}}}],\"scatterpolargl\":[{\"type\":\"scatterpolargl\",\"marker\":{\"colorbar\":{\"outlinewidth\":0,\"ticks\":\"\"}}}],\"bar\":[{\"error_x\":{\"color\":\"#2a3f5f\"},\"error_y\":{\"color\":\"#2a3f5f\"},\"marker\":{\"line\":{\"color\":\"#E5ECF6\",\"width\":0.5},\"pattern\":{\"fillmode\":\"overlay\",\"size\":10,\"solidity\":0.2}},\"type\":\"bar\"}],\"scattergeo\":[{\"type\":\"scattergeo\",\"marker\":{\"colorbar\":{\"outlinewidth\":0,\"ticks\":\"\"}}}],\"scatterpolar\":[{\"type\":\"scatterpolar\",\"marker\":{\"colorbar\":{\"outlinewidth\":0,\"ticks\":\"\"}}}],\"histogram\":[{\"marker\":{\"pattern\":{\"fillmode\":\"overlay\",\"size\":10,\"solidity\":0.2}},\"type\":\"histogram\"}],\"scattergl\":[{\"type\":\"scattergl\",\"marker\":{\"colorbar\":{\"outlinewidth\":0,\"ticks\":\"\"}}}],\"scatter3d\":[{\"type\":\"scatter3d\",\"line\":{\"colorbar\":{\"outlinewidth\":0,\"ticks\":\"\"}},\"marker\":{\"colorbar\":{\"outlinewidth\":0,\"ticks\":\"\"}}}],\"scattermapbox\":[{\"type\":\"scattermapbox\",\"marker\":{\"colorbar\":{\"outlinewidth\":0,\"ticks\":\"\"}}}],\"scatterternary\":[{\"type\":\"scatterternary\",\"marker\":{\"colorbar\":{\"outlinewidth\":0,\"ticks\":\"\"}}}],\"scattercarpet\":[{\"type\":\"scattercarpet\",\"marker\":{\"colorbar\":{\"outlinewidth\":0,\"ticks\":\"\"}}}],\"carpet\":[{\"aaxis\":{\"endlinecolor\":\"#2a3f5f\",\"gridcolor\":\"white\",\"linecolor\":\"white\",\"minorgridcolor\":\"white\",\"startlinecolor\":\"#2a3f5f\"},\"baxis\":{\"endlinecolor\":\"#2a3f5f\",\"gridcolor\":\"white\",\"linecolor\":\"white\",\"minorgridcolor\":\"white\",\"startlinecolor\":\"#2a3f5f\"},\"type\":\"carpet\"}],\"table\":[{\"cells\":{\"fill\":{\"color\":\"#EBF0F8\"},\"line\":{\"color\":\"white\"}},\"header\":{\"fill\":{\"color\":\"#C8D4E3\"},\"line\":{\"color\":\"white\"}},\"type\":\"table\"}],\"barpolar\":[{\"marker\":{\"line\":{\"color\":\"#E5ECF6\",\"width\":0.5},\"pattern\":{\"fillmode\":\"overlay\",\"size\":10,\"solidity\":0.2}},\"type\":\"barpolar\"}],\"pie\":[{\"automargin\":true,\"type\":\"pie\"}]},\"layout\":{\"autotypenumbers\":\"strict\",\"colorway\":[\"#636efa\",\"#EF553B\",\"#00cc96\",\"#ab63fa\",\"#FFA15A\",\"#19d3f3\",\"#FF6692\",\"#B6E880\",\"#FF97FF\",\"#FECB52\"],\"font\":{\"color\":\"#2a3f5f\"},\"hovermode\":\"closest\",\"hoverlabel\":{\"align\":\"left\"},\"paper_bgcolor\":\"white\",\"plot_bgcolor\":\"#E5ECF6\",\"polar\":{\"bgcolor\":\"#E5ECF6\",\"angularaxis\":{\"gridcolor\":\"white\",\"linecolor\":\"white\",\"ticks\":\"\"},\"radialaxis\":{\"gridcolor\":\"white\",\"linecolor\":\"white\",\"ticks\":\"\"}},\"ternary\":{\"bgcolor\":\"#E5ECF6\",\"aaxis\":{\"gridcolor\":\"white\",\"linecolor\":\"white\",\"ticks\":\"\"},\"baxis\":{\"gridcolor\":\"white\",\"linecolor\":\"white\",\"ticks\":\"\"},\"caxis\":{\"gridcolor\":\"white\",\"linecolor\":\"white\",\"ticks\":\"\"}},\"coloraxis\":{\"colorbar\":{\"outlinewidth\":0,\"ticks\":\"\"}},\"colorscale\":{\"sequential\":[[0.0,\"#0d0887\"],[0.1111111111111111,\"#46039f\"],[0.2222222222222222,\"#7201a8\"],[0.3333333333333333,\"#9c179e\"],[0.4444444444444444,\"#bd3786\"],[0.5555555555555556,\"#d8576b\"],[0.6666666666666666,\"#ed7953\"],[0.7777777777777778,\"#fb9f3a\"],[0.8888888888888888,\"#fdca26\"],[1.0,\"#f0f921\"]],\"sequentialminus\":[[0.0,\"#0d0887\"],[0.1111111111111111,\"#46039f\"],[0.2222222222222222,\"#7201a8\"],[0.3333333333333333,\"#9c179e\"],[0.4444444444444444,\"#bd3786\"],[0.5555555555555556,\"#d8576b\"],[0.6666666666666666,\"#ed7953\"],[0.7777777777777778,\"#fb9f3a\"],[0.8888888888888888,\"#fdca26\"],[1.0,\"#f0f921\"]],\"diverging\":[[0,\"#8e0152\"],[0.1,\"#c51b7d\"],[0.2,\"#de77ae\"],[0.3,\"#f1b6da\"],[0.4,\"#fde0ef\"],[0.5,\"#f7f7f7\"],[0.6,\"#e6f5d0\"],[0.7,\"#b8e186\"],[0.8,\"#7fbc41\"],[0.9,\"#4d9221\"],[1,\"#276419\"]]},\"xaxis\":{\"gridcolor\":\"white\",\"linecolor\":\"white\",\"ticks\":\"\",\"title\":{\"standoff\":15},\"zerolinecolor\":\"white\",\"automargin\":true,\"zerolinewidth\":2},\"yaxis\":{\"gridcolor\":\"white\",\"linecolor\":\"white\",\"ticks\":\"\",\"title\":{\"standoff\":15},\"zerolinecolor\":\"white\",\"automargin\":true,\"zerolinewidth\":2},\"scene\":{\"xaxis\":{\"backgroundcolor\":\"#E5ECF6\",\"gridcolor\":\"white\",\"linecolor\":\"white\",\"showbackground\":true,\"ticks\":\"\",\"zerolinecolor\":\"white\",\"gridwidth\":2},\"yaxis\":{\"backgroundcolor\":\"#E5ECF6\",\"gridcolor\":\"white\",\"linecolor\":\"white\",\"showbackground\":true,\"ticks\":\"\",\"zerolinecolor\":\"white\",\"gridwidth\":2},\"zaxis\":{\"backgroundcolor\":\"#E5ECF6\",\"gridcolor\":\"white\",\"linecolor\":\"white\",\"showbackground\":true,\"ticks\":\"\",\"zerolinecolor\":\"white\",\"gridwidth\":2}},\"shapedefaults\":{\"line\":{\"color\":\"#2a3f5f\"}},\"annotationdefaults\":{\"arrowcolor\":\"#2a3f5f\",\"arrowhead\":0,\"arrowwidth\":1},\"geo\":{\"bgcolor\":\"white\",\"landcolor\":\"#E5ECF6\",\"subunitcolor\":\"white\",\"showland\":true,\"showlakes\":true,\"lakecolor\":\"white\"},\"title\":{\"x\":0.05},\"mapbox\":{\"style\":\"light\"}}},\"xaxis\":{\"anchor\":\"y\",\"domain\":[0.0,1.0],\"title\":{\"text\":\"estado_civil\"}},\"yaxis\":{\"anchor\":\"x\",\"domain\":[0.0,1.0],\"title\":{\"text\":\"count\"}},\"legend\":{\"title\":{\"text\":\"aderencia_investimento\"},\"tracegroupgap\":0},\"margin\":{\"t\":60},\"barmode\":\"group\"},                        {\"responsive\": true}                    ).then(function(){\n",
              "                            \n",
              "var gd = document.getElementById('3e515085-2a9a-4407-93fc-249e4d44aa58');\n",
              "var x = new MutationObserver(function (mutations, observer) {{\n",
              "        var display = window.getComputedStyle(gd).display;\n",
              "        if (!display || display === 'none') {{\n",
              "            console.log([gd, 'removed!']);\n",
              "            Plotly.purge(gd);\n",
              "            observer.disconnect();\n",
              "        }}\n",
              "}});\n",
              "\n",
              "// Listen for the removal of the full notebook cells\n",
              "var notebookContainer = gd.closest('#notebook-container');\n",
              "if (notebookContainer) {{\n",
              "    x.observe(notebookContainer, {childList: true});\n",
              "}}\n",
              "\n",
              "// Listen for the clearing of the current output cell\n",
              "var outputEl = gd.closest('.output');\n",
              "if (outputEl) {{\n",
              "    x.observe(outputEl, {childList: true});\n",
              "}}\n",
              "\n",
              "                        })                };                            </script>        </div>\n",
              "</body>\n",
              "</html>"
            ]
          },
          "metadata": {}
        }
      ]
    },
    {
      "cell_type": "code",
      "source": [
        "px.histogram(data, x='escolaridade', text_auto=True, color='aderencia_investimento', barmode='group')"
      ],
      "metadata": {
        "id": "m0vQk98COlUD",
        "colab": {
          "base_uri": "https://localhost:8080/",
          "height": 542
        },
        "outputId": "7e228f1c-a042-447a-f208-ac426958ad8e"
      },
      "execution_count": null,
      "outputs": [
        {
          "output_type": "display_data",
          "data": {
            "text/html": [
              "<html>\n",
              "<head><meta charset=\"utf-8\" /></head>\n",
              "<body>\n",
              "    <div>            <script src=\"https://cdnjs.cloudflare.com/ajax/libs/mathjax/2.7.5/MathJax.js?config=TeX-AMS-MML_SVG\"></script><script type=\"text/javascript\">if (window.MathJax && window.MathJax.Hub && window.MathJax.Hub.Config) {window.MathJax.Hub.Config({SVG: {font: \"STIX-Web\"}});}</script>                <script type=\"text/javascript\">window.PlotlyConfig = {MathJaxConfig: 'local'};</script>\n",
              "        <script charset=\"utf-8\" src=\"https://cdn.plot.ly/plotly-2.24.1.min.js\"></script>                <div id=\"86f44f0c-55d3-4fb7-8b8f-23ff684bc22b\" class=\"plotly-graph-div\" style=\"height:525px; width:100%;\"></div>            <script type=\"text/javascript\">                                    window.PLOTLYENV=window.PLOTLYENV || {};                                    if (document.getElementById(\"86f44f0c-55d3-4fb7-8b8f-23ff684bc22b\")) {                    Plotly.newPlot(                        \"86f44f0c-55d3-4fb7-8b8f-23ff684bc22b\",                        [{\"alignmentgroup\":\"True\",\"bingroup\":\"x\",\"hovertemplate\":\"aderencia_investimento=sim\\u003cbr\\u003eescolaridade=%{x}\\u003cbr\\u003ecount=%{y}\\u003cextra\\u003e\\u003c\\u002fextra\\u003e\",\"legendgroup\":\"sim\",\"marker\":{\"color\":\"#636efa\",\"pattern\":{\"shape\":\"\"}},\"name\":\"sim\",\"offsetgroup\":\"sim\",\"orientation\":\"v\",\"showlegend\":true,\"texttemplate\":\"%{value}\",\"x\":[\"superior\",\"medio\",\"superior\",\"medio\",\"medio\",\"superior\",\"medio\",\"medio\",\"medio\",\"superior\",\"superior\",\"superior\",\"medio\",\"medio\",\"medio\",\"superior\",\"superior\",\"medio\",\"medio\",\"medio\",\"medio\",\"medio\",\"superior\",\"superior\",\"superior\",\"superior\",\"superior\",\"superior\",\"superior\",\"medio\",\"superior\",\"superior\",\"medio\",\"fundamental\",\"medio\",\"medio\",\"superior\",\"superior\",\"superior\",\"superior\",\"medio\",\"medio\",\"superior\",\"medio\",\"superior\",\"medio\",\"medio\",\"fundamental\",\"medio\",\"medio\",\"medio\",\"superior\",\"medio\",\"superior\",\"superior\",\"superior\",\"fundamental\",\"medio\",\"fundamental\",\"superior\",\"superior\",\"medio\",\"superior\",\"medio\",\"medio\",\"medio\",\"medio\",\"medio\",\"superior\",\"superior\",\"fundamental\",\"medio\",\"medio\",\"superior\",\"fundamental\",\"superior\",\"medio\",\"fundamental\",\"superior\",\"medio\",\"medio\",\"fundamental\",\"medio\",\"fundamental\",\"medio\",\"fundamental\",\"fundamental\",\"superior\",\"superior\",\"medio\",\"superior\",\"medio\",\"medio\",\"superior\",\"medio\",\"superior\",\"medio\",\"medio\",\"superior\",\"medio\",\"medio\",\"medio\",\"medio\",\"medio\",\"superior\",\"medio\",\"medio\",\"medio\",\"medio\",\"superior\",\"medio\",\"medio\",\"superior\",\"medio\",\"superior\",\"medio\",\"medio\",\"medio\",\"superior\",\"medio\",\"superior\",\"fundamental\",\"medio\",\"superior\",\"medio\",\"medio\",\"fundamental\",\"medio\",\"medio\",\"superior\",\"medio\",\"medio\",\"superior\",\"medio\",\"medio\",\"superior\",\"medio\",\"medio\",\"medio\",\"medio\",\"fundamental\",\"fundamental\",\"superior\",\"superior\",\"medio\",\"superior\",\"superior\",\"superior\",\"medio\",\"medio\",\"superior\",\"medio\",\"superior\",\"superior\",\"medio\",\"superior\",\"medio\",\"superior\",\"medio\",\"fundamental\",\"medio\",\"superior\",\"medio\",\"medio\",\"fundamental\",\"superior\",\"medio\",\"medio\",\"medio\",\"superior\",\"medio\",\"superior\",\"superior\",\"superior\",\"medio\",\"superior\",\"fundamental\",\"superior\",\"medio\",\"medio\",\"medio\",\"superior\",\"medio\",\"superior\",\"superior\",\"fundamental\",\"medio\",\"medio\",\"medio\",\"superior\",\"medio\",\"medio\",\"fundamental\",\"fundamental\",\"superior\",\"superior\",\"medio\",\"superior\",\"medio\",\"fundamental\",\"fundamental\",\"medio\",\"fundamental\",\"superior\",\"fundamental\",\"medio\",\"medio\",\"medio\",\"medio\",\"superior\",\"medio\",\"medio\",\"superior\",\"superior\",\"superior\",\"superior\",\"medio\",\"medio\",\"superior\",\"superior\",\"medio\",\"medio\",\"medio\",\"medio\",\"medio\",\"superior\",\"medio\",\"superior\",\"medio\",\"medio\",\"superior\",\"medio\",\"fundamental\",\"medio\",\"fundamental\",\"superior\",\"superior\",\"fundamental\",\"fundamental\",\"fundamental\",\"superior\",\"superior\",\"superior\",\"medio\",\"medio\",\"medio\",\"medio\",\"medio\",\"medio\",\"medio\",\"medio\",\"medio\",\"superior\",\"fundamental\",\"medio\",\"superior\",\"medio\",\"superior\",\"medio\",\"superior\",\"medio\",\"fundamental\",\"fundamental\",\"medio\",\"superior\",\"superior\",\"superior\",\"medio\",\"medio\",\"medio\",\"superior\",\"medio\",\"superior\",\"superior\",\"medio\",\"superior\",\"fundamental\",\"medio\",\"medio\",\"medio\",\"medio\",\"superior\",\"superior\",\"medio\",\"medio\",\"medio\",\"fundamental\",\"fundamental\",\"medio\",\"superior\",\"superior\",\"fundamental\",\"superior\",\"superior\",\"superior\",\"superior\",\"medio\",\"medio\",\"medio\",\"superior\",\"medio\",\"medio\",\"medio\",\"medio\",\"fundamental\",\"medio\",\"superior\",\"medio\",\"medio\",\"medio\",\"superior\",\"medio\",\"medio\",\"fundamental\",\"medio\",\"superior\",\"superior\",\"superior\",\"superior\",\"medio\",\"superior\",\"fundamental\",\"medio\",\"fundamental\",\"medio\",\"superior\",\"medio\",\"superior\",\"fundamental\",\"medio\",\"superior\",\"medio\",\"medio\",\"superior\",\"superior\",\"superior\",\"medio\",\"medio\",\"superior\",\"medio\",\"superior\",\"medio\",\"superior\",\"medio\",\"medio\",\"fundamental\",\"medio\",\"medio\",\"superior\",\"fundamental\",\"medio\",\"fundamental\",\"medio\",\"superior\",\"medio\",\"medio\",\"superior\",\"medio\",\"fundamental\",\"superior\",\"medio\",\"medio\",\"medio\",\"medio\",\"medio\",\"fundamental\",\"fundamental\",\"superior\",\"medio\",\"medio\",\"superior\",\"superior\",\"superior\",\"superior\",\"medio\",\"medio\",\"fundamental\",\"medio\",\"medio\",\"superior\",\"medio\",\"fundamental\",\"superior\",\"fundamental\",\"superior\",\"medio\",\"superior\",\"fundamental\",\"medio\",\"medio\",\"fundamental\",\"fundamental\",\"superior\",\"medio\",\"medio\",\"superior\",\"medio\",\"medio\",\"superior\",\"superior\",\"medio\",\"medio\",\"superior\",\"superior\",\"superior\",\"superior\",\"medio\",\"fundamental\",\"superior\",\"superior\",\"medio\",\"superior\",\"medio\",\"medio\",\"fundamental\",\"superior\",\"superior\",\"medio\",\"medio\",\"fundamental\",\"fundamental\",\"superior\",\"superior\",\"superior\",\"superior\",\"superior\",\"medio\",\"medio\",\"superior\",\"medio\",\"medio\",\"superior\",\"medio\",\"superior\",\"superior\",\"superior\",\"superior\",\"medio\",\"fundamental\",\"superior\",\"medio\",\"medio\",\"fundamental\",\"superior\",\"medio\",\"medio\",\"superior\",\"medio\",\"superior\",\"superior\",\"medio\",\"medio\",\"superior\",\"medio\",\"superior\",\"superior\",\"superior\",\"superior\",\"medio\",\"medio\",\"superior\",\"medio\",\"fundamental\",\"medio\",\"medio\",\"fundamental\",\"superior\",\"medio\",\"medio\",\"medio\",\"medio\",\"medio\",\"medio\",\"medio\",\"medio\",\"medio\",\"medio\",\"fundamental\",\"medio\",\"medio\",\"superior\",\"superior\",\"superior\",\"superior\",\"superior\",\"fundamental\",\"superior\",\"superior\",\"superior\",\"medio\",\"medio\",\"medio\",\"medio\",\"superior\",\"medio\",\"superior\",\"superior\",\"superior\",\"superior\",\"superior\",\"superior\",\"superior\"],\"xaxis\":\"x\",\"yaxis\":\"y\",\"type\":\"histogram\"},{\"alignmentgroup\":\"True\",\"bingroup\":\"x\",\"hovertemplate\":\"aderencia_investimento=nao\\u003cbr\\u003eescolaridade=%{x}\\u003cbr\\u003ecount=%{y}\\u003cextra\\u003e\\u003c\\u002fextra\\u003e\",\"legendgroup\":\"nao\",\"marker\":{\"color\":\"#EF553B\",\"pattern\":{\"shape\":\"\"}},\"name\":\"nao\",\"offsetgroup\":\"nao\",\"orientation\":\"v\",\"showlegend\":true,\"texttemplate\":\"%{value}\",\"x\":[\"superior\",\"superior\",\"medio\",\"fundamental\",\"medio\",\"fundamental\",\"superior\",\"superior\",\"fundamental\",\"medio\",\"medio\",\"medio\",\"medio\",\"medio\",\"medio\",\"fundamental\",\"medio\",\"medio\",\"medio\",\"medio\",\"medio\",\"superior\",\"medio\",\"medio\",\"fundamental\",\"superior\",\"superior\",\"superior\",\"superior\",\"superior\",\"superior\",\"medio\",\"superior\",\"medio\",\"medio\",\"fundamental\",\"superior\",\"medio\",\"medio\",\"superior\",\"medio\",\"fundamental\",\"fundamental\",\"superior\",\"superior\",\"medio\",\"superior\",\"medio\",\"fundamental\",\"medio\",\"superior\",\"superior\",\"medio\",\"superior\",\"medio\",\"medio\",\"fundamental\",\"fundamental\",\"medio\",\"superior\",\"medio\",\"fundamental\",\"superior\",\"medio\",\"medio\",\"medio\",\"medio\",\"superior\",\"superior\",\"superior\",\"superior\",\"fundamental\",\"superior\",\"medio\",\"medio\",\"medio\",\"fundamental\",\"medio\",\"fundamental\",\"medio\",\"superior\",\"medio\",\"medio\",\"superior\",\"medio\",\"medio\",\"fundamental\",\"medio\",\"medio\",\"superior\",\"medio\",\"medio\",\"medio\",\"medio\",\"superior\",\"medio\",\"medio\",\"medio\",\"superior\",\"medio\",\"medio\",\"superior\",\"medio\",\"medio\",\"superior\",\"medio\",\"medio\",\"superior\",\"medio\",\"medio\",\"fundamental\",\"superior\",\"medio\",\"medio\",\"medio\",\"medio\",\"medio\",\"fundamental\",\"medio\",\"superior\",\"medio\",\"medio\",\"medio\",\"superior\",\"medio\",\"medio\",\"superior\",\"fundamental\",\"medio\",\"medio\",\"medio\",\"medio\",\"medio\",\"medio\",\"medio\",\"medio\",\"superior\",\"medio\",\"medio\",\"fundamental\",\"medio\",\"medio\",\"superior\",\"superior\",\"superior\",\"medio\",\"medio\",\"medio\",\"superior\",\"fundamental\",\"superior\",\"fundamental\",\"medio\",\"medio\",\"medio\",\"medio\",\"fundamental\",\"medio\",\"medio\",\"fundamental\",\"superior\",\"fundamental\",\"fundamental\",\"superior\",\"medio\",\"fundamental\",\"medio\",\"medio\",\"superior\",\"medio\",\"fundamental\",\"superior\",\"superior\",\"medio\",\"superior\",\"medio\",\"medio\",\"fundamental\",\"medio\",\"fundamental\",\"medio\",\"superior\",\"superior\",\"medio\",\"medio\",\"superior\",\"medio\",\"superior\",\"medio\",\"superior\",\"superior\",\"medio\",\"medio\",\"superior\",\"superior\",\"fundamental\",\"medio\",\"superior\",\"medio\",\"medio\",\"fundamental\",\"fundamental\",\"medio\",\"medio\",\"medio\",\"fundamental\",\"medio\",\"medio\",\"superior\",\"superior\",\"fundamental\",\"medio\",\"medio\",\"medio\",\"superior\",\"fundamental\",\"superior\",\"superior\",\"medio\",\"superior\",\"superior\",\"superior\",\"medio\",\"medio\",\"fundamental\",\"superior\",\"medio\",\"medio\",\"fundamental\",\"medio\",\"fundamental\",\"superior\",\"medio\",\"medio\",\"medio\",\"medio\",\"medio\",\"medio\",\"medio\",\"medio\",\"medio\",\"medio\",\"medio\",\"medio\",\"medio\",\"superior\",\"fundamental\",\"fundamental\",\"superior\",\"medio\",\"medio\",\"superior\",\"medio\",\"fundamental\",\"superior\",\"fundamental\",\"superior\",\"medio\",\"superior\",\"fundamental\",\"medio\",\"medio\",\"fundamental\",\"superior\",\"medio\",\"medio\",\"fundamental\",\"superior\",\"medio\",\"superior\",\"medio\",\"medio\",\"medio\",\"medio\",\"superior\",\"medio\",\"medio\",\"fundamental\",\"superior\",\"medio\",\"superior\",\"medio\",\"medio\",\"superior\",\"superior\",\"superior\",\"superior\",\"superior\",\"medio\",\"medio\",\"medio\",\"medio\",\"medio\",\"medio\",\"medio\",\"medio\",\"fundamental\",\"fundamental\",\"medio\",\"medio\",\"superior\",\"medio\",\"superior\",\"medio\",\"medio\",\"superior\",\"superior\",\"medio\",\"medio\",\"medio\",\"medio\",\"medio\",\"medio\",\"medio\",\"superior\",\"medio\",\"superior\",\"fundamental\",\"medio\",\"medio\",\"medio\",\"medio\",\"medio\",\"superior\",\"medio\",\"medio\",\"medio\",\"superior\",\"fundamental\",\"superior\",\"medio\",\"superior\",\"superior\",\"medio\",\"superior\",\"superior\",\"superior\",\"medio\",\"medio\",\"fundamental\",\"medio\",\"fundamental\",\"medio\",\"fundamental\",\"medio\",\"medio\",\"fundamental\",\"fundamental\",\"medio\",\"superior\",\"medio\",\"medio\",\"superior\",\"medio\",\"medio\",\"fundamental\",\"fundamental\",\"fundamental\",\"medio\",\"medio\",\"superior\",\"medio\",\"fundamental\",\"superior\",\"medio\",\"fundamental\",\"fundamental\",\"superior\",\"fundamental\",\"medio\",\"medio\",\"medio\",\"medio\",\"fundamental\",\"medio\",\"medio\",\"medio\",\"fundamental\",\"medio\",\"superior\",\"medio\",\"medio\",\"medio\",\"medio\",\"medio\",\"medio\",\"superior\",\"medio\",\"medio\",\"medio\",\"superior\",\"medio\",\"medio\",\"medio\",\"fundamental\",\"superior\",\"superior\",\"superior\",\"medio\",\"superior\",\"fundamental\",\"medio\",\"medio\",\"superior\",\"superior\",\"medio\",\"superior\",\"superior\",\"medio\",\"medio\",\"fundamental\",\"medio\",\"medio\",\"fundamental\",\"medio\",\"medio\",\"superior\",\"fundamental\",\"fundamental\",\"superior\",\"medio\",\"medio\",\"medio\",\"superior\",\"medio\",\"superior\",\"medio\",\"superior\",\"fundamental\",\"medio\",\"superior\",\"medio\",\"fundamental\",\"medio\",\"superior\",\"superior\",\"medio\",\"medio\",\"superior\",\"fundamental\",\"medio\",\"medio\",\"superior\",\"fundamental\",\"medio\",\"superior\",\"medio\",\"superior\",\"superior\",\"superior\",\"superior\",\"fundamental\",\"medio\",\"superior\",\"medio\",\"medio\",\"superior\",\"medio\",\"superior\",\"superior\",\"superior\",\"superior\",\"medio\",\"fundamental\",\"medio\",\"medio\",\"superior\",\"fundamental\",\"superior\",\"medio\",\"medio\",\"medio\",\"medio\",\"medio\",\"medio\",\"medio\",\"medio\",\"medio\",\"fundamental\",\"fundamental\",\"medio\",\"medio\",\"superior\",\"medio\",\"fundamental\",\"medio\",\"fundamental\",\"superior\",\"medio\",\"medio\",\"medio\",\"medio\",\"medio\",\"superior\",\"fundamental\",\"medio\",\"medio\",\"medio\",\"medio\",\"medio\",\"medio\",\"superior\",\"superior\",\"medio\",\"medio\",\"superior\",\"superior\",\"medio\",\"medio\",\"medio\",\"medio\",\"medio\",\"medio\",\"fundamental\",\"superior\",\"superior\",\"superior\",\"superior\",\"medio\",\"fundamental\",\"fundamental\",\"medio\",\"medio\",\"fundamental\",\"medio\",\"medio\",\"superior\",\"medio\",\"medio\",\"medio\",\"superior\",\"superior\",\"superior\",\"medio\",\"medio\",\"medio\",\"medio\",\"fundamental\",\"medio\",\"superior\",\"superior\",\"superior\",\"medio\",\"medio\",\"superior\",\"superior\",\"superior\",\"medio\",\"medio\",\"superior\",\"superior\",\"medio\",\"medio\",\"medio\",\"fundamental\",\"fundamental\",\"fundamental\",\"medio\",\"medio\",\"medio\",\"medio\",\"medio\",\"medio\",\"superior\",\"medio\",\"superior\",\"fundamental\",\"medio\",\"medio\",\"fundamental\",\"fundamental\",\"fundamental\",\"medio\",\"medio\",\"medio\",\"superior\",\"fundamental\",\"superior\",\"medio\",\"medio\",\"superior\",\"fundamental\",\"superior\",\"fundamental\",\"medio\",\"fundamental\",\"superior\",\"fundamental\",\"superior\",\"superior\",\"medio\",\"superior\",\"medio\",\"medio\",\"superior\",\"medio\",\"medio\",\"superior\",\"medio\",\"superior\",\"fundamental\",\"superior\",\"medio\",\"fundamental\",\"superior\",\"superior\",\"medio\",\"fundamental\",\"fundamental\",\"fundamental\",\"medio\",\"medio\",\"medio\",\"fundamental\",\"superior\",\"medio\",\"medio\",\"medio\",\"medio\",\"medio\",\"medio\",\"medio\",\"medio\",\"superior\",\"superior\",\"medio\",\"superior\",\"medio\",\"superior\",\"medio\",\"medio\",\"medio\",\"superior\",\"medio\",\"medio\",\"superior\",\"fundamental\",\"medio\",\"medio\",\"superior\",\"medio\",\"medio\",\"medio\",\"superior\",\"medio\",\"medio\",\"fundamental\",\"fundamental\",\"fundamental\",\"superior\",\"medio\",\"medio\",\"superior\",\"superior\",\"fundamental\",\"medio\",\"medio\",\"medio\",\"medio\",\"medio\",\"medio\",\"fundamental\",\"fundamental\",\"superior\",\"medio\",\"medio\",\"medio\",\"superior\",\"superior\",\"medio\",\"superior\",\"fundamental\",\"superior\",\"superior\",\"medio\",\"medio\",\"medio\",\"fundamental\",\"medio\",\"medio\",\"medio\",\"fundamental\",\"superior\",\"superior\",\"medio\",\"medio\",\"medio\",\"medio\",\"superior\",\"medio\",\"superior\",\"superior\",\"medio\",\"medio\",\"medio\",\"superior\",\"fundamental\",\"medio\",\"medio\",\"fundamental\",\"medio\",\"medio\",\"fundamental\",\"superior\",\"medio\",\"medio\",\"superior\",\"medio\",\"fundamental\",\"superior\",\"medio\",\"fundamental\",\"superior\",\"superior\",\"medio\",\"superior\",\"fundamental\",\"superior\",\"medio\",\"fundamental\",\"medio\",\"medio\",\"superior\",\"fundamental\",\"medio\",\"medio\",\"medio\",\"medio\",\"medio\",\"medio\",\"fundamental\",\"medio\",\"medio\",\"medio\",\"medio\",\"medio\",\"superior\",\"medio\",\"medio\",\"superior\",\"superior\",\"medio\",\"superior\",\"fundamental\",\"superior\",\"fundamental\",\"superior\",\"medio\",\"medio\",\"medio\",\"medio\",\"medio\",\"fundamental\",\"medio\",\"medio\",\"fundamental\",\"medio\",\"superior\",\"superior\",\"superior\",\"medio\",\"medio\",\"medio\",\"medio\",\"medio\",\"medio\"],\"xaxis\":\"x\",\"yaxis\":\"y\",\"type\":\"histogram\"}],                        {\"template\":{\"data\":{\"histogram2dcontour\":[{\"type\":\"histogram2dcontour\",\"colorbar\":{\"outlinewidth\":0,\"ticks\":\"\"},\"colorscale\":[[0.0,\"#0d0887\"],[0.1111111111111111,\"#46039f\"],[0.2222222222222222,\"#7201a8\"],[0.3333333333333333,\"#9c179e\"],[0.4444444444444444,\"#bd3786\"],[0.5555555555555556,\"#d8576b\"],[0.6666666666666666,\"#ed7953\"],[0.7777777777777778,\"#fb9f3a\"],[0.8888888888888888,\"#fdca26\"],[1.0,\"#f0f921\"]]}],\"choropleth\":[{\"type\":\"choropleth\",\"colorbar\":{\"outlinewidth\":0,\"ticks\":\"\"}}],\"histogram2d\":[{\"type\":\"histogram2d\",\"colorbar\":{\"outlinewidth\":0,\"ticks\":\"\"},\"colorscale\":[[0.0,\"#0d0887\"],[0.1111111111111111,\"#46039f\"],[0.2222222222222222,\"#7201a8\"],[0.3333333333333333,\"#9c179e\"],[0.4444444444444444,\"#bd3786\"],[0.5555555555555556,\"#d8576b\"],[0.6666666666666666,\"#ed7953\"],[0.7777777777777778,\"#fb9f3a\"],[0.8888888888888888,\"#fdca26\"],[1.0,\"#f0f921\"]]}],\"heatmap\":[{\"type\":\"heatmap\",\"colorbar\":{\"outlinewidth\":0,\"ticks\":\"\"},\"colorscale\":[[0.0,\"#0d0887\"],[0.1111111111111111,\"#46039f\"],[0.2222222222222222,\"#7201a8\"],[0.3333333333333333,\"#9c179e\"],[0.4444444444444444,\"#bd3786\"],[0.5555555555555556,\"#d8576b\"],[0.6666666666666666,\"#ed7953\"],[0.7777777777777778,\"#fb9f3a\"],[0.8888888888888888,\"#fdca26\"],[1.0,\"#f0f921\"]]}],\"heatmapgl\":[{\"type\":\"heatmapgl\",\"colorbar\":{\"outlinewidth\":0,\"ticks\":\"\"},\"colorscale\":[[0.0,\"#0d0887\"],[0.1111111111111111,\"#46039f\"],[0.2222222222222222,\"#7201a8\"],[0.3333333333333333,\"#9c179e\"],[0.4444444444444444,\"#bd3786\"],[0.5555555555555556,\"#d8576b\"],[0.6666666666666666,\"#ed7953\"],[0.7777777777777778,\"#fb9f3a\"],[0.8888888888888888,\"#fdca26\"],[1.0,\"#f0f921\"]]}],\"contourcarpet\":[{\"type\":\"contourcarpet\",\"colorbar\":{\"outlinewidth\":0,\"ticks\":\"\"}}],\"contour\":[{\"type\":\"contour\",\"colorbar\":{\"outlinewidth\":0,\"ticks\":\"\"},\"colorscale\":[[0.0,\"#0d0887\"],[0.1111111111111111,\"#46039f\"],[0.2222222222222222,\"#7201a8\"],[0.3333333333333333,\"#9c179e\"],[0.4444444444444444,\"#bd3786\"],[0.5555555555555556,\"#d8576b\"],[0.6666666666666666,\"#ed7953\"],[0.7777777777777778,\"#fb9f3a\"],[0.8888888888888888,\"#fdca26\"],[1.0,\"#f0f921\"]]}],\"surface\":[{\"type\":\"surface\",\"colorbar\":{\"outlinewidth\":0,\"ticks\":\"\"},\"colorscale\":[[0.0,\"#0d0887\"],[0.1111111111111111,\"#46039f\"],[0.2222222222222222,\"#7201a8\"],[0.3333333333333333,\"#9c179e\"],[0.4444444444444444,\"#bd3786\"],[0.5555555555555556,\"#d8576b\"],[0.6666666666666666,\"#ed7953\"],[0.7777777777777778,\"#fb9f3a\"],[0.8888888888888888,\"#fdca26\"],[1.0,\"#f0f921\"]]}],\"mesh3d\":[{\"type\":\"mesh3d\",\"colorbar\":{\"outlinewidth\":0,\"ticks\":\"\"}}],\"scatter\":[{\"fillpattern\":{\"fillmode\":\"overlay\",\"size\":10,\"solidity\":0.2},\"type\":\"scatter\"}],\"parcoords\":[{\"type\":\"parcoords\",\"line\":{\"colorbar\":{\"outlinewidth\":0,\"ticks\":\"\"}}}],\"scatterpolargl\":[{\"type\":\"scatterpolargl\",\"marker\":{\"colorbar\":{\"outlinewidth\":0,\"ticks\":\"\"}}}],\"bar\":[{\"error_x\":{\"color\":\"#2a3f5f\"},\"error_y\":{\"color\":\"#2a3f5f\"},\"marker\":{\"line\":{\"color\":\"#E5ECF6\",\"width\":0.5},\"pattern\":{\"fillmode\":\"overlay\",\"size\":10,\"solidity\":0.2}},\"type\":\"bar\"}],\"scattergeo\":[{\"type\":\"scattergeo\",\"marker\":{\"colorbar\":{\"outlinewidth\":0,\"ticks\":\"\"}}}],\"scatterpolar\":[{\"type\":\"scatterpolar\",\"marker\":{\"colorbar\":{\"outlinewidth\":0,\"ticks\":\"\"}}}],\"histogram\":[{\"marker\":{\"pattern\":{\"fillmode\":\"overlay\",\"size\":10,\"solidity\":0.2}},\"type\":\"histogram\"}],\"scattergl\":[{\"type\":\"scattergl\",\"marker\":{\"colorbar\":{\"outlinewidth\":0,\"ticks\":\"\"}}}],\"scatter3d\":[{\"type\":\"scatter3d\",\"line\":{\"colorbar\":{\"outlinewidth\":0,\"ticks\":\"\"}},\"marker\":{\"colorbar\":{\"outlinewidth\":0,\"ticks\":\"\"}}}],\"scattermapbox\":[{\"type\":\"scattermapbox\",\"marker\":{\"colorbar\":{\"outlinewidth\":0,\"ticks\":\"\"}}}],\"scatterternary\":[{\"type\":\"scatterternary\",\"marker\":{\"colorbar\":{\"outlinewidth\":0,\"ticks\":\"\"}}}],\"scattercarpet\":[{\"type\":\"scattercarpet\",\"marker\":{\"colorbar\":{\"outlinewidth\":0,\"ticks\":\"\"}}}],\"carpet\":[{\"aaxis\":{\"endlinecolor\":\"#2a3f5f\",\"gridcolor\":\"white\",\"linecolor\":\"white\",\"minorgridcolor\":\"white\",\"startlinecolor\":\"#2a3f5f\"},\"baxis\":{\"endlinecolor\":\"#2a3f5f\",\"gridcolor\":\"white\",\"linecolor\":\"white\",\"minorgridcolor\":\"white\",\"startlinecolor\":\"#2a3f5f\"},\"type\":\"carpet\"}],\"table\":[{\"cells\":{\"fill\":{\"color\":\"#EBF0F8\"},\"line\":{\"color\":\"white\"}},\"header\":{\"fill\":{\"color\":\"#C8D4E3\"},\"line\":{\"color\":\"white\"}},\"type\":\"table\"}],\"barpolar\":[{\"marker\":{\"line\":{\"color\":\"#E5ECF6\",\"width\":0.5},\"pattern\":{\"fillmode\":\"overlay\",\"size\":10,\"solidity\":0.2}},\"type\":\"barpolar\"}],\"pie\":[{\"automargin\":true,\"type\":\"pie\"}]},\"layout\":{\"autotypenumbers\":\"strict\",\"colorway\":[\"#636efa\",\"#EF553B\",\"#00cc96\",\"#ab63fa\",\"#FFA15A\",\"#19d3f3\",\"#FF6692\",\"#B6E880\",\"#FF97FF\",\"#FECB52\"],\"font\":{\"color\":\"#2a3f5f\"},\"hovermode\":\"closest\",\"hoverlabel\":{\"align\":\"left\"},\"paper_bgcolor\":\"white\",\"plot_bgcolor\":\"#E5ECF6\",\"polar\":{\"bgcolor\":\"#E5ECF6\",\"angularaxis\":{\"gridcolor\":\"white\",\"linecolor\":\"white\",\"ticks\":\"\"},\"radialaxis\":{\"gridcolor\":\"white\",\"linecolor\":\"white\",\"ticks\":\"\"}},\"ternary\":{\"bgcolor\":\"#E5ECF6\",\"aaxis\":{\"gridcolor\":\"white\",\"linecolor\":\"white\",\"ticks\":\"\"},\"baxis\":{\"gridcolor\":\"white\",\"linecolor\":\"white\",\"ticks\":\"\"},\"caxis\":{\"gridcolor\":\"white\",\"linecolor\":\"white\",\"ticks\":\"\"}},\"coloraxis\":{\"colorbar\":{\"outlinewidth\":0,\"ticks\":\"\"}},\"colorscale\":{\"sequential\":[[0.0,\"#0d0887\"],[0.1111111111111111,\"#46039f\"],[0.2222222222222222,\"#7201a8\"],[0.3333333333333333,\"#9c179e\"],[0.4444444444444444,\"#bd3786\"],[0.5555555555555556,\"#d8576b\"],[0.6666666666666666,\"#ed7953\"],[0.7777777777777778,\"#fb9f3a\"],[0.8888888888888888,\"#fdca26\"],[1.0,\"#f0f921\"]],\"sequentialminus\":[[0.0,\"#0d0887\"],[0.1111111111111111,\"#46039f\"],[0.2222222222222222,\"#7201a8\"],[0.3333333333333333,\"#9c179e\"],[0.4444444444444444,\"#bd3786\"],[0.5555555555555556,\"#d8576b\"],[0.6666666666666666,\"#ed7953\"],[0.7777777777777778,\"#fb9f3a\"],[0.8888888888888888,\"#fdca26\"],[1.0,\"#f0f921\"]],\"diverging\":[[0,\"#8e0152\"],[0.1,\"#c51b7d\"],[0.2,\"#de77ae\"],[0.3,\"#f1b6da\"],[0.4,\"#fde0ef\"],[0.5,\"#f7f7f7\"],[0.6,\"#e6f5d0\"],[0.7,\"#b8e186\"],[0.8,\"#7fbc41\"],[0.9,\"#4d9221\"],[1,\"#276419\"]]},\"xaxis\":{\"gridcolor\":\"white\",\"linecolor\":\"white\",\"ticks\":\"\",\"title\":{\"standoff\":15},\"zerolinecolor\":\"white\",\"automargin\":true,\"zerolinewidth\":2},\"yaxis\":{\"gridcolor\":\"white\",\"linecolor\":\"white\",\"ticks\":\"\",\"title\":{\"standoff\":15},\"zerolinecolor\":\"white\",\"automargin\":true,\"zerolinewidth\":2},\"scene\":{\"xaxis\":{\"backgroundcolor\":\"#E5ECF6\",\"gridcolor\":\"white\",\"linecolor\":\"white\",\"showbackground\":true,\"ticks\":\"\",\"zerolinecolor\":\"white\",\"gridwidth\":2},\"yaxis\":{\"backgroundcolor\":\"#E5ECF6\",\"gridcolor\":\"white\",\"linecolor\":\"white\",\"showbackground\":true,\"ticks\":\"\",\"zerolinecolor\":\"white\",\"gridwidth\":2},\"zaxis\":{\"backgroundcolor\":\"#E5ECF6\",\"gridcolor\":\"white\",\"linecolor\":\"white\",\"showbackground\":true,\"ticks\":\"\",\"zerolinecolor\":\"white\",\"gridwidth\":2}},\"shapedefaults\":{\"line\":{\"color\":\"#2a3f5f\"}},\"annotationdefaults\":{\"arrowcolor\":\"#2a3f5f\",\"arrowhead\":0,\"arrowwidth\":1},\"geo\":{\"bgcolor\":\"white\",\"landcolor\":\"#E5ECF6\",\"subunitcolor\":\"white\",\"showland\":true,\"showlakes\":true,\"lakecolor\":\"white\"},\"title\":{\"x\":0.05},\"mapbox\":{\"style\":\"light\"}}},\"xaxis\":{\"anchor\":\"y\",\"domain\":[0.0,1.0],\"title\":{\"text\":\"escolaridade\"}},\"yaxis\":{\"anchor\":\"x\",\"domain\":[0.0,1.0],\"title\":{\"text\":\"count\"}},\"legend\":{\"title\":{\"text\":\"aderencia_investimento\"},\"tracegroupgap\":0},\"margin\":{\"t\":60},\"barmode\":\"group\"},                        {\"responsive\": true}                    ).then(function(){\n",
              "                            \n",
              "var gd = document.getElementById('86f44f0c-55d3-4fb7-8b8f-23ff684bc22b');\n",
              "var x = new MutationObserver(function (mutations, observer) {{\n",
              "        var display = window.getComputedStyle(gd).display;\n",
              "        if (!display || display === 'none') {{\n",
              "            console.log([gd, 'removed!']);\n",
              "            Plotly.purge(gd);\n",
              "            observer.disconnect();\n",
              "        }}\n",
              "}});\n",
              "\n",
              "// Listen for the removal of the full notebook cells\n",
              "var notebookContainer = gd.closest('#notebook-container');\n",
              "if (notebookContainer) {{\n",
              "    x.observe(notebookContainer, {childList: true});\n",
              "}}\n",
              "\n",
              "// Listen for the clearing of the current output cell\n",
              "var outputEl = gd.closest('.output');\n",
              "if (outputEl) {{\n",
              "    x.observe(outputEl, {childList: true});\n",
              "}}\n",
              "\n",
              "                        })                };                            </script>        </div>\n",
              "</body>\n",
              "</html>"
            ]
          },
          "metadata": {}
        }
      ]
    },
    {
      "cell_type": "code",
      "source": [
        "px.histogram(data, x='inadimplencia', text_auto=True, color='aderencia_investimento', barmode='group')"
      ],
      "metadata": {
        "id": "o8vsBt7nOrsS",
        "colab": {
          "base_uri": "https://localhost:8080/",
          "height": 542
        },
        "outputId": "e4f5b3a5-3481-40e6-8ec8-3389df4af84c"
      },
      "execution_count": null,
      "outputs": [
        {
          "output_type": "display_data",
          "data": {
            "text/html": [
              "<html>\n",
              "<head><meta charset=\"utf-8\" /></head>\n",
              "<body>\n",
              "    <div>            <script src=\"https://cdnjs.cloudflare.com/ajax/libs/mathjax/2.7.5/MathJax.js?config=TeX-AMS-MML_SVG\"></script><script type=\"text/javascript\">if (window.MathJax && window.MathJax.Hub && window.MathJax.Hub.Config) {window.MathJax.Hub.Config({SVG: {font: \"STIX-Web\"}});}</script>                <script type=\"text/javascript\">window.PlotlyConfig = {MathJaxConfig: 'local'};</script>\n",
              "        <script charset=\"utf-8\" src=\"https://cdn.plot.ly/plotly-2.24.1.min.js\"></script>                <div id=\"926d7fe5-96d3-4800-9825-f8f9a9bdf5bb\" class=\"plotly-graph-div\" style=\"height:525px; width:100%;\"></div>            <script type=\"text/javascript\">                                    window.PLOTLYENV=window.PLOTLYENV || {};                                    if (document.getElementById(\"926d7fe5-96d3-4800-9825-f8f9a9bdf5bb\")) {                    Plotly.newPlot(                        \"926d7fe5-96d3-4800-9825-f8f9a9bdf5bb\",                        [{\"alignmentgroup\":\"True\",\"bingroup\":\"x\",\"hovertemplate\":\"aderencia_investimento=sim\\u003cbr\\u003einadimplencia=%{x}\\u003cbr\\u003ecount=%{y}\\u003cextra\\u003e\\u003c\\u002fextra\\u003e\",\"legendgroup\":\"sim\",\"marker\":{\"color\":\"#636efa\",\"pattern\":{\"shape\":\"\"}},\"name\":\"sim\",\"offsetgroup\":\"sim\",\"orientation\":\"v\",\"showlegend\":true,\"texttemplate\":\"%{value}\",\"x\":[\"nao\",\"nao\",\"nao\",\"nao\",\"nao\",\"nao\",\"nao\",\"nao\",\"nao\",\"nao\",\"nao\",\"nao\",\"nao\",\"nao\",\"nao\",\"nao\",\"nao\",\"nao\",\"nao\",\"nao\",\"nao\",\"nao\",\"nao\",\"nao\",\"nao\",\"nao\",\"nao\",\"nao\",\"nao\",\"nao\",\"nao\",\"nao\",\"nao\",\"nao\",\"nao\",\"nao\",\"nao\",\"nao\",\"nao\",\"nao\",\"nao\",\"nao\",\"nao\",\"nao\",\"nao\",\"sim\",\"nao\",\"nao\",\"nao\",\"nao\",\"nao\",\"nao\",\"nao\",\"nao\",\"nao\",\"nao\",\"nao\",\"nao\",\"nao\",\"nao\",\"nao\",\"nao\",\"nao\",\"nao\",\"nao\",\"nao\",\"nao\",\"nao\",\"nao\",\"nao\",\"nao\",\"nao\",\"nao\",\"nao\",\"nao\",\"nao\",\"nao\",\"nao\",\"nao\",\"nao\",\"nao\",\"nao\",\"nao\",\"nao\",\"nao\",\"nao\",\"nao\",\"nao\",\"nao\",\"nao\",\"nao\",\"nao\",\"nao\",\"nao\",\"nao\",\"nao\",\"nao\",\"nao\",\"nao\",\"nao\",\"nao\",\"nao\",\"nao\",\"nao\",\"nao\",\"nao\",\"nao\",\"nao\",\"nao\",\"nao\",\"nao\",\"nao\",\"nao\",\"nao\",\"nao\",\"nao\",\"nao\",\"nao\",\"nao\",\"nao\",\"nao\",\"nao\",\"nao\",\"nao\",\"nao\",\"nao\",\"nao\",\"nao\",\"nao\",\"nao\",\"nao\",\"nao\",\"nao\",\"nao\",\"nao\",\"nao\",\"nao\",\"nao\",\"nao\",\"nao\",\"nao\",\"nao\",\"nao\",\"nao\",\"nao\",\"nao\",\"nao\",\"nao\",\"nao\",\"nao\",\"nao\",\"nao\",\"nao\",\"nao\",\"nao\",\"nao\",\"nao\",\"nao\",\"sim\",\"nao\",\"nao\",\"nao\",\"nao\",\"nao\",\"nao\",\"nao\",\"nao\",\"nao\",\"sim\",\"nao\",\"nao\",\"nao\",\"nao\",\"nao\",\"nao\",\"nao\",\"nao\",\"nao\",\"nao\",\"nao\",\"nao\",\"nao\",\"nao\",\"nao\",\"nao\",\"nao\",\"nao\",\"nao\",\"nao\",\"nao\",\"nao\",\"nao\",\"nao\",\"nao\",\"nao\",\"nao\",\"nao\",\"nao\",\"nao\",\"nao\",\"nao\",\"nao\",\"nao\",\"nao\",\"nao\",\"nao\",\"nao\",\"nao\",\"nao\",\"nao\",\"sim\",\"nao\",\"nao\",\"nao\",\"nao\",\"nao\",\"nao\",\"nao\",\"nao\",\"nao\",\"nao\",\"nao\",\"nao\",\"nao\",\"nao\",\"nao\",\"nao\",\"nao\",\"nao\",\"nao\",\"nao\",\"nao\",\"nao\",\"nao\",\"nao\",\"nao\",\"nao\",\"nao\",\"nao\",\"nao\",\"nao\",\"nao\",\"nao\",\"nao\",\"nao\",\"nao\",\"nao\",\"nao\",\"nao\",\"nao\",\"nao\",\"nao\",\"nao\",\"nao\",\"nao\",\"nao\",\"nao\",\"nao\",\"nao\",\"nao\",\"nao\",\"nao\",\"nao\",\"nao\",\"nao\",\"nao\",\"nao\",\"nao\",\"nao\",\"nao\",\"nao\",\"nao\",\"nao\",\"nao\",\"nao\",\"nao\",\"nao\",\"nao\",\"nao\",\"nao\",\"nao\",\"nao\",\"nao\",\"nao\",\"nao\",\"nao\",\"nao\",\"nao\",\"nao\",\"nao\",\"nao\",\"nao\",\"nao\",\"nao\",\"nao\",\"nao\",\"nao\",\"nao\",\"nao\",\"nao\",\"nao\",\"nao\",\"nao\",\"nao\",\"nao\",\"nao\",\"nao\",\"nao\",\"nao\",\"nao\",\"nao\",\"nao\",\"nao\",\"nao\",\"nao\",\"nao\",\"nao\",\"nao\",\"nao\",\"nao\",\"nao\",\"nao\",\"nao\",\"nao\",\"nao\",\"nao\",\"nao\",\"nao\",\"nao\",\"nao\",\"nao\",\"nao\",\"nao\",\"nao\",\"nao\",\"nao\",\"nao\",\"nao\",\"nao\",\"nao\",\"nao\",\"nao\",\"nao\",\"nao\",\"nao\",\"nao\",\"nao\",\"nao\",\"nao\",\"nao\",\"nao\",\"nao\",\"nao\",\"nao\",\"nao\",\"nao\",\"nao\",\"nao\",\"nao\",\"nao\",\"nao\",\"nao\",\"nao\",\"nao\",\"nao\",\"nao\",\"nao\",\"nao\",\"nao\",\"nao\",\"nao\",\"nao\",\"nao\",\"nao\",\"nao\",\"nao\",\"nao\",\"nao\",\"nao\",\"nao\",\"nao\",\"nao\",\"nao\",\"nao\",\"nao\",\"nao\",\"nao\",\"sim\",\"nao\",\"nao\",\"nao\",\"nao\",\"nao\",\"nao\",\"nao\",\"nao\",\"nao\",\"nao\",\"nao\",\"nao\",\"nao\",\"sim\",\"nao\",\"nao\",\"nao\",\"nao\",\"nao\",\"nao\",\"nao\",\"nao\",\"nao\",\"nao\",\"nao\",\"nao\",\"nao\",\"nao\",\"nao\",\"nao\",\"nao\",\"nao\",\"nao\",\"nao\",\"nao\",\"nao\",\"nao\",\"nao\",\"nao\",\"nao\",\"nao\",\"nao\",\"nao\",\"nao\",\"nao\",\"nao\",\"nao\",\"nao\",\"nao\",\"nao\",\"nao\",\"nao\",\"nao\",\"nao\",\"nao\",\"nao\",\"nao\",\"nao\",\"nao\",\"nao\",\"sim\",\"nao\",\"nao\",\"nao\",\"nao\",\"nao\",\"nao\",\"nao\",\"nao\",\"nao\",\"nao\",\"nao\",\"nao\",\"nao\",\"nao\",\"nao\",\"nao\",\"nao\",\"nao\",\"nao\",\"nao\",\"nao\",\"nao\",\"nao\",\"nao\",\"nao\",\"nao\",\"nao\",\"sim\",\"nao\",\"nao\",\"nao\",\"nao\",\"nao\",\"nao\",\"nao\",\"nao\",\"nao\",\"nao\",\"nao\",\"nao\",\"nao\",\"nao\",\"nao\",\"nao\",\"nao\",\"nao\",\"nao\",\"nao\",\"nao\",\"nao\",\"nao\",\"nao\",\"nao\"],\"xaxis\":\"x\",\"yaxis\":\"y\",\"type\":\"histogram\"},{\"alignmentgroup\":\"True\",\"bingroup\":\"x\",\"hovertemplate\":\"aderencia_investimento=nao\\u003cbr\\u003einadimplencia=%{x}\\u003cbr\\u003ecount=%{y}\\u003cextra\\u003e\\u003c\\u002fextra\\u003e\",\"legendgroup\":\"nao\",\"marker\":{\"color\":\"#EF553B\",\"pattern\":{\"shape\":\"\"}},\"name\":\"nao\",\"offsetgroup\":\"nao\",\"orientation\":\"v\",\"showlegend\":true,\"texttemplate\":\"%{value}\",\"x\":[\"nao\",\"nao\",\"nao\",\"nao\",\"nao\",\"nao\",\"nao\",\"nao\",\"nao\",\"nao\",\"nao\",\"nao\",\"nao\",\"nao\",\"nao\",\"nao\",\"nao\",\"nao\",\"nao\",\"nao\",\"nao\",\"nao\",\"nao\",\"sim\",\"nao\",\"nao\",\"nao\",\"nao\",\"nao\",\"nao\",\"nao\",\"nao\",\"nao\",\"nao\",\"nao\",\"nao\",\"nao\",\"nao\",\"nao\",\"nao\",\"nao\",\"nao\",\"nao\",\"nao\",\"nao\",\"nao\",\"nao\",\"nao\",\"nao\",\"nao\",\"nao\",\"nao\",\"nao\",\"nao\",\"nao\",\"nao\",\"sim\",\"nao\",\"nao\",\"nao\",\"nao\",\"nao\",\"nao\",\"nao\",\"nao\",\"nao\",\"nao\",\"nao\",\"nao\",\"nao\",\"nao\",\"nao\",\"nao\",\"nao\",\"nao\",\"nao\",\"nao\",\"nao\",\"nao\",\"nao\",\"nao\",\"nao\",\"nao\",\"nao\",\"nao\",\"nao\",\"nao\",\"nao\",\"nao\",\"nao\",\"nao\",\"nao\",\"nao\",\"nao\",\"nao\",\"nao\",\"nao\",\"nao\",\"nao\",\"nao\",\"nao\",\"nao\",\"nao\",\"nao\",\"nao\",\"nao\",\"nao\",\"nao\",\"nao\",\"nao\",\"nao\",\"sim\",\"nao\",\"nao\",\"sim\",\"nao\",\"nao\",\"nao\",\"nao\",\"nao\",\"nao\",\"nao\",\"nao\",\"nao\",\"nao\",\"nao\",\"nao\",\"nao\",\"nao\",\"nao\",\"nao\",\"nao\",\"nao\",\"nao\",\"nao\",\"nao\",\"nao\",\"nao\",\"nao\",\"nao\",\"nao\",\"nao\",\"nao\",\"nao\",\"nao\",\"nao\",\"nao\",\"nao\",\"nao\",\"nao\",\"nao\",\"nao\",\"nao\",\"nao\",\"nao\",\"nao\",\"nao\",\"nao\",\"nao\",\"nao\",\"nao\",\"nao\",\"nao\",\"nao\",\"sim\",\"nao\",\"nao\",\"nao\",\"nao\",\"nao\",\"nao\",\"nao\",\"nao\",\"nao\",\"nao\",\"nao\",\"nao\",\"nao\",\"nao\",\"nao\",\"nao\",\"nao\",\"nao\",\"nao\",\"nao\",\"nao\",\"nao\",\"nao\",\"nao\",\"nao\",\"nao\",\"nao\",\"nao\",\"nao\",\"nao\",\"nao\",\"nao\",\"nao\",\"nao\",\"nao\",\"nao\",\"nao\",\"nao\",\"nao\",\"nao\",\"nao\",\"nao\",\"nao\",\"nao\",\"nao\",\"nao\",\"nao\",\"nao\",\"nao\",\"nao\",\"nao\",\"nao\",\"nao\",\"nao\",\"nao\",\"nao\",\"nao\",\"nao\",\"nao\",\"nao\",\"nao\",\"nao\",\"nao\",\"nao\",\"nao\",\"nao\",\"nao\",\"nao\",\"nao\",\"nao\",\"nao\",\"nao\",\"nao\",\"nao\",\"nao\",\"nao\",\"nao\",\"nao\",\"nao\",\"nao\",\"nao\",\"nao\",\"nao\",\"nao\",\"nao\",\"nao\",\"nao\",\"nao\",\"nao\",\"nao\",\"nao\",\"nao\",\"nao\",\"nao\",\"nao\",\"nao\",\"nao\",\"nao\",\"nao\",\"nao\",\"nao\",\"nao\",\"nao\",\"nao\",\"nao\",\"nao\",\"nao\",\"nao\",\"nao\",\"nao\",\"nao\",\"nao\",\"nao\",\"nao\",\"nao\",\"nao\",\"nao\",\"nao\",\"nao\",\"nao\",\"nao\",\"nao\",\"nao\",\"nao\",\"nao\",\"nao\",\"nao\",\"nao\",\"nao\",\"nao\",\"nao\",\"nao\",\"nao\",\"nao\",\"nao\",\"nao\",\"nao\",\"nao\",\"nao\",\"nao\",\"sim\",\"nao\",\"sim\",\"nao\",\"nao\",\"nao\",\"nao\",\"nao\",\"nao\",\"nao\",\"nao\",\"nao\",\"nao\",\"nao\",\"nao\",\"nao\",\"nao\",\"nao\",\"nao\",\"nao\",\"nao\",\"sim\",\"nao\",\"nao\",\"nao\",\"nao\",\"nao\",\"nao\",\"nao\",\"nao\",\"nao\",\"nao\",\"nao\",\"nao\",\"nao\",\"nao\",\"nao\",\"nao\",\"nao\",\"nao\",\"nao\",\"nao\",\"nao\",\"nao\",\"nao\",\"nao\",\"nao\",\"nao\",\"nao\",\"nao\",\"nao\",\"nao\",\"nao\",\"nao\",\"nao\",\"nao\",\"nao\",\"nao\",\"nao\",\"sim\",\"nao\",\"nao\",\"nao\",\"nao\",\"nao\",\"nao\",\"nao\",\"nao\",\"nao\",\"nao\",\"nao\",\"nao\",\"nao\",\"nao\",\"nao\",\"nao\",\"nao\",\"nao\",\"nao\",\"nao\",\"nao\",\"nao\",\"nao\",\"nao\",\"nao\",\"nao\",\"nao\",\"nao\",\"nao\",\"nao\",\"nao\",\"nao\",\"nao\",\"nao\",\"nao\",\"nao\",\"nao\",\"nao\",\"nao\",\"nao\",\"nao\",\"nao\",\"nao\",\"nao\",\"nao\",\"nao\",\"nao\",\"nao\",\"nao\",\"nao\",\"nao\",\"nao\",\"nao\",\"nao\",\"nao\",\"nao\",\"nao\",\"nao\",\"nao\",\"nao\",\"nao\",\"nao\",\"nao\",\"nao\",\"nao\",\"nao\",\"nao\",\"nao\",\"nao\",\"nao\",\"nao\",\"nao\",\"nao\",\"nao\",\"nao\",\"nao\",\"nao\",\"nao\",\"nao\",\"nao\",\"nao\",\"nao\",\"nao\",\"sim\",\"nao\",\"nao\",\"nao\",\"nao\",\"nao\",\"nao\",\"nao\",\"nao\",\"nao\",\"nao\",\"nao\",\"nao\",\"nao\",\"nao\",\"nao\",\"nao\",\"nao\",\"nao\",\"nao\",\"nao\",\"nao\",\"nao\",\"nao\",\"nao\",\"nao\",\"nao\",\"nao\",\"nao\",\"nao\",\"nao\",\"nao\",\"nao\",\"nao\",\"nao\",\"nao\",\"nao\",\"nao\",\"nao\",\"nao\",\"nao\",\"nao\",\"nao\",\"nao\",\"nao\",\"nao\",\"nao\",\"nao\",\"nao\",\"nao\",\"nao\",\"nao\",\"nao\",\"nao\",\"nao\",\"nao\",\"nao\",\"nao\",\"nao\",\"nao\",\"nao\",\"nao\",\"nao\",\"nao\",\"nao\",\"nao\",\"nao\",\"nao\",\"nao\",\"nao\",\"nao\",\"nao\",\"nao\",\"nao\",\"nao\",\"nao\",\"nao\",\"nao\",\"nao\",\"nao\",\"nao\",\"nao\",\"nao\",\"nao\",\"nao\",\"nao\",\"nao\",\"nao\",\"nao\",\"nao\",\"nao\",\"nao\",\"nao\",\"nao\",\"nao\",\"nao\",\"nao\",\"nao\",\"nao\",\"nao\",\"nao\",\"nao\",\"nao\",\"nao\",\"nao\",\"nao\",\"nao\",\"nao\",\"nao\",\"nao\",\"nao\",\"nao\",\"nao\",\"nao\",\"nao\",\"nao\",\"nao\",\"nao\",\"nao\",\"nao\",\"nao\",\"nao\",\"nao\",\"nao\",\"nao\",\"sim\",\"nao\",\"nao\",\"nao\",\"nao\",\"nao\",\"nao\",\"nao\",\"nao\",\"nao\",\"nao\",\"nao\",\"sim\",\"nao\",\"nao\",\"nao\",\"nao\",\"nao\",\"nao\",\"nao\",\"nao\",\"nao\",\"nao\",\"nao\",\"nao\",\"nao\",\"nao\",\"nao\",\"nao\",\"nao\",\"nao\",\"nao\",\"nao\",\"nao\",\"nao\",\"nao\",\"nao\",\"nao\",\"nao\",\"nao\",\"nao\",\"nao\",\"nao\",\"nao\",\"nao\",\"nao\",\"nao\",\"nao\",\"nao\",\"nao\",\"nao\",\"nao\",\"nao\",\"nao\",\"nao\",\"nao\",\"nao\",\"nao\",\"nao\",\"nao\",\"nao\",\"nao\",\"nao\",\"nao\",\"nao\",\"nao\",\"nao\",\"nao\",\"nao\",\"nao\",\"nao\",\"nao\",\"nao\",\"nao\",\"nao\",\"nao\",\"nao\",\"nao\",\"nao\",\"nao\",\"nao\",\"nao\",\"nao\",\"nao\",\"nao\",\"nao\",\"nao\",\"nao\",\"nao\",\"nao\",\"nao\",\"nao\",\"nao\",\"nao\",\"nao\",\"nao\",\"nao\",\"nao\",\"nao\",\"nao\",\"nao\",\"nao\",\"nao\",\"nao\",\"nao\",\"nao\",\"nao\",\"nao\",\"nao\",\"nao\",\"nao\",\"nao\",\"nao\",\"nao\",\"nao\",\"nao\",\"nao\",\"sim\",\"nao\",\"sim\",\"nao\",\"nao\",\"nao\",\"nao\",\"nao\",\"nao\",\"nao\",\"nao\",\"nao\",\"nao\",\"nao\",\"nao\",\"nao\",\"nao\",\"nao\",\"nao\",\"nao\",\"nao\",\"nao\",\"nao\",\"nao\",\"nao\",\"nao\",\"nao\",\"nao\",\"nao\",\"nao\",\"nao\",\"nao\",\"nao\",\"nao\",\"nao\",\"nao\",\"nao\",\"nao\",\"nao\",\"nao\",\"nao\",\"nao\",\"nao\",\"nao\",\"nao\",\"nao\",\"sim\",\"nao\",\"nao\",\"nao\",\"nao\",\"nao\",\"nao\",\"nao\",\"nao\",\"nao\",\"nao\",\"nao\",\"nao\",\"nao\",\"nao\",\"nao\",\"nao\",\"nao\",\"nao\",\"nao\",\"nao\",\"nao\",\"nao\",\"nao\",\"nao\",\"nao\",\"nao\",\"nao\",\"nao\",\"nao\"],\"xaxis\":\"x\",\"yaxis\":\"y\",\"type\":\"histogram\"}],                        {\"template\":{\"data\":{\"histogram2dcontour\":[{\"type\":\"histogram2dcontour\",\"colorbar\":{\"outlinewidth\":0,\"ticks\":\"\"},\"colorscale\":[[0.0,\"#0d0887\"],[0.1111111111111111,\"#46039f\"],[0.2222222222222222,\"#7201a8\"],[0.3333333333333333,\"#9c179e\"],[0.4444444444444444,\"#bd3786\"],[0.5555555555555556,\"#d8576b\"],[0.6666666666666666,\"#ed7953\"],[0.7777777777777778,\"#fb9f3a\"],[0.8888888888888888,\"#fdca26\"],[1.0,\"#f0f921\"]]}],\"choropleth\":[{\"type\":\"choropleth\",\"colorbar\":{\"outlinewidth\":0,\"ticks\":\"\"}}],\"histogram2d\":[{\"type\":\"histogram2d\",\"colorbar\":{\"outlinewidth\":0,\"ticks\":\"\"},\"colorscale\":[[0.0,\"#0d0887\"],[0.1111111111111111,\"#46039f\"],[0.2222222222222222,\"#7201a8\"],[0.3333333333333333,\"#9c179e\"],[0.4444444444444444,\"#bd3786\"],[0.5555555555555556,\"#d8576b\"],[0.6666666666666666,\"#ed7953\"],[0.7777777777777778,\"#fb9f3a\"],[0.8888888888888888,\"#fdca26\"],[1.0,\"#f0f921\"]]}],\"heatmap\":[{\"type\":\"heatmap\",\"colorbar\":{\"outlinewidth\":0,\"ticks\":\"\"},\"colorscale\":[[0.0,\"#0d0887\"],[0.1111111111111111,\"#46039f\"],[0.2222222222222222,\"#7201a8\"],[0.3333333333333333,\"#9c179e\"],[0.4444444444444444,\"#bd3786\"],[0.5555555555555556,\"#d8576b\"],[0.6666666666666666,\"#ed7953\"],[0.7777777777777778,\"#fb9f3a\"],[0.8888888888888888,\"#fdca26\"],[1.0,\"#f0f921\"]]}],\"heatmapgl\":[{\"type\":\"heatmapgl\",\"colorbar\":{\"outlinewidth\":0,\"ticks\":\"\"},\"colorscale\":[[0.0,\"#0d0887\"],[0.1111111111111111,\"#46039f\"],[0.2222222222222222,\"#7201a8\"],[0.3333333333333333,\"#9c179e\"],[0.4444444444444444,\"#bd3786\"],[0.5555555555555556,\"#d8576b\"],[0.6666666666666666,\"#ed7953\"],[0.7777777777777778,\"#fb9f3a\"],[0.8888888888888888,\"#fdca26\"],[1.0,\"#f0f921\"]]}],\"contourcarpet\":[{\"type\":\"contourcarpet\",\"colorbar\":{\"outlinewidth\":0,\"ticks\":\"\"}}],\"contour\":[{\"type\":\"contour\",\"colorbar\":{\"outlinewidth\":0,\"ticks\":\"\"},\"colorscale\":[[0.0,\"#0d0887\"],[0.1111111111111111,\"#46039f\"],[0.2222222222222222,\"#7201a8\"],[0.3333333333333333,\"#9c179e\"],[0.4444444444444444,\"#bd3786\"],[0.5555555555555556,\"#d8576b\"],[0.6666666666666666,\"#ed7953\"],[0.7777777777777778,\"#fb9f3a\"],[0.8888888888888888,\"#fdca26\"],[1.0,\"#f0f921\"]]}],\"surface\":[{\"type\":\"surface\",\"colorbar\":{\"outlinewidth\":0,\"ticks\":\"\"},\"colorscale\":[[0.0,\"#0d0887\"],[0.1111111111111111,\"#46039f\"],[0.2222222222222222,\"#7201a8\"],[0.3333333333333333,\"#9c179e\"],[0.4444444444444444,\"#bd3786\"],[0.5555555555555556,\"#d8576b\"],[0.6666666666666666,\"#ed7953\"],[0.7777777777777778,\"#fb9f3a\"],[0.8888888888888888,\"#fdca26\"],[1.0,\"#f0f921\"]]}],\"mesh3d\":[{\"type\":\"mesh3d\",\"colorbar\":{\"outlinewidth\":0,\"ticks\":\"\"}}],\"scatter\":[{\"fillpattern\":{\"fillmode\":\"overlay\",\"size\":10,\"solidity\":0.2},\"type\":\"scatter\"}],\"parcoords\":[{\"type\":\"parcoords\",\"line\":{\"colorbar\":{\"outlinewidth\":0,\"ticks\":\"\"}}}],\"scatterpolargl\":[{\"type\":\"scatterpolargl\",\"marker\":{\"colorbar\":{\"outlinewidth\":0,\"ticks\":\"\"}}}],\"bar\":[{\"error_x\":{\"color\":\"#2a3f5f\"},\"error_y\":{\"color\":\"#2a3f5f\"},\"marker\":{\"line\":{\"color\":\"#E5ECF6\",\"width\":0.5},\"pattern\":{\"fillmode\":\"overlay\",\"size\":10,\"solidity\":0.2}},\"type\":\"bar\"}],\"scattergeo\":[{\"type\":\"scattergeo\",\"marker\":{\"colorbar\":{\"outlinewidth\":0,\"ticks\":\"\"}}}],\"scatterpolar\":[{\"type\":\"scatterpolar\",\"marker\":{\"colorbar\":{\"outlinewidth\":0,\"ticks\":\"\"}}}],\"histogram\":[{\"marker\":{\"pattern\":{\"fillmode\":\"overlay\",\"size\":10,\"solidity\":0.2}},\"type\":\"histogram\"}],\"scattergl\":[{\"type\":\"scattergl\",\"marker\":{\"colorbar\":{\"outlinewidth\":0,\"ticks\":\"\"}}}],\"scatter3d\":[{\"type\":\"scatter3d\",\"line\":{\"colorbar\":{\"outlinewidth\":0,\"ticks\":\"\"}},\"marker\":{\"colorbar\":{\"outlinewidth\":0,\"ticks\":\"\"}}}],\"scattermapbox\":[{\"type\":\"scattermapbox\",\"marker\":{\"colorbar\":{\"outlinewidth\":0,\"ticks\":\"\"}}}],\"scatterternary\":[{\"type\":\"scatterternary\",\"marker\":{\"colorbar\":{\"outlinewidth\":0,\"ticks\":\"\"}}}],\"scattercarpet\":[{\"type\":\"scattercarpet\",\"marker\":{\"colorbar\":{\"outlinewidth\":0,\"ticks\":\"\"}}}],\"carpet\":[{\"aaxis\":{\"endlinecolor\":\"#2a3f5f\",\"gridcolor\":\"white\",\"linecolor\":\"white\",\"minorgridcolor\":\"white\",\"startlinecolor\":\"#2a3f5f\"},\"baxis\":{\"endlinecolor\":\"#2a3f5f\",\"gridcolor\":\"white\",\"linecolor\":\"white\",\"minorgridcolor\":\"white\",\"startlinecolor\":\"#2a3f5f\"},\"type\":\"carpet\"}],\"table\":[{\"cells\":{\"fill\":{\"color\":\"#EBF0F8\"},\"line\":{\"color\":\"white\"}},\"header\":{\"fill\":{\"color\":\"#C8D4E3\"},\"line\":{\"color\":\"white\"}},\"type\":\"table\"}],\"barpolar\":[{\"marker\":{\"line\":{\"color\":\"#E5ECF6\",\"width\":0.5},\"pattern\":{\"fillmode\":\"overlay\",\"size\":10,\"solidity\":0.2}},\"type\":\"barpolar\"}],\"pie\":[{\"automargin\":true,\"type\":\"pie\"}]},\"layout\":{\"autotypenumbers\":\"strict\",\"colorway\":[\"#636efa\",\"#EF553B\",\"#00cc96\",\"#ab63fa\",\"#FFA15A\",\"#19d3f3\",\"#FF6692\",\"#B6E880\",\"#FF97FF\",\"#FECB52\"],\"font\":{\"color\":\"#2a3f5f\"},\"hovermode\":\"closest\",\"hoverlabel\":{\"align\":\"left\"},\"paper_bgcolor\":\"white\",\"plot_bgcolor\":\"#E5ECF6\",\"polar\":{\"bgcolor\":\"#E5ECF6\",\"angularaxis\":{\"gridcolor\":\"white\",\"linecolor\":\"white\",\"ticks\":\"\"},\"radialaxis\":{\"gridcolor\":\"white\",\"linecolor\":\"white\",\"ticks\":\"\"}},\"ternary\":{\"bgcolor\":\"#E5ECF6\",\"aaxis\":{\"gridcolor\":\"white\",\"linecolor\":\"white\",\"ticks\":\"\"},\"baxis\":{\"gridcolor\":\"white\",\"linecolor\":\"white\",\"ticks\":\"\"},\"caxis\":{\"gridcolor\":\"white\",\"linecolor\":\"white\",\"ticks\":\"\"}},\"coloraxis\":{\"colorbar\":{\"outlinewidth\":0,\"ticks\":\"\"}},\"colorscale\":{\"sequential\":[[0.0,\"#0d0887\"],[0.1111111111111111,\"#46039f\"],[0.2222222222222222,\"#7201a8\"],[0.3333333333333333,\"#9c179e\"],[0.4444444444444444,\"#bd3786\"],[0.5555555555555556,\"#d8576b\"],[0.6666666666666666,\"#ed7953\"],[0.7777777777777778,\"#fb9f3a\"],[0.8888888888888888,\"#fdca26\"],[1.0,\"#f0f921\"]],\"sequentialminus\":[[0.0,\"#0d0887\"],[0.1111111111111111,\"#46039f\"],[0.2222222222222222,\"#7201a8\"],[0.3333333333333333,\"#9c179e\"],[0.4444444444444444,\"#bd3786\"],[0.5555555555555556,\"#d8576b\"],[0.6666666666666666,\"#ed7953\"],[0.7777777777777778,\"#fb9f3a\"],[0.8888888888888888,\"#fdca26\"],[1.0,\"#f0f921\"]],\"diverging\":[[0,\"#8e0152\"],[0.1,\"#c51b7d\"],[0.2,\"#de77ae\"],[0.3,\"#f1b6da\"],[0.4,\"#fde0ef\"],[0.5,\"#f7f7f7\"],[0.6,\"#e6f5d0\"],[0.7,\"#b8e186\"],[0.8,\"#7fbc41\"],[0.9,\"#4d9221\"],[1,\"#276419\"]]},\"xaxis\":{\"gridcolor\":\"white\",\"linecolor\":\"white\",\"ticks\":\"\",\"title\":{\"standoff\":15},\"zerolinecolor\":\"white\",\"automargin\":true,\"zerolinewidth\":2},\"yaxis\":{\"gridcolor\":\"white\",\"linecolor\":\"white\",\"ticks\":\"\",\"title\":{\"standoff\":15},\"zerolinecolor\":\"white\",\"automargin\":true,\"zerolinewidth\":2},\"scene\":{\"xaxis\":{\"backgroundcolor\":\"#E5ECF6\",\"gridcolor\":\"white\",\"linecolor\":\"white\",\"showbackground\":true,\"ticks\":\"\",\"zerolinecolor\":\"white\",\"gridwidth\":2},\"yaxis\":{\"backgroundcolor\":\"#E5ECF6\",\"gridcolor\":\"white\",\"linecolor\":\"white\",\"showbackground\":true,\"ticks\":\"\",\"zerolinecolor\":\"white\",\"gridwidth\":2},\"zaxis\":{\"backgroundcolor\":\"#E5ECF6\",\"gridcolor\":\"white\",\"linecolor\":\"white\",\"showbackground\":true,\"ticks\":\"\",\"zerolinecolor\":\"white\",\"gridwidth\":2}},\"shapedefaults\":{\"line\":{\"color\":\"#2a3f5f\"}},\"annotationdefaults\":{\"arrowcolor\":\"#2a3f5f\",\"arrowhead\":0,\"arrowwidth\":1},\"geo\":{\"bgcolor\":\"white\",\"landcolor\":\"#E5ECF6\",\"subunitcolor\":\"white\",\"showland\":true,\"showlakes\":true,\"lakecolor\":\"white\"},\"title\":{\"x\":0.05},\"mapbox\":{\"style\":\"light\"}}},\"xaxis\":{\"anchor\":\"y\",\"domain\":[0.0,1.0],\"title\":{\"text\":\"inadimplencia\"}},\"yaxis\":{\"anchor\":\"x\",\"domain\":[0.0,1.0],\"title\":{\"text\":\"count\"}},\"legend\":{\"title\":{\"text\":\"aderencia_investimento\"},\"tracegroupgap\":0},\"margin\":{\"t\":60},\"barmode\":\"group\"},                        {\"responsive\": true}                    ).then(function(){\n",
              "                            \n",
              "var gd = document.getElementById('926d7fe5-96d3-4800-9825-f8f9a9bdf5bb');\n",
              "var x = new MutationObserver(function (mutations, observer) {{\n",
              "        var display = window.getComputedStyle(gd).display;\n",
              "        if (!display || display === 'none') {{\n",
              "            console.log([gd, 'removed!']);\n",
              "            Plotly.purge(gd);\n",
              "            observer.disconnect();\n",
              "        }}\n",
              "}});\n",
              "\n",
              "// Listen for the removal of the full notebook cells\n",
              "var notebookContainer = gd.closest('#notebook-container');\n",
              "if (notebookContainer) {{\n",
              "    x.observe(notebookContainer, {childList: true});\n",
              "}}\n",
              "\n",
              "// Listen for the clearing of the current output cell\n",
              "var outputEl = gd.closest('.output');\n",
              "if (outputEl) {{\n",
              "    x.observe(outputEl, {childList: true});\n",
              "}}\n",
              "\n",
              "                        })                };                            </script>        </div>\n",
              "</body>\n",
              "</html>"
            ]
          },
          "metadata": {}
        }
      ]
    },
    {
      "cell_type": "code",
      "source": [
        "px.histogram(data, x='fez_emprestimo', text_auto=True, color='aderencia_investimento', barmode='group')"
      ],
      "metadata": {
        "id": "JA6nHFFKOyd6",
        "colab": {
          "base_uri": "https://localhost:8080/",
          "height": 542
        },
        "outputId": "fc7b1bee-51a9-4153-effc-7cef4ecab7a7"
      },
      "execution_count": null,
      "outputs": [
        {
          "output_type": "display_data",
          "data": {
            "text/html": [
              "<html>\n",
              "<head><meta charset=\"utf-8\" /></head>\n",
              "<body>\n",
              "    <div>            <script src=\"https://cdnjs.cloudflare.com/ajax/libs/mathjax/2.7.5/MathJax.js?config=TeX-AMS-MML_SVG\"></script><script type=\"text/javascript\">if (window.MathJax && window.MathJax.Hub && window.MathJax.Hub.Config) {window.MathJax.Hub.Config({SVG: {font: \"STIX-Web\"}});}</script>                <script type=\"text/javascript\">window.PlotlyConfig = {MathJaxConfig: 'local'};</script>\n",
              "        <script charset=\"utf-8\" src=\"https://cdn.plot.ly/plotly-2.24.1.min.js\"></script>                <div id=\"9d86f03c-c11c-45bb-9b1e-c620331c70ab\" class=\"plotly-graph-div\" style=\"height:525px; width:100%;\"></div>            <script type=\"text/javascript\">                                    window.PLOTLYENV=window.PLOTLYENV || {};                                    if (document.getElementById(\"9d86f03c-c11c-45bb-9b1e-c620331c70ab\")) {                    Plotly.newPlot(                        \"9d86f03c-c11c-45bb-9b1e-c620331c70ab\",                        [{\"alignmentgroup\":\"True\",\"bingroup\":\"x\",\"hovertemplate\":\"aderencia_investimento=sim\\u003cbr\\u003efez_emprestimo=%{x}\\u003cbr\\u003ecount=%{y}\\u003cextra\\u003e\\u003c\\u002fextra\\u003e\",\"legendgroup\":\"sim\",\"marker\":{\"color\":\"#636efa\",\"pattern\":{\"shape\":\"\"}},\"name\":\"sim\",\"offsetgroup\":\"sim\",\"orientation\":\"v\",\"showlegend\":true,\"texttemplate\":\"%{value}\",\"x\":[\"nao\",\"nao\",\"nao\",\"nao\",\"sim\",\"nao\",\"sim\",\"nao\",\"nao\",\"nao\",\"nao\",\"nao\",\"nao\",\"nao\",\"nao\",\"nao\",\"nao\",\"sim\",\"nao\",\"nao\",\"nao\",\"nao\",\"nao\",\"nao\",\"nao\",\"nao\",\"nao\",\"nao\",\"sim\",\"nao\",\"nao\",\"nao\",\"nao\",\"nao\",\"nao\",\"nao\",\"nao\",\"nao\",\"nao\",\"nao\",\"nao\",\"nao\",\"sim\",\"nao\",\"nao\",\"nao\",\"nao\",\"nao\",\"nao\",\"nao\",\"nao\",\"nao\",\"nao\",\"nao\",\"nao\",\"nao\",\"nao\",\"nao\",\"nao\",\"sim\",\"nao\",\"nao\",\"nao\",\"nao\",\"nao\",\"nao\",\"nao\",\"nao\",\"nao\",\"nao\",\"nao\",\"sim\",\"nao\",\"nao\",\"nao\",\"nao\",\"sim\",\"nao\",\"nao\",\"nao\",\"nao\",\"nao\",\"nao\",\"nao\",\"nao\",\"nao\",\"nao\",\"nao\",\"nao\",\"nao\",\"nao\",\"nao\",\"nao\",\"nao\",\"nao\",\"nao\",\"nao\",\"nao\",\"nao\",\"nao\",\"sim\",\"nao\",\"nao\",\"nao\",\"nao\",\"nao\",\"nao\",\"nao\",\"nao\",\"nao\",\"nao\",\"nao\",\"nao\",\"nao\",\"nao\",\"nao\",\"nao\",\"nao\",\"nao\",\"nao\",\"nao\",\"nao\",\"nao\",\"nao\",\"nao\",\"nao\",\"sim\",\"nao\",\"nao\",\"nao\",\"nao\",\"nao\",\"nao\",\"nao\",\"nao\",\"sim\",\"nao\",\"nao\",\"nao\",\"nao\",\"nao\",\"nao\",\"nao\",\"nao\",\"nao\",\"nao\",\"nao\",\"sim\",\"nao\",\"nao\",\"nao\",\"nao\",\"nao\",\"nao\",\"nao\",\"nao\",\"nao\",\"nao\",\"sim\",\"nao\",\"nao\",\"nao\",\"nao\",\"nao\",\"nao\",\"nao\",\"nao\",\"nao\",\"sim\",\"nao\",\"nao\",\"sim\",\"nao\",\"sim\",\"nao\",\"nao\",\"nao\",\"nao\",\"nao\",\"nao\",\"nao\",\"nao\",\"nao\",\"nao\",\"nao\",\"nao\",\"nao\",\"nao\",\"nao\",\"nao\",\"nao\",\"nao\",\"nao\",\"nao\",\"nao\",\"nao\",\"nao\",\"nao\",\"nao\",\"nao\",\"nao\",\"nao\",\"nao\",\"nao\",\"nao\",\"nao\",\"nao\",\"nao\",\"nao\",\"nao\",\"nao\",\"nao\",\"nao\",\"nao\",\"nao\",\"nao\",\"nao\",\"sim\",\"nao\",\"nao\",\"nao\",\"nao\",\"nao\",\"nao\",\"nao\",\"nao\",\"nao\",\"nao\",\"nao\",\"nao\",\"nao\",\"sim\",\"nao\",\"nao\",\"nao\",\"nao\",\"nao\",\"nao\",\"nao\",\"nao\",\"nao\",\"nao\",\"nao\",\"nao\",\"nao\",\"nao\",\"nao\",\"nao\",\"nao\",\"nao\",\"sim\",\"nao\",\"nao\",\"sim\",\"nao\",\"nao\",\"nao\",\"nao\",\"nao\",\"nao\",\"nao\",\"nao\",\"nao\",\"nao\",\"nao\",\"nao\",\"nao\",\"sim\",\"nao\",\"nao\",\"nao\",\"nao\",\"sim\",\"sim\",\"nao\",\"nao\",\"nao\",\"nao\",\"nao\",\"nao\",\"nao\",\"nao\",\"nao\",\"nao\",\"nao\",\"nao\",\"nao\",\"nao\",\"nao\",\"nao\",\"nao\",\"nao\",\"nao\",\"nao\",\"nao\",\"nao\",\"nao\",\"nao\",\"nao\",\"nao\",\"sim\",\"nao\",\"nao\",\"nao\",\"nao\",\"nao\",\"nao\",\"nao\",\"nao\",\"nao\",\"nao\",\"sim\",\"nao\",\"nao\",\"nao\",\"nao\",\"nao\",\"nao\",\"nao\",\"nao\",\"nao\",\"nao\",\"nao\",\"nao\",\"nao\",\"nao\",\"sim\",\"nao\",\"sim\",\"nao\",\"nao\",\"nao\",\"nao\",\"sim\",\"nao\",\"nao\",\"sim\",\"nao\",\"nao\",\"nao\",\"nao\",\"nao\",\"nao\",\"nao\",\"nao\",\"nao\",\"nao\",\"nao\",\"nao\",\"nao\",\"nao\",\"nao\",\"nao\",\"nao\",\"nao\",\"nao\",\"nao\",\"nao\",\"nao\",\"nao\",\"sim\",\"nao\",\"nao\",\"sim\",\"sim\",\"nao\",\"nao\",\"nao\",\"nao\",\"nao\",\"nao\",\"nao\",\"nao\",\"nao\",\"sim\",\"nao\",\"nao\",\"nao\",\"nao\",\"nao\",\"nao\",\"nao\",\"nao\",\"nao\",\"nao\",\"nao\",\"nao\",\"nao\",\"sim\",\"nao\",\"nao\",\"nao\",\"nao\",\"nao\",\"nao\",\"nao\",\"nao\",\"nao\",\"nao\",\"nao\",\"nao\",\"nao\",\"nao\",\"nao\",\"nao\",\"nao\",\"nao\",\"sim\",\"nao\",\"nao\",\"nao\",\"nao\",\"nao\",\"nao\",\"nao\",\"sim\",\"nao\",\"nao\",\"sim\",\"nao\",\"nao\",\"nao\",\"sim\",\"nao\",\"nao\",\"nao\",\"nao\",\"nao\",\"nao\",\"nao\",\"nao\",\"nao\",\"nao\",\"nao\",\"nao\",\"nao\",\"nao\",\"nao\",\"nao\",\"nao\",\"sim\",\"nao\",\"nao\",\"nao\",\"nao\",\"nao\",\"nao\",\"nao\",\"nao\",\"nao\",\"nao\",\"nao\",\"nao\",\"nao\",\"nao\",\"nao\",\"nao\",\"nao\",\"sim\",\"nao\",\"nao\",\"nao\",\"nao\",\"nao\",\"nao\",\"nao\",\"nao\",\"nao\",\"nao\",\"nao\",\"sim\",\"nao\",\"nao\",\"nao\",\"nao\",\"nao\",\"nao\",\"nao\",\"nao\",\"nao\",\"nao\",\"nao\",\"nao\",\"nao\",\"nao\",\"nao\",\"nao\",\"nao\",\"nao\",\"nao\",\"nao\",\"sim\",\"nao\",\"nao\",\"nao\",\"nao\",\"nao\",\"nao\",\"nao\",\"sim\",\"nao\",\"nao\"],\"xaxis\":\"x\",\"yaxis\":\"y\",\"type\":\"histogram\"},{\"alignmentgroup\":\"True\",\"bingroup\":\"x\",\"hovertemplate\":\"aderencia_investimento=nao\\u003cbr\\u003efez_emprestimo=%{x}\\u003cbr\\u003ecount=%{y}\\u003cextra\\u003e\\u003c\\u002fextra\\u003e\",\"legendgroup\":\"nao\",\"marker\":{\"color\":\"#EF553B\",\"pattern\":{\"shape\":\"\"}},\"name\":\"nao\",\"offsetgroup\":\"nao\",\"orientation\":\"v\",\"showlegend\":true,\"texttemplate\":\"%{value}\",\"x\":[\"nao\",\"nao\",\"nao\",\"nao\",\"nao\",\"nao\",\"nao\",\"nao\",\"nao\",\"nao\",\"nao\",\"nao\",\"nao\",\"nao\",\"nao\",\"nao\",\"sim\",\"sim\",\"nao\",\"nao\",\"nao\",\"nao\",\"nao\",\"nao\",\"sim\",\"nao\",\"nao\",\"nao\",\"nao\",\"nao\",\"nao\",\"sim\",\"sim\",\"nao\",\"nao\",\"nao\",\"nao\",\"nao\",\"sim\",\"nao\",\"nao\",\"nao\",\"nao\",\"nao\",\"nao\",\"nao\",\"nao\",\"nao\",\"nao\",\"sim\",\"nao\",\"nao\",\"nao\",\"sim\",\"nao\",\"sim\",\"sim\",\"nao\",\"nao\",\"sim\",\"nao\",\"nao\",\"nao\",\"nao\",\"nao\",\"sim\",\"nao\",\"nao\",\"sim\",\"sim\",\"sim\",\"nao\",\"nao\",\"nao\",\"nao\",\"nao\",\"nao\",\"nao\",\"sim\",\"nao\",\"nao\",\"nao\",\"nao\",\"nao\",\"sim\",\"nao\",\"nao\",\"nao\",\"nao\",\"nao\",\"nao\",\"nao\",\"nao\",\"nao\",\"sim\",\"nao\",\"nao\",\"nao\",\"nao\",\"nao\",\"nao\",\"nao\",\"nao\",\"nao\",\"nao\",\"nao\",\"nao\",\"nao\",\"nao\",\"nao\",\"nao\",\"nao\",\"sim\",\"nao\",\"sim\",\"nao\",\"sim\",\"nao\",\"nao\",\"nao\",\"nao\",\"nao\",\"nao\",\"nao\",\"nao\",\"nao\",\"nao\",\"nao\",\"nao\",\"sim\",\"nao\",\"sim\",\"sim\",\"nao\",\"nao\",\"nao\",\"nao\",\"sim\",\"nao\",\"nao\",\"nao\",\"nao\",\"sim\",\"nao\",\"nao\",\"nao\",\"nao\",\"nao\",\"nao\",\"nao\",\"nao\",\"nao\",\"nao\",\"nao\",\"sim\",\"nao\",\"nao\",\"nao\",\"nao\",\"nao\",\"nao\",\"nao\",\"sim\",\"nao\",\"nao\",\"nao\",\"nao\",\"nao\",\"nao\",\"nao\",\"sim\",\"nao\",\"nao\",\"nao\",\"nao\",\"nao\",\"nao\",\"nao\",\"nao\",\"nao\",\"nao\",\"nao\",\"nao\",\"nao\",\"nao\",\"nao\",\"nao\",\"nao\",\"nao\",\"nao\",\"nao\",\"nao\",\"nao\",\"nao\",\"nao\",\"nao\",\"nao\",\"nao\",\"sim\",\"nao\",\"nao\",\"sim\",\"nao\",\"sim\",\"nao\",\"nao\",\"nao\",\"nao\",\"sim\",\"nao\",\"nao\",\"sim\",\"sim\",\"nao\",\"nao\",\"nao\",\"nao\",\"nao\",\"nao\",\"nao\",\"sim\",\"nao\",\"nao\",\"nao\",\"nao\",\"nao\",\"nao\",\"nao\",\"nao\",\"nao\",\"nao\",\"nao\",\"nao\",\"sim\",\"nao\",\"nao\",\"nao\",\"nao\",\"nao\",\"nao\",\"nao\",\"nao\",\"nao\",\"nao\",\"nao\",\"nao\",\"nao\",\"sim\",\"nao\",\"nao\",\"nao\",\"nao\",\"sim\",\"nao\",\"nao\",\"nao\",\"nao\",\"nao\",\"nao\",\"nao\",\"sim\",\"nao\",\"nao\",\"nao\",\"nao\",\"nao\",\"nao\",\"nao\",\"nao\",\"nao\",\"nao\",\"nao\",\"nao\",\"nao\",\"nao\",\"nao\",\"nao\",\"nao\",\"sim\",\"nao\",\"nao\",\"nao\",\"nao\",\"nao\",\"nao\",\"nao\",\"nao\",\"nao\",\"sim\",\"nao\",\"sim\",\"nao\",\"sim\",\"sim\",\"sim\",\"nao\",\"nao\",\"nao\",\"nao\",\"nao\",\"nao\",\"nao\",\"nao\",\"sim\",\"nao\",\"sim\",\"nao\",\"nao\",\"nao\",\"nao\",\"nao\",\"nao\",\"nao\",\"nao\",\"nao\",\"nao\",\"nao\",\"nao\",\"sim\",\"nao\",\"nao\",\"sim\",\"sim\",\"nao\",\"nao\",\"nao\",\"sim\",\"nao\",\"sim\",\"nao\",\"nao\",\"nao\",\"nao\",\"nao\",\"nao\",\"nao\",\"nao\",\"nao\",\"nao\",\"nao\",\"nao\",\"nao\",\"nao\",\"sim\",\"sim\",\"sim\",\"nao\",\"nao\",\"nao\",\"nao\",\"nao\",\"nao\",\"sim\",\"nao\",\"nao\",\"sim\",\"nao\",\"sim\",\"nao\",\"nao\",\"nao\",\"nao\",\"nao\",\"nao\",\"nao\",\"nao\",\"nao\",\"nao\",\"nao\",\"sim\",\"sim\",\"nao\",\"nao\",\"nao\",\"nao\",\"nao\",\"nao\",\"nao\",\"nao\",\"sim\",\"nao\",\"nao\",\"nao\",\"nao\",\"nao\",\"sim\",\"nao\",\"sim\",\"sim\",\"nao\",\"nao\",\"nao\",\"nao\",\"sim\",\"sim\",\"nao\",\"nao\",\"nao\",\"nao\",\"nao\",\"nao\",\"nao\",\"nao\",\"nao\",\"nao\",\"nao\",\"nao\",\"nao\",\"nao\",\"nao\",\"nao\",\"sim\",\"nao\",\"nao\",\"sim\",\"nao\",\"nao\",\"nao\",\"nao\",\"nao\",\"nao\",\"nao\",\"nao\",\"nao\",\"sim\",\"nao\",\"nao\",\"nao\",\"nao\",\"nao\",\"nao\",\"nao\",\"nao\",\"nao\",\"nao\",\"sim\",\"nao\",\"nao\",\"nao\",\"nao\",\"nao\",\"nao\",\"nao\",\"nao\",\"nao\",\"nao\",\"nao\",\"nao\",\"nao\",\"nao\",\"nao\",\"nao\",\"nao\",\"nao\",\"sim\",\"nao\",\"nao\",\"sim\",\"sim\",\"nao\",\"nao\",\"nao\",\"nao\",\"nao\",\"nao\",\"nao\",\"nao\",\"sim\",\"sim\",\"nao\",\"nao\",\"nao\",\"nao\",\"sim\",\"nao\",\"sim\",\"nao\",\"sim\",\"nao\",\"sim\",\"nao\",\"sim\",\"sim\",\"nao\",\"nao\",\"nao\",\"nao\",\"nao\",\"nao\",\"sim\",\"nao\",\"sim\",\"nao\",\"sim\",\"nao\",\"nao\",\"nao\",\"nao\",\"nao\",\"nao\",\"nao\",\"nao\",\"sim\",\"nao\",\"nao\",\"nao\",\"nao\",\"nao\",\"nao\",\"nao\",\"nao\",\"sim\",\"sim\",\"nao\",\"nao\",\"nao\",\"nao\",\"nao\",\"nao\",\"nao\",\"nao\",\"nao\",\"sim\",\"nao\",\"sim\",\"nao\",\"nao\",\"sim\",\"sim\",\"nao\",\"sim\",\"nao\",\"nao\",\"nao\",\"nao\",\"nao\",\"nao\",\"nao\",\"nao\",\"nao\",\"nao\",\"nao\",\"nao\",\"nao\",\"nao\",\"nao\",\"nao\",\"nao\",\"nao\",\"nao\",\"nao\",\"nao\",\"nao\",\"sim\",\"nao\",\"sim\",\"nao\",\"nao\",\"nao\",\"sim\",\"nao\",\"nao\",\"nao\",\"nao\",\"nao\",\"nao\",\"nao\",\"sim\",\"nao\",\"nao\",\"nao\",\"nao\",\"nao\",\"nao\",\"nao\",\"nao\",\"sim\",\"sim\",\"sim\",\"nao\",\"nao\",\"nao\",\"nao\",\"nao\",\"nao\",\"nao\",\"nao\",\"nao\",\"nao\",\"nao\",\"nao\",\"nao\",\"nao\",\"nao\",\"nao\",\"nao\",\"nao\",\"nao\",\"nao\",\"nao\",\"nao\",\"nao\",\"nao\",\"sim\",\"sim\",\"nao\",\"nao\",\"nao\",\"nao\",\"nao\",\"sim\",\"nao\",\"sim\",\"nao\",\"nao\",\"sim\",\"sim\",\"nao\",\"nao\",\"nao\",\"nao\",\"nao\",\"nao\",\"nao\",\"sim\",\"sim\",\"sim\",\"nao\",\"nao\",\"nao\",\"sim\",\"nao\",\"nao\",\"nao\",\"nao\",\"nao\",\"sim\",\"nao\",\"nao\",\"nao\",\"nao\",\"nao\",\"sim\",\"nao\",\"nao\",\"nao\",\"nao\",\"nao\",\"nao\",\"nao\",\"nao\",\"nao\",\"sim\",\"nao\",\"nao\",\"nao\",\"nao\",\"nao\",\"nao\",\"nao\",\"nao\",\"nao\",\"nao\",\"nao\",\"nao\",\"nao\",\"nao\",\"nao\",\"nao\",\"nao\",\"nao\",\"nao\",\"nao\",\"nao\",\"nao\",\"nao\",\"nao\",\"nao\",\"nao\",\"nao\",\"nao\",\"nao\",\"nao\",\"nao\",\"nao\",\"sim\",\"nao\",\"nao\",\"nao\",\"nao\",\"nao\",\"nao\",\"nao\",\"nao\",\"nao\",\"nao\",\"nao\",\"nao\",\"nao\",\"sim\",\"nao\",\"nao\",\"sim\",\"nao\",\"nao\",\"nao\",\"nao\",\"nao\",\"nao\",\"nao\",\"nao\",\"nao\",\"nao\",\"nao\",\"sim\",\"nao\",\"nao\",\"nao\",\"sim\",\"nao\",\"sim\",\"nao\",\"sim\",\"nao\",\"nao\",\"nao\",\"nao\",\"nao\",\"nao\",\"nao\",\"nao\",\"sim\",\"nao\",\"sim\",\"sim\",\"nao\",\"nao\",\"nao\",\"nao\",\"nao\",\"nao\",\"nao\",\"nao\",\"nao\",\"nao\",\"nao\",\"nao\",\"nao\",\"nao\",\"nao\",\"nao\",\"nao\",\"sim\",\"sim\",\"nao\",\"nao\",\"nao\",\"nao\",\"nao\",\"nao\",\"nao\",\"nao\",\"nao\",\"nao\",\"sim\",\"sim\"],\"xaxis\":\"x\",\"yaxis\":\"y\",\"type\":\"histogram\"}],                        {\"template\":{\"data\":{\"histogram2dcontour\":[{\"type\":\"histogram2dcontour\",\"colorbar\":{\"outlinewidth\":0,\"ticks\":\"\"},\"colorscale\":[[0.0,\"#0d0887\"],[0.1111111111111111,\"#46039f\"],[0.2222222222222222,\"#7201a8\"],[0.3333333333333333,\"#9c179e\"],[0.4444444444444444,\"#bd3786\"],[0.5555555555555556,\"#d8576b\"],[0.6666666666666666,\"#ed7953\"],[0.7777777777777778,\"#fb9f3a\"],[0.8888888888888888,\"#fdca26\"],[1.0,\"#f0f921\"]]}],\"choropleth\":[{\"type\":\"choropleth\",\"colorbar\":{\"outlinewidth\":0,\"ticks\":\"\"}}],\"histogram2d\":[{\"type\":\"histogram2d\",\"colorbar\":{\"outlinewidth\":0,\"ticks\":\"\"},\"colorscale\":[[0.0,\"#0d0887\"],[0.1111111111111111,\"#46039f\"],[0.2222222222222222,\"#7201a8\"],[0.3333333333333333,\"#9c179e\"],[0.4444444444444444,\"#bd3786\"],[0.5555555555555556,\"#d8576b\"],[0.6666666666666666,\"#ed7953\"],[0.7777777777777778,\"#fb9f3a\"],[0.8888888888888888,\"#fdca26\"],[1.0,\"#f0f921\"]]}],\"heatmap\":[{\"type\":\"heatmap\",\"colorbar\":{\"outlinewidth\":0,\"ticks\":\"\"},\"colorscale\":[[0.0,\"#0d0887\"],[0.1111111111111111,\"#46039f\"],[0.2222222222222222,\"#7201a8\"],[0.3333333333333333,\"#9c179e\"],[0.4444444444444444,\"#bd3786\"],[0.5555555555555556,\"#d8576b\"],[0.6666666666666666,\"#ed7953\"],[0.7777777777777778,\"#fb9f3a\"],[0.8888888888888888,\"#fdca26\"],[1.0,\"#f0f921\"]]}],\"heatmapgl\":[{\"type\":\"heatmapgl\",\"colorbar\":{\"outlinewidth\":0,\"ticks\":\"\"},\"colorscale\":[[0.0,\"#0d0887\"],[0.1111111111111111,\"#46039f\"],[0.2222222222222222,\"#7201a8\"],[0.3333333333333333,\"#9c179e\"],[0.4444444444444444,\"#bd3786\"],[0.5555555555555556,\"#d8576b\"],[0.6666666666666666,\"#ed7953\"],[0.7777777777777778,\"#fb9f3a\"],[0.8888888888888888,\"#fdca26\"],[1.0,\"#f0f921\"]]}],\"contourcarpet\":[{\"type\":\"contourcarpet\",\"colorbar\":{\"outlinewidth\":0,\"ticks\":\"\"}}],\"contour\":[{\"type\":\"contour\",\"colorbar\":{\"outlinewidth\":0,\"ticks\":\"\"},\"colorscale\":[[0.0,\"#0d0887\"],[0.1111111111111111,\"#46039f\"],[0.2222222222222222,\"#7201a8\"],[0.3333333333333333,\"#9c179e\"],[0.4444444444444444,\"#bd3786\"],[0.5555555555555556,\"#d8576b\"],[0.6666666666666666,\"#ed7953\"],[0.7777777777777778,\"#fb9f3a\"],[0.8888888888888888,\"#fdca26\"],[1.0,\"#f0f921\"]]}],\"surface\":[{\"type\":\"surface\",\"colorbar\":{\"outlinewidth\":0,\"ticks\":\"\"},\"colorscale\":[[0.0,\"#0d0887\"],[0.1111111111111111,\"#46039f\"],[0.2222222222222222,\"#7201a8\"],[0.3333333333333333,\"#9c179e\"],[0.4444444444444444,\"#bd3786\"],[0.5555555555555556,\"#d8576b\"],[0.6666666666666666,\"#ed7953\"],[0.7777777777777778,\"#fb9f3a\"],[0.8888888888888888,\"#fdca26\"],[1.0,\"#f0f921\"]]}],\"mesh3d\":[{\"type\":\"mesh3d\",\"colorbar\":{\"outlinewidth\":0,\"ticks\":\"\"}}],\"scatter\":[{\"fillpattern\":{\"fillmode\":\"overlay\",\"size\":10,\"solidity\":0.2},\"type\":\"scatter\"}],\"parcoords\":[{\"type\":\"parcoords\",\"line\":{\"colorbar\":{\"outlinewidth\":0,\"ticks\":\"\"}}}],\"scatterpolargl\":[{\"type\":\"scatterpolargl\",\"marker\":{\"colorbar\":{\"outlinewidth\":0,\"ticks\":\"\"}}}],\"bar\":[{\"error_x\":{\"color\":\"#2a3f5f\"},\"error_y\":{\"color\":\"#2a3f5f\"},\"marker\":{\"line\":{\"color\":\"#E5ECF6\",\"width\":0.5},\"pattern\":{\"fillmode\":\"overlay\",\"size\":10,\"solidity\":0.2}},\"type\":\"bar\"}],\"scattergeo\":[{\"type\":\"scattergeo\",\"marker\":{\"colorbar\":{\"outlinewidth\":0,\"ticks\":\"\"}}}],\"scatterpolar\":[{\"type\":\"scatterpolar\",\"marker\":{\"colorbar\":{\"outlinewidth\":0,\"ticks\":\"\"}}}],\"histogram\":[{\"marker\":{\"pattern\":{\"fillmode\":\"overlay\",\"size\":10,\"solidity\":0.2}},\"type\":\"histogram\"}],\"scattergl\":[{\"type\":\"scattergl\",\"marker\":{\"colorbar\":{\"outlinewidth\":0,\"ticks\":\"\"}}}],\"scatter3d\":[{\"type\":\"scatter3d\",\"line\":{\"colorbar\":{\"outlinewidth\":0,\"ticks\":\"\"}},\"marker\":{\"colorbar\":{\"outlinewidth\":0,\"ticks\":\"\"}}}],\"scattermapbox\":[{\"type\":\"scattermapbox\",\"marker\":{\"colorbar\":{\"outlinewidth\":0,\"ticks\":\"\"}}}],\"scatterternary\":[{\"type\":\"scatterternary\",\"marker\":{\"colorbar\":{\"outlinewidth\":0,\"ticks\":\"\"}}}],\"scattercarpet\":[{\"type\":\"scattercarpet\",\"marker\":{\"colorbar\":{\"outlinewidth\":0,\"ticks\":\"\"}}}],\"carpet\":[{\"aaxis\":{\"endlinecolor\":\"#2a3f5f\",\"gridcolor\":\"white\",\"linecolor\":\"white\",\"minorgridcolor\":\"white\",\"startlinecolor\":\"#2a3f5f\"},\"baxis\":{\"endlinecolor\":\"#2a3f5f\",\"gridcolor\":\"white\",\"linecolor\":\"white\",\"minorgridcolor\":\"white\",\"startlinecolor\":\"#2a3f5f\"},\"type\":\"carpet\"}],\"table\":[{\"cells\":{\"fill\":{\"color\":\"#EBF0F8\"},\"line\":{\"color\":\"white\"}},\"header\":{\"fill\":{\"color\":\"#C8D4E3\"},\"line\":{\"color\":\"white\"}},\"type\":\"table\"}],\"barpolar\":[{\"marker\":{\"line\":{\"color\":\"#E5ECF6\",\"width\":0.5},\"pattern\":{\"fillmode\":\"overlay\",\"size\":10,\"solidity\":0.2}},\"type\":\"barpolar\"}],\"pie\":[{\"automargin\":true,\"type\":\"pie\"}]},\"layout\":{\"autotypenumbers\":\"strict\",\"colorway\":[\"#636efa\",\"#EF553B\",\"#00cc96\",\"#ab63fa\",\"#FFA15A\",\"#19d3f3\",\"#FF6692\",\"#B6E880\",\"#FF97FF\",\"#FECB52\"],\"font\":{\"color\":\"#2a3f5f\"},\"hovermode\":\"closest\",\"hoverlabel\":{\"align\":\"left\"},\"paper_bgcolor\":\"white\",\"plot_bgcolor\":\"#E5ECF6\",\"polar\":{\"bgcolor\":\"#E5ECF6\",\"angularaxis\":{\"gridcolor\":\"white\",\"linecolor\":\"white\",\"ticks\":\"\"},\"radialaxis\":{\"gridcolor\":\"white\",\"linecolor\":\"white\",\"ticks\":\"\"}},\"ternary\":{\"bgcolor\":\"#E5ECF6\",\"aaxis\":{\"gridcolor\":\"white\",\"linecolor\":\"white\",\"ticks\":\"\"},\"baxis\":{\"gridcolor\":\"white\",\"linecolor\":\"white\",\"ticks\":\"\"},\"caxis\":{\"gridcolor\":\"white\",\"linecolor\":\"white\",\"ticks\":\"\"}},\"coloraxis\":{\"colorbar\":{\"outlinewidth\":0,\"ticks\":\"\"}},\"colorscale\":{\"sequential\":[[0.0,\"#0d0887\"],[0.1111111111111111,\"#46039f\"],[0.2222222222222222,\"#7201a8\"],[0.3333333333333333,\"#9c179e\"],[0.4444444444444444,\"#bd3786\"],[0.5555555555555556,\"#d8576b\"],[0.6666666666666666,\"#ed7953\"],[0.7777777777777778,\"#fb9f3a\"],[0.8888888888888888,\"#fdca26\"],[1.0,\"#f0f921\"]],\"sequentialminus\":[[0.0,\"#0d0887\"],[0.1111111111111111,\"#46039f\"],[0.2222222222222222,\"#7201a8\"],[0.3333333333333333,\"#9c179e\"],[0.4444444444444444,\"#bd3786\"],[0.5555555555555556,\"#d8576b\"],[0.6666666666666666,\"#ed7953\"],[0.7777777777777778,\"#fb9f3a\"],[0.8888888888888888,\"#fdca26\"],[1.0,\"#f0f921\"]],\"diverging\":[[0,\"#8e0152\"],[0.1,\"#c51b7d\"],[0.2,\"#de77ae\"],[0.3,\"#f1b6da\"],[0.4,\"#fde0ef\"],[0.5,\"#f7f7f7\"],[0.6,\"#e6f5d0\"],[0.7,\"#b8e186\"],[0.8,\"#7fbc41\"],[0.9,\"#4d9221\"],[1,\"#276419\"]]},\"xaxis\":{\"gridcolor\":\"white\",\"linecolor\":\"white\",\"ticks\":\"\",\"title\":{\"standoff\":15},\"zerolinecolor\":\"white\",\"automargin\":true,\"zerolinewidth\":2},\"yaxis\":{\"gridcolor\":\"white\",\"linecolor\":\"white\",\"ticks\":\"\",\"title\":{\"standoff\":15},\"zerolinecolor\":\"white\",\"automargin\":true,\"zerolinewidth\":2},\"scene\":{\"xaxis\":{\"backgroundcolor\":\"#E5ECF6\",\"gridcolor\":\"white\",\"linecolor\":\"white\",\"showbackground\":true,\"ticks\":\"\",\"zerolinecolor\":\"white\",\"gridwidth\":2},\"yaxis\":{\"backgroundcolor\":\"#E5ECF6\",\"gridcolor\":\"white\",\"linecolor\":\"white\",\"showbackground\":true,\"ticks\":\"\",\"zerolinecolor\":\"white\",\"gridwidth\":2},\"zaxis\":{\"backgroundcolor\":\"#E5ECF6\",\"gridcolor\":\"white\",\"linecolor\":\"white\",\"showbackground\":true,\"ticks\":\"\",\"zerolinecolor\":\"white\",\"gridwidth\":2}},\"shapedefaults\":{\"line\":{\"color\":\"#2a3f5f\"}},\"annotationdefaults\":{\"arrowcolor\":\"#2a3f5f\",\"arrowhead\":0,\"arrowwidth\":1},\"geo\":{\"bgcolor\":\"white\",\"landcolor\":\"#E5ECF6\",\"subunitcolor\":\"white\",\"showland\":true,\"showlakes\":true,\"lakecolor\":\"white\"},\"title\":{\"x\":0.05},\"mapbox\":{\"style\":\"light\"}}},\"xaxis\":{\"anchor\":\"y\",\"domain\":[0.0,1.0],\"title\":{\"text\":\"fez_emprestimo\"}},\"yaxis\":{\"anchor\":\"x\",\"domain\":[0.0,1.0],\"title\":{\"text\":\"count\"}},\"legend\":{\"title\":{\"text\":\"aderencia_investimento\"},\"tracegroupgap\":0},\"margin\":{\"t\":60},\"barmode\":\"group\"},                        {\"responsive\": true}                    ).then(function(){\n",
              "                            \n",
              "var gd = document.getElementById('9d86f03c-c11c-45bb-9b1e-c620331c70ab');\n",
              "var x = new MutationObserver(function (mutations, observer) {{\n",
              "        var display = window.getComputedStyle(gd).display;\n",
              "        if (!display || display === 'none') {{\n",
              "            console.log([gd, 'removed!']);\n",
              "            Plotly.purge(gd);\n",
              "            observer.disconnect();\n",
              "        }}\n",
              "}});\n",
              "\n",
              "// Listen for the removal of the full notebook cells\n",
              "var notebookContainer = gd.closest('#notebook-container');\n",
              "if (notebookContainer) {{\n",
              "    x.observe(notebookContainer, {childList: true});\n",
              "}}\n",
              "\n",
              "// Listen for the clearing of the current output cell\n",
              "var outputEl = gd.closest('.output');\n",
              "if (outputEl) {{\n",
              "    x.observe(outputEl, {childList: true});\n",
              "}}\n",
              "\n",
              "                        })                };                            </script>        </div>\n",
              "</body>\n",
              "</html>"
            ]
          },
          "metadata": {}
        }
      ]
    },
    {
      "cell_type": "markdown",
      "source": [
        "### Variáveis numéricas"
      ],
      "metadata": {
        "id": "k9-qL8BEMH23"
      }
    },
    {
      "cell_type": "code",
      "source": [
        "px.box(data, x='idade', color='aderencia_investimento')"
      ],
      "metadata": {
        "id": "QBOb6iNNmSBv",
        "colab": {
          "base_uri": "https://localhost:8080/",
          "height": 542
        },
        "outputId": "2e33d3a6-23c8-462a-bc89-dc83f08fb752"
      },
      "execution_count": null,
      "outputs": [
        {
          "output_type": "display_data",
          "data": {
            "text/html": [
              "<html>\n",
              "<head><meta charset=\"utf-8\" /></head>\n",
              "<body>\n",
              "    <div>            <script src=\"https://cdnjs.cloudflare.com/ajax/libs/mathjax/2.7.5/MathJax.js?config=TeX-AMS-MML_SVG\"></script><script type=\"text/javascript\">if (window.MathJax && window.MathJax.Hub && window.MathJax.Hub.Config) {window.MathJax.Hub.Config({SVG: {font: \"STIX-Web\"}});}</script>                <script type=\"text/javascript\">window.PlotlyConfig = {MathJaxConfig: 'local'};</script>\n",
              "        <script charset=\"utf-8\" src=\"https://cdn.plot.ly/plotly-2.24.1.min.js\"></script>                <div id=\"32dd180c-bd59-42b6-aec3-45e8fdf47243\" class=\"plotly-graph-div\" style=\"height:525px; width:100%;\"></div>            <script type=\"text/javascript\">                                    window.PLOTLYENV=window.PLOTLYENV || {};                                    if (document.getElementById(\"32dd180c-bd59-42b6-aec3-45e8fdf47243\")) {                    Plotly.newPlot(                        \"32dd180c-bd59-42b6-aec3-45e8fdf47243\",                        [{\"alignmentgroup\":\"True\",\"hovertemplate\":\"aderencia_investimento=sim\\u003cbr\\u003eidade=%{x}\\u003cextra\\u003e\\u003c\\u002fextra\\u003e\",\"legendgroup\":\"sim\",\"marker\":{\"color\":\"#636efa\"},\"name\":\"sim\",\"notched\":false,\"offsetgroup\":\"sim\",\"orientation\":\"h\",\"showlegend\":true,\"x\":[45,42,58,50,24,34,33,33,80,46,30,47,30,47,32,71,31,30,52,51,34,59,35,22,28,60,43,35,54,32,49,43,20,49,48,49,49,32,38,31,27,32,34,33,34,32,68,60,32,21,33,39,54,42,45,31,83,34,47,48,29,33,31,58,37,28,49,57,34,30,78,29,59,48,49,75,46,79,28,43,26,66,61,72,53,58,52,62,37,55,33,35,40,25,49,37,74,35,33,39,47,34,51,46,36,43,61,31,55,30,49,32,36,34,49,38,45,53,52,43,61,31,59,30,35,38,53,47,22,35,27,63,28,47,27,29,46,44,32,38,71,73,41,38,25,46,77,30,48,25,32,53,51,37,28,49,19,50,41,80,52,31,46,28,41,27,46,44,41,28,44,57,43,30,37,36,58,54,32,44,24,55,53,35,34,31,32,59,33,30,46,52,45,55,32,33,56,34,43,32,41,42,53,54,23,32,75,37,39,36,36,53,35,32,49,77,41,45,67,46,48,27,54,63,27,32,48,27,33,49,41,35,87,32,53,31,30,56,49,36,28,36,33,32,44,49,35,61,36,46,42,47,48,60,46,66,55,30,34,40,40,59,50,39,37,47,43,38,38,35,25,25,31,50,47,29,59,46,75,37,63,32,34,48,27,33,55,60,46,33,30,45,23,59,44,29,28,34,29,34,50,43,47,71,34,28,32,53,49,33,64,25,60,22,32,34,31,29,31,51,61,83,29,44,38,29,46,44,41,43,39,59,37,40,38,44,42,45,54,28,36,59,59,36,26,26,35,64,38,59,42,60,51,62,27,34,26,53,36,37,30,32,40,43,27,45,19,25,44,38,27,37,35,41,28,56,36,29,33,55,28,84,32,73,77,52,62,56,41,41,31,56,39,40,28,36,42,31,25,35,59,30,53,32,38,34,26,50,38,38,34,69,47,35,39,34,38,29,54,55,48,34,25,52,40,36,24,33,34,68,27,47,39,36,41,34,35,57,32,28,55,41,35,60,28,35,27,74,39,34,56,26,29,33,37,42,61,50,29,36,32,31,53,45,37,53,40,27,36,34,31,55,61,45,45,49,55,41,47,42,37,32,25,38,39,79,26,33,47,24,53,40,30,38,32,37,36,52,35,30,42,29],\"x0\":\" \",\"xaxis\":\"x\",\"y0\":\" \",\"yaxis\":\"y\",\"type\":\"box\"},{\"alignmentgroup\":\"True\",\"hovertemplate\":\"aderencia_investimento=nao\\u003cbr\\u003eidade=%{x}\\u003cextra\\u003e\\u003c\\u002fextra\\u003e\",\"legendgroup\":\"nao\",\"marker\":{\"color\":\"#EF553B\"},\"name\":\"nao\",\"notched\":false,\"offsetgroup\":\"nao\",\"orientation\":\"h\",\"showlegend\":true,\"x\":[23,53,30,39,30,39,34,38,48,39,53,38,24,44,53,41,27,58,51,47,34,40,44,55,38,38,54,43,31,36,33,38,57,31,34,29,38,41,34,37,50,55,45,35,49,36,41,48,49,55,34,57,38,40,45,61,57,76,33,32,34,37,34,31,47,31,35,31,35,40,38,49,40,34,50,40,43,39,45,26,42,33,75,30,32,59,38,52,36,50,27,45,40,48,36,49,36,39,33,30,32,29,36,41,38,36,42,30,31,30,27,37,34,59,35,42,28,55,50,33,32,53,60,34,54,42,36,33,67,34,70,35,34,61,47,40,28,33,52,43,30,59,39,32,42,57,33,37,44,45,41,26,51,46,45,46,41,29,41,59,34,30,42,33,30,39,59,39,33,42,52,33,36,40,45,60,36,53,34,49,43,46,39,41,44,41,27,31,25,32,56,30,29,31,37,58,57,33,51,42,54,28,35,46,26,59,50,36,52,32,53,52,41,40,34,49,34,28,32,34,36,56,42,29,45,37,46,40,42,34,55,33,51,42,30,50,41,32,32,53,36,33,33,58,49,43,80,55,30,27,36,35,36,32,39,50,36,52,37,47,39,41,23,36,58,52,23,34,47,50,38,31,40,40,48,39,34,41,55,59,40,28,36,41,27,33,47,44,31,28,34,31,31,34,33,37,58,37,28,34,34,25,35,39,58,26,32,31,31,45,37,83,51,52,29,30,35,30,26,45,41,22,41,33,41,34,33,29,49,51,40,42,31,31,31,46,34,38,27,56,33,37,30,42,52,49,47,46,51,42,59,27,60,38,28,31,38,55,58,53,30,49,25,46,28,49,43,56,38,33,32,27,29,59,28,32,44,63,51,44,38,40,33,36,35,56,32,35,57,31,39,57,44,38,60,38,37,34,49,40,46,29,31,23,48,38,33,42,48,48,45,39,34,59,40,31,33,57,58,36,50,34,45,36,53,36,28,30,33,43,38,32,30,45,30,53,43,49,35,36,45,30,40,40,34,36,42,52,42,28,39,41,46,40,33,54,51,33,56,43,29,43,58,29,57,54,42,34,31,30,31,47,44,30,33,57,37,36,51,43,59,54,32,45,37,69,43,31,58,56,34,47,31,39,38,46,57,27,58,26,58,37,41,49,37,43,34,53,33,36,26,41,37,33,36,38,33,48,33,27,33,33,33,59,33,36,46,26,40,46,26,39,36,39,39,35,31,45,48,47,33,41,31,50,55,37,36,36,60,32,35,32,39,50,52,35,35,43,55,26,31,30,38,48,43,35,37,58,41,49,49,49,53,48,28,36,42,36,37,28,42,69,45,46,40,48,52,52,32,32,31,34,32,56,34,39,44,39,42,30,54,38,35,30,32,36,40,41,31,58,55,39,38,34,42,35,29,54,48,32,46,51,56,35,42,46,58,44,54,53,41,42,25,70,56,35,38,50,30,30,39,36,34,53,27,42,51,57,59,39,38,45,41,45,52,38,40,29,35,43,34,41,76,30,32,39,38,59,47,44,52,51,32,33,56,35,59,58,28,56,42,58,32,33,55,33,48,61,49,36,51,30,27,33,28,34,45,50,54,56,25,47,51,28,33,39,36,37,35,26,41,40,36,35,31,30,47,47,56,33,31,30,30,51,37,34,54,41,35,49,37,49,58,31,42,33,51,36,57,34,42,30,43,42,34,46,33,27,46,31,66,57,38,45,28,33,35,32,58,34,26,37,40,26,38,56],\"x0\":\" \",\"xaxis\":\"x\",\"y0\":\" \",\"yaxis\":\"y\",\"type\":\"box\"}],                        {\"template\":{\"data\":{\"histogram2dcontour\":[{\"type\":\"histogram2dcontour\",\"colorbar\":{\"outlinewidth\":0,\"ticks\":\"\"},\"colorscale\":[[0.0,\"#0d0887\"],[0.1111111111111111,\"#46039f\"],[0.2222222222222222,\"#7201a8\"],[0.3333333333333333,\"#9c179e\"],[0.4444444444444444,\"#bd3786\"],[0.5555555555555556,\"#d8576b\"],[0.6666666666666666,\"#ed7953\"],[0.7777777777777778,\"#fb9f3a\"],[0.8888888888888888,\"#fdca26\"],[1.0,\"#f0f921\"]]}],\"choropleth\":[{\"type\":\"choropleth\",\"colorbar\":{\"outlinewidth\":0,\"ticks\":\"\"}}],\"histogram2d\":[{\"type\":\"histogram2d\",\"colorbar\":{\"outlinewidth\":0,\"ticks\":\"\"},\"colorscale\":[[0.0,\"#0d0887\"],[0.1111111111111111,\"#46039f\"],[0.2222222222222222,\"#7201a8\"],[0.3333333333333333,\"#9c179e\"],[0.4444444444444444,\"#bd3786\"],[0.5555555555555556,\"#d8576b\"],[0.6666666666666666,\"#ed7953\"],[0.7777777777777778,\"#fb9f3a\"],[0.8888888888888888,\"#fdca26\"],[1.0,\"#f0f921\"]]}],\"heatmap\":[{\"type\":\"heatmap\",\"colorbar\":{\"outlinewidth\":0,\"ticks\":\"\"},\"colorscale\":[[0.0,\"#0d0887\"],[0.1111111111111111,\"#46039f\"],[0.2222222222222222,\"#7201a8\"],[0.3333333333333333,\"#9c179e\"],[0.4444444444444444,\"#bd3786\"],[0.5555555555555556,\"#d8576b\"],[0.6666666666666666,\"#ed7953\"],[0.7777777777777778,\"#fb9f3a\"],[0.8888888888888888,\"#fdca26\"],[1.0,\"#f0f921\"]]}],\"heatmapgl\":[{\"type\":\"heatmapgl\",\"colorbar\":{\"outlinewidth\":0,\"ticks\":\"\"},\"colorscale\":[[0.0,\"#0d0887\"],[0.1111111111111111,\"#46039f\"],[0.2222222222222222,\"#7201a8\"],[0.3333333333333333,\"#9c179e\"],[0.4444444444444444,\"#bd3786\"],[0.5555555555555556,\"#d8576b\"],[0.6666666666666666,\"#ed7953\"],[0.7777777777777778,\"#fb9f3a\"],[0.8888888888888888,\"#fdca26\"],[1.0,\"#f0f921\"]]}],\"contourcarpet\":[{\"type\":\"contourcarpet\",\"colorbar\":{\"outlinewidth\":0,\"ticks\":\"\"}}],\"contour\":[{\"type\":\"contour\",\"colorbar\":{\"outlinewidth\":0,\"ticks\":\"\"},\"colorscale\":[[0.0,\"#0d0887\"],[0.1111111111111111,\"#46039f\"],[0.2222222222222222,\"#7201a8\"],[0.3333333333333333,\"#9c179e\"],[0.4444444444444444,\"#bd3786\"],[0.5555555555555556,\"#d8576b\"],[0.6666666666666666,\"#ed7953\"],[0.7777777777777778,\"#fb9f3a\"],[0.8888888888888888,\"#fdca26\"],[1.0,\"#f0f921\"]]}],\"surface\":[{\"type\":\"surface\",\"colorbar\":{\"outlinewidth\":0,\"ticks\":\"\"},\"colorscale\":[[0.0,\"#0d0887\"],[0.1111111111111111,\"#46039f\"],[0.2222222222222222,\"#7201a8\"],[0.3333333333333333,\"#9c179e\"],[0.4444444444444444,\"#bd3786\"],[0.5555555555555556,\"#d8576b\"],[0.6666666666666666,\"#ed7953\"],[0.7777777777777778,\"#fb9f3a\"],[0.8888888888888888,\"#fdca26\"],[1.0,\"#f0f921\"]]}],\"mesh3d\":[{\"type\":\"mesh3d\",\"colorbar\":{\"outlinewidth\":0,\"ticks\":\"\"}}],\"scatter\":[{\"fillpattern\":{\"fillmode\":\"overlay\",\"size\":10,\"solidity\":0.2},\"type\":\"scatter\"}],\"parcoords\":[{\"type\":\"parcoords\",\"line\":{\"colorbar\":{\"outlinewidth\":0,\"ticks\":\"\"}}}],\"scatterpolargl\":[{\"type\":\"scatterpolargl\",\"marker\":{\"colorbar\":{\"outlinewidth\":0,\"ticks\":\"\"}}}],\"bar\":[{\"error_x\":{\"color\":\"#2a3f5f\"},\"error_y\":{\"color\":\"#2a3f5f\"},\"marker\":{\"line\":{\"color\":\"#E5ECF6\",\"width\":0.5},\"pattern\":{\"fillmode\":\"overlay\",\"size\":10,\"solidity\":0.2}},\"type\":\"bar\"}],\"scattergeo\":[{\"type\":\"scattergeo\",\"marker\":{\"colorbar\":{\"outlinewidth\":0,\"ticks\":\"\"}}}],\"scatterpolar\":[{\"type\":\"scatterpolar\",\"marker\":{\"colorbar\":{\"outlinewidth\":0,\"ticks\":\"\"}}}],\"histogram\":[{\"marker\":{\"pattern\":{\"fillmode\":\"overlay\",\"size\":10,\"solidity\":0.2}},\"type\":\"histogram\"}],\"scattergl\":[{\"type\":\"scattergl\",\"marker\":{\"colorbar\":{\"outlinewidth\":0,\"ticks\":\"\"}}}],\"scatter3d\":[{\"type\":\"scatter3d\",\"line\":{\"colorbar\":{\"outlinewidth\":0,\"ticks\":\"\"}},\"marker\":{\"colorbar\":{\"outlinewidth\":0,\"ticks\":\"\"}}}],\"scattermapbox\":[{\"type\":\"scattermapbox\",\"marker\":{\"colorbar\":{\"outlinewidth\":0,\"ticks\":\"\"}}}],\"scatterternary\":[{\"type\":\"scatterternary\",\"marker\":{\"colorbar\":{\"outlinewidth\":0,\"ticks\":\"\"}}}],\"scattercarpet\":[{\"type\":\"scattercarpet\",\"marker\":{\"colorbar\":{\"outlinewidth\":0,\"ticks\":\"\"}}}],\"carpet\":[{\"aaxis\":{\"endlinecolor\":\"#2a3f5f\",\"gridcolor\":\"white\",\"linecolor\":\"white\",\"minorgridcolor\":\"white\",\"startlinecolor\":\"#2a3f5f\"},\"baxis\":{\"endlinecolor\":\"#2a3f5f\",\"gridcolor\":\"white\",\"linecolor\":\"white\",\"minorgridcolor\":\"white\",\"startlinecolor\":\"#2a3f5f\"},\"type\":\"carpet\"}],\"table\":[{\"cells\":{\"fill\":{\"color\":\"#EBF0F8\"},\"line\":{\"color\":\"white\"}},\"header\":{\"fill\":{\"color\":\"#C8D4E3\"},\"line\":{\"color\":\"white\"}},\"type\":\"table\"}],\"barpolar\":[{\"marker\":{\"line\":{\"color\":\"#E5ECF6\",\"width\":0.5},\"pattern\":{\"fillmode\":\"overlay\",\"size\":10,\"solidity\":0.2}},\"type\":\"barpolar\"}],\"pie\":[{\"automargin\":true,\"type\":\"pie\"}]},\"layout\":{\"autotypenumbers\":\"strict\",\"colorway\":[\"#636efa\",\"#EF553B\",\"#00cc96\",\"#ab63fa\",\"#FFA15A\",\"#19d3f3\",\"#FF6692\",\"#B6E880\",\"#FF97FF\",\"#FECB52\"],\"font\":{\"color\":\"#2a3f5f\"},\"hovermode\":\"closest\",\"hoverlabel\":{\"align\":\"left\"},\"paper_bgcolor\":\"white\",\"plot_bgcolor\":\"#E5ECF6\",\"polar\":{\"bgcolor\":\"#E5ECF6\",\"angularaxis\":{\"gridcolor\":\"white\",\"linecolor\":\"white\",\"ticks\":\"\"},\"radialaxis\":{\"gridcolor\":\"white\",\"linecolor\":\"white\",\"ticks\":\"\"}},\"ternary\":{\"bgcolor\":\"#E5ECF6\",\"aaxis\":{\"gridcolor\":\"white\",\"linecolor\":\"white\",\"ticks\":\"\"},\"baxis\":{\"gridcolor\":\"white\",\"linecolor\":\"white\",\"ticks\":\"\"},\"caxis\":{\"gridcolor\":\"white\",\"linecolor\":\"white\",\"ticks\":\"\"}},\"coloraxis\":{\"colorbar\":{\"outlinewidth\":0,\"ticks\":\"\"}},\"colorscale\":{\"sequential\":[[0.0,\"#0d0887\"],[0.1111111111111111,\"#46039f\"],[0.2222222222222222,\"#7201a8\"],[0.3333333333333333,\"#9c179e\"],[0.4444444444444444,\"#bd3786\"],[0.5555555555555556,\"#d8576b\"],[0.6666666666666666,\"#ed7953\"],[0.7777777777777778,\"#fb9f3a\"],[0.8888888888888888,\"#fdca26\"],[1.0,\"#f0f921\"]],\"sequentialminus\":[[0.0,\"#0d0887\"],[0.1111111111111111,\"#46039f\"],[0.2222222222222222,\"#7201a8\"],[0.3333333333333333,\"#9c179e\"],[0.4444444444444444,\"#bd3786\"],[0.5555555555555556,\"#d8576b\"],[0.6666666666666666,\"#ed7953\"],[0.7777777777777778,\"#fb9f3a\"],[0.8888888888888888,\"#fdca26\"],[1.0,\"#f0f921\"]],\"diverging\":[[0,\"#8e0152\"],[0.1,\"#c51b7d\"],[0.2,\"#de77ae\"],[0.3,\"#f1b6da\"],[0.4,\"#fde0ef\"],[0.5,\"#f7f7f7\"],[0.6,\"#e6f5d0\"],[0.7,\"#b8e186\"],[0.8,\"#7fbc41\"],[0.9,\"#4d9221\"],[1,\"#276419\"]]},\"xaxis\":{\"gridcolor\":\"white\",\"linecolor\":\"white\",\"ticks\":\"\",\"title\":{\"standoff\":15},\"zerolinecolor\":\"white\",\"automargin\":true,\"zerolinewidth\":2},\"yaxis\":{\"gridcolor\":\"white\",\"linecolor\":\"white\",\"ticks\":\"\",\"title\":{\"standoff\":15},\"zerolinecolor\":\"white\",\"automargin\":true,\"zerolinewidth\":2},\"scene\":{\"xaxis\":{\"backgroundcolor\":\"#E5ECF6\",\"gridcolor\":\"white\",\"linecolor\":\"white\",\"showbackground\":true,\"ticks\":\"\",\"zerolinecolor\":\"white\",\"gridwidth\":2},\"yaxis\":{\"backgroundcolor\":\"#E5ECF6\",\"gridcolor\":\"white\",\"linecolor\":\"white\",\"showbackground\":true,\"ticks\":\"\",\"zerolinecolor\":\"white\",\"gridwidth\":2},\"zaxis\":{\"backgroundcolor\":\"#E5ECF6\",\"gridcolor\":\"white\",\"linecolor\":\"white\",\"showbackground\":true,\"ticks\":\"\",\"zerolinecolor\":\"white\",\"gridwidth\":2}},\"shapedefaults\":{\"line\":{\"color\":\"#2a3f5f\"}},\"annotationdefaults\":{\"arrowcolor\":\"#2a3f5f\",\"arrowhead\":0,\"arrowwidth\":1},\"geo\":{\"bgcolor\":\"white\",\"landcolor\":\"#E5ECF6\",\"subunitcolor\":\"white\",\"showland\":true,\"showlakes\":true,\"lakecolor\":\"white\"},\"title\":{\"x\":0.05},\"mapbox\":{\"style\":\"light\"}}},\"xaxis\":{\"anchor\":\"y\",\"domain\":[0.0,1.0],\"title\":{\"text\":\"idade\"}},\"yaxis\":{\"anchor\":\"x\",\"domain\":[0.0,1.0]},\"legend\":{\"title\":{\"text\":\"aderencia_investimento\"},\"tracegroupgap\":0},\"margin\":{\"t\":60},\"boxmode\":\"group\"},                        {\"responsive\": true}                    ).then(function(){\n",
              "                            \n",
              "var gd = document.getElementById('32dd180c-bd59-42b6-aec3-45e8fdf47243');\n",
              "var x = new MutationObserver(function (mutations, observer) {{\n",
              "        var display = window.getComputedStyle(gd).display;\n",
              "        if (!display || display === 'none') {{\n",
              "            console.log([gd, 'removed!']);\n",
              "            Plotly.purge(gd);\n",
              "            observer.disconnect();\n",
              "        }}\n",
              "}});\n",
              "\n",
              "// Listen for the removal of the full notebook cells\n",
              "var notebookContainer = gd.closest('#notebook-container');\n",
              "if (notebookContainer) {{\n",
              "    x.observe(notebookContainer, {childList: true});\n",
              "}}\n",
              "\n",
              "// Listen for the clearing of the current output cell\n",
              "var outputEl = gd.closest('.output');\n",
              "if (outputEl) {{\n",
              "    x.observe(outputEl, {childList: true});\n",
              "}}\n",
              "\n",
              "                        })                };                            </script>        </div>\n",
              "</body>\n",
              "</html>"
            ]
          },
          "metadata": {}
        }
      ]
    },
    {
      "cell_type": "code",
      "source": [
        "px.box(data, x='saldo', color='aderencia_investimento')"
      ],
      "metadata": {
        "id": "iDvtaHt4iuRb",
        "colab": {
          "base_uri": "https://localhost:8080/",
          "height": 542
        },
        "outputId": "1a65219d-7728-4d81-f104-6ea6d1c269f2"
      },
      "execution_count": null,
      "outputs": [
        {
          "output_type": "display_data",
          "data": {
            "text/html": [
              "<html>\n",
              "<head><meta charset=\"utf-8\" /></head>\n",
              "<body>\n",
              "    <div>            <script src=\"https://cdnjs.cloudflare.com/ajax/libs/mathjax/2.7.5/MathJax.js?config=TeX-AMS-MML_SVG\"></script><script type=\"text/javascript\">if (window.MathJax && window.MathJax.Hub && window.MathJax.Hub.Config) {window.MathJax.Hub.Config({SVG: {font: \"STIX-Web\"}});}</script>                <script type=\"text/javascript\">window.PlotlyConfig = {MathJaxConfig: 'local'};</script>\n",
              "        <script charset=\"utf-8\" src=\"https://cdn.plot.ly/plotly-2.24.1.min.js\"></script>                <div id=\"d3115ec8-89d8-4aad-b59c-c9e3ec96b9bb\" class=\"plotly-graph-div\" style=\"height:525px; width:100%;\"></div>            <script type=\"text/javascript\">                                    window.PLOTLYENV=window.PLOTLYENV || {};                                    if (document.getElementById(\"d3115ec8-89d8-4aad-b59c-c9e3ec96b9bb\")) {                    Plotly.newPlot(                        \"d3115ec8-89d8-4aad-b59c-c9e3ec96b9bb\",                        [{\"alignmentgroup\":\"True\",\"hovertemplate\":\"aderencia_investimento=sim\\u003cbr\\u003esaldo=%{x}\\u003cextra\\u003e\\u003c\\u002fextra\\u003e\",\"legendgroup\":\"sim\",\"marker\":{\"color\":\"#636efa\"},\"name\":\"sim\",\"notched\":false,\"offsetgroup\":\"sim\",\"orientation\":\"h\",\"showlegend\":true,\"x\":[242,1289,1382,3357,174,5086,139,2411,8304,624,102,4402,2145,1167,118,14220,156,-393,335,117,1337,259,1265,691,0,366,388,470,2171,230,151,1696,502,2146,480,687,3726,2431,3436,3283,213,1905,18,0,606,-53,4189,65,678,2488,3935,1047,2206,372,2048,4148,1097,247,126,1167,1445,478,325,462,0,198,2039,1044,3050,305,229,-20,2308,1147,889,3810,-90,8556,442,2160,255,206,985,763,1796,565,-191,6,238,3450,79,152,1451,760,3608,1315,921,0,3143,7066,405,2374,1679,548,2944,3285,4608,2544,1613,302,-454,811,1133,215,523,2543,410,25,-970,132,997,26965,1026,201,0,2253,104,3696,2488,2658,-195,3904,1562,225,897,199,668,14,2089,-242,4657,796,1646,1988,331,273,0,2,817,8,311,94,297,5106,227,755,302,1200,-386,0,195,636,22,171,39,802,368,205,720,4579,244,0,1429,1942,-242,495,1013,0,38,2776,822,-375,765,7050,197,406,2881,5845,386,944,70,657,844,976,0,61,-1206,462,3403,228,5310,4945,306,8295,4,620,1341,2442,902,3057,12,459,1354,2,1235,7802,75,5346,701,1297,4415,158,0,474,0,874,568,3733,133,197,231,3636,230,152,27,1331,569,3391,3371,1177,80,9,1412,759,7138,320,724,1191,4438,-824,1080,1219,1808,362,2232,1948,538,424,0,0,3,0,4108,607,5355,3727,1304,593,226,4508,808,304,1224,3463,3676,2325,4198,4,3771,480,1490,41,703,4099,489,-416,3334,493,57,273,1221,1893,1129,2013,5063,572,153,479,1070,3301,-54,136,1230,2850,2929,2788,4665,665,823,95,846,505,3735,3472,133,674,12569,437,2603,95,6610,425,113,4758,70,455,556,1058,664,104,2763,0,3665,-17,25,2734,-247,204,876,1633,490,1,9676,1511,668,-887,978,1574,2812,1727,936,11262,9228,1859,451,1076,294,2398,-308,393,-522,0,1836,699,710,-311,103,343,1679,6728,5291,3913,8,326,517,1044,1925,908,2085,9756,4745,639,883,279,4659,2087,0,1238,6046,1020,459,694,426,100,168,495,257,747,10,0,351,239,15,2536,623,5462,1347,341,170,0,-251,2144,1996,2971,2303,69,104,84,-315,2587,7195,2646,-242,2557,1361,197,556,697,1539,19317,54,0,687,2987,5037,925,145,2887,415,0,1580,1066,1792,4256,-46,0,703,4079,3,0,45,622,1026,661,4089,1205,6016,13,482,480,5514,92,732,59,1978,980,0,3792,1049,16,1766,602,2917,0,0,1623,-308,-306,1233,994,0,1625,2506,1199,763,429,170,1064,2306,4500,0,-839,315,3234,889,66,925,83,5958,-477,2187,19],\"x0\":\" \",\"xaxis\":\"x\",\"y0\":\" \",\"yaxis\":\"y\",\"type\":\"box\"},{\"alignmentgroup\":\"True\",\"hovertemplate\":\"aderencia_investimento=nao\\u003cbr\\u003esaldo=%{x}\\u003cextra\\u003e\\u003c\\u002fextra\\u003e\",\"legendgroup\":\"nao\",\"marker\":{\"color\":\"#EF553B\"},\"name\":\"nao\",\"notched\":false,\"offsetgroup\":\"nao\",\"orientation\":\"h\",\"showlegend\":true,\"x\":[363,4446,946,879,-94,7685,1116,0,559,0,70,157,-46,10888,719,7735,-247,1640,2662,2246,475,1584,0,-404,168,12877,98,13342,8312,119,3696,497,27069,40,1831,950,1513,1680,61,0,579,2275,0,8,87,3064,771,340,1032,1467,84,320,-673,-495,0,313,195,2590,106,1100,-228,403,415,1660,302,0,1810,0,62,194,2278,937,226,1553,0,10378,8167,102,180,-759,0,3470,6053,0,950,204,-363,-888,-461,201,7,827,0,302,678,2201,63,1439,641,1743,4,451,465,77,432,2394,-921,2,1086,3107,1209,0,1897,92,0,292,225,298,7317,640,1005,751,-396,436,653,508,6,92,16353,4943,2815,1067,470,5207,0,260,-328,0,431,2567,4,879,691,2185,7190,1469,22,1053,900,999,-29,3342,1069,7378,128,834,8,103,231,748,1657,1317,1322,263,4,1506,5314,260,150,1811,217,1240,1109,1012,220,89,1482,2581,475,198,17555,334,0,4900,304,171,619,2395,913,267,2959,975,0,1494,1698,781,158,316,2323,2974,541,0,13658,451,209,0,1111,1855,54,3939,4143,196,8238,1100,899,365,171,0,0,-292,442,442,30,228,757,489,390,61,1628,250,1187,2155,143,1533,178,732,552,1148,6402,5715,1409,474,0,502,1568,422,6483,229,0,2171,0,71,146,795,894,395,0,-9,168,2642,285,174,8627,1531,14412,108,8627,586,1121,52,3732,24,-1,93,-551,1022,943,204,979,9976,502,655,80,72,1,23,2515,22,-230,459,103,775,203,1386,-163,430,435,851,389,5320,180,1790,321,1045,111,-402,1831,25,4888,315,4153,0,1840,1117,828,102,633,1787,-32,295,-217,333,879,0,-256,44,10,14,305,-3,51,12223,614,360,22546,1410,1611,435,671,828,4902,3242,371,0,2347,0,145,2558,2237,525,2381,842,0,279,28,355,0,284,116,4554,6164,280,-221,-3,-298,1019,-93,21664,290,1897,604,186,-194,0,56,401,27,1084,-379,3463,578,9374,215,1746,35,212,705,786,0,500,5803,295,310,258,252,0,2685,902,1114,542,2904,417,388,736,-471,-278,75,-166,2294,1738,7353,399,50,46,462,191,1410,1238,2538,167,283,351,809,222,105,1327,378,2186,324,34,126,736,79,68,1372,71,520,171,949,177,115,125,-117,2805,0,0,179,1623,2,356,1315,4,1427,3571,181,1327,5108,-56,-59,1188,4210,192,314,200,11494,-630,-411,351,462,75,631,2,0,648,5235,82,3561,398,602,-98,2921,2225,569,-839,260,745,7343,5191,-123,2146,1671,136,472,278,0,324,16063,76,225,115,413,410,176,321,1050,291,6766,459,706,475,443,0,140,925,0,0,-53,0,6699,-179,1,359,804,133,137,1594,2262,856,-378,435,454,562,613,266,-540,69,1588,3854,10655,0,621,6563,609,1011,1983,0,605,1328,1025,62,118,493,406,60,1141,1147,0,3060,1011,236,202,20,0,2330,667,44,37,590,2993,902,15,-384,225,20,8,16430,-679,9269,427,2700,0,579,265,222,1670,-583,3163,1054,2349,5878,-219,4348,249,344,262,0,-329,0,130,4213,4382,950,5731,-518,273,553,-396,1172,25,0,61,4722,0,1666,10907,275,3672,0,1355,473,271,1415,16873,1145,157,0,331,5045,1295,-905,2125,0,1420,6850,1270,2988,506,669,11,261,0,2357,79,451,468,382,377,5799,2814,722,595,1269,4824,1529,592,4366,2,330,308,738,0,0,86,329,0,5731,-196,593,477,1071,0,42,3616,595,345,2,163,65,-97,238,3052,23,474,148,138,238,117,967,443,42,-55,931,-584,894,1532,0,-322,181,1480,306,-350,480,5050,0,0,83,40,490,0,1216,1602,33,-381,0,0,3516,881,286,2190,636,79,334,901,40,176,1076,865,429,221,4667,6969,1916,2223,5,47,1844,-55,300,0,318,1932,180,1574,-97,8,-35,1465,872,1790,660,10177,0,1147,784,16,212,5304,2343,1831,297,203,64,6,1064,-762,205],\"x0\":\" \",\"xaxis\":\"x\",\"y0\":\" \",\"yaxis\":\"y\",\"type\":\"box\"}],                        {\"template\":{\"data\":{\"histogram2dcontour\":[{\"type\":\"histogram2dcontour\",\"colorbar\":{\"outlinewidth\":0,\"ticks\":\"\"},\"colorscale\":[[0.0,\"#0d0887\"],[0.1111111111111111,\"#46039f\"],[0.2222222222222222,\"#7201a8\"],[0.3333333333333333,\"#9c179e\"],[0.4444444444444444,\"#bd3786\"],[0.5555555555555556,\"#d8576b\"],[0.6666666666666666,\"#ed7953\"],[0.7777777777777778,\"#fb9f3a\"],[0.8888888888888888,\"#fdca26\"],[1.0,\"#f0f921\"]]}],\"choropleth\":[{\"type\":\"choropleth\",\"colorbar\":{\"outlinewidth\":0,\"ticks\":\"\"}}],\"histogram2d\":[{\"type\":\"histogram2d\",\"colorbar\":{\"outlinewidth\":0,\"ticks\":\"\"},\"colorscale\":[[0.0,\"#0d0887\"],[0.1111111111111111,\"#46039f\"],[0.2222222222222222,\"#7201a8\"],[0.3333333333333333,\"#9c179e\"],[0.4444444444444444,\"#bd3786\"],[0.5555555555555556,\"#d8576b\"],[0.6666666666666666,\"#ed7953\"],[0.7777777777777778,\"#fb9f3a\"],[0.8888888888888888,\"#fdca26\"],[1.0,\"#f0f921\"]]}],\"heatmap\":[{\"type\":\"heatmap\",\"colorbar\":{\"outlinewidth\":0,\"ticks\":\"\"},\"colorscale\":[[0.0,\"#0d0887\"],[0.1111111111111111,\"#46039f\"],[0.2222222222222222,\"#7201a8\"],[0.3333333333333333,\"#9c179e\"],[0.4444444444444444,\"#bd3786\"],[0.5555555555555556,\"#d8576b\"],[0.6666666666666666,\"#ed7953\"],[0.7777777777777778,\"#fb9f3a\"],[0.8888888888888888,\"#fdca26\"],[1.0,\"#f0f921\"]]}],\"heatmapgl\":[{\"type\":\"heatmapgl\",\"colorbar\":{\"outlinewidth\":0,\"ticks\":\"\"},\"colorscale\":[[0.0,\"#0d0887\"],[0.1111111111111111,\"#46039f\"],[0.2222222222222222,\"#7201a8\"],[0.3333333333333333,\"#9c179e\"],[0.4444444444444444,\"#bd3786\"],[0.5555555555555556,\"#d8576b\"],[0.6666666666666666,\"#ed7953\"],[0.7777777777777778,\"#fb9f3a\"],[0.8888888888888888,\"#fdca26\"],[1.0,\"#f0f921\"]]}],\"contourcarpet\":[{\"type\":\"contourcarpet\",\"colorbar\":{\"outlinewidth\":0,\"ticks\":\"\"}}],\"contour\":[{\"type\":\"contour\",\"colorbar\":{\"outlinewidth\":0,\"ticks\":\"\"},\"colorscale\":[[0.0,\"#0d0887\"],[0.1111111111111111,\"#46039f\"],[0.2222222222222222,\"#7201a8\"],[0.3333333333333333,\"#9c179e\"],[0.4444444444444444,\"#bd3786\"],[0.5555555555555556,\"#d8576b\"],[0.6666666666666666,\"#ed7953\"],[0.7777777777777778,\"#fb9f3a\"],[0.8888888888888888,\"#fdca26\"],[1.0,\"#f0f921\"]]}],\"surface\":[{\"type\":\"surface\",\"colorbar\":{\"outlinewidth\":0,\"ticks\":\"\"},\"colorscale\":[[0.0,\"#0d0887\"],[0.1111111111111111,\"#46039f\"],[0.2222222222222222,\"#7201a8\"],[0.3333333333333333,\"#9c179e\"],[0.4444444444444444,\"#bd3786\"],[0.5555555555555556,\"#d8576b\"],[0.6666666666666666,\"#ed7953\"],[0.7777777777777778,\"#fb9f3a\"],[0.8888888888888888,\"#fdca26\"],[1.0,\"#f0f921\"]]}],\"mesh3d\":[{\"type\":\"mesh3d\",\"colorbar\":{\"outlinewidth\":0,\"ticks\":\"\"}}],\"scatter\":[{\"fillpattern\":{\"fillmode\":\"overlay\",\"size\":10,\"solidity\":0.2},\"type\":\"scatter\"}],\"parcoords\":[{\"type\":\"parcoords\",\"line\":{\"colorbar\":{\"outlinewidth\":0,\"ticks\":\"\"}}}],\"scatterpolargl\":[{\"type\":\"scatterpolargl\",\"marker\":{\"colorbar\":{\"outlinewidth\":0,\"ticks\":\"\"}}}],\"bar\":[{\"error_x\":{\"color\":\"#2a3f5f\"},\"error_y\":{\"color\":\"#2a3f5f\"},\"marker\":{\"line\":{\"color\":\"#E5ECF6\",\"width\":0.5},\"pattern\":{\"fillmode\":\"overlay\",\"size\":10,\"solidity\":0.2}},\"type\":\"bar\"}],\"scattergeo\":[{\"type\":\"scattergeo\",\"marker\":{\"colorbar\":{\"outlinewidth\":0,\"ticks\":\"\"}}}],\"scatterpolar\":[{\"type\":\"scatterpolar\",\"marker\":{\"colorbar\":{\"outlinewidth\":0,\"ticks\":\"\"}}}],\"histogram\":[{\"marker\":{\"pattern\":{\"fillmode\":\"overlay\",\"size\":10,\"solidity\":0.2}},\"type\":\"histogram\"}],\"scattergl\":[{\"type\":\"scattergl\",\"marker\":{\"colorbar\":{\"outlinewidth\":0,\"ticks\":\"\"}}}],\"scatter3d\":[{\"type\":\"scatter3d\",\"line\":{\"colorbar\":{\"outlinewidth\":0,\"ticks\":\"\"}},\"marker\":{\"colorbar\":{\"outlinewidth\":0,\"ticks\":\"\"}}}],\"scattermapbox\":[{\"type\":\"scattermapbox\",\"marker\":{\"colorbar\":{\"outlinewidth\":0,\"ticks\":\"\"}}}],\"scatterternary\":[{\"type\":\"scatterternary\",\"marker\":{\"colorbar\":{\"outlinewidth\":0,\"ticks\":\"\"}}}],\"scattercarpet\":[{\"type\":\"scattercarpet\",\"marker\":{\"colorbar\":{\"outlinewidth\":0,\"ticks\":\"\"}}}],\"carpet\":[{\"aaxis\":{\"endlinecolor\":\"#2a3f5f\",\"gridcolor\":\"white\",\"linecolor\":\"white\",\"minorgridcolor\":\"white\",\"startlinecolor\":\"#2a3f5f\"},\"baxis\":{\"endlinecolor\":\"#2a3f5f\",\"gridcolor\":\"white\",\"linecolor\":\"white\",\"minorgridcolor\":\"white\",\"startlinecolor\":\"#2a3f5f\"},\"type\":\"carpet\"}],\"table\":[{\"cells\":{\"fill\":{\"color\":\"#EBF0F8\"},\"line\":{\"color\":\"white\"}},\"header\":{\"fill\":{\"color\":\"#C8D4E3\"},\"line\":{\"color\":\"white\"}},\"type\":\"table\"}],\"barpolar\":[{\"marker\":{\"line\":{\"color\":\"#E5ECF6\",\"width\":0.5},\"pattern\":{\"fillmode\":\"overlay\",\"size\":10,\"solidity\":0.2}},\"type\":\"barpolar\"}],\"pie\":[{\"automargin\":true,\"type\":\"pie\"}]},\"layout\":{\"autotypenumbers\":\"strict\",\"colorway\":[\"#636efa\",\"#EF553B\",\"#00cc96\",\"#ab63fa\",\"#FFA15A\",\"#19d3f3\",\"#FF6692\",\"#B6E880\",\"#FF97FF\",\"#FECB52\"],\"font\":{\"color\":\"#2a3f5f\"},\"hovermode\":\"closest\",\"hoverlabel\":{\"align\":\"left\"},\"paper_bgcolor\":\"white\",\"plot_bgcolor\":\"#E5ECF6\",\"polar\":{\"bgcolor\":\"#E5ECF6\",\"angularaxis\":{\"gridcolor\":\"white\",\"linecolor\":\"white\",\"ticks\":\"\"},\"radialaxis\":{\"gridcolor\":\"white\",\"linecolor\":\"white\",\"ticks\":\"\"}},\"ternary\":{\"bgcolor\":\"#E5ECF6\",\"aaxis\":{\"gridcolor\":\"white\",\"linecolor\":\"white\",\"ticks\":\"\"},\"baxis\":{\"gridcolor\":\"white\",\"linecolor\":\"white\",\"ticks\":\"\"},\"caxis\":{\"gridcolor\":\"white\",\"linecolor\":\"white\",\"ticks\":\"\"}},\"coloraxis\":{\"colorbar\":{\"outlinewidth\":0,\"ticks\":\"\"}},\"colorscale\":{\"sequential\":[[0.0,\"#0d0887\"],[0.1111111111111111,\"#46039f\"],[0.2222222222222222,\"#7201a8\"],[0.3333333333333333,\"#9c179e\"],[0.4444444444444444,\"#bd3786\"],[0.5555555555555556,\"#d8576b\"],[0.6666666666666666,\"#ed7953\"],[0.7777777777777778,\"#fb9f3a\"],[0.8888888888888888,\"#fdca26\"],[1.0,\"#f0f921\"]],\"sequentialminus\":[[0.0,\"#0d0887\"],[0.1111111111111111,\"#46039f\"],[0.2222222222222222,\"#7201a8\"],[0.3333333333333333,\"#9c179e\"],[0.4444444444444444,\"#bd3786\"],[0.5555555555555556,\"#d8576b\"],[0.6666666666666666,\"#ed7953\"],[0.7777777777777778,\"#fb9f3a\"],[0.8888888888888888,\"#fdca26\"],[1.0,\"#f0f921\"]],\"diverging\":[[0,\"#8e0152\"],[0.1,\"#c51b7d\"],[0.2,\"#de77ae\"],[0.3,\"#f1b6da\"],[0.4,\"#fde0ef\"],[0.5,\"#f7f7f7\"],[0.6,\"#e6f5d0\"],[0.7,\"#b8e186\"],[0.8,\"#7fbc41\"],[0.9,\"#4d9221\"],[1,\"#276419\"]]},\"xaxis\":{\"gridcolor\":\"white\",\"linecolor\":\"white\",\"ticks\":\"\",\"title\":{\"standoff\":15},\"zerolinecolor\":\"white\",\"automargin\":true,\"zerolinewidth\":2},\"yaxis\":{\"gridcolor\":\"white\",\"linecolor\":\"white\",\"ticks\":\"\",\"title\":{\"standoff\":15},\"zerolinecolor\":\"white\",\"automargin\":true,\"zerolinewidth\":2},\"scene\":{\"xaxis\":{\"backgroundcolor\":\"#E5ECF6\",\"gridcolor\":\"white\",\"linecolor\":\"white\",\"showbackground\":true,\"ticks\":\"\",\"zerolinecolor\":\"white\",\"gridwidth\":2},\"yaxis\":{\"backgroundcolor\":\"#E5ECF6\",\"gridcolor\":\"white\",\"linecolor\":\"white\",\"showbackground\":true,\"ticks\":\"\",\"zerolinecolor\":\"white\",\"gridwidth\":2},\"zaxis\":{\"backgroundcolor\":\"#E5ECF6\",\"gridcolor\":\"white\",\"linecolor\":\"white\",\"showbackground\":true,\"ticks\":\"\",\"zerolinecolor\":\"white\",\"gridwidth\":2}},\"shapedefaults\":{\"line\":{\"color\":\"#2a3f5f\"}},\"annotationdefaults\":{\"arrowcolor\":\"#2a3f5f\",\"arrowhead\":0,\"arrowwidth\":1},\"geo\":{\"bgcolor\":\"white\",\"landcolor\":\"#E5ECF6\",\"subunitcolor\":\"white\",\"showland\":true,\"showlakes\":true,\"lakecolor\":\"white\"},\"title\":{\"x\":0.05},\"mapbox\":{\"style\":\"light\"}}},\"xaxis\":{\"anchor\":\"y\",\"domain\":[0.0,1.0],\"title\":{\"text\":\"saldo\"}},\"yaxis\":{\"anchor\":\"x\",\"domain\":[0.0,1.0]},\"legend\":{\"title\":{\"text\":\"aderencia_investimento\"},\"tracegroupgap\":0},\"margin\":{\"t\":60},\"boxmode\":\"group\"},                        {\"responsive\": true}                    ).then(function(){\n",
              "                            \n",
              "var gd = document.getElementById('d3115ec8-89d8-4aad-b59c-c9e3ec96b9bb');\n",
              "var x = new MutationObserver(function (mutations, observer) {{\n",
              "        var display = window.getComputedStyle(gd).display;\n",
              "        if (!display || display === 'none') {{\n",
              "            console.log([gd, 'removed!']);\n",
              "            Plotly.purge(gd);\n",
              "            observer.disconnect();\n",
              "        }}\n",
              "}});\n",
              "\n",
              "// Listen for the removal of the full notebook cells\n",
              "var notebookContainer = gd.closest('#notebook-container');\n",
              "if (notebookContainer) {{\n",
              "    x.observe(notebookContainer, {childList: true});\n",
              "}}\n",
              "\n",
              "// Listen for the clearing of the current output cell\n",
              "var outputEl = gd.closest('.output');\n",
              "if (outputEl) {{\n",
              "    x.observe(outputEl, {childList: true});\n",
              "}}\n",
              "\n",
              "                        })                };                            </script>        </div>\n",
              "</body>\n",
              "</html>"
            ]
          },
          "metadata": {}
        }
      ]
    },
    {
      "cell_type": "code",
      "source": [
        "px.box(data, x='tempo_ult_contato', color='aderencia_investimento')"
      ],
      "metadata": {
        "id": "Uj_M2BP-i84C",
        "colab": {
          "base_uri": "https://localhost:8080/",
          "height": 542
        },
        "outputId": "878dabaf-d70a-42a7-a2bc-0c179bfa0441"
      },
      "execution_count": null,
      "outputs": [
        {
          "output_type": "display_data",
          "data": {
            "text/html": [
              "<html>\n",
              "<head><meta charset=\"utf-8\" /></head>\n",
              "<body>\n",
              "    <div>            <script src=\"https://cdnjs.cloudflare.com/ajax/libs/mathjax/2.7.5/MathJax.js?config=TeX-AMS-MML_SVG\"></script><script type=\"text/javascript\">if (window.MathJax && window.MathJax.Hub && window.MathJax.Hub.Config) {window.MathJax.Hub.Config({SVG: {font: \"STIX-Web\"}});}</script>                <script type=\"text/javascript\">window.PlotlyConfig = {MathJaxConfig: 'local'};</script>\n",
              "        <script charset=\"utf-8\" src=\"https://cdn.plot.ly/plotly-2.24.1.min.js\"></script>                <div id=\"c56cd665-19c0-4433-9534-a5d9ed9d4e20\" class=\"plotly-graph-div\" style=\"height:525px; width:100%;\"></div>            <script type=\"text/javascript\">                                    window.PLOTLYENV=window.PLOTLYENV || {};                                    if (document.getElementById(\"c56cd665-19c0-4433-9534-a5d9ed9d4e20\")) {                    Plotly.newPlot(                        \"c56cd665-19c0-4433-9534-a5d9ed9d4e20\",                        [{\"alignmentgroup\":\"True\",\"hovertemplate\":\"aderencia_investimento=sim\\u003cbr\\u003etempo_ult_contato=%{x}\\u003cextra\\u003e\\u003c\\u002fextra\\u003e\",\"legendgroup\":\"sim\",\"marker\":{\"color\":\"#636efa\"},\"name\":\"sim\",\"notched\":false,\"offsetgroup\":\"sim\",\"orientation\":\"h\",\"showlegend\":true,\"x\":[587,250,700,239,487,213,732,130,712,336,470,805,727,968,1275,397,657,435,411,467,330,415,326,338,767,593,2087,743,1034,442,97,257,261,1516,830,772,875,646,663,258,378,709,359,1448,97,648,897,1028,1579,258,765,554,104,654,310,316,181,401,2456,264,328,475,1139,495,146,128,451,585,469,633,97,574,815,389,388,262,270,326,474,261,457,479,998,384,295,876,755,216,185,169,249,563,314,223,231,224,394,1073,421,667,994,161,417,1181,882,1721,212,252,296,528,558,563,293,350,152,223,891,528,489,574,106,654,669,325,1174,937,701,250,449,768,391,250,659,1126,397,1689,1263,167,132,1173,93,427,261,164,170,910,847,1031,517,107,757,493,415,244,278,1212,205,904,477,639,220,352,388,93,549,569,293,289,651,409,1735,648,1015,436,1149,157,206,618,744,701,184,814,959,222,78,736,356,1060,253,251,229,398,1018,345,550,836,382,1877,707,1017,984,311,388,207,395,1234,415,91,691,2769,587,558,736,100,354,421,479,187,254,716,1032,650,161,423,1608,1282,378,198,218,223,352,808,144,158,230,297,976,243,269,330,676,386,480,317,809,1971,287,214,446,429,951,697,245,816,121,216,353,298,154,228,998,493,526,454,466,993,501,1484,762,854,267,226,1441,96,567,125,309,268,185,344,506,686,342,397,356,767,632,671,796,803,279,1259,806,222,418,314,1124,515,30,485,698,363,412,185,518,369,860,371,780,335,671,386,190,332,171,587,344,504,280,1309,481,883,328,712,255,403,646,188,955,635,526,812,664,474,232,897,519,224,269,275,207,159,234,270,576,827,1370,301,830,500,931,323,655,245,652,152,87,317,725,567,670,594,750,1258,653,1030,104,377,718,232,192,124,93,788,681,353,904,1663,501,103,360,353,798,399,161,267,227,1558,300,882,623,144,1029,221,347,213,955,543,857,171,1063,412,921,958,297,430,280,670,442,260,641,417,761,429,775,120,606,1101,2029,328,609,142,600,134,1473,260,460,860,441,249,543,508,869,307,252,709,799,819,777,294,1007,109,630,239,199,524,590,343,488,262,1467,1451,226,968,289,376,670,76,1097,213,319,688,759,873,404,352,147,279,224,990,166,324,215,1472,264,1081,781,500,91,149,268,796,485,178,877,1006,129,562,239,733,80,1018,1407,578,185,1164,321,1223,215,1532,525,110],\"x0\":\" \",\"xaxis\":\"x\",\"y0\":\" \",\"yaxis\":\"y\",\"type\":\"box\"},{\"alignmentgroup\":\"True\",\"hovertemplate\":\"aderencia_investimento=nao\\u003cbr\\u003etempo_ult_contato=%{x}\\u003cextra\\u003e\\u003c\\u002fextra\\u003e\",\"legendgroup\":\"nao\",\"marker\":{\"color\":\"#EF553B\"},\"name\":\"nao\",\"notched\":false,\"offsetgroup\":\"nao\",\"orientation\":\"h\",\"showlegend\":true,\"x\":[16,429,1065,102,41,493,53,71,1231,793,611,299,23,163,230,220,344,72,148,330,559,661,264,502,212,118,420,465,43,127,305,88,174,123,203,135,330,76,21,129,83,139,211,55,165,240,106,255,41,277,231,76,364,303,768,42,185,68,175,67,187,318,123,342,89,79,65,298,67,189,244,66,176,200,86,523,114,272,62,191,118,285,865,209,219,286,340,135,254,248,98,319,297,208,85,233,56,73,347,192,145,451,160,56,10,184,115,102,410,1516,283,108,441,139,105,222,866,144,172,318,215,343,443,28,352,70,246,127,223,117,125,179,217,336,676,52,318,83,73,109,443,228,517,354,375,364,76,405,322,182,41,329,247,466,275,196,155,314,76,184,566,395,178,119,84,299,200,146,151,150,193,505,328,410,89,156,177,99,538,205,14,36,561,121,129,209,16,218,113,128,325,256,83,275,95,74,73,126,151,187,237,380,220,389,319,3025,50,75,103,209,200,116,124,660,377,59,191,479,181,181,102,77,98,12,103,205,208,112,119,193,193,295,627,86,747,736,463,121,158,287,235,400,224,197,206,110,123,175,127,130,85,836,284,131,491,419,60,123,227,310,209,367,169,81,297,543,281,489,454,22,379,631,173,134,168,20,96,111,123,57,267,606,251,764,65,216,40,265,715,83,956,361,177,185,502,154,122,151,15,114,298,224,189,290,58,127,86,381,475,103,35,140,312,365,215,614,128,79,14,92,313,129,60,236,147,118,167,87,834,91,50,36,72,592,8,93,490,193,332,214,110,233,124,209,603,71,157,107,619,127,173,273,151,110,220,61,179,252,580,8,152,162,250,205,559,285,402,214,283,197,95,136,127,207,66,294,485,201,261,210,112,7,543,99,152,27,20,322,104,19,83,151,200,587,123,39,187,159,283,1816,277,90,730,119,668,143,204,85,251,349,536,133,89,78,272,40,8,274,307,57,226,467,155,317,74,174,346,366,217,29,164,700,317,254,240,86,15,19,245,63,209,238,770,173,163,81,96,21,380,76,1337,74,32,222,265,115,272,119,127,140,119,203,67,322,198,173,78,326,147,123,248,89,389,287,67,140,98,77,347,112,251,73,348,68,446,595,217,187,131,594,160,70,907,60,29,293,352,236,122,46,104,337,42,135,586,150,210,317,329,141,84,107,490,884,147,206,617,176,425,54,257,210,266,206,305,250,44,95,541,192,28,303,86,102,29,461,14,10,5,58,217,136,1126,340,123,115,204,82,388,166,358,289,253,151,22,29,90,253,112,8,146,404,82,15,228,310,24,133,24,210,550,25,304,145,196,197,159,107,371,337,131,230,14,71,161,25,56,273,134,159,66,373,258,221,371,53,171,46,285,142,193,210,164,244,97,106,127,153,169,535,113,483,1473,30,74,144,1210,1366,134,624,134,151,223,82,650,239,82,20,179,213,285,82,124,252,80,179,122,88,157,233,502,228,104,125,109,294,143,97,81,141,245,549,168,160,122,188,197,88,77,585,172,239,192,122,80,175,60,64,973,143,197,51,165,22,605,653,464,162,79,808,32,91,90,717,205,45,635,180,27,102,281,1183,411,509,253,191,225,599,108,212,95,211,75,205,44,69,359,73,340,472,142,70,30,669,71,447,143,557,90,211,235,389,601,79,147,70,71,244,150,130,412,281,1139,101,141,241,119,287,197,133,192,203,167,216,169,304,98,1130,214,115,272,97,249,34,119,260,340,226,1531,63,104,239,140,113,408,442],\"x0\":\" \",\"xaxis\":\"x\",\"y0\":\" \",\"yaxis\":\"y\",\"type\":\"box\"}],                        {\"template\":{\"data\":{\"histogram2dcontour\":[{\"type\":\"histogram2dcontour\",\"colorbar\":{\"outlinewidth\":0,\"ticks\":\"\"},\"colorscale\":[[0.0,\"#0d0887\"],[0.1111111111111111,\"#46039f\"],[0.2222222222222222,\"#7201a8\"],[0.3333333333333333,\"#9c179e\"],[0.4444444444444444,\"#bd3786\"],[0.5555555555555556,\"#d8576b\"],[0.6666666666666666,\"#ed7953\"],[0.7777777777777778,\"#fb9f3a\"],[0.8888888888888888,\"#fdca26\"],[1.0,\"#f0f921\"]]}],\"choropleth\":[{\"type\":\"choropleth\",\"colorbar\":{\"outlinewidth\":0,\"ticks\":\"\"}}],\"histogram2d\":[{\"type\":\"histogram2d\",\"colorbar\":{\"outlinewidth\":0,\"ticks\":\"\"},\"colorscale\":[[0.0,\"#0d0887\"],[0.1111111111111111,\"#46039f\"],[0.2222222222222222,\"#7201a8\"],[0.3333333333333333,\"#9c179e\"],[0.4444444444444444,\"#bd3786\"],[0.5555555555555556,\"#d8576b\"],[0.6666666666666666,\"#ed7953\"],[0.7777777777777778,\"#fb9f3a\"],[0.8888888888888888,\"#fdca26\"],[1.0,\"#f0f921\"]]}],\"heatmap\":[{\"type\":\"heatmap\",\"colorbar\":{\"outlinewidth\":0,\"ticks\":\"\"},\"colorscale\":[[0.0,\"#0d0887\"],[0.1111111111111111,\"#46039f\"],[0.2222222222222222,\"#7201a8\"],[0.3333333333333333,\"#9c179e\"],[0.4444444444444444,\"#bd3786\"],[0.5555555555555556,\"#d8576b\"],[0.6666666666666666,\"#ed7953\"],[0.7777777777777778,\"#fb9f3a\"],[0.8888888888888888,\"#fdca26\"],[1.0,\"#f0f921\"]]}],\"heatmapgl\":[{\"type\":\"heatmapgl\",\"colorbar\":{\"outlinewidth\":0,\"ticks\":\"\"},\"colorscale\":[[0.0,\"#0d0887\"],[0.1111111111111111,\"#46039f\"],[0.2222222222222222,\"#7201a8\"],[0.3333333333333333,\"#9c179e\"],[0.4444444444444444,\"#bd3786\"],[0.5555555555555556,\"#d8576b\"],[0.6666666666666666,\"#ed7953\"],[0.7777777777777778,\"#fb9f3a\"],[0.8888888888888888,\"#fdca26\"],[1.0,\"#f0f921\"]]}],\"contourcarpet\":[{\"type\":\"contourcarpet\",\"colorbar\":{\"outlinewidth\":0,\"ticks\":\"\"}}],\"contour\":[{\"type\":\"contour\",\"colorbar\":{\"outlinewidth\":0,\"ticks\":\"\"},\"colorscale\":[[0.0,\"#0d0887\"],[0.1111111111111111,\"#46039f\"],[0.2222222222222222,\"#7201a8\"],[0.3333333333333333,\"#9c179e\"],[0.4444444444444444,\"#bd3786\"],[0.5555555555555556,\"#d8576b\"],[0.6666666666666666,\"#ed7953\"],[0.7777777777777778,\"#fb9f3a\"],[0.8888888888888888,\"#fdca26\"],[1.0,\"#f0f921\"]]}],\"surface\":[{\"type\":\"surface\",\"colorbar\":{\"outlinewidth\":0,\"ticks\":\"\"},\"colorscale\":[[0.0,\"#0d0887\"],[0.1111111111111111,\"#46039f\"],[0.2222222222222222,\"#7201a8\"],[0.3333333333333333,\"#9c179e\"],[0.4444444444444444,\"#bd3786\"],[0.5555555555555556,\"#d8576b\"],[0.6666666666666666,\"#ed7953\"],[0.7777777777777778,\"#fb9f3a\"],[0.8888888888888888,\"#fdca26\"],[1.0,\"#f0f921\"]]}],\"mesh3d\":[{\"type\":\"mesh3d\",\"colorbar\":{\"outlinewidth\":0,\"ticks\":\"\"}}],\"scatter\":[{\"fillpattern\":{\"fillmode\":\"overlay\",\"size\":10,\"solidity\":0.2},\"type\":\"scatter\"}],\"parcoords\":[{\"type\":\"parcoords\",\"line\":{\"colorbar\":{\"outlinewidth\":0,\"ticks\":\"\"}}}],\"scatterpolargl\":[{\"type\":\"scatterpolargl\",\"marker\":{\"colorbar\":{\"outlinewidth\":0,\"ticks\":\"\"}}}],\"bar\":[{\"error_x\":{\"color\":\"#2a3f5f\"},\"error_y\":{\"color\":\"#2a3f5f\"},\"marker\":{\"line\":{\"color\":\"#E5ECF6\",\"width\":0.5},\"pattern\":{\"fillmode\":\"overlay\",\"size\":10,\"solidity\":0.2}},\"type\":\"bar\"}],\"scattergeo\":[{\"type\":\"scattergeo\",\"marker\":{\"colorbar\":{\"outlinewidth\":0,\"ticks\":\"\"}}}],\"scatterpolar\":[{\"type\":\"scatterpolar\",\"marker\":{\"colorbar\":{\"outlinewidth\":0,\"ticks\":\"\"}}}],\"histogram\":[{\"marker\":{\"pattern\":{\"fillmode\":\"overlay\",\"size\":10,\"solidity\":0.2}},\"type\":\"histogram\"}],\"scattergl\":[{\"type\":\"scattergl\",\"marker\":{\"colorbar\":{\"outlinewidth\":0,\"ticks\":\"\"}}}],\"scatter3d\":[{\"type\":\"scatter3d\",\"line\":{\"colorbar\":{\"outlinewidth\":0,\"ticks\":\"\"}},\"marker\":{\"colorbar\":{\"outlinewidth\":0,\"ticks\":\"\"}}}],\"scattermapbox\":[{\"type\":\"scattermapbox\",\"marker\":{\"colorbar\":{\"outlinewidth\":0,\"ticks\":\"\"}}}],\"scatterternary\":[{\"type\":\"scatterternary\",\"marker\":{\"colorbar\":{\"outlinewidth\":0,\"ticks\":\"\"}}}],\"scattercarpet\":[{\"type\":\"scattercarpet\",\"marker\":{\"colorbar\":{\"outlinewidth\":0,\"ticks\":\"\"}}}],\"carpet\":[{\"aaxis\":{\"endlinecolor\":\"#2a3f5f\",\"gridcolor\":\"white\",\"linecolor\":\"white\",\"minorgridcolor\":\"white\",\"startlinecolor\":\"#2a3f5f\"},\"baxis\":{\"endlinecolor\":\"#2a3f5f\",\"gridcolor\":\"white\",\"linecolor\":\"white\",\"minorgridcolor\":\"white\",\"startlinecolor\":\"#2a3f5f\"},\"type\":\"carpet\"}],\"table\":[{\"cells\":{\"fill\":{\"color\":\"#EBF0F8\"},\"line\":{\"color\":\"white\"}},\"header\":{\"fill\":{\"color\":\"#C8D4E3\"},\"line\":{\"color\":\"white\"}},\"type\":\"table\"}],\"barpolar\":[{\"marker\":{\"line\":{\"color\":\"#E5ECF6\",\"width\":0.5},\"pattern\":{\"fillmode\":\"overlay\",\"size\":10,\"solidity\":0.2}},\"type\":\"barpolar\"}],\"pie\":[{\"automargin\":true,\"type\":\"pie\"}]},\"layout\":{\"autotypenumbers\":\"strict\",\"colorway\":[\"#636efa\",\"#EF553B\",\"#00cc96\",\"#ab63fa\",\"#FFA15A\",\"#19d3f3\",\"#FF6692\",\"#B6E880\",\"#FF97FF\",\"#FECB52\"],\"font\":{\"color\":\"#2a3f5f\"},\"hovermode\":\"closest\",\"hoverlabel\":{\"align\":\"left\"},\"paper_bgcolor\":\"white\",\"plot_bgcolor\":\"#E5ECF6\",\"polar\":{\"bgcolor\":\"#E5ECF6\",\"angularaxis\":{\"gridcolor\":\"white\",\"linecolor\":\"white\",\"ticks\":\"\"},\"radialaxis\":{\"gridcolor\":\"white\",\"linecolor\":\"white\",\"ticks\":\"\"}},\"ternary\":{\"bgcolor\":\"#E5ECF6\",\"aaxis\":{\"gridcolor\":\"white\",\"linecolor\":\"white\",\"ticks\":\"\"},\"baxis\":{\"gridcolor\":\"white\",\"linecolor\":\"white\",\"ticks\":\"\"},\"caxis\":{\"gridcolor\":\"white\",\"linecolor\":\"white\",\"ticks\":\"\"}},\"coloraxis\":{\"colorbar\":{\"outlinewidth\":0,\"ticks\":\"\"}},\"colorscale\":{\"sequential\":[[0.0,\"#0d0887\"],[0.1111111111111111,\"#46039f\"],[0.2222222222222222,\"#7201a8\"],[0.3333333333333333,\"#9c179e\"],[0.4444444444444444,\"#bd3786\"],[0.5555555555555556,\"#d8576b\"],[0.6666666666666666,\"#ed7953\"],[0.7777777777777778,\"#fb9f3a\"],[0.8888888888888888,\"#fdca26\"],[1.0,\"#f0f921\"]],\"sequentialminus\":[[0.0,\"#0d0887\"],[0.1111111111111111,\"#46039f\"],[0.2222222222222222,\"#7201a8\"],[0.3333333333333333,\"#9c179e\"],[0.4444444444444444,\"#bd3786\"],[0.5555555555555556,\"#d8576b\"],[0.6666666666666666,\"#ed7953\"],[0.7777777777777778,\"#fb9f3a\"],[0.8888888888888888,\"#fdca26\"],[1.0,\"#f0f921\"]],\"diverging\":[[0,\"#8e0152\"],[0.1,\"#c51b7d\"],[0.2,\"#de77ae\"],[0.3,\"#f1b6da\"],[0.4,\"#fde0ef\"],[0.5,\"#f7f7f7\"],[0.6,\"#e6f5d0\"],[0.7,\"#b8e186\"],[0.8,\"#7fbc41\"],[0.9,\"#4d9221\"],[1,\"#276419\"]]},\"xaxis\":{\"gridcolor\":\"white\",\"linecolor\":\"white\",\"ticks\":\"\",\"title\":{\"standoff\":15},\"zerolinecolor\":\"white\",\"automargin\":true,\"zerolinewidth\":2},\"yaxis\":{\"gridcolor\":\"white\",\"linecolor\":\"white\",\"ticks\":\"\",\"title\":{\"standoff\":15},\"zerolinecolor\":\"white\",\"automargin\":true,\"zerolinewidth\":2},\"scene\":{\"xaxis\":{\"backgroundcolor\":\"#E5ECF6\",\"gridcolor\":\"white\",\"linecolor\":\"white\",\"showbackground\":true,\"ticks\":\"\",\"zerolinecolor\":\"white\",\"gridwidth\":2},\"yaxis\":{\"backgroundcolor\":\"#E5ECF6\",\"gridcolor\":\"white\",\"linecolor\":\"white\",\"showbackground\":true,\"ticks\":\"\",\"zerolinecolor\":\"white\",\"gridwidth\":2},\"zaxis\":{\"backgroundcolor\":\"#E5ECF6\",\"gridcolor\":\"white\",\"linecolor\":\"white\",\"showbackground\":true,\"ticks\":\"\",\"zerolinecolor\":\"white\",\"gridwidth\":2}},\"shapedefaults\":{\"line\":{\"color\":\"#2a3f5f\"}},\"annotationdefaults\":{\"arrowcolor\":\"#2a3f5f\",\"arrowhead\":0,\"arrowwidth\":1},\"geo\":{\"bgcolor\":\"white\",\"landcolor\":\"#E5ECF6\",\"subunitcolor\":\"white\",\"showland\":true,\"showlakes\":true,\"lakecolor\":\"white\"},\"title\":{\"x\":0.05},\"mapbox\":{\"style\":\"light\"}}},\"xaxis\":{\"anchor\":\"y\",\"domain\":[0.0,1.0],\"title\":{\"text\":\"tempo_ult_contato\"}},\"yaxis\":{\"anchor\":\"x\",\"domain\":[0.0,1.0]},\"legend\":{\"title\":{\"text\":\"aderencia_investimento\"},\"tracegroupgap\":0},\"margin\":{\"t\":60},\"boxmode\":\"group\"},                        {\"responsive\": true}                    ).then(function(){\n",
              "                            \n",
              "var gd = document.getElementById('c56cd665-19c0-4433-9534-a5d9ed9d4e20');\n",
              "var x = new MutationObserver(function (mutations, observer) {{\n",
              "        var display = window.getComputedStyle(gd).display;\n",
              "        if (!display || display === 'none') {{\n",
              "            console.log([gd, 'removed!']);\n",
              "            Plotly.purge(gd);\n",
              "            observer.disconnect();\n",
              "        }}\n",
              "}});\n",
              "\n",
              "// Listen for the removal of the full notebook cells\n",
              "var notebookContainer = gd.closest('#notebook-container');\n",
              "if (notebookContainer) {{\n",
              "    x.observe(notebookContainer, {childList: true});\n",
              "}}\n",
              "\n",
              "// Listen for the clearing of the current output cell\n",
              "var outputEl = gd.closest('.output');\n",
              "if (outputEl) {{\n",
              "    x.observe(outputEl, {childList: true});\n",
              "}}\n",
              "\n",
              "                        })                };                            </script>        </div>\n",
              "</body>\n",
              "</html>"
            ]
          },
          "metadata": {}
        }
      ]
    },
    {
      "cell_type": "code",
      "source": [
        "px.box(data, x='numero_contatos', color='aderencia_investimento')"
      ],
      "metadata": {
        "id": "JB5JxZkDjG78",
        "colab": {
          "base_uri": "https://localhost:8080/",
          "height": 542
        },
        "outputId": "5a7b6374-a684-4922-a9a3-ed4dc19e8136"
      },
      "execution_count": null,
      "outputs": [
        {
          "output_type": "display_data",
          "data": {
            "text/html": [
              "<html>\n",
              "<head><meta charset=\"utf-8\" /></head>\n",
              "<body>\n",
              "    <div>            <script src=\"https://cdnjs.cloudflare.com/ajax/libs/mathjax/2.7.5/MathJax.js?config=TeX-AMS-MML_SVG\"></script><script type=\"text/javascript\">if (window.MathJax && window.MathJax.Hub && window.MathJax.Hub.Config) {window.MathJax.Hub.Config({SVG: {font: \"STIX-Web\"}});}</script>                <script type=\"text/javascript\">window.PlotlyConfig = {MathJaxConfig: 'local'};</script>\n",
              "        <script charset=\"utf-8\" src=\"https://cdn.plot.ly/plotly-2.24.1.min.js\"></script>                <div id=\"d5c6d999-4295-40f4-bb85-7900e9e065d4\" class=\"plotly-graph-div\" style=\"height:525px; width:100%;\"></div>            <script type=\"text/javascript\">                                    window.PLOTLYENV=window.PLOTLYENV || {};                                    if (document.getElementById(\"d5c6d999-4295-40f4-bb85-7900e9e065d4\")) {                    Plotly.newPlot(                        \"d5c6d999-4295-40f4-bb85-7900e9e065d4\",                        [{\"alignmentgroup\":\"True\",\"hovertemplate\":\"aderencia_investimento=sim\\u003cbr\\u003enumero_contatos=%{x}\\u003cextra\\u003e\\u003c\\u002fextra\\u003e\",\"legendgroup\":\"sim\",\"marker\":{\"color\":\"#636efa\"},\"name\":\"sim\",\"notched\":false,\"offsetgroup\":\"sim\",\"orientation\":\"h\",\"showlegend\":true,\"x\":[1,4,1,4,1,4,2,1,1,2,7,1,2,1,1,1,7,1,1,2,2,1,5,1,5,1,2,13,1,1,3,1,1,2,1,1,2,5,4,1,1,2,1,7,1,1,2,2,1,6,1,1,1,2,1,3,1,2,2,1,2,2,2,1,4,2,1,1,1,1,1,1,1,1,1,1,1,2,3,1,1,1,6,2,1,1,1,1,1,1,2,1,1,3,1,1,2,1,2,3,2,1,1,4,8,2,1,1,1,3,1,1,1,3,2,1,4,2,1,1,1,2,1,2,1,3,1,2,2,2,1,2,4,4,1,4,2,1,1,3,5,1,1,2,4,2,1,8,1,2,2,1,4,1,1,4,1,3,1,1,1,4,6,1,2,1,1,1,1,2,4,1,1,2,6,3,1,1,1,1,1,2,3,3,3,1,1,2,1,2,2,2,3,1,4,3,2,3,2,6,1,2,3,1,2,3,7,3,2,4,2,1,2,2,3,1,9,1,2,3,3,2,1,1,13,6,2,1,1,1,2,2,1,2,3,1,12,1,2,1,2,4,1,5,2,4,2,4,1,3,3,4,1,6,1,1,2,4,1,2,1,2,2,2,4,6,2,24,3,1,2,2,2,1,1,1,1,1,1,2,1,5,1,2,4,2,4,4,1,1,4,6,1,4,2,1,2,1,1,2,2,7,1,1,2,2,2,2,4,1,1,2,1,1,1,2,1,1,4,4,2,1,2,6,3,1,3,3,5,3,2,1,3,1,2,4,1,2,3,1,8,2,2,1,3,2,3,3,1,4,1,1,4,3,1,1,1,1,1,3,2,4,2,2,1,1,2,1,1,1,2,1,3,1,1,2,2,1,2,2,1,3,1,3,1,1,2,1,6,1,1,1,1,1,3,3,2,2,4,1,5,1,2,6,4,1,6,4,1,3,1,1,2,4,3,3,3,2,1,2,2,1,4,5,1,1,2,2,1,1,2,1,1,1,9,1,2,10,4,2,1,3,6,3,1,1,3,3,1,1,1,2,1,1,2,2,3,1,3,1,1,1,2,8,1,1,1,2,4,1,2,3,1,1,1,2,1,1,1,1,2,1,1,1,7,2,1,1,4,2,2,2,1,2,1,2,3,6,1,2,3,2],\"x0\":\" \",\"xaxis\":\"x\",\"y0\":\" \",\"yaxis\":\"y\",\"type\":\"box\"},{\"alignmentgroup\":\"True\",\"hovertemplate\":\"aderencia_investimento=nao\\u003cbr\\u003enumero_contatos=%{x}\\u003cextra\\u003e\\u003c\\u002fextra\\u003e\",\"legendgroup\":\"nao\",\"marker\":{\"color\":\"#EF553B\"},\"name\":\"nao\",\"notched\":false,\"offsetgroup\":\"nao\",\"orientation\":\"h\",\"showlegend\":true,\"x\":[18,1,1,2,2,3,5,1,2,2,2,5,1,1,1,1,2,6,2,1,1,1,5,3,3,3,4,1,13,8,1,5,3,2,2,3,1,2,1,4,4,9,2,4,1,3,8,2,5,2,1,2,1,2,2,1,4,12,3,1,3,2,1,1,3,3,2,1,1,2,1,1,2,2,4,3,2,2,2,1,6,2,2,2,4,2,2,1,2,1,2,5,1,3,3,3,8,6,2,4,2,1,1,1,2,2,2,1,1,2,1,1,1,2,3,3,2,3,1,1,1,4,1,1,1,1,1,1,2,2,2,6,1,1,1,1,2,12,17,1,2,1,1,2,2,1,2,3,2,2,2,4,2,1,2,2,2,1,2,1,2,2,1,2,3,2,3,1,2,1,6,2,2,1,4,2,2,1,8,3,14,6,4,2,2,1,5,1,4,1,1,2,6,12,2,2,1,3,10,5,3,4,2,4,2,2,1,1,1,2,3,1,4,2,3,2,1,1,2,6,3,3,1,8,1,5,2,3,1,6,2,1,1,1,5,7,1,1,1,2,2,2,8,2,6,1,1,3,1,1,6,12,2,3,1,2,1,1,1,2,1,2,1,3,1,12,1,2,6,8,2,1,1,2,2,3,4,7,1,2,4,2,3,3,2,3,3,2,1,13,2,1,1,6,2,4,6,1,7,6,3,1,1,13,2,2,2,1,4,1,16,10,3,1,3,2,3,1,6,1,1,1,4,10,2,1,5,1,10,9,1,1,4,4,6,1,2,2,2,1,1,1,2,2,3,7,6,1,1,2,2,1,1,5,2,6,2,4,3,6,11,3,1,2,7,5,2,8,1,1,3,2,1,2,1,2,1,1,1,3,2,8,12,1,1,1,4,1,2,18,3,11,1,2,2,2,2,1,1,1,2,1,2,1,7,2,4,4,11,1,2,2,2,2,1,1,1,1,6,1,3,1,2,1,2,2,1,1,2,1,2,3,1,1,2,1,13,3,2,5,4,2,2,6,2,4,1,17,1,2,4,5,3,3,2,2,1,5,6,2,1,2,2,2,1,1,5,11,1,1,4,1,5,1,3,1,1,2,1,2,1,2,1,1,2,1,4,2,2,1,1,1,2,3,32,6,3,1,6,3,5,2,1,3,3,2,5,6,1,3,3,1,1,3,2,1,2,15,1,2,1,1,1,1,12,3,14,5,1,3,18,2,2,2,1,3,1,3,3,3,1,8,1,2,1,1,1,4,8,1,2,2,5,8,5,1,6,2,2,2,1,6,4,1,3,2,2,1,12,2,7,1,1,3,1,3,1,2,3,4,2,1,3,2,2,7,6,1,5,2,2,8,1,1,1,1,1,2,1,4,4,2,2,6,3,2,1,1,5,2,3,1,6,1,3,5,1,1,2,5,4,3,1,2,1,2,3,6,10,1,3,12,2,3,2,1,1,1,1,1,1,2,1,1,1,1,4,1,3,1,3,2,7,1,2,2,5,2,2,4,1,1,1,16,2,2,1,2,1,3,1,2,2,2,1,3,1,1,1,1,1,6,3,1,1,5,1,1,6,4,2,1,2,2,1,2,2,2,1,1,3,2,7,6,8,6,3,1,3,2,1,3,29,6,1,4,1,7,2,11,11,2,1,1,2,2,1,1,1,2,1,3,2,7,1,3,6,1,2,2,32,1,3,4,4,3,4,3,5,1,4,1,5,1,4,2,1,1,1,4,1,4,1,1,2,2],\"x0\":\" \",\"xaxis\":\"x\",\"y0\":\" \",\"yaxis\":\"y\",\"type\":\"box\"}],                        {\"template\":{\"data\":{\"histogram2dcontour\":[{\"type\":\"histogram2dcontour\",\"colorbar\":{\"outlinewidth\":0,\"ticks\":\"\"},\"colorscale\":[[0.0,\"#0d0887\"],[0.1111111111111111,\"#46039f\"],[0.2222222222222222,\"#7201a8\"],[0.3333333333333333,\"#9c179e\"],[0.4444444444444444,\"#bd3786\"],[0.5555555555555556,\"#d8576b\"],[0.6666666666666666,\"#ed7953\"],[0.7777777777777778,\"#fb9f3a\"],[0.8888888888888888,\"#fdca26\"],[1.0,\"#f0f921\"]]}],\"choropleth\":[{\"type\":\"choropleth\",\"colorbar\":{\"outlinewidth\":0,\"ticks\":\"\"}}],\"histogram2d\":[{\"type\":\"histogram2d\",\"colorbar\":{\"outlinewidth\":0,\"ticks\":\"\"},\"colorscale\":[[0.0,\"#0d0887\"],[0.1111111111111111,\"#46039f\"],[0.2222222222222222,\"#7201a8\"],[0.3333333333333333,\"#9c179e\"],[0.4444444444444444,\"#bd3786\"],[0.5555555555555556,\"#d8576b\"],[0.6666666666666666,\"#ed7953\"],[0.7777777777777778,\"#fb9f3a\"],[0.8888888888888888,\"#fdca26\"],[1.0,\"#f0f921\"]]}],\"heatmap\":[{\"type\":\"heatmap\",\"colorbar\":{\"outlinewidth\":0,\"ticks\":\"\"},\"colorscale\":[[0.0,\"#0d0887\"],[0.1111111111111111,\"#46039f\"],[0.2222222222222222,\"#7201a8\"],[0.3333333333333333,\"#9c179e\"],[0.4444444444444444,\"#bd3786\"],[0.5555555555555556,\"#d8576b\"],[0.6666666666666666,\"#ed7953\"],[0.7777777777777778,\"#fb9f3a\"],[0.8888888888888888,\"#fdca26\"],[1.0,\"#f0f921\"]]}],\"heatmapgl\":[{\"type\":\"heatmapgl\",\"colorbar\":{\"outlinewidth\":0,\"ticks\":\"\"},\"colorscale\":[[0.0,\"#0d0887\"],[0.1111111111111111,\"#46039f\"],[0.2222222222222222,\"#7201a8\"],[0.3333333333333333,\"#9c179e\"],[0.4444444444444444,\"#bd3786\"],[0.5555555555555556,\"#d8576b\"],[0.6666666666666666,\"#ed7953\"],[0.7777777777777778,\"#fb9f3a\"],[0.8888888888888888,\"#fdca26\"],[1.0,\"#f0f921\"]]}],\"contourcarpet\":[{\"type\":\"contourcarpet\",\"colorbar\":{\"outlinewidth\":0,\"ticks\":\"\"}}],\"contour\":[{\"type\":\"contour\",\"colorbar\":{\"outlinewidth\":0,\"ticks\":\"\"},\"colorscale\":[[0.0,\"#0d0887\"],[0.1111111111111111,\"#46039f\"],[0.2222222222222222,\"#7201a8\"],[0.3333333333333333,\"#9c179e\"],[0.4444444444444444,\"#bd3786\"],[0.5555555555555556,\"#d8576b\"],[0.6666666666666666,\"#ed7953\"],[0.7777777777777778,\"#fb9f3a\"],[0.8888888888888888,\"#fdca26\"],[1.0,\"#f0f921\"]]}],\"surface\":[{\"type\":\"surface\",\"colorbar\":{\"outlinewidth\":0,\"ticks\":\"\"},\"colorscale\":[[0.0,\"#0d0887\"],[0.1111111111111111,\"#46039f\"],[0.2222222222222222,\"#7201a8\"],[0.3333333333333333,\"#9c179e\"],[0.4444444444444444,\"#bd3786\"],[0.5555555555555556,\"#d8576b\"],[0.6666666666666666,\"#ed7953\"],[0.7777777777777778,\"#fb9f3a\"],[0.8888888888888888,\"#fdca26\"],[1.0,\"#f0f921\"]]}],\"mesh3d\":[{\"type\":\"mesh3d\",\"colorbar\":{\"outlinewidth\":0,\"ticks\":\"\"}}],\"scatter\":[{\"fillpattern\":{\"fillmode\":\"overlay\",\"size\":10,\"solidity\":0.2},\"type\":\"scatter\"}],\"parcoords\":[{\"type\":\"parcoords\",\"line\":{\"colorbar\":{\"outlinewidth\":0,\"ticks\":\"\"}}}],\"scatterpolargl\":[{\"type\":\"scatterpolargl\",\"marker\":{\"colorbar\":{\"outlinewidth\":0,\"ticks\":\"\"}}}],\"bar\":[{\"error_x\":{\"color\":\"#2a3f5f\"},\"error_y\":{\"color\":\"#2a3f5f\"},\"marker\":{\"line\":{\"color\":\"#E5ECF6\",\"width\":0.5},\"pattern\":{\"fillmode\":\"overlay\",\"size\":10,\"solidity\":0.2}},\"type\":\"bar\"}],\"scattergeo\":[{\"type\":\"scattergeo\",\"marker\":{\"colorbar\":{\"outlinewidth\":0,\"ticks\":\"\"}}}],\"scatterpolar\":[{\"type\":\"scatterpolar\",\"marker\":{\"colorbar\":{\"outlinewidth\":0,\"ticks\":\"\"}}}],\"histogram\":[{\"marker\":{\"pattern\":{\"fillmode\":\"overlay\",\"size\":10,\"solidity\":0.2}},\"type\":\"histogram\"}],\"scattergl\":[{\"type\":\"scattergl\",\"marker\":{\"colorbar\":{\"outlinewidth\":0,\"ticks\":\"\"}}}],\"scatter3d\":[{\"type\":\"scatter3d\",\"line\":{\"colorbar\":{\"outlinewidth\":0,\"ticks\":\"\"}},\"marker\":{\"colorbar\":{\"outlinewidth\":0,\"ticks\":\"\"}}}],\"scattermapbox\":[{\"type\":\"scattermapbox\",\"marker\":{\"colorbar\":{\"outlinewidth\":0,\"ticks\":\"\"}}}],\"scatterternary\":[{\"type\":\"scatterternary\",\"marker\":{\"colorbar\":{\"outlinewidth\":0,\"ticks\":\"\"}}}],\"scattercarpet\":[{\"type\":\"scattercarpet\",\"marker\":{\"colorbar\":{\"outlinewidth\":0,\"ticks\":\"\"}}}],\"carpet\":[{\"aaxis\":{\"endlinecolor\":\"#2a3f5f\",\"gridcolor\":\"white\",\"linecolor\":\"white\",\"minorgridcolor\":\"white\",\"startlinecolor\":\"#2a3f5f\"},\"baxis\":{\"endlinecolor\":\"#2a3f5f\",\"gridcolor\":\"white\",\"linecolor\":\"white\",\"minorgridcolor\":\"white\",\"startlinecolor\":\"#2a3f5f\"},\"type\":\"carpet\"}],\"table\":[{\"cells\":{\"fill\":{\"color\":\"#EBF0F8\"},\"line\":{\"color\":\"white\"}},\"header\":{\"fill\":{\"color\":\"#C8D4E3\"},\"line\":{\"color\":\"white\"}},\"type\":\"table\"}],\"barpolar\":[{\"marker\":{\"line\":{\"color\":\"#E5ECF6\",\"width\":0.5},\"pattern\":{\"fillmode\":\"overlay\",\"size\":10,\"solidity\":0.2}},\"type\":\"barpolar\"}],\"pie\":[{\"automargin\":true,\"type\":\"pie\"}]},\"layout\":{\"autotypenumbers\":\"strict\",\"colorway\":[\"#636efa\",\"#EF553B\",\"#00cc96\",\"#ab63fa\",\"#FFA15A\",\"#19d3f3\",\"#FF6692\",\"#B6E880\",\"#FF97FF\",\"#FECB52\"],\"font\":{\"color\":\"#2a3f5f\"},\"hovermode\":\"closest\",\"hoverlabel\":{\"align\":\"left\"},\"paper_bgcolor\":\"white\",\"plot_bgcolor\":\"#E5ECF6\",\"polar\":{\"bgcolor\":\"#E5ECF6\",\"angularaxis\":{\"gridcolor\":\"white\",\"linecolor\":\"white\",\"ticks\":\"\"},\"radialaxis\":{\"gridcolor\":\"white\",\"linecolor\":\"white\",\"ticks\":\"\"}},\"ternary\":{\"bgcolor\":\"#E5ECF6\",\"aaxis\":{\"gridcolor\":\"white\",\"linecolor\":\"white\",\"ticks\":\"\"},\"baxis\":{\"gridcolor\":\"white\",\"linecolor\":\"white\",\"ticks\":\"\"},\"caxis\":{\"gridcolor\":\"white\",\"linecolor\":\"white\",\"ticks\":\"\"}},\"coloraxis\":{\"colorbar\":{\"outlinewidth\":0,\"ticks\":\"\"}},\"colorscale\":{\"sequential\":[[0.0,\"#0d0887\"],[0.1111111111111111,\"#46039f\"],[0.2222222222222222,\"#7201a8\"],[0.3333333333333333,\"#9c179e\"],[0.4444444444444444,\"#bd3786\"],[0.5555555555555556,\"#d8576b\"],[0.6666666666666666,\"#ed7953\"],[0.7777777777777778,\"#fb9f3a\"],[0.8888888888888888,\"#fdca26\"],[1.0,\"#f0f921\"]],\"sequentialminus\":[[0.0,\"#0d0887\"],[0.1111111111111111,\"#46039f\"],[0.2222222222222222,\"#7201a8\"],[0.3333333333333333,\"#9c179e\"],[0.4444444444444444,\"#bd3786\"],[0.5555555555555556,\"#d8576b\"],[0.6666666666666666,\"#ed7953\"],[0.7777777777777778,\"#fb9f3a\"],[0.8888888888888888,\"#fdca26\"],[1.0,\"#f0f921\"]],\"diverging\":[[0,\"#8e0152\"],[0.1,\"#c51b7d\"],[0.2,\"#de77ae\"],[0.3,\"#f1b6da\"],[0.4,\"#fde0ef\"],[0.5,\"#f7f7f7\"],[0.6,\"#e6f5d0\"],[0.7,\"#b8e186\"],[0.8,\"#7fbc41\"],[0.9,\"#4d9221\"],[1,\"#276419\"]]},\"xaxis\":{\"gridcolor\":\"white\",\"linecolor\":\"white\",\"ticks\":\"\",\"title\":{\"standoff\":15},\"zerolinecolor\":\"white\",\"automargin\":true,\"zerolinewidth\":2},\"yaxis\":{\"gridcolor\":\"white\",\"linecolor\":\"white\",\"ticks\":\"\",\"title\":{\"standoff\":15},\"zerolinecolor\":\"white\",\"automargin\":true,\"zerolinewidth\":2},\"scene\":{\"xaxis\":{\"backgroundcolor\":\"#E5ECF6\",\"gridcolor\":\"white\",\"linecolor\":\"white\",\"showbackground\":true,\"ticks\":\"\",\"zerolinecolor\":\"white\",\"gridwidth\":2},\"yaxis\":{\"backgroundcolor\":\"#E5ECF6\",\"gridcolor\":\"white\",\"linecolor\":\"white\",\"showbackground\":true,\"ticks\":\"\",\"zerolinecolor\":\"white\",\"gridwidth\":2},\"zaxis\":{\"backgroundcolor\":\"#E5ECF6\",\"gridcolor\":\"white\",\"linecolor\":\"white\",\"showbackground\":true,\"ticks\":\"\",\"zerolinecolor\":\"white\",\"gridwidth\":2}},\"shapedefaults\":{\"line\":{\"color\":\"#2a3f5f\"}},\"annotationdefaults\":{\"arrowcolor\":\"#2a3f5f\",\"arrowhead\":0,\"arrowwidth\":1},\"geo\":{\"bgcolor\":\"white\",\"landcolor\":\"#E5ECF6\",\"subunitcolor\":\"white\",\"showland\":true,\"showlakes\":true,\"lakecolor\":\"white\"},\"title\":{\"x\":0.05},\"mapbox\":{\"style\":\"light\"}}},\"xaxis\":{\"anchor\":\"y\",\"domain\":[0.0,1.0],\"title\":{\"text\":\"numero_contatos\"}},\"yaxis\":{\"anchor\":\"x\",\"domain\":[0.0,1.0]},\"legend\":{\"title\":{\"text\":\"aderencia_investimento\"},\"tracegroupgap\":0},\"margin\":{\"t\":60},\"boxmode\":\"group\"},                        {\"responsive\": true}                    ).then(function(){\n",
              "                            \n",
              "var gd = document.getElementById('d5c6d999-4295-40f4-bb85-7900e9e065d4');\n",
              "var x = new MutationObserver(function (mutations, observer) {{\n",
              "        var display = window.getComputedStyle(gd).display;\n",
              "        if (!display || display === 'none') {{\n",
              "            console.log([gd, 'removed!']);\n",
              "            Plotly.purge(gd);\n",
              "            observer.disconnect();\n",
              "        }}\n",
              "}});\n",
              "\n",
              "// Listen for the removal of the full notebook cells\n",
              "var notebookContainer = gd.closest('#notebook-container');\n",
              "if (notebookContainer) {{\n",
              "    x.observe(notebookContainer, {childList: true});\n",
              "}}\n",
              "\n",
              "// Listen for the clearing of the current output cell\n",
              "var outputEl = gd.closest('.output');\n",
              "if (outputEl) {{\n",
              "    x.observe(outputEl, {childList: true});\n",
              "}}\n",
              "\n",
              "                        })                };                            </script>        </div>\n",
              "</body>\n",
              "</html>"
            ]
          },
          "metadata": {}
        }
      ]
    },
    {
      "cell_type": "markdown",
      "source": [
        "# Variável alvo"
      ],
      "metadata": {
        "id": "XJQ7KWHcrhGt"
      }
    },
    {
      "cell_type": "code",
      "source": [
        "x = data.drop('aderencia_investimento', axis=1) # Passando a tabela sem a coluna\n",
        "y = data['aderencia_investimento'] # Passando o target do resultado"
      ],
      "metadata": {
        "id": "tKU_ZlHInkhy"
      },
      "execution_count": null,
      "outputs": []
    },
    {
      "cell_type": "markdown",
      "source": [
        "# One hot encode\n"
      ],
      "metadata": {
        "id": "rzFQHmN22ixT"
      }
    },
    {
      "cell_type": "code",
      "source": [
        "from sklearn.compose import make_column_transformer\n",
        "from sklearn.preprocessing import OneHotEncoder"
      ],
      "metadata": {
        "id": "DtBIsnnm2kVx"
      },
      "execution_count": null,
      "outputs": []
    },
    {
      "cell_type": "code",
      "source": [
        "colunas = x.columns\n",
        "colunas"
      ],
      "metadata": {
        "colab": {
          "base_uri": "https://localhost:8080/"
        },
        "id": "1p7YLPn52z8f",
        "outputId": "92805656-f3aa-4f45-fdda-0ab0cca57ac0"
      },
      "execution_count": null,
      "outputs": [
        {
          "output_type": "execute_result",
          "data": {
            "text/plain": [
              "Index(['idade', 'estado_civil', 'escolaridade', 'inadimplencia', 'saldo',\n",
              "       'fez_emprestimo', 'tempo_ult_contato', 'numero_contatos'],\n",
              "      dtype='object')"
            ]
          },
          "metadata": {},
          "execution_count": 94
        }
      ]
    },
    {
      "cell_type": "code",
      "source": [
        "x.info()"
      ],
      "metadata": {
        "colab": {
          "base_uri": "https://localhost:8080/"
        },
        "id": "U2V8GfvU3o9c",
        "outputId": "ee093747-9c15-44a1-92c5-e8744ce344be"
      },
      "execution_count": null,
      "outputs": [
        {
          "output_type": "stream",
          "name": "stdout",
          "text": [
            "<class 'pandas.core.frame.DataFrame'>\n",
            "RangeIndex: 1268 entries, 0 to 1267\n",
            "Data columns (total 8 columns):\n",
            " #   Column             Non-Null Count  Dtype \n",
            "---  ------             --------------  ----- \n",
            " 0   idade              1268 non-null   int64 \n",
            " 1   estado_civil       1268 non-null   object\n",
            " 2   escolaridade       1268 non-null   object\n",
            " 3   inadimplencia      1268 non-null   object\n",
            " 4   saldo              1268 non-null   int64 \n",
            " 5   fez_emprestimo     1268 non-null   object\n",
            " 6   tempo_ult_contato  1268 non-null   int64 \n",
            " 7   numero_contatos    1268 non-null   int64 \n",
            "dtypes: int64(4), object(4)\n",
            "memory usage: 79.4+ KB\n"
          ]
        }
      ]
    },
    {
      "cell_type": "code",
      "source": [
        "one_hot = make_column_transformer((\n",
        "    OneHotEncoder(drop = 'if_binary'),\n",
        "    ['estado_civil', 'escolaridade', 'inadimplencia', 'fez_emprestimo'] # faz o enconding das colunas selecionadas\n",
        "),\n",
        "  remainder = 'passthrough', # mantém as demais colunas\n",
        "  sparse_threshold = 0) # Pesquisar sobre\n"
      ],
      "metadata": {
        "id": "fmoKdQ_C3FVx"
      },
      "execution_count": null,
      "outputs": []
    },
    {
      "cell_type": "code",
      "source": [],
      "metadata": {
        "id": "48COJysJGnBa"
      },
      "execution_count": null,
      "outputs": []
    },
    {
      "cell_type": "code",
      "source": [
        "x = one_hot.fit_transform(x)"
      ],
      "metadata": {
        "id": "eSHFc6-T4N1J"
      },
      "execution_count": null,
      "outputs": []
    },
    {
      "cell_type": "code",
      "source": [
        "one_hot.get_feature_names_out(colunas)"
      ],
      "metadata": {
        "colab": {
          "base_uri": "https://localhost:8080/"
        },
        "id": "oA-GVihv4cd0",
        "outputId": "0c19c110-43d9-4818-8220-77dbe61a5e8a"
      },
      "execution_count": null,
      "outputs": [
        {
          "output_type": "execute_result",
          "data": {
            "text/plain": [
              "array(['onehotencoder__estado_civil_casado (a)',\n",
              "       'onehotencoder__estado_civil_divorciado (a)',\n",
              "       'onehotencoder__estado_civil_solteiro (a)',\n",
              "       'onehotencoder__escolaridade_fundamental',\n",
              "       'onehotencoder__escolaridade_medio',\n",
              "       'onehotencoder__escolaridade_superior',\n",
              "       'onehotencoder__inadimplencia_sim',\n",
              "       'onehotencoder__fez_emprestimo_sim', 'remainder__idade',\n",
              "       'remainder__saldo', 'remainder__tempo_ult_contato',\n",
              "       'remainder__numero_contatos'], dtype=object)"
            ]
          },
          "metadata": {},
          "execution_count": 98
        }
      ]
    },
    {
      "cell_type": "code",
      "source": [
        "pd.DataFrame(x, columns=one_hot.get_feature_names_out(colunas))"
      ],
      "metadata": {
        "colab": {
          "base_uri": "https://localhost:8080/",
          "height": 461
        },
        "id": "MhgrDoSm4zD6",
        "outputId": "1ea4d0dc-c473-455a-91d5-bf9619d9853f"
      },
      "execution_count": null,
      "outputs": [
        {
          "output_type": "execute_result",
          "data": {
            "text/plain": [
              "      onehotencoder__estado_civil_casado (a)  \\\n",
              "0                                        1.0   \n",
              "1                                        1.0   \n",
              "2                                        0.0   \n",
              "3                                        0.0   \n",
              "4                                        1.0   \n",
              "...                                      ...   \n",
              "1263                                     0.0   \n",
              "1264                                     0.0   \n",
              "1265                                     0.0   \n",
              "1266                                     1.0   \n",
              "1267                                     0.0   \n",
              "\n",
              "      onehotencoder__estado_civil_divorciado (a)  \\\n",
              "0                                            0.0   \n",
              "1                                            0.0   \n",
              "2                                            0.0   \n",
              "3                                            1.0   \n",
              "4                                            0.0   \n",
              "...                                          ...   \n",
              "1263                                         0.0   \n",
              "1264                                         0.0   \n",
              "1265                                         0.0   \n",
              "1266                                         0.0   \n",
              "1267                                         0.0   \n",
              "\n",
              "      onehotencoder__estado_civil_solteiro (a)  \\\n",
              "0                                          0.0   \n",
              "1                                          0.0   \n",
              "2                                          1.0   \n",
              "3                                          0.0   \n",
              "4                                          0.0   \n",
              "...                                        ...   \n",
              "1263                                       1.0   \n",
              "1264                                       1.0   \n",
              "1265                                       1.0   \n",
              "1266                                       0.0   \n",
              "1267                                       1.0   \n",
              "\n",
              "      onehotencoder__escolaridade_fundamental  \\\n",
              "0                                         0.0   \n",
              "1                                         0.0   \n",
              "2                                         0.0   \n",
              "3                                         0.0   \n",
              "4                                         0.0   \n",
              "...                                       ...   \n",
              "1263                                      0.0   \n",
              "1264                                      0.0   \n",
              "1265                                      0.0   \n",
              "1266                                      0.0   \n",
              "1267                                      0.0   \n",
              "\n",
              "      onehotencoder__escolaridade_medio  onehotencoder__escolaridade_superior  \\\n",
              "0                                   0.0                                   1.0   \n",
              "1                                   1.0                                   0.0   \n",
              "2                                   0.0                                   1.0   \n",
              "3                                   0.0                                   1.0   \n",
              "4                                   1.0                                   0.0   \n",
              "...                                 ...                                   ...   \n",
              "1263                                0.0                                   1.0   \n",
              "1264                                0.0                                   1.0   \n",
              "1265                                0.0                                   1.0   \n",
              "1266                                0.0                                   1.0   \n",
              "1267                                0.0                                   1.0   \n",
              "\n",
              "      onehotencoder__inadimplencia_sim  onehotencoder__fez_emprestimo_sim  \\\n",
              "0                                  0.0                                0.0   \n",
              "1                                  0.0                                0.0   \n",
              "2                                  0.0                                0.0   \n",
              "3                                  0.0                                0.0   \n",
              "4                                  0.0                                0.0   \n",
              "...                                ...                                ...   \n",
              "1263                               0.0                                0.0   \n",
              "1264                               0.0                                0.0   \n",
              "1265                               0.0                                1.0   \n",
              "1266                               0.0                                0.0   \n",
              "1267                               0.0                                0.0   \n",
              "\n",
              "      remainder__idade  remainder__saldo  remainder__tempo_ult_contato  \\\n",
              "0                 45.0             242.0                         587.0   \n",
              "1                 42.0            1289.0                         250.0   \n",
              "2                 23.0             363.0                          16.0   \n",
              "3                 58.0            1382.0                         700.0   \n",
              "4                 50.0            3357.0                         239.0   \n",
              "...                ...               ...                           ...   \n",
              "1263              52.0              83.0                        1223.0   \n",
              "1264              35.0            5958.0                         215.0   \n",
              "1265              30.0            -477.0                        1532.0   \n",
              "1266              42.0            2187.0                         525.0   \n",
              "1267              29.0              19.0                         110.0   \n",
              "\n",
              "      remainder__numero_contatos  \n",
              "0                            1.0  \n",
              "1                            4.0  \n",
              "2                           18.0  \n",
              "3                            1.0  \n",
              "4                            4.0  \n",
              "...                          ...  \n",
              "1263                         6.0  \n",
              "1264                         1.0  \n",
              "1265                         2.0  \n",
              "1266                         3.0  \n",
              "1267                         2.0  \n",
              "\n",
              "[1268 rows x 12 columns]"
            ],
            "text/html": [
              "\n",
              "  <div id=\"df-cba9033c-35e3-4fe4-ab08-3f4f832dc3df\" class=\"colab-df-container\">\n",
              "    <div>\n",
              "<style scoped>\n",
              "    .dataframe tbody tr th:only-of-type {\n",
              "        vertical-align: middle;\n",
              "    }\n",
              "\n",
              "    .dataframe tbody tr th {\n",
              "        vertical-align: top;\n",
              "    }\n",
              "\n",
              "    .dataframe thead th {\n",
              "        text-align: right;\n",
              "    }\n",
              "</style>\n",
              "<table border=\"1\" class=\"dataframe\">\n",
              "  <thead>\n",
              "    <tr style=\"text-align: right;\">\n",
              "      <th></th>\n",
              "      <th>onehotencoder__estado_civil_casado (a)</th>\n",
              "      <th>onehotencoder__estado_civil_divorciado (a)</th>\n",
              "      <th>onehotencoder__estado_civil_solteiro (a)</th>\n",
              "      <th>onehotencoder__escolaridade_fundamental</th>\n",
              "      <th>onehotencoder__escolaridade_medio</th>\n",
              "      <th>onehotencoder__escolaridade_superior</th>\n",
              "      <th>onehotencoder__inadimplencia_sim</th>\n",
              "      <th>onehotencoder__fez_emprestimo_sim</th>\n",
              "      <th>remainder__idade</th>\n",
              "      <th>remainder__saldo</th>\n",
              "      <th>remainder__tempo_ult_contato</th>\n",
              "      <th>remainder__numero_contatos</th>\n",
              "    </tr>\n",
              "  </thead>\n",
              "  <tbody>\n",
              "    <tr>\n",
              "      <th>0</th>\n",
              "      <td>1.0</td>\n",
              "      <td>0.0</td>\n",
              "      <td>0.0</td>\n",
              "      <td>0.0</td>\n",
              "      <td>0.0</td>\n",
              "      <td>1.0</td>\n",
              "      <td>0.0</td>\n",
              "      <td>0.0</td>\n",
              "      <td>45.0</td>\n",
              "      <td>242.0</td>\n",
              "      <td>587.0</td>\n",
              "      <td>1.0</td>\n",
              "    </tr>\n",
              "    <tr>\n",
              "      <th>1</th>\n",
              "      <td>1.0</td>\n",
              "      <td>0.0</td>\n",
              "      <td>0.0</td>\n",
              "      <td>0.0</td>\n",
              "      <td>1.0</td>\n",
              "      <td>0.0</td>\n",
              "      <td>0.0</td>\n",
              "      <td>0.0</td>\n",
              "      <td>42.0</td>\n",
              "      <td>1289.0</td>\n",
              "      <td>250.0</td>\n",
              "      <td>4.0</td>\n",
              "    </tr>\n",
              "    <tr>\n",
              "      <th>2</th>\n",
              "      <td>0.0</td>\n",
              "      <td>0.0</td>\n",
              "      <td>1.0</td>\n",
              "      <td>0.0</td>\n",
              "      <td>0.0</td>\n",
              "      <td>1.0</td>\n",
              "      <td>0.0</td>\n",
              "      <td>0.0</td>\n",
              "      <td>23.0</td>\n",
              "      <td>363.0</td>\n",
              "      <td>16.0</td>\n",
              "      <td>18.0</td>\n",
              "    </tr>\n",
              "    <tr>\n",
              "      <th>3</th>\n",
              "      <td>0.0</td>\n",
              "      <td>1.0</td>\n",
              "      <td>0.0</td>\n",
              "      <td>0.0</td>\n",
              "      <td>0.0</td>\n",
              "      <td>1.0</td>\n",
              "      <td>0.0</td>\n",
              "      <td>0.0</td>\n",
              "      <td>58.0</td>\n",
              "      <td>1382.0</td>\n",
              "      <td>700.0</td>\n",
              "      <td>1.0</td>\n",
              "    </tr>\n",
              "    <tr>\n",
              "      <th>4</th>\n",
              "      <td>1.0</td>\n",
              "      <td>0.0</td>\n",
              "      <td>0.0</td>\n",
              "      <td>0.0</td>\n",
              "      <td>1.0</td>\n",
              "      <td>0.0</td>\n",
              "      <td>0.0</td>\n",
              "      <td>0.0</td>\n",
              "      <td>50.0</td>\n",
              "      <td>3357.0</td>\n",
              "      <td>239.0</td>\n",
              "      <td>4.0</td>\n",
              "    </tr>\n",
              "    <tr>\n",
              "      <th>...</th>\n",
              "      <td>...</td>\n",
              "      <td>...</td>\n",
              "      <td>...</td>\n",
              "      <td>...</td>\n",
              "      <td>...</td>\n",
              "      <td>...</td>\n",
              "      <td>...</td>\n",
              "      <td>...</td>\n",
              "      <td>...</td>\n",
              "      <td>...</td>\n",
              "      <td>...</td>\n",
              "      <td>...</td>\n",
              "    </tr>\n",
              "    <tr>\n",
              "      <th>1263</th>\n",
              "      <td>0.0</td>\n",
              "      <td>0.0</td>\n",
              "      <td>1.0</td>\n",
              "      <td>0.0</td>\n",
              "      <td>0.0</td>\n",
              "      <td>1.0</td>\n",
              "      <td>0.0</td>\n",
              "      <td>0.0</td>\n",
              "      <td>52.0</td>\n",
              "      <td>83.0</td>\n",
              "      <td>1223.0</td>\n",
              "      <td>6.0</td>\n",
              "    </tr>\n",
              "    <tr>\n",
              "      <th>1264</th>\n",
              "      <td>0.0</td>\n",
              "      <td>0.0</td>\n",
              "      <td>1.0</td>\n",
              "      <td>0.0</td>\n",
              "      <td>0.0</td>\n",
              "      <td>1.0</td>\n",
              "      <td>0.0</td>\n",
              "      <td>0.0</td>\n",
              "      <td>35.0</td>\n",
              "      <td>5958.0</td>\n",
              "      <td>215.0</td>\n",
              "      <td>1.0</td>\n",
              "    </tr>\n",
              "    <tr>\n",
              "      <th>1265</th>\n",
              "      <td>0.0</td>\n",
              "      <td>0.0</td>\n",
              "      <td>1.0</td>\n",
              "      <td>0.0</td>\n",
              "      <td>0.0</td>\n",
              "      <td>1.0</td>\n",
              "      <td>0.0</td>\n",
              "      <td>1.0</td>\n",
              "      <td>30.0</td>\n",
              "      <td>-477.0</td>\n",
              "      <td>1532.0</td>\n",
              "      <td>2.0</td>\n",
              "    </tr>\n",
              "    <tr>\n",
              "      <th>1266</th>\n",
              "      <td>1.0</td>\n",
              "      <td>0.0</td>\n",
              "      <td>0.0</td>\n",
              "      <td>0.0</td>\n",
              "      <td>0.0</td>\n",
              "      <td>1.0</td>\n",
              "      <td>0.0</td>\n",
              "      <td>0.0</td>\n",
              "      <td>42.0</td>\n",
              "      <td>2187.0</td>\n",
              "      <td>525.0</td>\n",
              "      <td>3.0</td>\n",
              "    </tr>\n",
              "    <tr>\n",
              "      <th>1267</th>\n",
              "      <td>0.0</td>\n",
              "      <td>0.0</td>\n",
              "      <td>1.0</td>\n",
              "      <td>0.0</td>\n",
              "      <td>0.0</td>\n",
              "      <td>1.0</td>\n",
              "      <td>0.0</td>\n",
              "      <td>0.0</td>\n",
              "      <td>29.0</td>\n",
              "      <td>19.0</td>\n",
              "      <td>110.0</td>\n",
              "      <td>2.0</td>\n",
              "    </tr>\n",
              "  </tbody>\n",
              "</table>\n",
              "<p>1268 rows × 12 columns</p>\n",
              "</div>\n",
              "    <div class=\"colab-df-buttons\">\n",
              "\n",
              "  <div class=\"colab-df-container\">\n",
              "    <button class=\"colab-df-convert\" onclick=\"convertToInteractive('df-cba9033c-35e3-4fe4-ab08-3f4f832dc3df')\"\n",
              "            title=\"Convert this dataframe to an interactive table.\"\n",
              "            style=\"display:none;\">\n",
              "\n",
              "  <svg xmlns=\"http://www.w3.org/2000/svg\" height=\"24px\" viewBox=\"0 -960 960 960\">\n",
              "    <path d=\"M120-120v-720h720v720H120Zm60-500h600v-160H180v160Zm220 220h160v-160H400v160Zm0 220h160v-160H400v160ZM180-400h160v-160H180v160Zm440 0h160v-160H620v160ZM180-180h160v-160H180v160Zm440 0h160v-160H620v160Z\"/>\n",
              "  </svg>\n",
              "    </button>\n",
              "\n",
              "  <style>\n",
              "    .colab-df-container {\n",
              "      display:flex;\n",
              "      gap: 12px;\n",
              "    }\n",
              "\n",
              "    .colab-df-convert {\n",
              "      background-color: #E8F0FE;\n",
              "      border: none;\n",
              "      border-radius: 50%;\n",
              "      cursor: pointer;\n",
              "      display: none;\n",
              "      fill: #1967D2;\n",
              "      height: 32px;\n",
              "      padding: 0 0 0 0;\n",
              "      width: 32px;\n",
              "    }\n",
              "\n",
              "    .colab-df-convert:hover {\n",
              "      background-color: #E2EBFA;\n",
              "      box-shadow: 0px 1px 2px rgba(60, 64, 67, 0.3), 0px 1px 3px 1px rgba(60, 64, 67, 0.15);\n",
              "      fill: #174EA6;\n",
              "    }\n",
              "\n",
              "    .colab-df-buttons div {\n",
              "      margin-bottom: 4px;\n",
              "    }\n",
              "\n",
              "    [theme=dark] .colab-df-convert {\n",
              "      background-color: #3B4455;\n",
              "      fill: #D2E3FC;\n",
              "    }\n",
              "\n",
              "    [theme=dark] .colab-df-convert:hover {\n",
              "      background-color: #434B5C;\n",
              "      box-shadow: 0px 1px 3px 1px rgba(0, 0, 0, 0.15);\n",
              "      filter: drop-shadow(0px 1px 2px rgba(0, 0, 0, 0.3));\n",
              "      fill: #FFFFFF;\n",
              "    }\n",
              "  </style>\n",
              "\n",
              "    <script>\n",
              "      const buttonEl =\n",
              "        document.querySelector('#df-cba9033c-35e3-4fe4-ab08-3f4f832dc3df button.colab-df-convert');\n",
              "      buttonEl.style.display =\n",
              "        google.colab.kernel.accessAllowed ? 'block' : 'none';\n",
              "\n",
              "      async function convertToInteractive(key) {\n",
              "        const element = document.querySelector('#df-cba9033c-35e3-4fe4-ab08-3f4f832dc3df');\n",
              "        const dataTable =\n",
              "          await google.colab.kernel.invokeFunction('convertToInteractive',\n",
              "                                                    [key], {});\n",
              "        if (!dataTable) return;\n",
              "\n",
              "        const docLinkHtml = 'Like what you see? Visit the ' +\n",
              "          '<a target=\"_blank\" href=https://colab.research.google.com/notebooks/data_table.ipynb>data table notebook</a>'\n",
              "          + ' to learn more about interactive tables.';\n",
              "        element.innerHTML = '';\n",
              "        dataTable['output_type'] = 'display_data';\n",
              "        await google.colab.output.renderOutput(dataTable, element);\n",
              "        const docLink = document.createElement('div');\n",
              "        docLink.innerHTML = docLinkHtml;\n",
              "        element.appendChild(docLink);\n",
              "      }\n",
              "    </script>\n",
              "  </div>\n",
              "\n",
              "\n",
              "<div id=\"df-15d865e7-79c3-4971-8f49-98dc6895e15a\">\n",
              "  <button class=\"colab-df-quickchart\" onclick=\"quickchart('df-15d865e7-79c3-4971-8f49-98dc6895e15a')\"\n",
              "            title=\"Suggest charts\"\n",
              "            style=\"display:none;\">\n",
              "\n",
              "<svg xmlns=\"http://www.w3.org/2000/svg\" height=\"24px\"viewBox=\"0 0 24 24\"\n",
              "     width=\"24px\">\n",
              "    <g>\n",
              "        <path d=\"M19 3H5c-1.1 0-2 .9-2 2v14c0 1.1.9 2 2 2h14c1.1 0 2-.9 2-2V5c0-1.1-.9-2-2-2zM9 17H7v-7h2v7zm4 0h-2V7h2v10zm4 0h-2v-4h2v4z\"/>\n",
              "    </g>\n",
              "</svg>\n",
              "  </button>\n",
              "\n",
              "<style>\n",
              "  .colab-df-quickchart {\n",
              "      --bg-color: #E8F0FE;\n",
              "      --fill-color: #1967D2;\n",
              "      --hover-bg-color: #E2EBFA;\n",
              "      --hover-fill-color: #174EA6;\n",
              "      --disabled-fill-color: #AAA;\n",
              "      --disabled-bg-color: #DDD;\n",
              "  }\n",
              "\n",
              "  [theme=dark] .colab-df-quickchart {\n",
              "      --bg-color: #3B4455;\n",
              "      --fill-color: #D2E3FC;\n",
              "      --hover-bg-color: #434B5C;\n",
              "      --hover-fill-color: #FFFFFF;\n",
              "      --disabled-bg-color: #3B4455;\n",
              "      --disabled-fill-color: #666;\n",
              "  }\n",
              "\n",
              "  .colab-df-quickchart {\n",
              "    background-color: var(--bg-color);\n",
              "    border: none;\n",
              "    border-radius: 50%;\n",
              "    cursor: pointer;\n",
              "    display: none;\n",
              "    fill: var(--fill-color);\n",
              "    height: 32px;\n",
              "    padding: 0;\n",
              "    width: 32px;\n",
              "  }\n",
              "\n",
              "  .colab-df-quickchart:hover {\n",
              "    background-color: var(--hover-bg-color);\n",
              "    box-shadow: 0 1px 2px rgba(60, 64, 67, 0.3), 0 1px 3px 1px rgba(60, 64, 67, 0.15);\n",
              "    fill: var(--button-hover-fill-color);\n",
              "  }\n",
              "\n",
              "  .colab-df-quickchart-complete:disabled,\n",
              "  .colab-df-quickchart-complete:disabled:hover {\n",
              "    background-color: var(--disabled-bg-color);\n",
              "    fill: var(--disabled-fill-color);\n",
              "    box-shadow: none;\n",
              "  }\n",
              "\n",
              "  .colab-df-spinner {\n",
              "    border: 2px solid var(--fill-color);\n",
              "    border-color: transparent;\n",
              "    border-bottom-color: var(--fill-color);\n",
              "    animation:\n",
              "      spin 1s steps(1) infinite;\n",
              "  }\n",
              "\n",
              "  @keyframes spin {\n",
              "    0% {\n",
              "      border-color: transparent;\n",
              "      border-bottom-color: var(--fill-color);\n",
              "      border-left-color: var(--fill-color);\n",
              "    }\n",
              "    20% {\n",
              "      border-color: transparent;\n",
              "      border-left-color: var(--fill-color);\n",
              "      border-top-color: var(--fill-color);\n",
              "    }\n",
              "    30% {\n",
              "      border-color: transparent;\n",
              "      border-left-color: var(--fill-color);\n",
              "      border-top-color: var(--fill-color);\n",
              "      border-right-color: var(--fill-color);\n",
              "    }\n",
              "    40% {\n",
              "      border-color: transparent;\n",
              "      border-right-color: var(--fill-color);\n",
              "      border-top-color: var(--fill-color);\n",
              "    }\n",
              "    60% {\n",
              "      border-color: transparent;\n",
              "      border-right-color: var(--fill-color);\n",
              "    }\n",
              "    80% {\n",
              "      border-color: transparent;\n",
              "      border-right-color: var(--fill-color);\n",
              "      border-bottom-color: var(--fill-color);\n",
              "    }\n",
              "    90% {\n",
              "      border-color: transparent;\n",
              "      border-bottom-color: var(--fill-color);\n",
              "    }\n",
              "  }\n",
              "</style>\n",
              "\n",
              "  <script>\n",
              "    async function quickchart(key) {\n",
              "      const quickchartButtonEl =\n",
              "        document.querySelector('#' + key + ' button');\n",
              "      quickchartButtonEl.disabled = true;  // To prevent multiple clicks.\n",
              "      quickchartButtonEl.classList.add('colab-df-spinner');\n",
              "      try {\n",
              "        const charts = await google.colab.kernel.invokeFunction(\n",
              "            'suggestCharts', [key], {});\n",
              "      } catch (error) {\n",
              "        console.error('Error during call to suggestCharts:', error);\n",
              "      }\n",
              "      quickchartButtonEl.classList.remove('colab-df-spinner');\n",
              "      quickchartButtonEl.classList.add('colab-df-quickchart-complete');\n",
              "    }\n",
              "    (() => {\n",
              "      let quickchartButtonEl =\n",
              "        document.querySelector('#df-15d865e7-79c3-4971-8f49-98dc6895e15a button');\n",
              "      quickchartButtonEl.style.display =\n",
              "        google.colab.kernel.accessAllowed ? 'block' : 'none';\n",
              "    })();\n",
              "  </script>\n",
              "</div>\n",
              "\n",
              "    </div>\n",
              "  </div>\n"
            ],
            "application/vnd.google.colaboratory.intrinsic+json": {
              "type": "dataframe",
              "summary": "{\n  \"name\": \"pd\",\n  \"rows\": 1268,\n  \"fields\": [\n    {\n      \"column\": \"onehotencoder__estado_civil_casado (a)\",\n      \"properties\": {\n        \"dtype\": \"number\",\n        \"std\": 0.4934216275780311,\n        \"min\": 0.0,\n        \"max\": 1.0,\n        \"num_unique_values\": 2,\n        \"samples\": [\n          0.0,\n          1.0\n        ],\n        \"semantic_type\": \"\",\n        \"description\": \"\"\n      }\n    },\n    {\n      \"column\": \"onehotencoder__estado_civil_divorciado (a)\",\n      \"properties\": {\n        \"dtype\": \"number\",\n        \"std\": 0.33395437437580455,\n        \"min\": 0.0,\n        \"max\": 1.0,\n        \"num_unique_values\": 2,\n        \"samples\": [\n          1.0,\n          0.0\n        ],\n        \"semantic_type\": \"\",\n        \"description\": \"\"\n      }\n    },\n    {\n      \"column\": \"onehotencoder__estado_civil_solteiro (a)\",\n      \"properties\": {\n        \"dtype\": \"number\",\n        \"std\": 0.454043256469404,\n        \"min\": 0.0,\n        \"max\": 1.0,\n        \"num_unique_values\": 2,\n        \"samples\": [\n          1.0,\n          0.0\n        ],\n        \"semantic_type\": \"\",\n        \"description\": \"\"\n      }\n    },\n    {\n      \"column\": \"onehotencoder__escolaridade_fundamental\",\n      \"properties\": {\n        \"dtype\": \"number\",\n        \"std\": 0.3593643175588947,\n        \"min\": 0.0,\n        \"max\": 1.0,\n        \"num_unique_values\": 2,\n        \"samples\": [\n          1.0,\n          0.0\n        ],\n        \"semantic_type\": \"\",\n        \"description\": \"\"\n      }\n    },\n    {\n      \"column\": \"onehotencoder__escolaridade_medio\",\n      \"properties\": {\n        \"dtype\": \"number\",\n        \"std\": 0.49970923153107044,\n        \"min\": 0.0,\n        \"max\": 1.0,\n        \"num_unique_values\": 2,\n        \"samples\": [\n          1.0,\n          0.0\n        ],\n        \"semantic_type\": \"\",\n        \"description\": \"\"\n      }\n    },\n    {\n      \"column\": \"onehotencoder__escolaridade_superior\",\n      \"properties\": {\n        \"dtype\": \"number\",\n        \"std\": 0.4688243379191886,\n        \"min\": 0.0,\n        \"max\": 1.0,\n        \"num_unique_values\": 2,\n        \"samples\": [\n          0.0,\n          1.0\n        ],\n        \"semantic_type\": \"\",\n        \"description\": \"\"\n      }\n    },\n    {\n      \"column\": \"onehotencoder__inadimplencia_sim\",\n      \"properties\": {\n        \"dtype\": \"number\",\n        \"std\": 0.1335059616953151,\n        \"min\": 0.0,\n        \"max\": 1.0,\n        \"num_unique_values\": 2,\n        \"samples\": [\n          1.0,\n          0.0\n        ],\n        \"semantic_type\": \"\",\n        \"description\": \"\"\n      }\n    },\n    {\n      \"column\": \"onehotencoder__fez_emprestimo_sim\",\n      \"properties\": {\n        \"dtype\": \"number\",\n        \"std\": 0.3408613004126128,\n        \"min\": 0.0,\n        \"max\": 1.0,\n        \"num_unique_values\": 2,\n        \"samples\": [\n          1.0,\n          0.0\n        ],\n        \"semantic_type\": \"\",\n        \"description\": \"\"\n      }\n    },\n    {\n      \"column\": \"remainder__idade\",\n      \"properties\": {\n        \"dtype\": \"number\",\n        \"std\": 11.383804651491227,\n        \"min\": 19.0,\n        \"max\": 87.0,\n        \"num_unique_values\": 64,\n        \"samples\": [\n          70.0,\n          77.0\n        ],\n        \"semantic_type\": \"\",\n        \"description\": \"\"\n      }\n    },\n    {\n      \"column\": \"remainder__saldo\",\n      \"properties\": {\n        \"dtype\": \"number\",\n        \"std\": 2690.4067669350425,\n        \"min\": -1206.0,\n        \"max\": 27069.0,\n        \"num_unique_values\": 946,\n        \"samples\": [\n          1148.0,\n          -247.0\n        ],\n        \"semantic_type\": \"\",\n        \"description\": \"\"\n      }\n    },\n    {\n      \"column\": \"remainder__tempo_ult_contato\",\n      \"properties\": {\n        \"dtype\": \"number\",\n        \"std\": 347.9697229415953,\n        \"min\": 5.0,\n        \"max\": 3025.0,\n        \"num_unique_values\": 646,\n        \"samples\": [\n          1006.0,\n          1060.0\n        ],\n        \"semantic_type\": \"\",\n        \"description\": \"\"\n      }\n    },\n    {\n      \"column\": \"remainder__numero_contatos\",\n      \"properties\": {\n        \"dtype\": \"number\",\n        \"std\": 2.8856424362736934,\n        \"min\": 1.0,\n        \"max\": 32.0,\n        \"num_unique_values\": 21,\n        \"samples\": [\n          1.0,\n          24.0\n        ],\n        \"semantic_type\": \"\",\n        \"description\": \"\"\n      }\n    }\n  ]\n}"
            }
          },
          "metadata": {},
          "execution_count": 99
        }
      ]
    },
    {
      "cell_type": "code",
      "source": [
        "from sklearn.preprocessing import LabelEncoder"
      ],
      "metadata": {
        "id": "osLOhL8z5IYi"
      },
      "execution_count": null,
      "outputs": []
    },
    {
      "cell_type": "code",
      "source": [
        "label_encoder = LabelEncoder()"
      ],
      "metadata": {
        "id": "P7y2_SIT50ar"
      },
      "execution_count": null,
      "outputs": []
    },
    {
      "cell_type": "code",
      "source": [
        "y = label_encoder.fit_transform(y)"
      ],
      "metadata": {
        "id": "Y2f24g2r53hH"
      },
      "execution_count": null,
      "outputs": []
    },
    {
      "cell_type": "code",
      "source": [
        "y"
      ],
      "metadata": {
        "colab": {
          "base_uri": "https://localhost:8080/"
        },
        "id": "CP8aTFT6572a",
        "outputId": "ba3709d2-89cc-4366-e266-e82280d23655"
      },
      "execution_count": null,
      "outputs": [
        {
          "output_type": "execute_result",
          "data": {
            "text/plain": [
              "array([1, 1, 0, ..., 1, 1, 1])"
            ]
          },
          "metadata": {},
          "execution_count": 103
        }
      ]
    },
    {
      "cell_type": "code",
      "source": [
        "from sklearn.model_selection import train_test_split"
      ],
      "metadata": {
        "id": "2F-QHp8E5989"
      },
      "execution_count": null,
      "outputs": []
    },
    {
      "cell_type": "code",
      "source": [
        "x_treino, x_teste, y_treino, y_teste = train_test_split(x, y, stratify = y, random_state = 5)"
      ],
      "metadata": {
        "id": "RPT9qwhN7Gm3"
      },
      "execution_count": null,
      "outputs": []
    },
    {
      "cell_type": "markdown",
      "source": [
        "# Modelo Base"
      ],
      "metadata": {
        "id": "i5RK3sdU1uk8"
      }
    },
    {
      "cell_type": "code",
      "source": [
        "from sklearn.dummy import DummyClassifier"
      ],
      "metadata": {
        "id": "Swz2Ygep7cBB"
      },
      "execution_count": null,
      "outputs": []
    },
    {
      "cell_type": "code",
      "source": [
        "dummy = DummyClassifier()\n",
        "dummy.fit(x_treino, y_treino)"
      ],
      "metadata": {
        "colab": {
          "base_uri": "https://localhost:8080/",
          "height": 74
        },
        "id": "Y7a8x3Zk1zL1",
        "outputId": "d6a81289-8836-46ac-ecec-6ecc924f13d0"
      },
      "execution_count": null,
      "outputs": [
        {
          "output_type": "execute_result",
          "data": {
            "text/plain": [
              "DummyClassifier()"
            ],
            "text/html": [
              "<style>#sk-container-id-5 {color: black;background-color: white;}#sk-container-id-5 pre{padding: 0;}#sk-container-id-5 div.sk-toggleable {background-color: white;}#sk-container-id-5 label.sk-toggleable__label {cursor: pointer;display: block;width: 100%;margin-bottom: 0;padding: 0.3em;box-sizing: border-box;text-align: center;}#sk-container-id-5 label.sk-toggleable__label-arrow:before {content: \"▸\";float: left;margin-right: 0.25em;color: #696969;}#sk-container-id-5 label.sk-toggleable__label-arrow:hover:before {color: black;}#sk-container-id-5 div.sk-estimator:hover label.sk-toggleable__label-arrow:before {color: black;}#sk-container-id-5 div.sk-toggleable__content {max-height: 0;max-width: 0;overflow: hidden;text-align: left;background-color: #f0f8ff;}#sk-container-id-5 div.sk-toggleable__content pre {margin: 0.2em;color: black;border-radius: 0.25em;background-color: #f0f8ff;}#sk-container-id-5 input.sk-toggleable__control:checked~div.sk-toggleable__content {max-height: 200px;max-width: 100%;overflow: auto;}#sk-container-id-5 input.sk-toggleable__control:checked~label.sk-toggleable__label-arrow:before {content: \"▾\";}#sk-container-id-5 div.sk-estimator input.sk-toggleable__control:checked~label.sk-toggleable__label {background-color: #d4ebff;}#sk-container-id-5 div.sk-label input.sk-toggleable__control:checked~label.sk-toggleable__label {background-color: #d4ebff;}#sk-container-id-5 input.sk-hidden--visually {border: 0;clip: rect(1px 1px 1px 1px);clip: rect(1px, 1px, 1px, 1px);height: 1px;margin: -1px;overflow: hidden;padding: 0;position: absolute;width: 1px;}#sk-container-id-5 div.sk-estimator {font-family: monospace;background-color: #f0f8ff;border: 1px dotted black;border-radius: 0.25em;box-sizing: border-box;margin-bottom: 0.5em;}#sk-container-id-5 div.sk-estimator:hover {background-color: #d4ebff;}#sk-container-id-5 div.sk-parallel-item::after {content: \"\";width: 100%;border-bottom: 1px solid gray;flex-grow: 1;}#sk-container-id-5 div.sk-label:hover label.sk-toggleable__label {background-color: #d4ebff;}#sk-container-id-5 div.sk-serial::before {content: \"\";position: absolute;border-left: 1px solid gray;box-sizing: border-box;top: 0;bottom: 0;left: 50%;z-index: 0;}#sk-container-id-5 div.sk-serial {display: flex;flex-direction: column;align-items: center;background-color: white;padding-right: 0.2em;padding-left: 0.2em;position: relative;}#sk-container-id-5 div.sk-item {position: relative;z-index: 1;}#sk-container-id-5 div.sk-parallel {display: flex;align-items: stretch;justify-content: center;background-color: white;position: relative;}#sk-container-id-5 div.sk-item::before, #sk-container-id-5 div.sk-parallel-item::before {content: \"\";position: absolute;border-left: 1px solid gray;box-sizing: border-box;top: 0;bottom: 0;left: 50%;z-index: -1;}#sk-container-id-5 div.sk-parallel-item {display: flex;flex-direction: column;z-index: 1;position: relative;background-color: white;}#sk-container-id-5 div.sk-parallel-item:first-child::after {align-self: flex-end;width: 50%;}#sk-container-id-5 div.sk-parallel-item:last-child::after {align-self: flex-start;width: 50%;}#sk-container-id-5 div.sk-parallel-item:only-child::after {width: 0;}#sk-container-id-5 div.sk-dashed-wrapped {border: 1px dashed gray;margin: 0 0.4em 0.5em 0.4em;box-sizing: border-box;padding-bottom: 0.4em;background-color: white;}#sk-container-id-5 div.sk-label label {font-family: monospace;font-weight: bold;display: inline-block;line-height: 1.2em;}#sk-container-id-5 div.sk-label-container {text-align: center;}#sk-container-id-5 div.sk-container {/* jupyter's `normalize.less` sets `[hidden] { display: none; }` but bootstrap.min.css set `[hidden] { display: none !important; }` so we also need the `!important` here to be able to override the default hidden behavior on the sphinx rendered scikit-learn.org. See: https://github.com/scikit-learn/scikit-learn/issues/21755 */display: inline-block !important;position: relative;}#sk-container-id-5 div.sk-text-repr-fallback {display: none;}</style><div id=\"sk-container-id-5\" class=\"sk-top-container\"><div class=\"sk-text-repr-fallback\"><pre>DummyClassifier()</pre><b>In a Jupyter environment, please rerun this cell to show the HTML representation or trust the notebook. <br />On GitHub, the HTML representation is unable to render, please try loading this page with nbviewer.org.</b></div><div class=\"sk-container\" hidden><div class=\"sk-item\"><div class=\"sk-estimator sk-toggleable\"><input class=\"sk-toggleable__control sk-hidden--visually\" id=\"sk-estimator-id-5\" type=\"checkbox\" checked><label for=\"sk-estimator-id-5\" class=\"sk-toggleable__label sk-toggleable__label-arrow\">DummyClassifier</label><div class=\"sk-toggleable__content\"><pre>DummyClassifier()</pre></div></div></div></div></div>"
            ]
          },
          "metadata": {},
          "execution_count": 107
        }
      ]
    },
    {
      "cell_type": "code",
      "source": [
        "dummy.score(x_teste, y_teste)"
      ],
      "metadata": {
        "colab": {
          "base_uri": "https://localhost:8080/"
        },
        "id": "5txXFD_n13v4",
        "outputId": "d7ff97af-929d-408a-d121-1e85454f452a"
      },
      "execution_count": null,
      "outputs": [
        {
          "output_type": "execute_result",
          "data": {
            "text/plain": [
              "0.6025236593059937"
            ]
          },
          "metadata": {},
          "execution_count": 108
        }
      ]
    },
    {
      "cell_type": "markdown",
      "source": [
        "# Arvore de decisão"
      ],
      "metadata": {
        "id": "1_rPqwlPAiH_"
      }
    },
    {
      "cell_type": "code",
      "source": [
        "from sklearn.tree import DecisionTreeClassifier"
      ],
      "metadata": {
        "id": "tftROONg2iQS"
      },
      "execution_count": null,
      "outputs": []
    },
    {
      "cell_type": "code",
      "source": [
        "arvore = DecisionTreeClassifier(random_state=5)\n",
        "arvore.fit(x_treino, y_treino)"
      ],
      "metadata": {
        "colab": {
          "base_uri": "https://localhost:8080/",
          "height": 74
        },
        "id": "Lztgraz1AmwA",
        "outputId": "c1bdd447-e1f3-4a3a-f4bf-cee73031eadb"
      },
      "execution_count": null,
      "outputs": [
        {
          "output_type": "execute_result",
          "data": {
            "text/plain": [
              "DecisionTreeClassifier(random_state=5)"
            ],
            "text/html": [
              "<style>#sk-container-id-6 {color: black;background-color: white;}#sk-container-id-6 pre{padding: 0;}#sk-container-id-6 div.sk-toggleable {background-color: white;}#sk-container-id-6 label.sk-toggleable__label {cursor: pointer;display: block;width: 100%;margin-bottom: 0;padding: 0.3em;box-sizing: border-box;text-align: center;}#sk-container-id-6 label.sk-toggleable__label-arrow:before {content: \"▸\";float: left;margin-right: 0.25em;color: #696969;}#sk-container-id-6 label.sk-toggleable__label-arrow:hover:before {color: black;}#sk-container-id-6 div.sk-estimator:hover label.sk-toggleable__label-arrow:before {color: black;}#sk-container-id-6 div.sk-toggleable__content {max-height: 0;max-width: 0;overflow: hidden;text-align: left;background-color: #f0f8ff;}#sk-container-id-6 div.sk-toggleable__content pre {margin: 0.2em;color: black;border-radius: 0.25em;background-color: #f0f8ff;}#sk-container-id-6 input.sk-toggleable__control:checked~div.sk-toggleable__content {max-height: 200px;max-width: 100%;overflow: auto;}#sk-container-id-6 input.sk-toggleable__control:checked~label.sk-toggleable__label-arrow:before {content: \"▾\";}#sk-container-id-6 div.sk-estimator input.sk-toggleable__control:checked~label.sk-toggleable__label {background-color: #d4ebff;}#sk-container-id-6 div.sk-label input.sk-toggleable__control:checked~label.sk-toggleable__label {background-color: #d4ebff;}#sk-container-id-6 input.sk-hidden--visually {border: 0;clip: rect(1px 1px 1px 1px);clip: rect(1px, 1px, 1px, 1px);height: 1px;margin: -1px;overflow: hidden;padding: 0;position: absolute;width: 1px;}#sk-container-id-6 div.sk-estimator {font-family: monospace;background-color: #f0f8ff;border: 1px dotted black;border-radius: 0.25em;box-sizing: border-box;margin-bottom: 0.5em;}#sk-container-id-6 div.sk-estimator:hover {background-color: #d4ebff;}#sk-container-id-6 div.sk-parallel-item::after {content: \"\";width: 100%;border-bottom: 1px solid gray;flex-grow: 1;}#sk-container-id-6 div.sk-label:hover label.sk-toggleable__label {background-color: #d4ebff;}#sk-container-id-6 div.sk-serial::before {content: \"\";position: absolute;border-left: 1px solid gray;box-sizing: border-box;top: 0;bottom: 0;left: 50%;z-index: 0;}#sk-container-id-6 div.sk-serial {display: flex;flex-direction: column;align-items: center;background-color: white;padding-right: 0.2em;padding-left: 0.2em;position: relative;}#sk-container-id-6 div.sk-item {position: relative;z-index: 1;}#sk-container-id-6 div.sk-parallel {display: flex;align-items: stretch;justify-content: center;background-color: white;position: relative;}#sk-container-id-6 div.sk-item::before, #sk-container-id-6 div.sk-parallel-item::before {content: \"\";position: absolute;border-left: 1px solid gray;box-sizing: border-box;top: 0;bottom: 0;left: 50%;z-index: -1;}#sk-container-id-6 div.sk-parallel-item {display: flex;flex-direction: column;z-index: 1;position: relative;background-color: white;}#sk-container-id-6 div.sk-parallel-item:first-child::after {align-self: flex-end;width: 50%;}#sk-container-id-6 div.sk-parallel-item:last-child::after {align-self: flex-start;width: 50%;}#sk-container-id-6 div.sk-parallel-item:only-child::after {width: 0;}#sk-container-id-6 div.sk-dashed-wrapped {border: 1px dashed gray;margin: 0 0.4em 0.5em 0.4em;box-sizing: border-box;padding-bottom: 0.4em;background-color: white;}#sk-container-id-6 div.sk-label label {font-family: monospace;font-weight: bold;display: inline-block;line-height: 1.2em;}#sk-container-id-6 div.sk-label-container {text-align: center;}#sk-container-id-6 div.sk-container {/* jupyter's `normalize.less` sets `[hidden] { display: none; }` but bootstrap.min.css set `[hidden] { display: none !important; }` so we also need the `!important` here to be able to override the default hidden behavior on the sphinx rendered scikit-learn.org. See: https://github.com/scikit-learn/scikit-learn/issues/21755 */display: inline-block !important;position: relative;}#sk-container-id-6 div.sk-text-repr-fallback {display: none;}</style><div id=\"sk-container-id-6\" class=\"sk-top-container\"><div class=\"sk-text-repr-fallback\"><pre>DecisionTreeClassifier(random_state=5)</pre><b>In a Jupyter environment, please rerun this cell to show the HTML representation or trust the notebook. <br />On GitHub, the HTML representation is unable to render, please try loading this page with nbviewer.org.</b></div><div class=\"sk-container\" hidden><div class=\"sk-item\"><div class=\"sk-estimator sk-toggleable\"><input class=\"sk-toggleable__control sk-hidden--visually\" id=\"sk-estimator-id-6\" type=\"checkbox\" checked><label for=\"sk-estimator-id-6\" class=\"sk-toggleable__label sk-toggleable__label-arrow\">DecisionTreeClassifier</label><div class=\"sk-toggleable__content\"><pre>DecisionTreeClassifier(random_state=5)</pre></div></div></div></div></div>"
            ]
          },
          "metadata": {},
          "execution_count": 110
        }
      ]
    },
    {
      "cell_type": "code",
      "source": [
        "arvore.predict(x_teste)"
      ],
      "metadata": {
        "colab": {
          "base_uri": "https://localhost:8080/"
        },
        "id": "QBptvlvFA8ir",
        "outputId": "ef888a22-4737-495e-ea26-a595bd89046e"
      },
      "execution_count": null,
      "outputs": [
        {
          "output_type": "execute_result",
          "data": {
            "text/plain": [
              "array([0, 1, 0, 1, 0, 0, 0, 0, 1, 1, 0, 0, 0, 0, 0, 0, 0, 0, 0, 1, 0, 0,\n",
              "       1, 0, 0, 1, 0, 0, 1, 1, 0, 1, 0, 0, 0, 0, 0, 0, 1, 1, 0, 1, 0, 0,\n",
              "       1, 0, 0, 1, 0, 0, 0, 0, 1, 1, 0, 0, 1, 0, 0, 1, 1, 1, 0, 0, 1, 1,\n",
              "       1, 0, 0, 1, 0, 0, 0, 1, 1, 0, 0, 1, 1, 0, 0, 0, 0, 0, 0, 0, 0, 0,\n",
              "       0, 1, 1, 0, 1, 0, 0, 1, 0, 0, 0, 0, 1, 0, 0, 1, 0, 1, 0, 1, 0, 1,\n",
              "       1, 1, 0, 0, 0, 0, 0, 0, 0, 0, 0, 1, 0, 0, 1, 1, 1, 1, 1, 1, 0, 1,\n",
              "       1, 0, 0, 0, 0, 0, 1, 1, 1, 1, 0, 0, 0, 0, 0, 1, 0, 1, 0, 0, 1, 0,\n",
              "       0, 1, 0, 0, 0, 1, 0, 1, 1, 1, 1, 0, 0, 0, 0, 0, 0, 0, 0, 0, 1, 0,\n",
              "       1, 0, 0, 0, 1, 1, 1, 0, 0, 1, 0, 1, 1, 0, 1, 1, 0, 1, 1, 1, 0, 1,\n",
              "       0, 0, 1, 0, 0, 0, 1, 0, 0, 0, 0, 1, 1, 0, 1, 1, 1, 1, 0, 1, 0, 0,\n",
              "       0, 0, 0, 1, 0, 1, 1, 0, 0, 1, 1, 0, 0, 0, 0, 1, 0, 1, 0, 1, 0, 0,\n",
              "       0, 1, 1, 0, 1, 0, 0, 0, 1, 1, 0, 0, 0, 0, 1, 0, 0, 0, 1, 0, 0, 0,\n",
              "       0, 0, 0, 0, 1, 0, 1, 0, 1, 0, 0, 1, 1, 1, 1, 0, 0, 1, 0, 1, 0, 1,\n",
              "       0, 1, 1, 1, 1, 0, 0, 0, 1, 0, 0, 1, 0, 0, 0, 0, 1, 0, 0, 0, 1, 0,\n",
              "       0, 1, 1, 0, 1, 0, 0, 0, 1])"
            ]
          },
          "metadata": {},
          "execution_count": 111
        }
      ]
    },
    {
      "cell_type": "code",
      "source": [
        "arvore.score(x_teste, y_teste)"
      ],
      "metadata": {
        "colab": {
          "base_uri": "https://localhost:8080/"
        },
        "id": "9UeqquSEBIsN",
        "outputId": "94831746-1579-46b2-e228-44e0c15e67e7"
      },
      "execution_count": null,
      "outputs": [
        {
          "output_type": "execute_result",
          "data": {
            "text/plain": [
              "0.6656151419558359"
            ]
          },
          "metadata": {},
          "execution_count": 112
        }
      ]
    },
    {
      "cell_type": "code",
      "source": [
        "from sklearn.tree import plot_tree\n",
        "import matplotlib.pyplot as plt"
      ],
      "metadata": {
        "id": "nhMATOPSBXdH"
      },
      "execution_count": null,
      "outputs": []
    },
    {
      "cell_type": "code",
      "source": [
        "nome_colunas = ['casado (a)',\n",
        "                'divorciado (a)',\n",
        "                'solteiro (a)',\n",
        "                'fundamental',\n",
        "                'medio',\n",
        "                'superior',\n",
        "                'inadimplencia',\n",
        "                'fez_emprestimo',\n",
        "                'idade',\n",
        "                'saldo',\n",
        "                'tempo_ult_contato',\n",
        "                'numero_contatos']"
      ],
      "metadata": {
        "id": "pwyldCTqBkUW"
      },
      "execution_count": null,
      "outputs": []
    },
    {
      "cell_type": "code",
      "source": [
        "plt.figure(figsize=(20, 12))\n",
        "plot_tree(\n",
        "    arvore, # Passa o modelo treinado\n",
        "    filled=True, # preenche o modelo\n",
        "    class_names= ['nao', 'sim'], # Define o 0 e 1 como sim e nao\n",
        "    fontsize=1, # tamanho da fonte\n",
        "    feature_names=nome_colunas); # nome das colunas"
      ],
      "metadata": {
        "colab": {
          "base_uri": "https://localhost:8080/",
          "height": 811
        },
        "id": "H9iGJ2TsG0id",
        "outputId": "17c3d5c9-f8c9-416f-b247-4296678baa8f"
      },
      "execution_count": null,
      "outputs": [
        {
          "output_type": "display_data",
          "data": {
            "text/plain": [
              "<Figure size 2000x1200 with 1 Axes>"
            ],
            "image/png": "[encoded data removed]"
          },
          "metadata": {}
        }
      ]
    },
    {
      "cell_type": "code",
      "source": [
        "arvore.score(x_treino, y_treino) # O modelo acertou tudo pois apenas decorou as descisões"
      ],
      "metadata": {
        "colab": {
          "base_uri": "https://localhost:8080/"
        },
        "id": "Ix5tJKTpHVCc",
        "outputId": "7c032164-8a75-4c06-8b74-4bf8b51467db"
      },
      "execution_count": null,
      "outputs": [
        {
          "output_type": "execute_result",
          "data": {
            "text/plain": [
              "1.0"
            ]
          },
          "metadata": {},
          "execution_count": 116
        }
      ]
    },
    {
      "cell_type": "code",
      "source": [
        "arvore = DecisionTreeClassifier(max_depth=3, random_state=5)\n",
        "arvore.fit(x_treino, y_treino)"
      ],
      "metadata": {
        "colab": {
          "base_uri": "https://localhost:8080/",
          "height": 74
        },
        "id": "Fh6fZtXOH0i8",
        "outputId": "a355f1fd-a0f0-49a0-b8ad-2a365bc9903d"
      },
      "execution_count": null,
      "outputs": [
        {
          "output_type": "execute_result",
          "data": {
            "text/plain": [
              "DecisionTreeClassifier(max_depth=3, random_state=5)"
            ],
            "text/html": [
              "<style>#sk-container-id-7 {color: black;background-color: white;}#sk-container-id-7 pre{padding: 0;}#sk-container-id-7 div.sk-toggleable {background-color: white;}#sk-container-id-7 label.sk-toggleable__label {cursor: pointer;display: block;width: 100%;margin-bottom: 0;padding: 0.3em;box-sizing: border-box;text-align: center;}#sk-container-id-7 label.sk-toggleable__label-arrow:before {content: \"▸\";float: left;margin-right: 0.25em;color: #696969;}#sk-container-id-7 label.sk-toggleable__label-arrow:hover:before {color: black;}#sk-container-id-7 div.sk-estimator:hover label.sk-toggleable__label-arrow:before {color: black;}#sk-container-id-7 div.sk-toggleable__content {max-height: 0;max-width: 0;overflow: hidden;text-align: left;background-color: #f0f8ff;}#sk-container-id-7 div.sk-toggleable__content pre {margin: 0.2em;color: black;border-radius: 0.25em;background-color: #f0f8ff;}#sk-container-id-7 input.sk-toggleable__control:checked~div.sk-toggleable__content {max-height: 200px;max-width: 100%;overflow: auto;}#sk-container-id-7 input.sk-toggleable__control:checked~label.sk-toggleable__label-arrow:before {content: \"▾\";}#sk-container-id-7 div.sk-estimator input.sk-toggleable__control:checked~label.sk-toggleable__label {background-color: #d4ebff;}#sk-container-id-7 div.sk-label input.sk-toggleable__control:checked~label.sk-toggleable__label {background-color: #d4ebff;}#sk-container-id-7 input.sk-hidden--visually {border: 0;clip: rect(1px 1px 1px 1px);clip: rect(1px, 1px, 1px, 1px);height: 1px;margin: -1px;overflow: hidden;padding: 0;position: absolute;width: 1px;}#sk-container-id-7 div.sk-estimator {font-family: monospace;background-color: #f0f8ff;border: 1px dotted black;border-radius: 0.25em;box-sizing: border-box;margin-bottom: 0.5em;}#sk-container-id-7 div.sk-estimator:hover {background-color: #d4ebff;}#sk-container-id-7 div.sk-parallel-item::after {content: \"\";width: 100%;border-bottom: 1px solid gray;flex-grow: 1;}#sk-container-id-7 div.sk-label:hover label.sk-toggleable__label {background-color: #d4ebff;}#sk-container-id-7 div.sk-serial::before {content: \"\";position: absolute;border-left: 1px solid gray;box-sizing: border-box;top: 0;bottom: 0;left: 50%;z-index: 0;}#sk-container-id-7 div.sk-serial {display: flex;flex-direction: column;align-items: center;background-color: white;padding-right: 0.2em;padding-left: 0.2em;position: relative;}#sk-container-id-7 div.sk-item {position: relative;z-index: 1;}#sk-container-id-7 div.sk-parallel {display: flex;align-items: stretch;justify-content: center;background-color: white;position: relative;}#sk-container-id-7 div.sk-item::before, #sk-container-id-7 div.sk-parallel-item::before {content: \"\";position: absolute;border-left: 1px solid gray;box-sizing: border-box;top: 0;bottom: 0;left: 50%;z-index: -1;}#sk-container-id-7 div.sk-parallel-item {display: flex;flex-direction: column;z-index: 1;position: relative;background-color: white;}#sk-container-id-7 div.sk-parallel-item:first-child::after {align-self: flex-end;width: 50%;}#sk-container-id-7 div.sk-parallel-item:last-child::after {align-self: flex-start;width: 50%;}#sk-container-id-7 div.sk-parallel-item:only-child::after {width: 0;}#sk-container-id-7 div.sk-dashed-wrapped {border: 1px dashed gray;margin: 0 0.4em 0.5em 0.4em;box-sizing: border-box;padding-bottom: 0.4em;background-color: white;}#sk-container-id-7 div.sk-label label {font-family: monospace;font-weight: bold;display: inline-block;line-height: 1.2em;}#sk-container-id-7 div.sk-label-container {text-align: center;}#sk-container-id-7 div.sk-container {/* jupyter's `normalize.less` sets `[hidden] { display: none; }` but bootstrap.min.css set `[hidden] { display: none !important; }` so we also need the `!important` here to be able to override the default hidden behavior on the sphinx rendered scikit-learn.org. See: https://github.com/scikit-learn/scikit-learn/issues/21755 */display: inline-block !important;position: relative;}#sk-container-id-7 div.sk-text-repr-fallback {display: none;}</style><div id=\"sk-container-id-7\" class=\"sk-top-container\"><div class=\"sk-text-repr-fallback\"><pre>DecisionTreeClassifier(max_depth=3, random_state=5)</pre><b>In a Jupyter environment, please rerun this cell to show the HTML representation or trust the notebook. <br />On GitHub, the HTML representation is unable to render, please try loading this page with nbviewer.org.</b></div><div class=\"sk-container\" hidden><div class=\"sk-item\"><div class=\"sk-estimator sk-toggleable\"><input class=\"sk-toggleable__control sk-hidden--visually\" id=\"sk-estimator-id-7\" type=\"checkbox\" checked><label for=\"sk-estimator-id-7\" class=\"sk-toggleable__label sk-toggleable__label-arrow\">DecisionTreeClassifier</label><div class=\"sk-toggleable__content\"><pre>DecisionTreeClassifier(max_depth=3, random_state=5)</pre></div></div></div></div></div>"
            ]
          },
          "metadata": {},
          "execution_count": 117
        }
      ]
    },
    {
      "cell_type": "code",
      "source": [
        "arvore.score(x_treino, y_treino)"
      ],
      "metadata": {
        "colab": {
          "base_uri": "https://localhost:8080/"
        },
        "id": "1m4EWFyGIZ1O",
        "outputId": "af986c6b-d2c8-4c28-cb8b-a614a16ec31e"
      },
      "execution_count": null,
      "outputs": [
        {
          "output_type": "execute_result",
          "data": {
            "text/plain": [
              "0.7613038906414301"
            ]
          },
          "metadata": {},
          "execution_count": 118
        }
      ]
    },
    {
      "cell_type": "code",
      "source": [
        "arvore.score(x_teste, y_teste)"
      ],
      "metadata": {
        "colab": {
          "base_uri": "https://localhost:8080/"
        },
        "id": "CMNLBwLqIjXI",
        "outputId": "1209f275-bcac-41a7-aca2-ebb40db3dd24"
      },
      "execution_count": null,
      "outputs": [
        {
          "output_type": "execute_result",
          "data": {
            "text/plain": [
              "0.7160883280757098"
            ]
          },
          "metadata": {},
          "execution_count": 119
        }
      ]
    },
    {
      "cell_type": "code",
      "source": [
        "plt.figure(figsize=(15, 6))\n",
        "plot_tree(\n",
        "    arvore, # Passa o modelo treinado\n",
        "    filled=True, # preenche o modelo\n",
        "    class_names= ['nao', 'sim'], # Define o 0 e 1 como sim e nao\n",
        "    fontsize=7, # tamanho da fonte\n",
        "    feature_names=nome_colunas); # nome das colunas"
      ],
      "metadata": {
        "colab": {
          "base_uri": "https://localhost:8080/",
          "height": 499
        },
        "id": "lYj1gLsDNPJf",
        "outputId": "4d4d2022-6780-4a6e-c202-42d2c74290d0"
      },
      "execution_count": null,
      "outputs": [
        {
          "output_type": "display_data",
          "data": {
            "text/plain": [
              "<Figure size 1500x600 with 1 Axes>"
            ],
            "image/png": "[encoded data removed]"
          },
          "metadata": {}
        }
      ]
    },
    {
      "cell_type": "markdown",
      "source": [
        "# Normalizando os dados"
      ],
      "metadata": {
        "id": "huD5DNzXtkMe"
      }
    },
    {
      "cell_type": "code",
      "source": [
        "from sklearn.preprocessing import MinMaxScaler"
      ],
      "metadata": {
        "id": "TKACqmU8NiEK"
      },
      "execution_count": null,
      "outputs": []
    },
    {
      "cell_type": "code",
      "source": [
        "normalizacao = MinMaxScaler()\n",
        "x_treino_normalizado = normalizacao.fit_transform(x_treino)"
      ],
      "metadata": {
        "id": "EuL0AslytrB8"
      },
      "execution_count": null,
      "outputs": []
    },
    {
      "cell_type": "code",
      "source": [
        "pd.DataFrame(x_treino)"
      ],
      "metadata": {
        "colab": {
          "base_uri": "https://localhost:8080/",
          "height": 423
        },
        "id": "ezIDwUdht-5k",
        "outputId": "97bd76fd-8770-4106-d22e-b1a52854a640"
      },
      "execution_count": null,
      "outputs": [
        {
          "output_type": "execute_result",
          "data": {
            "text/plain": [
              "      0    1    2    3    4    5    6    7     8       9       10   11\n",
              "0    1.0  0.0  0.0  0.0  0.0  1.0  0.0  0.0  33.0   641.0   347.0  2.0\n",
              "1    0.0  1.0  0.0  0.0  1.0  0.0  0.0  0.0  29.0    84.0  1101.0  2.0\n",
              "2    0.0  1.0  0.0  0.0  1.0  0.0  0.0  0.0  42.0   936.0   931.0  1.0\n",
              "3    1.0  0.0  0.0  1.0  0.0  0.0  0.0  0.0  58.0   565.0   876.0  1.0\n",
              "4    0.0  1.0  0.0  0.0  1.0  0.0  0.0  0.0  42.0  2974.0   187.0  5.0\n",
              "..   ...  ...  ...  ...  ...  ...  ...  ...   ...     ...     ...  ...\n",
              "946  0.0  0.0  1.0  0.0  0.0  1.0  0.0  0.0  32.0    41.0   686.0  5.0\n",
              "947  0.0  0.0  1.0  0.0  1.0  0.0  0.0  0.0  33.0  -416.0   767.0  2.0\n",
              "948  1.0  0.0  0.0  1.0  0.0  0.0  0.0  0.0  41.0     4.0    74.0  5.0\n",
              "949  1.0  0.0  0.0  0.0  1.0  0.0  0.0  1.0  31.0     0.0    71.0  1.0\n",
              "950  0.0  0.0  1.0  0.0  0.0  1.0  0.0  0.0  39.0  5803.0    83.0  3.0\n",
              "\n",
              "[951 rows x 12 columns]"
            ],
            "text/html": [
              "\n",
              "  <div id=\"df-541ce6fb-7c81-4784-9a55-1fcf3569eb7e\" class=\"colab-df-container\">\n",
              "    <div>\n",
              "<style scoped>\n",
              "    .dataframe tbody tr th:only-of-type {\n",
              "        vertical-align: middle;\n",
              "    }\n",
              "\n",
              "    .dataframe tbody tr th {\n",
              "        vertical-align: top;\n",
              "    }\n",
              "\n",
              "    .dataframe thead th {\n",
              "        text-align: right;\n",
              "    }\n",
              "</style>\n",
              "<table border=\"1\" class=\"dataframe\">\n",
              "  <thead>\n",
              "    <tr style=\"text-align: right;\">\n",
              "      <th></th>\n",
              "      <th>0</th>\n",
              "      <th>1</th>\n",
              "      <th>2</th>\n",
              "      <th>3</th>\n",
              "      <th>4</th>\n",
              "      <th>5</th>\n",
              "      <th>6</th>\n",
              "      <th>7</th>\n",
              "      <th>8</th>\n",
              "      <th>9</th>\n",
              "      <th>10</th>\n",
              "      <th>11</th>\n",
              "    </tr>\n",
              "  </thead>\n",
              "  <tbody>\n",
              "    <tr>\n",
              "      <th>0</th>\n",
              "      <td>1.0</td>\n",
              "      <td>0.0</td>\n",
              "      <td>0.0</td>\n",
              "      <td>0.0</td>\n",
              "      <td>0.0</td>\n",
              "      <td>1.0</td>\n",
              "      <td>0.0</td>\n",
              "      <td>0.0</td>\n",
              "      <td>33.0</td>\n",
              "      <td>641.0</td>\n",
              "      <td>347.0</td>\n",
              "      <td>2.0</td>\n",
              "    </tr>\n",
              "    <tr>\n",
              "      <th>1</th>\n",
              "      <td>0.0</td>\n",
              "      <td>1.0</td>\n",
              "      <td>0.0</td>\n",
              "      <td>0.0</td>\n",
              "      <td>1.0</td>\n",
              "      <td>0.0</td>\n",
              "      <td>0.0</td>\n",
              "      <td>0.0</td>\n",
              "      <td>29.0</td>\n",
              "      <td>84.0</td>\n",
              "      <td>1101.0</td>\n",
              "      <td>2.0</td>\n",
              "    </tr>\n",
              "    <tr>\n",
              "      <th>2</th>\n",
              "      <td>0.0</td>\n",
              "      <td>1.0</td>\n",
              "      <td>0.0</td>\n",
              "      <td>0.0</td>\n",
              "      <td>1.0</td>\n",
              "      <td>0.0</td>\n",
              "      <td>0.0</td>\n",
              "      <td>0.0</td>\n",
              "      <td>42.0</td>\n",
              "      <td>936.0</td>\n",
              "      <td>931.0</td>\n",
              "      <td>1.0</td>\n",
              "    </tr>\n",
              "    <tr>\n",
              "      <th>3</th>\n",
              "      <td>1.0</td>\n",
              "      <td>0.0</td>\n",
              "      <td>0.0</td>\n",
              "      <td>1.0</td>\n",
              "      <td>0.0</td>\n",
              "      <td>0.0</td>\n",
              "      <td>0.0</td>\n",
              "      <td>0.0</td>\n",
              "      <td>58.0</td>\n",
              "      <td>565.0</td>\n",
              "      <td>876.0</td>\n",
              "      <td>1.0</td>\n",
              "    </tr>\n",
              "    <tr>\n",
              "      <th>4</th>\n",
              "      <td>0.0</td>\n",
              "      <td>1.0</td>\n",
              "      <td>0.0</td>\n",
              "      <td>0.0</td>\n",
              "      <td>1.0</td>\n",
              "      <td>0.0</td>\n",
              "      <td>0.0</td>\n",
              "      <td>0.0</td>\n",
              "      <td>42.0</td>\n",
              "      <td>2974.0</td>\n",
              "      <td>187.0</td>\n",
              "      <td>5.0</td>\n",
              "    </tr>\n",
              "    <tr>\n",
              "      <th>...</th>\n",
              "      <td>...</td>\n",
              "      <td>...</td>\n",
              "      <td>...</td>\n",
              "      <td>...</td>\n",
              "      <td>...</td>\n",
              "      <td>...</td>\n",
              "      <td>...</td>\n",
              "      <td>...</td>\n",
              "      <td>...</td>\n",
              "      <td>...</td>\n",
              "      <td>...</td>\n",
              "      <td>...</td>\n",
              "    </tr>\n",
              "    <tr>\n",
              "      <th>946</th>\n",
              "      <td>0.0</td>\n",
              "      <td>0.0</td>\n",
              "      <td>1.0</td>\n",
              "      <td>0.0</td>\n",
              "      <td>0.0</td>\n",
              "      <td>1.0</td>\n",
              "      <td>0.0</td>\n",
              "      <td>0.0</td>\n",
              "      <td>32.0</td>\n",
              "      <td>41.0</td>\n",
              "      <td>686.0</td>\n",
              "      <td>5.0</td>\n",
              "    </tr>\n",
              "    <tr>\n",
              "      <th>947</th>\n",
              "      <td>0.0</td>\n",
              "      <td>0.0</td>\n",
              "      <td>1.0</td>\n",
              "      <td>0.0</td>\n",
              "      <td>1.0</td>\n",
              "      <td>0.0</td>\n",
              "      <td>0.0</td>\n",
              "      <td>0.0</td>\n",
              "      <td>33.0</td>\n",
              "      <td>-416.0</td>\n",
              "      <td>767.0</td>\n",
              "      <td>2.0</td>\n",
              "    </tr>\n",
              "    <tr>\n",
              "      <th>948</th>\n",
              "      <td>1.0</td>\n",
              "      <td>0.0</td>\n",
              "      <td>0.0</td>\n",
              "      <td>1.0</td>\n",
              "      <td>0.0</td>\n",
              "      <td>0.0</td>\n",
              "      <td>0.0</td>\n",
              "      <td>0.0</td>\n",
              "      <td>41.0</td>\n",
              "      <td>4.0</td>\n",
              "      <td>74.0</td>\n",
              "      <td>5.0</td>\n",
              "    </tr>\n",
              "    <tr>\n",
              "      <th>949</th>\n",
              "      <td>1.0</td>\n",
              "      <td>0.0</td>\n",
              "      <td>0.0</td>\n",
              "      <td>0.0</td>\n",
              "      <td>1.0</td>\n",
              "      <td>0.0</td>\n",
              "      <td>0.0</td>\n",
              "      <td>1.0</td>\n",
              "      <td>31.0</td>\n",
              "      <td>0.0</td>\n",
              "      <td>71.0</td>\n",
              "      <td>1.0</td>\n",
              "    </tr>\n",
              "    <tr>\n",
              "      <th>950</th>\n",
              "      <td>0.0</td>\n",
              "      <td>0.0</td>\n",
              "      <td>1.0</td>\n",
              "      <td>0.0</td>\n",
              "      <td>0.0</td>\n",
              "      <td>1.0</td>\n",
              "      <td>0.0</td>\n",
              "      <td>0.0</td>\n",
              "      <td>39.0</td>\n",
              "      <td>5803.0</td>\n",
              "      <td>83.0</td>\n",
              "      <td>3.0</td>\n",
              "    </tr>\n",
              "  </tbody>\n",
              "</table>\n",
              "<p>951 rows × 12 columns</p>\n",
              "</div>\n",
              "    <div class=\"colab-df-buttons\">\n",
              "\n",
              "  <div class=\"colab-df-container\">\n",
              "    <button class=\"colab-df-convert\" onclick=\"convertToInteractive('df-541ce6fb-7c81-4784-9a55-1fcf3569eb7e')\"\n",
              "            title=\"Convert this dataframe to an interactive table.\"\n",
              "            style=\"display:none;\">\n",
              "\n",
              "  <svg xmlns=\"http://www.w3.org/2000/svg\" height=\"24px\" viewBox=\"0 -960 960 960\">\n",
              "    <path d=\"M120-120v-720h720v720H120Zm60-500h600v-160H180v160Zm220 220h160v-160H400v160Zm0 220h160v-160H400v160ZM180-400h160v-160H180v160Zm440 0h160v-160H620v160ZM180-180h160v-160H180v160Zm440 0h160v-160H620v160Z\"/>\n",
              "  </svg>\n",
              "    </button>\n",
              "\n",
              "  <style>\n",
              "    .colab-df-container {\n",
              "      display:flex;\n",
              "      gap: 12px;\n",
              "    }\n",
              "\n",
              "    .colab-df-convert {\n",
              "      background-color: #E8F0FE;\n",
              "      border: none;\n",
              "      border-radius: 50%;\n",
              "      cursor: pointer;\n",
              "      display: none;\n",
              "      fill: #1967D2;\n",
              "      height: 32px;\n",
              "      padding: 0 0 0 0;\n",
              "      width: 32px;\n",
              "    }\n",
              "\n",
              "    .colab-df-convert:hover {\n",
              "      background-color: #E2EBFA;\n",
              "      box-shadow: 0px 1px 2px rgba(60, 64, 67, 0.3), 0px 1px 3px 1px rgba(60, 64, 67, 0.15);\n",
              "      fill: #174EA6;\n",
              "    }\n",
              "\n",
              "    .colab-df-buttons div {\n",
              "      margin-bottom: 4px;\n",
              "    }\n",
              "\n",
              "    [theme=dark] .colab-df-convert {\n",
              "      background-color: #3B4455;\n",
              "      fill: #D2E3FC;\n",
              "    }\n",
              "\n",
              "    [theme=dark] .colab-df-convert:hover {\n",
              "      background-color: #434B5C;\n",
              "      box-shadow: 0px 1px 3px 1px rgba(0, 0, 0, 0.15);\n",
              "      filter: drop-shadow(0px 1px 2px rgba(0, 0, 0, 0.3));\n",
              "      fill: #FFFFFF;\n",
              "    }\n",
              "  </style>\n",
              "\n",
              "    <script>\n",
              "      const buttonEl =\n",
              "        document.querySelector('#df-541ce6fb-7c81-4784-9a55-1fcf3569eb7e button.colab-df-convert');\n",
              "      buttonEl.style.display =\n",
              "        google.colab.kernel.accessAllowed ? 'block' : 'none';\n",
              "\n",
              "      async function convertToInteractive(key) {\n",
              "        const element = document.querySelector('#df-541ce6fb-7c81-4784-9a55-1fcf3569eb7e');\n",
              "        const dataTable =\n",
              "          await google.colab.kernel.invokeFunction('convertToInteractive',\n",
              "                                                    [key], {});\n",
              "        if (!dataTable) return;\n",
              "\n",
              "        const docLinkHtml = 'Like what you see? Visit the ' +\n",
              "          '<a target=\"_blank\" href=https://colab.research.google.com/notebooks/data_table.ipynb>data table notebook</a>'\n",
              "          + ' to learn more about interactive tables.';\n",
              "        element.innerHTML = '';\n",
              "        dataTable['output_type'] = 'display_data';\n",
              "        await google.colab.output.renderOutput(dataTable, element);\n",
              "        const docLink = document.createElement('div');\n",
              "        docLink.innerHTML = docLinkHtml;\n",
              "        element.appendChild(docLink);\n",
              "      }\n",
              "    </script>\n",
              "  </div>\n",
              "\n",
              "\n",
              "<div id=\"df-9d305f7c-ddd3-442b-9721-806c17c1fa59\">\n",
              "  <button class=\"colab-df-quickchart\" onclick=\"quickchart('df-9d305f7c-ddd3-442b-9721-806c17c1fa59')\"\n",
              "            title=\"Suggest charts\"\n",
              "            style=\"display:none;\">\n",
              "\n",
              "<svg xmlns=\"http://www.w3.org/2000/svg\" height=\"24px\"viewBox=\"0 0 24 24\"\n",
              "     width=\"24px\">\n",
              "    <g>\n",
              "        <path d=\"M19 3H5c-1.1 0-2 .9-2 2v14c0 1.1.9 2 2 2h14c1.1 0 2-.9 2-2V5c0-1.1-.9-2-2-2zM9 17H7v-7h2v7zm4 0h-2V7h2v10zm4 0h-2v-4h2v4z\"/>\n",
              "    </g>\n",
              "</svg>\n",
              "  </button>\n",
              "\n",
              "<style>\n",
              "  .colab-df-quickchart {\n",
              "      --bg-color: #E8F0FE;\n",
              "      --fill-color: #1967D2;\n",
              "      --hover-bg-color: #E2EBFA;\n",
              "      --hover-fill-color: #174EA6;\n",
              "      --disabled-fill-color: #AAA;\n",
              "      --disabled-bg-color: #DDD;\n",
              "  }\n",
              "\n",
              "  [theme=dark] .colab-df-quickchart {\n",
              "      --bg-color: #3B4455;\n",
              "      --fill-color: #D2E3FC;\n",
              "      --hover-bg-color: #434B5C;\n",
              "      --hover-fill-color: #FFFFFF;\n",
              "      --disabled-bg-color: #3B4455;\n",
              "      --disabled-fill-color: #666;\n",
              "  }\n",
              "\n",
              "  .colab-df-quickchart {\n",
              "    background-color: var(--bg-color);\n",
              "    border: none;\n",
              "    border-radius: 50%;\n",
              "    cursor: pointer;\n",
              "    display: none;\n",
              "    fill: var(--fill-color);\n",
              "    height: 32px;\n",
              "    padding: 0;\n",
              "    width: 32px;\n",
              "  }\n",
              "\n",
              "  .colab-df-quickchart:hover {\n",
              "    background-color: var(--hover-bg-color);\n",
              "    box-shadow: 0 1px 2px rgba(60, 64, 67, 0.3), 0 1px 3px 1px rgba(60, 64, 67, 0.15);\n",
              "    fill: var(--button-hover-fill-color);\n",
              "  }\n",
              "\n",
              "  .colab-df-quickchart-complete:disabled,\n",
              "  .colab-df-quickchart-complete:disabled:hover {\n",
              "    background-color: var(--disabled-bg-color);\n",
              "    fill: var(--disabled-fill-color);\n",
              "    box-shadow: none;\n",
              "  }\n",
              "\n",
              "  .colab-df-spinner {\n",
              "    border: 2px solid var(--fill-color);\n",
              "    border-color: transparent;\n",
              "    border-bottom-color: var(--fill-color);\n",
              "    animation:\n",
              "      spin 1s steps(1) infinite;\n",
              "  }\n",
              "\n",
              "  @keyframes spin {\n",
              "    0% {\n",
              "      border-color: transparent;\n",
              "      border-bottom-color: var(--fill-color);\n",
              "      border-left-color: var(--fill-color);\n",
              "    }\n",
              "    20% {\n",
              "      border-color: transparent;\n",
              "      border-left-color: var(--fill-color);\n",
              "      border-top-color: var(--fill-color);\n",
              "    }\n",
              "    30% {\n",
              "      border-color: transparent;\n",
              "      border-left-color: var(--fill-color);\n",
              "      border-top-color: var(--fill-color);\n",
              "      border-right-color: var(--fill-color);\n",
              "    }\n",
              "    40% {\n",
              "      border-color: transparent;\n",
              "      border-right-color: var(--fill-color);\n",
              "      border-top-color: var(--fill-color);\n",
              "    }\n",
              "    60% {\n",
              "      border-color: transparent;\n",
              "      border-right-color: var(--fill-color);\n",
              "    }\n",
              "    80% {\n",
              "      border-color: transparent;\n",
              "      border-right-color: var(--fill-color);\n",
              "      border-bottom-color: var(--fill-color);\n",
              "    }\n",
              "    90% {\n",
              "      border-color: transparent;\n",
              "      border-bottom-color: var(--fill-color);\n",
              "    }\n",
              "  }\n",
              "</style>\n",
              "\n",
              "  <script>\n",
              "    async function quickchart(key) {\n",
              "      const quickchartButtonEl =\n",
              "        document.querySelector('#' + key + ' button');\n",
              "      quickchartButtonEl.disabled = true;  // To prevent multiple clicks.\n",
              "      quickchartButtonEl.classList.add('colab-df-spinner');\n",
              "      try {\n",
              "        const charts = await google.colab.kernel.invokeFunction(\n",
              "            'suggestCharts', [key], {});\n",
              "      } catch (error) {\n",
              "        console.error('Error during call to suggestCharts:', error);\n",
              "      }\n",
              "      quickchartButtonEl.classList.remove('colab-df-spinner');\n",
              "      quickchartButtonEl.classList.add('colab-df-quickchart-complete');\n",
              "    }\n",
              "    (() => {\n",
              "      let quickchartButtonEl =\n",
              "        document.querySelector('#df-9d305f7c-ddd3-442b-9721-806c17c1fa59 button');\n",
              "      quickchartButtonEl.style.display =\n",
              "        google.colab.kernel.accessAllowed ? 'block' : 'none';\n",
              "    })();\n",
              "  </script>\n",
              "</div>\n",
              "\n",
              "    </div>\n",
              "  </div>\n"
            ],
            "application/vnd.google.colaboratory.intrinsic+json": {
              "type": "dataframe",
              "summary": "{\n  \"name\": \"pd\",\n  \"rows\": 951,\n  \"fields\": [\n    {\n      \"column\": 0,\n      \"properties\": {\n        \"dtype\": \"number\",\n        \"std\": 0.4951969204651691,\n        \"min\": 0.0,\n        \"max\": 1.0,\n        \"num_unique_values\": 2,\n        \"samples\": [\n          0.0,\n          1.0\n        ],\n        \"semantic_type\": \"\",\n        \"description\": \"\"\n      }\n    },\n    {\n      \"column\": 1,\n      \"properties\": {\n        \"dtype\": \"number\",\n        \"std\": 0.3403403218436566,\n        \"min\": 0.0,\n        \"max\": 1.0,\n        \"num_unique_values\": 2,\n        \"samples\": [\n          1.0,\n          0.0\n        ],\n        \"semantic_type\": \"\",\n        \"description\": \"\"\n      }\n    },\n    {\n      \"column\": 2,\n      \"properties\": {\n        \"dtype\": \"number\",\n        \"std\": 0.45649760166326436,\n        \"min\": 0.0,\n        \"max\": 1.0,\n        \"num_unique_values\": 2,\n        \"samples\": [\n          1.0,\n          0.0\n        ],\n        \"semantic_type\": \"\",\n        \"description\": \"\"\n      }\n    },\n    {\n      \"column\": 3,\n      \"properties\": {\n        \"dtype\": \"number\",\n        \"std\": 0.3596660628896059,\n        \"min\": 0.0,\n        \"max\": 1.0,\n        \"num_unique_values\": 2,\n        \"samples\": [\n          1.0,\n          0.0\n        ],\n        \"semantic_type\": \"\",\n        \"description\": \"\"\n      }\n    },\n    {\n      \"column\": 4,\n      \"properties\": {\n        \"dtype\": \"number\",\n        \"std\": 0.4999241737843935,\n        \"min\": 0.0,\n        \"max\": 1.0,\n        \"num_unique_values\": 2,\n        \"samples\": [\n          1.0,\n          0.0\n        ],\n        \"semantic_type\": \"\",\n        \"description\": \"\"\n      }\n    },\n    {\n      \"column\": 5,\n      \"properties\": {\n        \"dtype\": \"number\",\n        \"std\": 0.4701435118015357,\n        \"min\": 0.0,\n        \"max\": 1.0,\n        \"num_unique_values\": 2,\n        \"samples\": [\n          0.0,\n          1.0\n        ],\n        \"semantic_type\": \"\",\n        \"description\": \"\"\n      }\n    },\n    {\n      \"column\": 6,\n      \"properties\": {\n        \"dtype\": \"number\",\n        \"std\": 0.143561430517677,\n        \"min\": 0.0,\n        \"max\": 1.0,\n        \"num_unique_values\": 2,\n        \"samples\": [\n          1.0,\n          0.0\n        ],\n        \"semantic_type\": \"\",\n        \"description\": \"\"\n      }\n    },\n    {\n      \"column\": 7,\n      \"properties\": {\n        \"dtype\": \"number\",\n        \"std\": 0.33920339138518696,\n        \"min\": 0.0,\n        \"max\": 1.0,\n        \"num_unique_values\": 2,\n        \"samples\": [\n          1.0,\n          0.0\n        ],\n        \"semantic_type\": \"\",\n        \"description\": \"\"\n      }\n    },\n    {\n      \"column\": 8,\n      \"properties\": {\n        \"dtype\": \"number\",\n        \"std\": 11.483002475003785,\n        \"min\": 19.0,\n        \"max\": 87.0,\n        \"num_unique_values\": 62,\n        \"samples\": [\n          71.0,\n          68.0\n        ],\n        \"semantic_type\": \"\",\n        \"description\": \"\"\n      }\n    },\n    {\n      \"column\": 9,\n      \"properties\": {\n        \"dtype\": \"number\",\n        \"std\": 2651.070733838695,\n        \"min\": -1206.0,\n        \"max\": 26965.0,\n        \"num_unique_values\": 736,\n        \"samples\": [\n          217.0,\n          451.0\n        ],\n        \"semantic_type\": \"\",\n        \"description\": \"\"\n      }\n    },\n    {\n      \"column\": 10,\n      \"properties\": {\n        \"dtype\": \"number\",\n        \"std\": 340.5329176345433,\n        \"min\": 5.0,\n        \"max\": 2769.0,\n        \"num_unique_values\": 554,\n        \"samples\": [\n          28.0,\n          252.0\n        ],\n        \"semantic_type\": \"\",\n        \"description\": \"\"\n      }\n    },\n    {\n      \"column\": 11,\n      \"properties\": {\n        \"dtype\": \"number\",\n        \"std\": 2.915464367994382,\n        \"min\": 1.0,\n        \"max\": 32.0,\n        \"num_unique_values\": 21,\n        \"samples\": [\n          2.0,\n          17.0\n        ],\n        \"semantic_type\": \"\",\n        \"description\": \"\"\n      }\n    }\n  ]\n}"
            }
          },
          "metadata": {},
          "execution_count": 123
        }
      ]
    },
    {
      "cell_type": "code",
      "source": [
        "pd.DataFrame(x_treino_normalizado)"
      ],
      "metadata": {
        "colab": {
          "base_uri": "https://localhost:8080/",
          "height": 423
        },
        "id": "HYstFgD0tq-g",
        "outputId": "5197f60a-40bd-427d-dafd-67c7ea93b2f7"
      },
      "execution_count": null,
      "outputs": [
        {
          "output_type": "execute_result",
          "data": {
            "text/plain": [
              "      0    1    2    3    4    5    6    7         8         9         10  \\\n",
              "0    1.0  0.0  0.0  0.0  0.0  1.0  0.0  0.0  0.205882  0.065564  0.123734   \n",
              "1    0.0  1.0  0.0  0.0  1.0  0.0  0.0  0.0  0.147059  0.045792  0.396527   \n",
              "2    0.0  1.0  0.0  0.0  1.0  0.0  0.0  0.0  0.338235  0.076036  0.335022   \n",
              "3    1.0  0.0  0.0  1.0  0.0  0.0  0.0  0.0  0.573529  0.062866  0.315123   \n",
              "4    0.0  1.0  0.0  0.0  1.0  0.0  0.0  0.0  0.338235  0.148380  0.065847   \n",
              "..   ...  ...  ...  ...  ...  ...  ...  ...       ...       ...       ...   \n",
              "946  0.0  0.0  1.0  0.0  0.0  1.0  0.0  0.0  0.191176  0.044265  0.246382   \n",
              "947  0.0  0.0  1.0  0.0  1.0  0.0  0.0  0.0  0.205882  0.028043  0.275687   \n",
              "948  1.0  0.0  0.0  1.0  0.0  0.0  0.0  0.0  0.323529  0.042952  0.024964   \n",
              "949  1.0  0.0  0.0  0.0  1.0  0.0  0.0  1.0  0.176471  0.042810  0.023878   \n",
              "950  0.0  0.0  1.0  0.0  0.0  1.0  0.0  0.0  0.294118  0.248802  0.028220   \n",
              "\n",
              "           11  \n",
              "0    0.032258  \n",
              "1    0.032258  \n",
              "2    0.000000  \n",
              "3    0.000000  \n",
              "4    0.129032  \n",
              "..        ...  \n",
              "946  0.129032  \n",
              "947  0.032258  \n",
              "948  0.129032  \n",
              "949  0.000000  \n",
              "950  0.064516  \n",
              "\n",
              "[951 rows x 12 columns]"
            ],
            "text/html": [
              "\n",
              "  <div id=\"df-83bebcab-03ca-4fee-b7a9-a8eb977f092d\" class=\"colab-df-container\">\n",
              "    <div>\n",
              "<style scoped>\n",
              "    .dataframe tbody tr th:only-of-type {\n",
              "        vertical-align: middle;\n",
              "    }\n",
              "\n",
              "    .dataframe tbody tr th {\n",
              "        vertical-align: top;\n",
              "    }\n",
              "\n",
              "    .dataframe thead th {\n",
              "        text-align: right;\n",
              "    }\n",
              "</style>\n",
              "<table border=\"1\" class=\"dataframe\">\n",
              "  <thead>\n",
              "    <tr style=\"text-align: right;\">\n",
              "      <th></th>\n",
              "      <th>0</th>\n",
              "      <th>1</th>\n",
              "      <th>2</th>\n",
              "      <th>3</th>\n",
              "      <th>4</th>\n",
              "      <th>5</th>\n",
              "      <th>6</th>\n",
              "      <th>7</th>\n",
              "      <th>8</th>\n",
              "      <th>9</th>\n",
              "      <th>10</th>\n",
              "      <th>11</th>\n",
              "    </tr>\n",
              "  </thead>\n",
              "  <tbody>\n",
              "    <tr>\n",
              "      <th>0</th>\n",
              "      <td>1.0</td>\n",
              "      <td>0.0</td>\n",
              "      <td>0.0</td>\n",
              "      <td>0.0</td>\n",
              "      <td>0.0</td>\n",
              "      <td>1.0</td>\n",
              "      <td>0.0</td>\n",
              "      <td>0.0</td>\n",
              "      <td>0.205882</td>\n",
              "      <td>0.065564</td>\n",
              "      <td>0.123734</td>\n",
              "      <td>0.032258</td>\n",
              "    </tr>\n",
              "    <tr>\n",
              "      <th>1</th>\n",
              "      <td>0.0</td>\n",
              "      <td>1.0</td>\n",
              "      <td>0.0</td>\n",
              "      <td>0.0</td>\n",
              "      <td>1.0</td>\n",
              "      <td>0.0</td>\n",
              "      <td>0.0</td>\n",
              "      <td>0.0</td>\n",
              "      <td>0.147059</td>\n",
              "      <td>0.045792</td>\n",
              "      <td>0.396527</td>\n",
              "      <td>0.032258</td>\n",
              "    </tr>\n",
              "    <tr>\n",
              "      <th>2</th>\n",
              "      <td>0.0</td>\n",
              "      <td>1.0</td>\n",
              "      <td>0.0</td>\n",
              "      <td>0.0</td>\n",
              "      <td>1.0</td>\n",
              "      <td>0.0</td>\n",
              "      <td>0.0</td>\n",
              "      <td>0.0</td>\n",
              "      <td>0.338235</td>\n",
              "      <td>0.076036</td>\n",
              "      <td>0.335022</td>\n",
              "      <td>0.000000</td>\n",
              "    </tr>\n",
              "    <tr>\n",
              "      <th>3</th>\n",
              "      <td>1.0</td>\n",
              "      <td>0.0</td>\n",
              "      <td>0.0</td>\n",
              "      <td>1.0</td>\n",
              "      <td>0.0</td>\n",
              "      <td>0.0</td>\n",
              "      <td>0.0</td>\n",
              "      <td>0.0</td>\n",
              "      <td>0.573529</td>\n",
              "      <td>0.062866</td>\n",
              "      <td>0.315123</td>\n",
              "      <td>0.000000</td>\n",
              "    </tr>\n",
              "    <tr>\n",
              "      <th>4</th>\n",
              "      <td>0.0</td>\n",
              "      <td>1.0</td>\n",
              "      <td>0.0</td>\n",
              "      <td>0.0</td>\n",
              "      <td>1.0</td>\n",
              "      <td>0.0</td>\n",
              "      <td>0.0</td>\n",
              "      <td>0.0</td>\n",
              "      <td>0.338235</td>\n",
              "      <td>0.148380</td>\n",
              "      <td>0.065847</td>\n",
              "      <td>0.129032</td>\n",
              "    </tr>\n",
              "    <tr>\n",
              "      <th>...</th>\n",
              "      <td>...</td>\n",
              "      <td>...</td>\n",
              "      <td>...</td>\n",
              "      <td>...</td>\n",
              "      <td>...</td>\n",
              "      <td>...</td>\n",
              "      <td>...</td>\n",
              "      <td>...</td>\n",
              "      <td>...</td>\n",
              "      <td>...</td>\n",
              "      <td>...</td>\n",
              "      <td>...</td>\n",
              "    </tr>\n",
              "    <tr>\n",
              "      <th>946</th>\n",
              "      <td>0.0</td>\n",
              "      <td>0.0</td>\n",
              "      <td>1.0</td>\n",
              "      <td>0.0</td>\n",
              "      <td>0.0</td>\n",
              "      <td>1.0</td>\n",
              "      <td>0.0</td>\n",
              "      <td>0.0</td>\n",
              "      <td>0.191176</td>\n",
              "      <td>0.044265</td>\n",
              "      <td>0.246382</td>\n",
              "      <td>0.129032</td>\n",
              "    </tr>\n",
              "    <tr>\n",
              "      <th>947</th>\n",
              "      <td>0.0</td>\n",
              "      <td>0.0</td>\n",
              "      <td>1.0</td>\n",
              "      <td>0.0</td>\n",
              "      <td>1.0</td>\n",
              "      <td>0.0</td>\n",
              "      <td>0.0</td>\n",
              "      <td>0.0</td>\n",
              "      <td>0.205882</td>\n",
              "      <td>0.028043</td>\n",
              "      <td>0.275687</td>\n",
              "      <td>0.032258</td>\n",
              "    </tr>\n",
              "    <tr>\n",
              "      <th>948</th>\n",
              "      <td>1.0</td>\n",
              "      <td>0.0</td>\n",
              "      <td>0.0</td>\n",
              "      <td>1.0</td>\n",
              "      <td>0.0</td>\n",
              "      <td>0.0</td>\n",
              "      <td>0.0</td>\n",
              "      <td>0.0</td>\n",
              "      <td>0.323529</td>\n",
              "      <td>0.042952</td>\n",
              "      <td>0.024964</td>\n",
              "      <td>0.129032</td>\n",
              "    </tr>\n",
              "    <tr>\n",
              "      <th>949</th>\n",
              "      <td>1.0</td>\n",
              "      <td>0.0</td>\n",
              "      <td>0.0</td>\n",
              "      <td>0.0</td>\n",
              "      <td>1.0</td>\n",
              "      <td>0.0</td>\n",
              "      <td>0.0</td>\n",
              "      <td>1.0</td>\n",
              "      <td>0.176471</td>\n",
              "      <td>0.042810</td>\n",
              "      <td>0.023878</td>\n",
              "      <td>0.000000</td>\n",
              "    </tr>\n",
              "    <tr>\n",
              "      <th>950</th>\n",
              "      <td>0.0</td>\n",
              "      <td>0.0</td>\n",
              "      <td>1.0</td>\n",
              "      <td>0.0</td>\n",
              "      <td>0.0</td>\n",
              "      <td>1.0</td>\n",
              "      <td>0.0</td>\n",
              "      <td>0.0</td>\n",
              "      <td>0.294118</td>\n",
              "      <td>0.248802</td>\n",
              "      <td>0.028220</td>\n",
              "      <td>0.064516</td>\n",
              "    </tr>\n",
              "  </tbody>\n",
              "</table>\n",
              "<p>951 rows × 12 columns</p>\n",
              "</div>\n",
              "    <div class=\"colab-df-buttons\">\n",
              "\n",
              "  <div class=\"colab-df-container\">\n",
              "    <button class=\"colab-df-convert\" onclick=\"convertToInteractive('df-83bebcab-03ca-4fee-b7a9-a8eb977f092d')\"\n",
              "            title=\"Convert this dataframe to an interactive table.\"\n",
              "            style=\"display:none;\">\n",
              "\n",
              "  <svg xmlns=\"http://www.w3.org/2000/svg\" height=\"24px\" viewBox=\"0 -960 960 960\">\n",
              "    <path d=\"M120-120v-720h720v720H120Zm60-500h600v-160H180v160Zm220 220h160v-160H400v160Zm0 220h160v-160H400v160ZM180-400h160v-160H180v160Zm440 0h160v-160H620v160ZM180-180h160v-160H180v160Zm440 0h160v-160H620v160Z\"/>\n",
              "  </svg>\n",
              "    </button>\n",
              "\n",
              "  <style>\n",
              "    .colab-df-container {\n",
              "      display:flex;\n",
              "      gap: 12px;\n",
              "    }\n",
              "\n",
              "    .colab-df-convert {\n",
              "      background-color: #E8F0FE;\n",
              "      border: none;\n",
              "      border-radius: 50%;\n",
              "      cursor: pointer;\n",
              "      display: none;\n",
              "      fill: #1967D2;\n",
              "      height: 32px;\n",
              "      padding: 0 0 0 0;\n",
              "      width: 32px;\n",
              "    }\n",
              "\n",
              "    .colab-df-convert:hover {\n",
              "      background-color: #E2EBFA;\n",
              "      box-shadow: 0px 1px 2px rgba(60, 64, 67, 0.3), 0px 1px 3px 1px rgba(60, 64, 67, 0.15);\n",
              "      fill: #174EA6;\n",
              "    }\n",
              "\n",
              "    .colab-df-buttons div {\n",
              "      margin-bottom: 4px;\n",
              "    }\n",
              "\n",
              "    [theme=dark] .colab-df-convert {\n",
              "      background-color: #3B4455;\n",
              "      fill: #D2E3FC;\n",
              "    }\n",
              "\n",
              "    [theme=dark] .colab-df-convert:hover {\n",
              "      background-color: #434B5C;\n",
              "      box-shadow: 0px 1px 3px 1px rgba(0, 0, 0, 0.15);\n",
              "      filter: drop-shadow(0px 1px 2px rgba(0, 0, 0, 0.3));\n",
              "      fill: #FFFFFF;\n",
              "    }\n",
              "  </style>\n",
              "\n",
              "    <script>\n",
              "      const buttonEl =\n",
              "        document.querySelector('#df-83bebcab-03ca-4fee-b7a9-a8eb977f092d button.colab-df-convert');\n",
              "      buttonEl.style.display =\n",
              "        google.colab.kernel.accessAllowed ? 'block' : 'none';\n",
              "\n",
              "      async function convertToInteractive(key) {\n",
              "        const element = document.querySelector('#df-83bebcab-03ca-4fee-b7a9-a8eb977f092d');\n",
              "        const dataTable =\n",
              "          await google.colab.kernel.invokeFunction('convertToInteractive',\n",
              "                                                    [key], {});\n",
              "        if (!dataTable) return;\n",
              "\n",
              "        const docLinkHtml = 'Like what you see? Visit the ' +\n",
              "          '<a target=\"_blank\" href=https://colab.research.google.com/notebooks/data_table.ipynb>data table notebook</a>'\n",
              "          + ' to learn more about interactive tables.';\n",
              "        element.innerHTML = '';\n",
              "        dataTable['output_type'] = 'display_data';\n",
              "        await google.colab.output.renderOutput(dataTable, element);\n",
              "        const docLink = document.createElement('div');\n",
              "        docLink.innerHTML = docLinkHtml;\n",
              "        element.appendChild(docLink);\n",
              "      }\n",
              "    </script>\n",
              "  </div>\n",
              "\n",
              "\n",
              "<div id=\"df-c45d2f0f-dd57-4afb-b517-f7b10fe727ca\">\n",
              "  <button class=\"colab-df-quickchart\" onclick=\"quickchart('df-c45d2f0f-dd57-4afb-b517-f7b10fe727ca')\"\n",
              "            title=\"Suggest charts\"\n",
              "            style=\"display:none;\">\n",
              "\n",
              "<svg xmlns=\"http://www.w3.org/2000/svg\" height=\"24px\"viewBox=\"0 0 24 24\"\n",
              "     width=\"24px\">\n",
              "    <g>\n",
              "        <path d=\"M19 3H5c-1.1 0-2 .9-2 2v14c0 1.1.9 2 2 2h14c1.1 0 2-.9 2-2V5c0-1.1-.9-2-2-2zM9 17H7v-7h2v7zm4 0h-2V7h2v10zm4 0h-2v-4h2v4z\"/>\n",
              "    </g>\n",
              "</svg>\n",
              "  </button>\n",
              "\n",
              "<style>\n",
              "  .colab-df-quickchart {\n",
              "      --bg-color: #E8F0FE;\n",
              "      --fill-color: #1967D2;\n",
              "      --hover-bg-color: #E2EBFA;\n",
              "      --hover-fill-color: #174EA6;\n",
              "      --disabled-fill-color: #AAA;\n",
              "      --disabled-bg-color: #DDD;\n",
              "  }\n",
              "\n",
              "  [theme=dark] .colab-df-quickchart {\n",
              "      --bg-color: #3B4455;\n",
              "      --fill-color: #D2E3FC;\n",
              "      --hover-bg-color: #434B5C;\n",
              "      --hover-fill-color: #FFFFFF;\n",
              "      --disabled-bg-color: #3B4455;\n",
              "      --disabled-fill-color: #666;\n",
              "  }\n",
              "\n",
              "  .colab-df-quickchart {\n",
              "    background-color: var(--bg-color);\n",
              "    border: none;\n",
              "    border-radius: 50%;\n",
              "    cursor: pointer;\n",
              "    display: none;\n",
              "    fill: var(--fill-color);\n",
              "    height: 32px;\n",
              "    padding: 0;\n",
              "    width: 32px;\n",
              "  }\n",
              "\n",
              "  .colab-df-quickchart:hover {\n",
              "    background-color: var(--hover-bg-color);\n",
              "    box-shadow: 0 1px 2px rgba(60, 64, 67, 0.3), 0 1px 3px 1px rgba(60, 64, 67, 0.15);\n",
              "    fill: var(--button-hover-fill-color);\n",
              "  }\n",
              "\n",
              "  .colab-df-quickchart-complete:disabled,\n",
              "  .colab-df-quickchart-complete:disabled:hover {\n",
              "    background-color: var(--disabled-bg-color);\n",
              "    fill: var(--disabled-fill-color);\n",
              "    box-shadow: none;\n",
              "  }\n",
              "\n",
              "  .colab-df-spinner {\n",
              "    border: 2px solid var(--fill-color);\n",
              "    border-color: transparent;\n",
              "    border-bottom-color: var(--fill-color);\n",
              "    animation:\n",
              "      spin 1s steps(1) infinite;\n",
              "  }\n",
              "\n",
              "  @keyframes spin {\n",
              "    0% {\n",
              "      border-color: transparent;\n",
              "      border-bottom-color: var(--fill-color);\n",
              "      border-left-color: var(--fill-color);\n",
              "    }\n",
              "    20% {\n",
              "      border-color: transparent;\n",
              "      border-left-color: var(--fill-color);\n",
              "      border-top-color: var(--fill-color);\n",
              "    }\n",
              "    30% {\n",
              "      border-color: transparent;\n",
              "      border-left-color: var(--fill-color);\n",
              "      border-top-color: var(--fill-color);\n",
              "      border-right-color: var(--fill-color);\n",
              "    }\n",
              "    40% {\n",
              "      border-color: transparent;\n",
              "      border-right-color: var(--fill-color);\n",
              "      border-top-color: var(--fill-color);\n",
              "    }\n",
              "    60% {\n",
              "      border-color: transparent;\n",
              "      border-right-color: var(--fill-color);\n",
              "    }\n",
              "    80% {\n",
              "      border-color: transparent;\n",
              "      border-right-color: var(--fill-color);\n",
              "      border-bottom-color: var(--fill-color);\n",
              "    }\n",
              "    90% {\n",
              "      border-color: transparent;\n",
              "      border-bottom-color: var(--fill-color);\n",
              "    }\n",
              "  }\n",
              "</style>\n",
              "\n",
              "  <script>\n",
              "    async function quickchart(key) {\n",
              "      const quickchartButtonEl =\n",
              "        document.querySelector('#' + key + ' button');\n",
              "      quickchartButtonEl.disabled = true;  // To prevent multiple clicks.\n",
              "      quickchartButtonEl.classList.add('colab-df-spinner');\n",
              "      try {\n",
              "        const charts = await google.colab.kernel.invokeFunction(\n",
              "            'suggestCharts', [key], {});\n",
              "      } catch (error) {\n",
              "        console.error('Error during call to suggestCharts:', error);\n",
              "      }\n",
              "      quickchartButtonEl.classList.remove('colab-df-spinner');\n",
              "      quickchartButtonEl.classList.add('colab-df-quickchart-complete');\n",
              "    }\n",
              "    (() => {\n",
              "      let quickchartButtonEl =\n",
              "        document.querySelector('#df-c45d2f0f-dd57-4afb-b517-f7b10fe727ca button');\n",
              "      quickchartButtonEl.style.display =\n",
              "        google.colab.kernel.accessAllowed ? 'block' : 'none';\n",
              "    })();\n",
              "  </script>\n",
              "</div>\n",
              "\n",
              "    </div>\n",
              "  </div>\n"
            ],
            "application/vnd.google.colaboratory.intrinsic+json": {
              "type": "dataframe",
              "summary": "{\n  \"name\": \"pd\",\n  \"rows\": 951,\n  \"fields\": [\n    {\n      \"column\": 0,\n      \"properties\": {\n        \"dtype\": \"number\",\n        \"std\": 0.4951969204651691,\n        \"min\": 0.0,\n        \"max\": 1.0,\n        \"num_unique_values\": 2,\n        \"samples\": [\n          0.0,\n          1.0\n        ],\n        \"semantic_type\": \"\",\n        \"description\": \"\"\n      }\n    },\n    {\n      \"column\": 1,\n      \"properties\": {\n        \"dtype\": \"number\",\n        \"std\": 0.3403403218436566,\n        \"min\": 0.0,\n        \"max\": 1.0,\n        \"num_unique_values\": 2,\n        \"samples\": [\n          1.0,\n          0.0\n        ],\n        \"semantic_type\": \"\",\n        \"description\": \"\"\n      }\n    },\n    {\n      \"column\": 2,\n      \"properties\": {\n        \"dtype\": \"number\",\n        \"std\": 0.45649760166326436,\n        \"min\": 0.0,\n        \"max\": 1.0,\n        \"num_unique_values\": 2,\n        \"samples\": [\n          1.0,\n          0.0\n        ],\n        \"semantic_type\": \"\",\n        \"description\": \"\"\n      }\n    },\n    {\n      \"column\": 3,\n      \"properties\": {\n        \"dtype\": \"number\",\n        \"std\": 0.3596660628896059,\n        \"min\": 0.0,\n        \"max\": 1.0,\n        \"num_unique_values\": 2,\n        \"samples\": [\n          1.0,\n          0.0\n        ],\n        \"semantic_type\": \"\",\n        \"description\": \"\"\n      }\n    },\n    {\n      \"column\": 4,\n      \"properties\": {\n        \"dtype\": \"number\",\n        \"std\": 0.4999241737843935,\n        \"min\": 0.0,\n        \"max\": 1.0,\n        \"num_unique_values\": 2,\n        \"samples\": [\n          1.0,\n          0.0\n        ],\n        \"semantic_type\": \"\",\n        \"description\": \"\"\n      }\n    },\n    {\n      \"column\": 5,\n      \"properties\": {\n        \"dtype\": \"number\",\n        \"std\": 0.4701435118015357,\n        \"min\": 0.0,\n        \"max\": 1.0,\n        \"num_unique_values\": 2,\n        \"samples\": [\n          0.0,\n          1.0\n        ],\n        \"semantic_type\": \"\",\n        \"description\": \"\"\n      }\n    },\n    {\n      \"column\": 6,\n      \"properties\": {\n        \"dtype\": \"number\",\n        \"std\": 0.143561430517677,\n        \"min\": 0.0,\n        \"max\": 1.0,\n        \"num_unique_values\": 2,\n        \"samples\": [\n          1.0,\n          0.0\n        ],\n        \"semantic_type\": \"\",\n        \"description\": \"\"\n      }\n    },\n    {\n      \"column\": 7,\n      \"properties\": {\n        \"dtype\": \"number\",\n        \"std\": 0.33920339138518696,\n        \"min\": 0.0,\n        \"max\": 1.0,\n        \"num_unique_values\": 2,\n        \"samples\": [\n          1.0,\n          0.0\n        ],\n        \"semantic_type\": \"\",\n        \"description\": \"\"\n      }\n    },\n    {\n      \"column\": 8,\n      \"properties\": {\n        \"dtype\": \"number\",\n        \"std\": 0.168867683455938,\n        \"min\": 0.0,\n        \"max\": 0.9999999999999999,\n        \"num_unique_values\": 62,\n        \"samples\": [\n          0.7647058823529412,\n          0.7205882352941176\n        ],\n        \"semantic_type\": \"\",\n        \"description\": \"\"\n      }\n    },\n    {\n      \"column\": 9,\n      \"properties\": {\n        \"dtype\": \"number\",\n        \"std\": 0.09410637655172678,\n        \"min\": 0.0,\n        \"max\": 0.9999999999999999,\n        \"num_unique_values\": 736,\n        \"samples\": [\n          0.05051293883781193,\n          0.05881935323559688\n        ],\n        \"semantic_type\": \"\",\n        \"description\": \"\"\n      }\n    },\n    {\n      \"column\": 10,\n      \"properties\": {\n        \"dtype\": \"number\",\n        \"std\": 0.12320293691553666,\n        \"min\": 0.0,\n        \"max\": 1.0,\n        \"num_unique_values\": 554,\n        \"samples\": [\n          0.008321273516642547,\n          0.08936324167872647\n        ],\n        \"semantic_type\": \"\",\n        \"description\": \"\"\n      }\n    },\n    {\n      \"column\": 11,\n      \"properties\": {\n        \"dtype\": \"number\",\n        \"std\": 0.09404723767723813,\n        \"min\": 0.0,\n        \"max\": 1.0,\n        \"num_unique_values\": 21,\n        \"samples\": [\n          0.03225806451612903,\n          0.5161290322580645\n        ],\n        \"semantic_type\": \"\",\n        \"description\": \"\"\n      }\n    }\n  ]\n}"
            }
          },
          "metadata": {},
          "execution_count": 124
        }
      ]
    },
    {
      "cell_type": "markdown",
      "source": [
        "# KNN\n",
        "Calculo da distância dos vizinhos mais próximos"
      ],
      "metadata": {
        "id": "QOZCh6ZJ0Edm"
      }
    },
    {
      "cell_type": "code",
      "source": [
        "from sklearn.neighbors import KNeighborsClassifier"
      ],
      "metadata": {
        "id": "tL4AffWztq5l"
      },
      "execution_count": null,
      "outputs": []
    },
    {
      "cell_type": "code",
      "source": [
        "knn = KNeighborsClassifier() # por padrão os 3 vizinhos mais proximos"
      ],
      "metadata": {
        "id": "LrOetbkz0VNL"
      },
      "execution_count": null,
      "outputs": []
    },
    {
      "cell_type": "code",
      "source": [
        "knn.fit(x_treino_normalizado, y_treino)"
      ],
      "metadata": {
        "colab": {
          "base_uri": "https://localhost:8080/",
          "height": 74
        },
        "id": "qky4cqFQ0eA3",
        "outputId": "bb9495bb-25d0-4790-add8-388bc0f33693"
      },
      "execution_count": null,
      "outputs": [
        {
          "output_type": "execute_result",
          "data": {
            "text/plain": [
              "KNeighborsClassifier()"
            ],
            "text/html": [
              "<style>#sk-container-id-8 {color: black;background-color: white;}#sk-container-id-8 pre{padding: 0;}#sk-container-id-8 div.sk-toggleable {background-color: white;}#sk-container-id-8 label.sk-toggleable__label {cursor: pointer;display: block;width: 100%;margin-bottom: 0;padding: 0.3em;box-sizing: border-box;text-align: center;}#sk-container-id-8 label.sk-toggleable__label-arrow:before {content: \"▸\";float: left;margin-right: 0.25em;color: #696969;}#sk-container-id-8 label.sk-toggleable__label-arrow:hover:before {color: black;}#sk-container-id-8 div.sk-estimator:hover label.sk-toggleable__label-arrow:before {color: black;}#sk-container-id-8 div.sk-toggleable__content {max-height: 0;max-width: 0;overflow: hidden;text-align: left;background-color: #f0f8ff;}#sk-container-id-8 div.sk-toggleable__content pre {margin: 0.2em;color: black;border-radius: 0.25em;background-color: #f0f8ff;}#sk-container-id-8 input.sk-toggleable__control:checked~div.sk-toggleable__content {max-height: 200px;max-width: 100%;overflow: auto;}#sk-container-id-8 input.sk-toggleable__control:checked~label.sk-toggleable__label-arrow:before {content: \"▾\";}#sk-container-id-8 div.sk-estimator input.sk-toggleable__control:checked~label.sk-toggleable__label {background-color: #d4ebff;}#sk-container-id-8 div.sk-label input.sk-toggleable__control:checked~label.sk-toggleable__label {background-color: #d4ebff;}#sk-container-id-8 input.sk-hidden--visually {border: 0;clip: rect(1px 1px 1px 1px);clip: rect(1px, 1px, 1px, 1px);height: 1px;margin: -1px;overflow: hidden;padding: 0;position: absolute;width: 1px;}#sk-container-id-8 div.sk-estimator {font-family: monospace;background-color: #f0f8ff;border: 1px dotted black;border-radius: 0.25em;box-sizing: border-box;margin-bottom: 0.5em;}#sk-container-id-8 div.sk-estimator:hover {background-color: #d4ebff;}#sk-container-id-8 div.sk-parallel-item::after {content: \"\";width: 100%;border-bottom: 1px solid gray;flex-grow: 1;}#sk-container-id-8 div.sk-label:hover label.sk-toggleable__label {background-color: #d4ebff;}#sk-container-id-8 div.sk-serial::before {content: \"\";position: absolute;border-left: 1px solid gray;box-sizing: border-box;top: 0;bottom: 0;left: 50%;z-index: 0;}#sk-container-id-8 div.sk-serial {display: flex;flex-direction: column;align-items: center;background-color: white;padding-right: 0.2em;padding-left: 0.2em;position: relative;}#sk-container-id-8 div.sk-item {position: relative;z-index: 1;}#sk-container-id-8 div.sk-parallel {display: flex;align-items: stretch;justify-content: center;background-color: white;position: relative;}#sk-container-id-8 div.sk-item::before, #sk-container-id-8 div.sk-parallel-item::before {content: \"\";position: absolute;border-left: 1px solid gray;box-sizing: border-box;top: 0;bottom: 0;left: 50%;z-index: -1;}#sk-container-id-8 div.sk-parallel-item {display: flex;flex-direction: column;z-index: 1;position: relative;background-color: white;}#sk-container-id-8 div.sk-parallel-item:first-child::after {align-self: flex-end;width: 50%;}#sk-container-id-8 div.sk-parallel-item:last-child::after {align-self: flex-start;width: 50%;}#sk-container-id-8 div.sk-parallel-item:only-child::after {width: 0;}#sk-container-id-8 div.sk-dashed-wrapped {border: 1px dashed gray;margin: 0 0.4em 0.5em 0.4em;box-sizing: border-box;padding-bottom: 0.4em;background-color: white;}#sk-container-id-8 div.sk-label label {font-family: monospace;font-weight: bold;display: inline-block;line-height: 1.2em;}#sk-container-id-8 div.sk-label-container {text-align: center;}#sk-container-id-8 div.sk-container {/* jupyter's `normalize.less` sets `[hidden] { display: none; }` but bootstrap.min.css set `[hidden] { display: none !important; }` so we also need the `!important` here to be able to override the default hidden behavior on the sphinx rendered scikit-learn.org. See: https://github.com/scikit-learn/scikit-learn/issues/21755 */display: inline-block !important;position: relative;}#sk-container-id-8 div.sk-text-repr-fallback {display: none;}</style><div id=\"sk-container-id-8\" class=\"sk-top-container\"><div class=\"sk-text-repr-fallback\"><pre>KNeighborsClassifier()</pre><b>In a Jupyter environment, please rerun this cell to show the HTML representation or trust the notebook. <br />On GitHub, the HTML representation is unable to render, please try loading this page with nbviewer.org.</b></div><div class=\"sk-container\" hidden><div class=\"sk-item\"><div class=\"sk-estimator sk-toggleable\"><input class=\"sk-toggleable__control sk-hidden--visually\" id=\"sk-estimator-id-8\" type=\"checkbox\" checked><label for=\"sk-estimator-id-8\" class=\"sk-toggleable__label sk-toggleable__label-arrow\">KNeighborsClassifier</label><div class=\"sk-toggleable__content\"><pre>KNeighborsClassifier()</pre></div></div></div></div></div>"
            ]
          },
          "metadata": {},
          "execution_count": 127
        }
      ]
    },
    {
      "cell_type": "code",
      "source": [
        "x_teste_normalizado = normalizacao.fit_transform(x_teste)"
      ],
      "metadata": {
        "id": "gSuZJxxo0iGS"
      },
      "execution_count": null,
      "outputs": []
    },
    {
      "cell_type": "code",
      "source": [
        "knn.score(x_teste_normalizado, y_teste)"
      ],
      "metadata": {
        "colab": {
          "base_uri": "https://localhost:8080/"
        },
        "id": "WhvD3DOy0--n",
        "outputId": "0dda03b1-4a86-4f19-89e6-e2553a95a7e7"
      },
      "execution_count": null,
      "outputs": [
        {
          "output_type": "execute_result",
          "data": {
            "text/plain": [
              "0.6750788643533123"
            ]
          },
          "metadata": {},
          "execution_count": 129
        }
      ]
    },
    {
      "cell_type": "markdown",
      "source": [
        "# Escolhendo o melhor modelo"
      ],
      "metadata": {
        "id": "3iNTwwwc1V9B"
      }
    },
    {
      "cell_type": "code",
      "source": [
        "print(f'Acurácia Dummy: {dummy.score(x_teste, y_teste)}')\n",
        "print(f'Acurácia Árvore: {arvore.score(x_teste, y_teste)}')\n",
        "print(f'Acurácia KNN: {knn.score(x_teste_normalizado, y_teste)}')"
      ],
      "metadata": {
        "colab": {
          "base_uri": "https://localhost:8080/"
        },
        "id": "4llmCw771Ehb",
        "outputId": "02f5d7ad-b9f6-4c9c-cd8f-1bd30d781a75"
      },
      "execution_count": null,
      "outputs": [
        {
          "output_type": "stream",
          "name": "stdout",
          "text": [
            "Acurácia Dummy: 0.6025236593059937\n",
            "Acurácia Árvore: 0.7160883280757098\n",
            "Acurácia KNN: 0.6750788643533123\n"
          ]
        }
      ]
    },
    {
      "cell_type": "markdown",
      "source": [
        "# Salvando o modelo\n"
      ],
      "metadata": {
        "id": "yqV44J7d2ZOj"
      }
    },
    {
      "cell_type": "code",
      "source": [
        "import pickle"
      ],
      "metadata": {
        "id": "DHsqW-y_14g7"
      },
      "execution_count": null,
      "outputs": []
    },
    {
      "cell_type": "code",
      "source": [
        "with open('modelo_onehot.pkl', 'wb') as arquivo:\n",
        "  pickle.dump(one_hot, arquivo)"
      ],
      "metadata": {
        "id": "eMy2egv52ckV"
      },
      "execution_count": null,
      "outputs": []
    },
    {
      "cell_type": "code",
      "source": [
        "with open('modelo_arvore.pkl', 'wb') as arquivo:\n",
        "  pickle.dump(arvore, arquivo)"
      ],
      "metadata": {
        "id": "jCg63Pqg3Igi"
      },
      "execution_count": null,
      "outputs": []
    },
    {
      "cell_type": "code",
      "source": [
        "data"
      ],
      "metadata": {
        "colab": {
          "base_uri": "https://localhost:8080/",
          "height": 423
        },
        "id": "DVrftPCv3OUr",
        "outputId": "fdf22f47-80b1-4c2a-956e-9df270a60f47"
      },
      "execution_count": null,
      "outputs": [
        {
          "output_type": "execute_result",
          "data": {
            "text/plain": [
              "      idade    estado_civil escolaridade inadimplencia  saldo fez_emprestimo  \\\n",
              "0        45      casado (a)     superior           nao    242            nao   \n",
              "1        42      casado (a)        medio           nao   1289            nao   \n",
              "2        23    solteiro (a)     superior           nao    363            nao   \n",
              "3        58  divorciado (a)     superior           nao   1382            nao   \n",
              "4        50      casado (a)        medio           nao   3357            nao   \n",
              "...     ...             ...          ...           ...    ...            ...   \n",
              "1263     52    solteiro (a)     superior           nao     83            nao   \n",
              "1264     35    solteiro (a)     superior           nao   5958            nao   \n",
              "1265     30    solteiro (a)     superior           nao   -477            sim   \n",
              "1266     42      casado (a)     superior           nao   2187            nao   \n",
              "1267     29    solteiro (a)     superior           nao     19            nao   \n",
              "\n",
              "      tempo_ult_contato  numero_contatos aderencia_investimento  \n",
              "0                   587                1                    sim  \n",
              "1                   250                4                    sim  \n",
              "2                    16               18                    nao  \n",
              "3                   700                1                    sim  \n",
              "4                   239                4                    sim  \n",
              "...                 ...              ...                    ...  \n",
              "1263               1223                6                    sim  \n",
              "1264                215                1                    sim  \n",
              "1265               1532                2                    sim  \n",
              "1266                525                3                    sim  \n",
              "1267                110                2                    sim  \n",
              "\n",
              "[1268 rows x 9 columns]"
            ],
            "text/html": [
              "\n",
              "  <div id=\"df-87369b9d-2e4e-4b72-b7d5-3238305174d8\" class=\"colab-df-container\">\n",
              "    <div>\n",
              "<style scoped>\n",
              "    .dataframe tbody tr th:only-of-type {\n",
              "        vertical-align: middle;\n",
              "    }\n",
              "\n",
              "    .dataframe tbody tr th {\n",
              "        vertical-align: top;\n",
              "    }\n",
              "\n",
              "    .dataframe thead th {\n",
              "        text-align: right;\n",
              "    }\n",
              "</style>\n",
              "<table border=\"1\" class=\"dataframe\">\n",
              "  <thead>\n",
              "    <tr style=\"text-align: right;\">\n",
              "      <th></th>\n",
              "      <th>idade</th>\n",
              "      <th>estado_civil</th>\n",
              "      <th>escolaridade</th>\n",
              "      <th>inadimplencia</th>\n",
              "      <th>saldo</th>\n",
              "      <th>fez_emprestimo</th>\n",
              "      <th>tempo_ult_contato</th>\n",
              "      <th>numero_contatos</th>\n",
              "      <th>aderencia_investimento</th>\n",
              "    </tr>\n",
              "  </thead>\n",
              "  <tbody>\n",
              "    <tr>\n",
              "      <th>0</th>\n",
              "      <td>45</td>\n",
              "      <td>casado (a)</td>\n",
              "      <td>superior</td>\n",
              "      <td>nao</td>\n",
              "      <td>242</td>\n",
              "      <td>nao</td>\n",
              "      <td>587</td>\n",
              "      <td>1</td>\n",
              "      <td>sim</td>\n",
              "    </tr>\n",
              "    <tr>\n",
              "      <th>1</th>\n",
              "      <td>42</td>\n",
              "      <td>casado (a)</td>\n",
              "      <td>medio</td>\n",
              "      <td>nao</td>\n",
              "      <td>1289</td>\n",
              "      <td>nao</td>\n",
              "      <td>250</td>\n",
              "      <td>4</td>\n",
              "      <td>sim</td>\n",
              "    </tr>\n",
              "    <tr>\n",
              "      <th>2</th>\n",
              "      <td>23</td>\n",
              "      <td>solteiro (a)</td>\n",
              "      <td>superior</td>\n",
              "      <td>nao</td>\n",
              "      <td>363</td>\n",
              "      <td>nao</td>\n",
              "      <td>16</td>\n",
              "      <td>18</td>\n",
              "      <td>nao</td>\n",
              "    </tr>\n",
              "    <tr>\n",
              "      <th>3</th>\n",
              "      <td>58</td>\n",
              "      <td>divorciado (a)</td>\n",
              "      <td>superior</td>\n",
              "      <td>nao</td>\n",
              "      <td>1382</td>\n",
              "      <td>nao</td>\n",
              "      <td>700</td>\n",
              "      <td>1</td>\n",
              "      <td>sim</td>\n",
              "    </tr>\n",
              "    <tr>\n",
              "      <th>4</th>\n",
              "      <td>50</td>\n",
              "      <td>casado (a)</td>\n",
              "      <td>medio</td>\n",
              "      <td>nao</td>\n",
              "      <td>3357</td>\n",
              "      <td>nao</td>\n",
              "      <td>239</td>\n",
              "      <td>4</td>\n",
              "      <td>sim</td>\n",
              "    </tr>\n",
              "    <tr>\n",
              "      <th>...</th>\n",
              "      <td>...</td>\n",
              "      <td>...</td>\n",
              "      <td>...</td>\n",
              "      <td>...</td>\n",
              "      <td>...</td>\n",
              "      <td>...</td>\n",
              "      <td>...</td>\n",
              "      <td>...</td>\n",
              "      <td>...</td>\n",
              "    </tr>\n",
              "    <tr>\n",
              "      <th>1263</th>\n",
              "      <td>52</td>\n",
              "      <td>solteiro (a)</td>\n",
              "      <td>superior</td>\n",
              "      <td>nao</td>\n",
              "      <td>83</td>\n",
              "      <td>nao</td>\n",
              "      <td>1223</td>\n",
              "      <td>6</td>\n",
              "      <td>sim</td>\n",
              "    </tr>\n",
              "    <tr>\n",
              "      <th>1264</th>\n",
              "      <td>35</td>\n",
              "      <td>solteiro (a)</td>\n",
              "      <td>superior</td>\n",
              "      <td>nao</td>\n",
              "      <td>5958</td>\n",
              "      <td>nao</td>\n",
              "      <td>215</td>\n",
              "      <td>1</td>\n",
              "      <td>sim</td>\n",
              "    </tr>\n",
              "    <tr>\n",
              "      <th>1265</th>\n",
              "      <td>30</td>\n",
              "      <td>solteiro (a)</td>\n",
              "      <td>superior</td>\n",
              "      <td>nao</td>\n",
              "      <td>-477</td>\n",
              "      <td>sim</td>\n",
              "      <td>1532</td>\n",
              "      <td>2</td>\n",
              "      <td>sim</td>\n",
              "    </tr>\n",
              "    <tr>\n",
              "      <th>1266</th>\n",
              "      <td>42</td>\n",
              "      <td>casado (a)</td>\n",
              "      <td>superior</td>\n",
              "      <td>nao</td>\n",
              "      <td>2187</td>\n",
              "      <td>nao</td>\n",
              "      <td>525</td>\n",
              "      <td>3</td>\n",
              "      <td>sim</td>\n",
              "    </tr>\n",
              "    <tr>\n",
              "      <th>1267</th>\n",
              "      <td>29</td>\n",
              "      <td>solteiro (a)</td>\n",
              "      <td>superior</td>\n",
              "      <td>nao</td>\n",
              "      <td>19</td>\n",
              "      <td>nao</td>\n",
              "      <td>110</td>\n",
              "      <td>2</td>\n",
              "      <td>sim</td>\n",
              "    </tr>\n",
              "  </tbody>\n",
              "</table>\n",
              "<p>1268 rows × 9 columns</p>\n",
              "</div>\n",
              "    <div class=\"colab-df-buttons\">\n",
              "\n",
              "  <div class=\"colab-df-container\">\n",
              "    <button class=\"colab-df-convert\" onclick=\"convertToInteractive('df-87369b9d-2e4e-4b72-b7d5-3238305174d8')\"\n",
              "            title=\"Convert this dataframe to an interactive table.\"\n",
              "            style=\"display:none;\">\n",
              "\n",
              "  <svg xmlns=\"http://www.w3.org/2000/svg\" height=\"24px\" viewBox=\"0 -960 960 960\">\n",
              "    <path d=\"M120-120v-720h720v720H120Zm60-500h600v-160H180v160Zm220 220h160v-160H400v160Zm0 220h160v-160H400v160ZM180-400h160v-160H180v160Zm440 0h160v-160H620v160ZM180-180h160v-160H180v160Zm440 0h160v-160H620v160Z\"/>\n",
              "  </svg>\n",
              "    </button>\n",
              "\n",
              "  <style>\n",
              "    .colab-df-container {\n",
              "      display:flex;\n",
              "      gap: 12px;\n",
              "    }\n",
              "\n",
              "    .colab-df-convert {\n",
              "      background-color: #E8F0FE;\n",
              "      border: none;\n",
              "      border-radius: 50%;\n",
              "      cursor: pointer;\n",
              "      display: none;\n",
              "      fill: #1967D2;\n",
              "      height: 32px;\n",
              "      padding: 0 0 0 0;\n",
              "      width: 32px;\n",
              "    }\n",
              "\n",
              "    .colab-df-convert:hover {\n",
              "      background-color: #E2EBFA;\n",
              "      box-shadow: 0px 1px 2px rgba(60, 64, 67, 0.3), 0px 1px 3px 1px rgba(60, 64, 67, 0.15);\n",
              "      fill: #174EA6;\n",
              "    }\n",
              "\n",
              "    .colab-df-buttons div {\n",
              "      margin-bottom: 4px;\n",
              "    }\n",
              "\n",
              "    [theme=dark] .colab-df-convert {\n",
              "      background-color: #3B4455;\n",
              "      fill: #D2E3FC;\n",
              "    }\n",
              "\n",
              "    [theme=dark] .colab-df-convert:hover {\n",
              "      background-color: #434B5C;\n",
              "      box-shadow: 0px 1px 3px 1px rgba(0, 0, 0, 0.15);\n",
              "      filter: drop-shadow(0px 1px 2px rgba(0, 0, 0, 0.3));\n",
              "      fill: #FFFFFF;\n",
              "    }\n",
              "  </style>\n",
              "\n",
              "    <script>\n",
              "      const buttonEl =\n",
              "        document.querySelector('#df-87369b9d-2e4e-4b72-b7d5-3238305174d8 button.colab-df-convert');\n",
              "      buttonEl.style.display =\n",
              "        google.colab.kernel.accessAllowed ? 'block' : 'none';\n",
              "\n",
              "      async function convertToInteractive(key) {\n",
              "        const element = document.querySelector('#df-87369b9d-2e4e-4b72-b7d5-3238305174d8');\n",
              "        const dataTable =\n",
              "          await google.colab.kernel.invokeFunction('convertToInteractive',\n",
              "                                                    [key], {});\n",
              "        if (!dataTable) return;\n",
              "\n",
              "        const docLinkHtml = 'Like what you see? Visit the ' +\n",
              "          '<a target=\"_blank\" href=https://colab.research.google.com/notebooks/data_table.ipynb>data table notebook</a>'\n",
              "          + ' to learn more about interactive tables.';\n",
              "        element.innerHTML = '';\n",
              "        dataTable['output_type'] = 'display_data';\n",
              "        await google.colab.output.renderOutput(dataTable, element);\n",
              "        const docLink = document.createElement('div');\n",
              "        docLink.innerHTML = docLinkHtml;\n",
              "        element.appendChild(docLink);\n",
              "      }\n",
              "    </script>\n",
              "  </div>\n",
              "\n",
              "\n",
              "<div id=\"df-91e9f913-f1e7-494a-8269-0ab1125353c2\">\n",
              "  <button class=\"colab-df-quickchart\" onclick=\"quickchart('df-91e9f913-f1e7-494a-8269-0ab1125353c2')\"\n",
              "            title=\"Suggest charts\"\n",
              "            style=\"display:none;\">\n",
              "\n",
              "<svg xmlns=\"http://www.w3.org/2000/svg\" height=\"24px\"viewBox=\"0 0 24 24\"\n",
              "     width=\"24px\">\n",
              "    <g>\n",
              "        <path d=\"M19 3H5c-1.1 0-2 .9-2 2v14c0 1.1.9 2 2 2h14c1.1 0 2-.9 2-2V5c0-1.1-.9-2-2-2zM9 17H7v-7h2v7zm4 0h-2V7h2v10zm4 0h-2v-4h2v4z\"/>\n",
              "    </g>\n",
              "</svg>\n",
              "  </button>\n",
              "\n",
              "<style>\n",
              "  .colab-df-quickchart {\n",
              "      --bg-color: #E8F0FE;\n",
              "      --fill-color: #1967D2;\n",
              "      --hover-bg-color: #E2EBFA;\n",
              "      --hover-fill-color: #174EA6;\n",
              "      --disabled-fill-color: #AAA;\n",
              "      --disabled-bg-color: #DDD;\n",
              "  }\n",
              "\n",
              "  [theme=dark] .colab-df-quickchart {\n",
              "      --bg-color: #3B4455;\n",
              "      --fill-color: #D2E3FC;\n",
              "      --hover-bg-color: #434B5C;\n",
              "      --hover-fill-color: #FFFFFF;\n",
              "      --disabled-bg-color: #3B4455;\n",
              "      --disabled-fill-color: #666;\n",
              "  }\n",
              "\n",
              "  .colab-df-quickchart {\n",
              "    background-color: var(--bg-color);\n",
              "    border: none;\n",
              "    border-radius: 50%;\n",
              "    cursor: pointer;\n",
              "    display: none;\n",
              "    fill: var(--fill-color);\n",
              "    height: 32px;\n",
              "    padding: 0;\n",
              "    width: 32px;\n",
              "  }\n",
              "\n",
              "  .colab-df-quickchart:hover {\n",
              "    background-color: var(--hover-bg-color);\n",
              "    box-shadow: 0 1px 2px rgba(60, 64, 67, 0.3), 0 1px 3px 1px rgba(60, 64, 67, 0.15);\n",
              "    fill: var(--button-hover-fill-color);\n",
              "  }\n",
              "\n",
              "  .colab-df-quickchart-complete:disabled,\n",
              "  .colab-df-quickchart-complete:disabled:hover {\n",
              "    background-color: var(--disabled-bg-color);\n",
              "    fill: var(--disabled-fill-color);\n",
              "    box-shadow: none;\n",
              "  }\n",
              "\n",
              "  .colab-df-spinner {\n",
              "    border: 2px solid var(--fill-color);\n",
              "    border-color: transparent;\n",
              "    border-bottom-color: var(--fill-color);\n",
              "    animation:\n",
              "      spin 1s steps(1) infinite;\n",
              "  }\n",
              "\n",
              "  @keyframes spin {\n",
              "    0% {\n",
              "      border-color: transparent;\n",
              "      border-bottom-color: var(--fill-color);\n",
              "      border-left-color: var(--fill-color);\n",
              "    }\n",
              "    20% {\n",
              "      border-color: transparent;\n",
              "      border-left-color: var(--fill-color);\n",
              "      border-top-color: var(--fill-color);\n",
              "    }\n",
              "    30% {\n",
              "      border-color: transparent;\n",
              "      border-left-color: var(--fill-color);\n",
              "      border-top-color: var(--fill-color);\n",
              "      border-right-color: var(--fill-color);\n",
              "    }\n",
              "    40% {\n",
              "      border-color: transparent;\n",
              "      border-right-color: var(--fill-color);\n",
              "      border-top-color: var(--fill-color);\n",
              "    }\n",
              "    60% {\n",
              "      border-color: transparent;\n",
              "      border-right-color: var(--fill-color);\n",
              "    }\n",
              "    80% {\n",
              "      border-color: transparent;\n",
              "      border-right-color: var(--fill-color);\n",
              "      border-bottom-color: var(--fill-color);\n",
              "    }\n",
              "    90% {\n",
              "      border-color: transparent;\n",
              "      border-bottom-color: var(--fill-color);\n",
              "    }\n",
              "  }\n",
              "</style>\n",
              "\n",
              "  <script>\n",
              "    async function quickchart(key) {\n",
              "      const quickchartButtonEl =\n",
              "        document.querySelector('#' + key + ' button');\n",
              "      quickchartButtonEl.disabled = true;  // To prevent multiple clicks.\n",
              "      quickchartButtonEl.classList.add('colab-df-spinner');\n",
              "      try {\n",
              "        const charts = await google.colab.kernel.invokeFunction(\n",
              "            'suggestCharts', [key], {});\n",
              "      } catch (error) {\n",
              "        console.error('Error during call to suggestCharts:', error);\n",
              "      }\n",
              "      quickchartButtonEl.classList.remove('colab-df-spinner');\n",
              "      quickchartButtonEl.classList.add('colab-df-quickchart-complete');\n",
              "    }\n",
              "    (() => {\n",
              "      let quickchartButtonEl =\n",
              "        document.querySelector('#df-91e9f913-f1e7-494a-8269-0ab1125353c2 button');\n",
              "      quickchartButtonEl.style.display =\n",
              "        google.colab.kernel.accessAllowed ? 'block' : 'none';\n",
              "    })();\n",
              "  </script>\n",
              "</div>\n",
              "\n",
              "  <div id=\"id_21c40590-af48-4159-8535-c751709365f1\">\n",
              "    <style>\n",
              "      .colab-df-generate {\n",
              "        background-color: #E8F0FE;\n",
              "        border: none;\n",
              "        border-radius: 50%;\n",
              "        cursor: pointer;\n",
              "        display: none;\n",
              "        fill: #1967D2;\n",
              "        height: 32px;\n",
              "        padding: 0 0 0 0;\n",
              "        width: 32px;\n",
              "      }\n",
              "\n",
              "      .colab-df-generate:hover {\n",
              "        background-color: #E2EBFA;\n",
              "        box-shadow: 0px 1px 2px rgba(60, 64, 67, 0.3), 0px 1px 3px 1px rgba(60, 64, 67, 0.15);\n",
              "        fill: #174EA6;\n",
              "      }\n",
              "\n",
              "      [theme=dark] .colab-df-generate {\n",
              "        background-color: #3B4455;\n",
              "        fill: #D2E3FC;\n",
              "      }\n",
              "\n",
              "      [theme=dark] .colab-df-generate:hover {\n",
              "        background-color: #434B5C;\n",
              "        box-shadow: 0px 1px 3px 1px rgba(0, 0, 0, 0.15);\n",
              "        filter: drop-shadow(0px 1px 2px rgba(0, 0, 0, 0.3));\n",
              "        fill: #FFFFFF;\n",
              "      }\n",
              "    </style>\n",
              "    <button class=\"colab-df-generate\" onclick=\"generateWithVariable('data')\"\n",
              "            title=\"Generate code using this dataframe.\"\n",
              "            style=\"display:none;\">\n",
              "\n",
              "  <svg xmlns=\"http://www.w3.org/2000/svg\" height=\"24px\"viewBox=\"0 0 24 24\"\n",
              "       width=\"24px\">\n",
              "    <path d=\"M7,19H8.4L18.45,9,17,7.55,7,17.6ZM5,21V16.75L18.45,3.32a2,2,0,0,1,2.83,0l1.4,1.43a1.91,1.91,0,0,1,.58,1.4,1.91,1.91,0,0,1-.58,1.4L9.25,21ZM18.45,9,17,7.55Zm-12,3A5.31,5.31,0,0,0,4.9,8.1,5.31,5.31,0,0,0,1,6.5,5.31,5.31,0,0,0,4.9,4.9,5.31,5.31,0,0,0,6.5,1,5.31,5.31,0,0,0,8.1,4.9,5.31,5.31,0,0,0,12,6.5,5.46,5.46,0,0,0,6.5,12Z\"/>\n",
              "  </svg>\n",
              "    </button>\n",
              "    <script>\n",
              "      (() => {\n",
              "      const buttonEl =\n",
              "        document.querySelector('#id_21c40590-af48-4159-8535-c751709365f1 button.colab-df-generate');\n",
              "      buttonEl.style.display =\n",
              "        google.colab.kernel.accessAllowed ? 'block' : 'none';\n",
              "\n",
              "      buttonEl.onclick = () => {\n",
              "        google.colab.notebook.generateWithVariable('data');\n",
              "      }\n",
              "      })();\n",
              "    </script>\n",
              "  </div>\n",
              "\n",
              "    </div>\n",
              "  </div>\n"
            ],
            "application/vnd.google.colaboratory.intrinsic+json": {
              "type": "dataframe",
              "variable_name": "data",
              "summary": "{\n  \"name\": \"data\",\n  \"rows\": 1268,\n  \"fields\": [\n    {\n      \"column\": \"idade\",\n      \"properties\": {\n        \"dtype\": \"number\",\n        \"std\": 11,\n        \"min\": 19,\n        \"max\": 87,\n        \"num_unique_values\": 64,\n        \"samples\": [\n          70,\n          77,\n          45\n        ],\n        \"semantic_type\": \"\",\n        \"description\": \"\"\n      }\n    },\n    {\n      \"column\": \"estado_civil\",\n      \"properties\": {\n        \"dtype\": \"category\",\n        \"num_unique_values\": 3,\n        \"samples\": [\n          \"casado (a)\",\n          \"solteiro (a)\",\n          \"divorciado (a)\"\n        ],\n        \"semantic_type\": \"\",\n        \"description\": \"\"\n      }\n    },\n    {\n      \"column\": \"escolaridade\",\n      \"properties\": {\n        \"dtype\": \"category\",\n        \"num_unique_values\": 3,\n        \"samples\": [\n          \"superior\",\n          \"medio\",\n          \"fundamental\"\n        ],\n        \"semantic_type\": \"\",\n        \"description\": \"\"\n      }\n    },\n    {\n      \"column\": \"inadimplencia\",\n      \"properties\": {\n        \"dtype\": \"category\",\n        \"num_unique_values\": 2,\n        \"samples\": [\n          \"sim\",\n          \"nao\"\n        ],\n        \"semantic_type\": \"\",\n        \"description\": \"\"\n      }\n    },\n    {\n      \"column\": \"saldo\",\n      \"properties\": {\n        \"dtype\": \"number\",\n        \"std\": 2690,\n        \"min\": -1206,\n        \"max\": 27069,\n        \"num_unique_values\": 946,\n        \"samples\": [\n          1148,\n          -247\n        ],\n        \"semantic_type\": \"\",\n        \"description\": \"\"\n      }\n    },\n    {\n      \"column\": \"fez_emprestimo\",\n      \"properties\": {\n        \"dtype\": \"category\",\n        \"num_unique_values\": 2,\n        \"samples\": [\n          \"sim\",\n          \"nao\"\n        ],\n        \"semantic_type\": \"\",\n        \"description\": \"\"\n      }\n    },\n    {\n      \"column\": \"tempo_ult_contato\",\n      \"properties\": {\n        \"dtype\": \"number\",\n        \"std\": 347,\n        \"min\": 5,\n        \"max\": 3025,\n        \"num_unique_values\": 646,\n        \"samples\": [\n          1006,\n          1060\n        ],\n        \"semantic_type\": \"\",\n        \"description\": \"\"\n      }\n    },\n    {\n      \"column\": \"numero_contatos\",\n      \"properties\": {\n        \"dtype\": \"number\",\n        \"std\": 2,\n        \"min\": 1,\n        \"max\": 32,\n        \"num_unique_values\": 21,\n        \"samples\": [\n          1,\n          24\n        ],\n        \"semantic_type\": \"\",\n        \"description\": \"\"\n      }\n    },\n    {\n      \"column\": \"aderencia_investimento\",\n      \"properties\": {\n        \"dtype\": \"category\",\n        \"num_unique_values\": 2,\n        \"samples\": [\n          \"nao\",\n          \"sim\"\n        ],\n        \"semantic_type\": \"\",\n        \"description\": \"\"\n      }\n    }\n  ]\n}"
            }
          },
          "metadata": {},
          "execution_count": 136
        }
      ]
    },
    {
      "cell_type": "code",
      "source": [
        "novo_dado = {\n",
        "    'idade': [45],\n",
        "    'estado_civil':['solteiro (a)'],\n",
        "    'escolaridade':['superior'],\n",
        "    'inadimplencia': ['nao'],\n",
        "    'saldo': [23040],\n",
        "    'fez_emprestimo': ['nao'],\n",
        "    'tempo_ult_contato': [800],\n",
        "    'numero_contatos': [4]\n",
        "}"
      ],
      "metadata": {
        "id": "ypIlc7-v3VKh"
      },
      "execution_count": null,
      "outputs": []
    },
    {
      "cell_type": "code",
      "source": [
        "print(novo_dado)"
      ],
      "metadata": {
        "colab": {
          "base_uri": "https://localhost:8080/"
        },
        "id": "vn8TyN963ejM",
        "outputId": "1845d22c-9d40-4d86-b492-4ae136e5e979"
      },
      "execution_count": null,
      "outputs": [
        {
          "output_type": "stream",
          "name": "stdout",
          "text": [
            "{'idade': [45], 'estado_civil': ['solteiro (a)'], 'escolaridade': ['superior'], 'inadimplencia': ['nao'], 'saldo': [23040], 'fez_emprestimo': ['nao'], 'tempo_ult_contato': [800], 'numero_contatos': [4]}\n"
          ]
        }
      ]
    },
    {
      "cell_type": "code",
      "source": [
        "novo_dado = pd.DataFrame(novo_dado)\n",
        "novo_dado"
      ],
      "metadata": {
        "colab": {
          "base_uri": "https://localhost:8080/",
          "height": 89
        },
        "id": "vJpDaIrF3fhr",
        "outputId": "2822adad-b414-4d1c-d336-5a5e7b427e71"
      },
      "execution_count": null,
      "outputs": [
        {
          "output_type": "execute_result",
          "data": {
            "text/plain": [
              "   idade  estado_civil escolaridade inadimplencia  saldo fez_emprestimo  \\\n",
              "0     45  solteiro (a)     superior           nao  23040            nao   \n",
              "\n",
              "   tempo_ult_contato  numero_contatos  \n",
              "0                800                4  "
            ],
            "text/html": [
              "\n",
              "  <div id=\"df-cd85cf6d-76f3-42f4-b9f5-fad2d17ba2ce\" class=\"colab-df-container\">\n",
              "    <div>\n",
              "<style scoped>\n",
              "    .dataframe tbody tr th:only-of-type {\n",
              "        vertical-align: middle;\n",
              "    }\n",
              "\n",
              "    .dataframe tbody tr th {\n",
              "        vertical-align: top;\n",
              "    }\n",
              "\n",
              "    .dataframe thead th {\n",
              "        text-align: right;\n",
              "    }\n",
              "</style>\n",
              "<table border=\"1\" class=\"dataframe\">\n",
              "  <thead>\n",
              "    <tr style=\"text-align: right;\">\n",
              "      <th></th>\n",
              "      <th>idade</th>\n",
              "      <th>estado_civil</th>\n",
              "      <th>escolaridade</th>\n",
              "      <th>inadimplencia</th>\n",
              "      <th>saldo</th>\n",
              "      <th>fez_emprestimo</th>\n",
              "      <th>tempo_ult_contato</th>\n",
              "      <th>numero_contatos</th>\n",
              "    </tr>\n",
              "  </thead>\n",
              "  <tbody>\n",
              "    <tr>\n",
              "      <th>0</th>\n",
              "      <td>45</td>\n",
              "      <td>solteiro (a)</td>\n",
              "      <td>superior</td>\n",
              "      <td>nao</td>\n",
              "      <td>23040</td>\n",
              "      <td>nao</td>\n",
              "      <td>800</td>\n",
              "      <td>4</td>\n",
              "    </tr>\n",
              "  </tbody>\n",
              "</table>\n",
              "</div>\n",
              "    <div class=\"colab-df-buttons\">\n",
              "\n",
              "  <div class=\"colab-df-container\">\n",
              "    <button class=\"colab-df-convert\" onclick=\"convertToInteractive('df-cd85cf6d-76f3-42f4-b9f5-fad2d17ba2ce')\"\n",
              "            title=\"Convert this dataframe to an interactive table.\"\n",
              "            style=\"display:none;\">\n",
              "\n",
              "  <svg xmlns=\"http://www.w3.org/2000/svg\" height=\"24px\" viewBox=\"0 -960 960 960\">\n",
              "    <path d=\"M120-120v-720h720v720H120Zm60-500h600v-160H180v160Zm220 220h160v-160H400v160Zm0 220h160v-160H400v160ZM180-400h160v-160H180v160Zm440 0h160v-160H620v160ZM180-180h160v-160H180v160Zm440 0h160v-160H620v160Z\"/>\n",
              "  </svg>\n",
              "    </button>\n",
              "\n",
              "  <style>\n",
              "    .colab-df-container {\n",
              "      display:flex;\n",
              "      gap: 12px;\n",
              "    }\n",
              "\n",
              "    .colab-df-convert {\n",
              "      background-color: #E8F0FE;\n",
              "      border: none;\n",
              "      border-radius: 50%;\n",
              "      cursor: pointer;\n",
              "      display: none;\n",
              "      fill: #1967D2;\n",
              "      height: 32px;\n",
              "      padding: 0 0 0 0;\n",
              "      width: 32px;\n",
              "    }\n",
              "\n",
              "    .colab-df-convert:hover {\n",
              "      background-color: #E2EBFA;\n",
              "      box-shadow: 0px 1px 2px rgba(60, 64, 67, 0.3), 0px 1px 3px 1px rgba(60, 64, 67, 0.15);\n",
              "      fill: #174EA6;\n",
              "    }\n",
              "\n",
              "    .colab-df-buttons div {\n",
              "      margin-bottom: 4px;\n",
              "    }\n",
              "\n",
              "    [theme=dark] .colab-df-convert {\n",
              "      background-color: #3B4455;\n",
              "      fill: #D2E3FC;\n",
              "    }\n",
              "\n",
              "    [theme=dark] .colab-df-convert:hover {\n",
              "      background-color: #434B5C;\n",
              "      box-shadow: 0px 1px 3px 1px rgba(0, 0, 0, 0.15);\n",
              "      filter: drop-shadow(0px 1px 2px rgba(0, 0, 0, 0.3));\n",
              "      fill: #FFFFFF;\n",
              "    }\n",
              "  </style>\n",
              "\n",
              "    <script>\n",
              "      const buttonEl =\n",
              "        document.querySelector('#df-cd85cf6d-76f3-42f4-b9f5-fad2d17ba2ce button.colab-df-convert');\n",
              "      buttonEl.style.display =\n",
              "        google.colab.kernel.accessAllowed ? 'block' : 'none';\n",
              "\n",
              "      async function convertToInteractive(key) {\n",
              "        const element = document.querySelector('#df-cd85cf6d-76f3-42f4-b9f5-fad2d17ba2ce');\n",
              "        const dataTable =\n",
              "          await google.colab.kernel.invokeFunction('convertToInteractive',\n",
              "                                                    [key], {});\n",
              "        if (!dataTable) return;\n",
              "\n",
              "        const docLinkHtml = 'Like what you see? Visit the ' +\n",
              "          '<a target=\"_blank\" href=https://colab.research.google.com/notebooks/data_table.ipynb>data table notebook</a>'\n",
              "          + ' to learn more about interactive tables.';\n",
              "        element.innerHTML = '';\n",
              "        dataTable['output_type'] = 'display_data';\n",
              "        await google.colab.output.renderOutput(dataTable, element);\n",
              "        const docLink = document.createElement('div');\n",
              "        docLink.innerHTML = docLinkHtml;\n",
              "        element.appendChild(docLink);\n",
              "      }\n",
              "    </script>\n",
              "  </div>\n",
              "\n",
              "\n",
              "  <div id=\"id_4a5311c2-e93b-42f5-ac28-b2502f2843ae\">\n",
              "    <style>\n",
              "      .colab-df-generate {\n",
              "        background-color: #E8F0FE;\n",
              "        border: none;\n",
              "        border-radius: 50%;\n",
              "        cursor: pointer;\n",
              "        display: none;\n",
              "        fill: #1967D2;\n",
              "        height: 32px;\n",
              "        padding: 0 0 0 0;\n",
              "        width: 32px;\n",
              "      }\n",
              "\n",
              "      .colab-df-generate:hover {\n",
              "        background-color: #E2EBFA;\n",
              "        box-shadow: 0px 1px 2px rgba(60, 64, 67, 0.3), 0px 1px 3px 1px rgba(60, 64, 67, 0.15);\n",
              "        fill: #174EA6;\n",
              "      }\n",
              "\n",
              "      [theme=dark] .colab-df-generate {\n",
              "        background-color: #3B4455;\n",
              "        fill: #D2E3FC;\n",
              "      }\n",
              "\n",
              "      [theme=dark] .colab-df-generate:hover {\n",
              "        background-color: #434B5C;\n",
              "        box-shadow: 0px 1px 3px 1px rgba(0, 0, 0, 0.15);\n",
              "        filter: drop-shadow(0px 1px 2px rgba(0, 0, 0, 0.3));\n",
              "        fill: #FFFFFF;\n",
              "      }\n",
              "    </style>\n",
              "    <button class=\"colab-df-generate\" onclick=\"generateWithVariable('novo_dado')\"\n",
              "            title=\"Generate code using this dataframe.\"\n",
              "            style=\"display:none;\">\n",
              "\n",
              "  <svg xmlns=\"http://www.w3.org/2000/svg\" height=\"24px\"viewBox=\"0 0 24 24\"\n",
              "       width=\"24px\">\n",
              "    <path d=\"M7,19H8.4L18.45,9,17,7.55,7,17.6ZM5,21V16.75L18.45,3.32a2,2,0,0,1,2.83,0l1.4,1.43a1.91,1.91,0,0,1,.58,1.4,1.91,1.91,0,0,1-.58,1.4L9.25,21ZM18.45,9,17,7.55Zm-12,3A5.31,5.31,0,0,0,4.9,8.1,5.31,5.31,0,0,0,1,6.5,5.31,5.31,0,0,0,4.9,4.9,5.31,5.31,0,0,0,6.5,1,5.31,5.31,0,0,0,8.1,4.9,5.31,5.31,0,0,0,12,6.5,5.46,5.46,0,0,0,6.5,12Z\"/>\n",
              "  </svg>\n",
              "    </button>\n",
              "    <script>\n",
              "      (() => {\n",
              "      const buttonEl =\n",
              "        document.querySelector('#id_4a5311c2-e93b-42f5-ac28-b2502f2843ae button.colab-df-generate');\n",
              "      buttonEl.style.display =\n",
              "        google.colab.kernel.accessAllowed ? 'block' : 'none';\n",
              "\n",
              "      buttonEl.onclick = () => {\n",
              "        google.colab.notebook.generateWithVariable('novo_dado');\n",
              "      }\n",
              "      })();\n",
              "    </script>\n",
              "  </div>\n",
              "\n",
              "    </div>\n",
              "  </div>\n"
            ],
            "application/vnd.google.colaboratory.intrinsic+json": {
              "type": "dataframe",
              "variable_name": "novo_dado",
              "summary": "{\n  \"name\": \"novo_dado\",\n  \"rows\": 1,\n  \"fields\": [\n    {\n      \"column\": \"idade\",\n      \"properties\": {\n        \"dtype\": \"number\",\n        \"std\": null,\n        \"min\": 45,\n        \"max\": 45,\n        \"num_unique_values\": 1,\n        \"samples\": [\n          45\n        ],\n        \"semantic_type\": \"\",\n        \"description\": \"\"\n      }\n    },\n    {\n      \"column\": \"estado_civil\",\n      \"properties\": {\n        \"dtype\": \"string\",\n        \"num_unique_values\": 1,\n        \"samples\": [\n          \"solteiro (a)\"\n        ],\n        \"semantic_type\": \"\",\n        \"description\": \"\"\n      }\n    },\n    {\n      \"column\": \"escolaridade\",\n      \"properties\": {\n        \"dtype\": \"string\",\n        \"num_unique_values\": 1,\n        \"samples\": [\n          \"superior\"\n        ],\n        \"semantic_type\": \"\",\n        \"description\": \"\"\n      }\n    },\n    {\n      \"column\": \"inadimplencia\",\n      \"properties\": {\n        \"dtype\": \"string\",\n        \"num_unique_values\": 1,\n        \"samples\": [\n          \"nao\"\n        ],\n        \"semantic_type\": \"\",\n        \"description\": \"\"\n      }\n    },\n    {\n      \"column\": \"saldo\",\n      \"properties\": {\n        \"dtype\": \"number\",\n        \"std\": null,\n        \"min\": 23040,\n        \"max\": 23040,\n        \"num_unique_values\": 1,\n        \"samples\": [\n          23040\n        ],\n        \"semantic_type\": \"\",\n        \"description\": \"\"\n      }\n    },\n    {\n      \"column\": \"fez_emprestimo\",\n      \"properties\": {\n        \"dtype\": \"string\",\n        \"num_unique_values\": 1,\n        \"samples\": [\n          \"nao\"\n        ],\n        \"semantic_type\": \"\",\n        \"description\": \"\"\n      }\n    },\n    {\n      \"column\": \"tempo_ult_contato\",\n      \"properties\": {\n        \"dtype\": \"number\",\n        \"std\": null,\n        \"min\": 800,\n        \"max\": 800,\n        \"num_unique_values\": 1,\n        \"samples\": [\n          800\n        ],\n        \"semantic_type\": \"\",\n        \"description\": \"\"\n      }\n    },\n    {\n      \"column\": \"numero_contatos\",\n      \"properties\": {\n        \"dtype\": \"number\",\n        \"std\": null,\n        \"min\": 4,\n        \"max\": 4,\n        \"num_unique_values\": 1,\n        \"samples\": [\n          4\n        ],\n        \"semantic_type\": \"\",\n        \"description\": \"\"\n      }\n    }\n  ]\n}"
            }
          },
          "metadata": {},
          "execution_count": 139
        }
      ]
    },
    {
      "cell_type": "code",
      "source": [
        "modelo_one_hot = pd.read_pickle('/content/modelo_onehot.pkl')\n",
        "modelo_arvore= pd.read_pickle('/content/modelo_arvore.pkl')"
      ],
      "metadata": {
        "id": "lE9Rsdu43lb0"
      },
      "execution_count": null,
      "outputs": []
    },
    {
      "cell_type": "markdown",
      "source": [
        "é necessario passar pelo modelo de oneHotEncoder"
      ],
      "metadata": {
        "id": "LXM1DkMJ3_kU"
      }
    },
    {
      "cell_type": "code",
      "source": [
        "novo_dado = modelo_one_hot.transform(novo_dado) # passando pelo one hot encoder"
      ],
      "metadata": {
        "id": "R39XOdnr3xBk"
      },
      "execution_count": null,
      "outputs": []
    },
    {
      "cell_type": "code",
      "source": [
        "modelo_arvore.predict(novo_dado)"
      ],
      "metadata": {
        "colab": {
          "base_uri": "https://localhost:8080/"
        },
        "id": "sbcKpfHO4QT9",
        "outputId": "dece02cb-f3d9-4053-ee69-2601379d89ec"
      },
      "execution_count": null,
      "outputs": [
        {
          "output_type": "execute_result",
          "data": {
            "text/plain": [
              "array([1])"
            ]
          },
          "metadata": {},
          "execution_count": 143
        }
      ]
    },
    {
      "cell_type": "code",
      "source": [],
      "metadata": {
        "id": "fj8Z2MOr4Ush"
      },
      "execution_count": null,
      "outputs": []
    }
  ]
}